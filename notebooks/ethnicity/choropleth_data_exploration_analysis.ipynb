{
 "cells": [
  {
   "cell_type": "code",
   "execution_count": 25,
   "id": "5ee32065-a19e-4326-8142-69b3e0b330ce",
   "metadata": {},
   "outputs": [],
   "source": [
    "# Import necessary libraries\n",
    "import pandas as pd\n",
    "import numpy as np\n",
    "\n",
    "# Import API \n",
    "import gmaps\n",
    "\n",
    "# Import up API Key from local file\n",
    "from config import gkey\n",
    "\n",
    "# Configure Google Maps API\n",
    "gmaps.configure(gkey) \n",
    "\n",
    "from urllib.request import urlopen\n",
    "\n",
    "import json\n",
    "with urlopen('https://raw.githubusercontent.com/plotly/datasets/master/geojson-counties-fips.json') as response:\n",
    "    counties = json.load(response)\n",
    "\n",
    "import matplotlib.pyplot as plt\n",
    "import plotly.express as px\n",
    "import plotly.graph_objects as go\n",
    "from plotly.subplots import make_subplots"
   ]
  },
  {
   "cell_type": "code",
   "execution_count": 26,
   "id": "bbc33a53-decf-45b5-b109-20defbe2c3dc",
   "metadata": {},
   "outputs": [
    {
     "data": {
      "text/html": [
       "<div>\n",
       "<style scoped>\n",
       "    .dataframe tbody tr th:only-of-type {\n",
       "        vertical-align: middle;\n",
       "    }\n",
       "\n",
       "    .dataframe tbody tr th {\n",
       "        vertical-align: top;\n",
       "    }\n",
       "\n",
       "    .dataframe thead th {\n",
       "        text-align: right;\n",
       "    }\n",
       "</style>\n",
       "<table border=\"1\" class=\"dataframe\">\n",
       "  <thead>\n",
       "    <tr style=\"text-align: right;\">\n",
       "      <th></th>\n",
       "      <th>id</th>\n",
       "      <th>Geographic Area Name</th>\n",
       "      <th>Estimate!!SEX AND AGE!!Total population</th>\n",
       "      <th>Margin of Error!!SEX AND AGE!!Total population</th>\n",
       "      <th>Percent!!SEX AND AGE!!Total population</th>\n",
       "      <th>Percent Margin of Error!!SEX AND AGE!!Total population</th>\n",
       "      <th>Estimate!!SEX AND AGE!!Total population!!Male</th>\n",
       "      <th>Margin of Error!!SEX AND AGE!!Total population!!Male</th>\n",
       "      <th>Percent!!SEX AND AGE!!Total population!!Male</th>\n",
       "      <th>Percent Margin of Error!!SEX AND AGE!!Total population!!Male</th>\n",
       "      <th>...</th>\n",
       "      <th>Percent!!CITIZEN, VOTING AGE POPULATION!!Citizen, 18 and over population</th>\n",
       "      <th>Percent Margin of Error!!CITIZEN, VOTING AGE POPULATION!!Citizen, 18 and over population</th>\n",
       "      <th>Estimate!!CITIZEN, VOTING AGE POPULATION!!Citizen, 18 and over population!!Male</th>\n",
       "      <th>Margin of Error!!CITIZEN, VOTING AGE POPULATION!!Citizen, 18 and over population!!Male</th>\n",
       "      <th>Percent!!CITIZEN, VOTING AGE POPULATION!!Citizen, 18 and over population!!Male</th>\n",
       "      <th>Percent Margin of Error!!CITIZEN, VOTING AGE POPULATION!!Citizen, 18 and over population!!Male</th>\n",
       "      <th>Estimate!!CITIZEN, VOTING AGE POPULATION!!Citizen, 18 and over population!!Female</th>\n",
       "      <th>Margin of Error!!CITIZEN, VOTING AGE POPULATION!!Citizen, 18 and over population!!Female</th>\n",
       "      <th>Percent!!CITIZEN, VOTING AGE POPULATION!!Citizen, 18 and over population!!Female</th>\n",
       "      <th>Percent Margin of Error!!CITIZEN, VOTING AGE POPULATION!!Citizen, 18 and over population!!Female</th>\n",
       "    </tr>\n",
       "  </thead>\n",
       "  <tbody>\n",
       "    <tr>\n",
       "      <th>1</th>\n",
       "      <td>0400000US01</td>\n",
       "      <td>Alabama</td>\n",
       "      <td>4876250</td>\n",
       "      <td>*****</td>\n",
       "      <td>4876250</td>\n",
       "      <td>(X)</td>\n",
       "      <td>2359355</td>\n",
       "      <td>1270</td>\n",
       "      <td>48.4</td>\n",
       "      <td>0.1</td>\n",
       "      <td>...</td>\n",
       "      <td>3685074</td>\n",
       "      <td>(X)</td>\n",
       "      <td>1749845</td>\n",
       "      <td>1904</td>\n",
       "      <td>47.5</td>\n",
       "      <td>0.1</td>\n",
       "      <td>1935229</td>\n",
       "      <td>1710</td>\n",
       "      <td>52.5</td>\n",
       "      <td>0.1</td>\n",
       "    </tr>\n",
       "    <tr>\n",
       "      <th>2</th>\n",
       "      <td>0400000US02</td>\n",
       "      <td>Alaska</td>\n",
       "      <td>737068</td>\n",
       "      <td>*****</td>\n",
       "      <td>737068</td>\n",
       "      <td>(X)</td>\n",
       "      <td>384915</td>\n",
       "      <td>401</td>\n",
       "      <td>52.2</td>\n",
       "      <td>0.1</td>\n",
       "      <td>...</td>\n",
       "      <td>530996</td>\n",
       "      <td>(X)</td>\n",
       "      <td>280398</td>\n",
       "      <td>696</td>\n",
       "      <td>52.8</td>\n",
       "      <td>0.1</td>\n",
       "      <td>250598</td>\n",
       "      <td>902</td>\n",
       "      <td>47.2</td>\n",
       "      <td>0.1</td>\n",
       "    </tr>\n",
       "    <tr>\n",
       "      <th>3</th>\n",
       "      <td>0400000US04</td>\n",
       "      <td>Arizona</td>\n",
       "      <td>7050299</td>\n",
       "      <td>*****</td>\n",
       "      <td>7050299</td>\n",
       "      <td>(X)</td>\n",
       "      <td>3504509</td>\n",
       "      <td>349</td>\n",
       "      <td>49.7</td>\n",
       "      <td>0.1</td>\n",
       "      <td>...</td>\n",
       "      <td>4920449</td>\n",
       "      <td>(X)</td>\n",
       "      <td>2422769</td>\n",
       "      <td>4358</td>\n",
       "      <td>49.2</td>\n",
       "      <td>0.1</td>\n",
       "      <td>2497680</td>\n",
       "      <td>3642</td>\n",
       "      <td>50.8</td>\n",
       "      <td>0.1</td>\n",
       "    </tr>\n",
       "    <tr>\n",
       "      <th>4</th>\n",
       "      <td>0400000US05</td>\n",
       "      <td>Arkansas</td>\n",
       "      <td>2999370</td>\n",
       "      <td>*****</td>\n",
       "      <td>2999370</td>\n",
       "      <td>(X)</td>\n",
       "      <td>1471760</td>\n",
       "      <td>979</td>\n",
       "      <td>49.1</td>\n",
       "      <td>0.1</td>\n",
       "      <td>...</td>\n",
       "      <td>2207333</td>\n",
       "      <td>(X)</td>\n",
       "      <td>1064813</td>\n",
       "      <td>1600</td>\n",
       "      <td>48.2</td>\n",
       "      <td>0.1</td>\n",
       "      <td>1142520</td>\n",
       "      <td>1442</td>\n",
       "      <td>51.8</td>\n",
       "      <td>0.1</td>\n",
       "    </tr>\n",
       "    <tr>\n",
       "      <th>5</th>\n",
       "      <td>0400000US06</td>\n",
       "      <td>California</td>\n",
       "      <td>39283497</td>\n",
       "      <td>*****</td>\n",
       "      <td>39283497</td>\n",
       "      <td>(X)</td>\n",
       "      <td>19526298</td>\n",
       "      <td>1141</td>\n",
       "      <td>49.7</td>\n",
       "      <td>0.1</td>\n",
       "      <td>...</td>\n",
       "      <td>25494383</td>\n",
       "      <td>(X)</td>\n",
       "      <td>12511445</td>\n",
       "      <td>16188</td>\n",
       "      <td>49.1</td>\n",
       "      <td>0.1</td>\n",
       "      <td>12982938</td>\n",
       "      <td>17244</td>\n",
       "      <td>50.9</td>\n",
       "      <td>0.1</td>\n",
       "    </tr>\n",
       "    <tr>\n",
       "      <th>6</th>\n",
       "      <td>0400000US08</td>\n",
       "      <td>Colorado</td>\n",
       "      <td>5610349</td>\n",
       "      <td>*****</td>\n",
       "      <td>5610349</td>\n",
       "      <td>(X)</td>\n",
       "      <td>2823201</td>\n",
       "      <td>1044</td>\n",
       "      <td>50.3</td>\n",
       "      <td>0.1</td>\n",
       "      <td>...</td>\n",
       "      <td>4063877</td>\n",
       "      <td>(X)</td>\n",
       "      <td>2029222</td>\n",
       "      <td>3678</td>\n",
       "      <td>49.9</td>\n",
       "      <td>0.1</td>\n",
       "      <td>2034655</td>\n",
       "      <td>2991</td>\n",
       "      <td>50.1</td>\n",
       "      <td>0.1</td>\n",
       "    </tr>\n",
       "    <tr>\n",
       "      <th>7</th>\n",
       "      <td>0400000US09</td>\n",
       "      <td>Connecticut</td>\n",
       "      <td>3575074</td>\n",
       "      <td>*****</td>\n",
       "      <td>3575074</td>\n",
       "      <td>(X)</td>\n",
       "      <td>1744245</td>\n",
       "      <td>441</td>\n",
       "      <td>48.8</td>\n",
       "      <td>0.1</td>\n",
       "      <td>...</td>\n",
       "      <td>2605409</td>\n",
       "      <td>(X)</td>\n",
       "      <td>1247280</td>\n",
       "      <td>3219</td>\n",
       "      <td>47.9</td>\n",
       "      <td>0.1</td>\n",
       "      <td>1358129</td>\n",
       "      <td>2314</td>\n",
       "      <td>52.1</td>\n",
       "      <td>0.1</td>\n",
       "    </tr>\n",
       "    <tr>\n",
       "      <th>8</th>\n",
       "      <td>0400000US10</td>\n",
       "      <td>Delaware</td>\n",
       "      <td>957248</td>\n",
       "      <td>*****</td>\n",
       "      <td>957248</td>\n",
       "      <td>(X)</td>\n",
       "      <td>462890</td>\n",
       "      <td>166</td>\n",
       "      <td>48.4</td>\n",
       "      <td>0.1</td>\n",
       "      <td>...</td>\n",
       "      <td>710280</td>\n",
       "      <td>(X)</td>\n",
       "      <td>337563</td>\n",
       "      <td>1175</td>\n",
       "      <td>47.5</td>\n",
       "      <td>0.1</td>\n",
       "      <td>372717</td>\n",
       "      <td>1028</td>\n",
       "      <td>52.5</td>\n",
       "      <td>0.1</td>\n",
       "    </tr>\n",
       "    <tr>\n",
       "      <th>9</th>\n",
       "      <td>0400000US11</td>\n",
       "      <td>District of Columbia</td>\n",
       "      <td>692683</td>\n",
       "      <td>*****</td>\n",
       "      <td>692683</td>\n",
       "      <td>(X)</td>\n",
       "      <td>328644</td>\n",
       "      <td>74</td>\n",
       "      <td>47.4</td>\n",
       "      <td>0.1</td>\n",
       "      <td>...</td>\n",
       "      <td>519267</td>\n",
       "      <td>(X)</td>\n",
       "      <td>241214</td>\n",
       "      <td>1290</td>\n",
       "      <td>46.5</td>\n",
       "      <td>0.1</td>\n",
       "      <td>278053</td>\n",
       "      <td>1495</td>\n",
       "      <td>53.5</td>\n",
       "      <td>0.1</td>\n",
       "    </tr>\n",
       "    <tr>\n",
       "      <th>10</th>\n",
       "      <td>0400000US12</td>\n",
       "      <td>Florida</td>\n",
       "      <td>20901636</td>\n",
       "      <td>*****</td>\n",
       "      <td>20901636</td>\n",
       "      <td>(X)</td>\n",
       "      <td>10220813</td>\n",
       "      <td>1549</td>\n",
       "      <td>48.9</td>\n",
       "      <td>0.1</td>\n",
       "      <td>...</td>\n",
       "      <td>14988415</td>\n",
       "      <td>(X)</td>\n",
       "      <td>7208765</td>\n",
       "      <td>11896</td>\n",
       "      <td>48.1</td>\n",
       "      <td>0.1</td>\n",
       "      <td>7779650</td>\n",
       "      <td>9945</td>\n",
       "      <td>51.9</td>\n",
       "      <td>0.1</td>\n",
       "    </tr>\n",
       "    <tr>\n",
       "      <th>11</th>\n",
       "      <td>0400000US13</td>\n",
       "      <td>Georgia</td>\n",
       "      <td>10403847</td>\n",
       "      <td>*****</td>\n",
       "      <td>10403847</td>\n",
       "      <td>(X)</td>\n",
       "      <td>5062096</td>\n",
       "      <td>1660</td>\n",
       "      <td>48.7</td>\n",
       "      <td>0.1</td>\n",
       "      <td>...</td>\n",
       "      <td>7356558</td>\n",
       "      <td>(X)</td>\n",
       "      <td>3501020</td>\n",
       "      <td>5032</td>\n",
       "      <td>47.6</td>\n",
       "      <td>0.1</td>\n",
       "      <td>3855538</td>\n",
       "      <td>4798</td>\n",
       "      <td>52.4</td>\n",
       "      <td>0.1</td>\n",
       "    </tr>\n",
       "    <tr>\n",
       "      <th>12</th>\n",
       "      <td>0400000US15</td>\n",
       "      <td>Hawaii</td>\n",
       "      <td>1422094</td>\n",
       "      <td>*****</td>\n",
       "      <td>1422094</td>\n",
       "      <td>(X)</td>\n",
       "      <td>713260</td>\n",
       "      <td>157</td>\n",
       "      <td>50.2</td>\n",
       "      <td>0.1</td>\n",
       "      <td>...</td>\n",
       "      <td>1018390</td>\n",
       "      <td>(X)</td>\n",
       "      <td>516396</td>\n",
       "      <td>1327</td>\n",
       "      <td>50.7</td>\n",
       "      <td>0.1</td>\n",
       "      <td>501994</td>\n",
       "      <td>1911</td>\n",
       "      <td>49.3</td>\n",
       "      <td>0.1</td>\n",
       "    </tr>\n",
       "    <tr>\n",
       "      <th>13</th>\n",
       "      <td>0400000US16</td>\n",
       "      <td>Idaho</td>\n",
       "      <td>1717750</td>\n",
       "      <td>*****</td>\n",
       "      <td>1717750</td>\n",
       "      <td>(X)</td>\n",
       "      <td>861025</td>\n",
       "      <td>651</td>\n",
       "      <td>50.1</td>\n",
       "      <td>0.1</td>\n",
       "      <td>...</td>\n",
       "      <td>1220310</td>\n",
       "      <td>(X)</td>\n",
       "      <td>605247</td>\n",
       "      <td>1481</td>\n",
       "      <td>49.6</td>\n",
       "      <td>0.1</td>\n",
       "      <td>615063</td>\n",
       "      <td>1277</td>\n",
       "      <td>50.4</td>\n",
       "      <td>0.1</td>\n",
       "    </tr>\n",
       "    <tr>\n",
       "      <th>14</th>\n",
       "      <td>0400000US17</td>\n",
       "      <td>Illinois</td>\n",
       "      <td>12770631</td>\n",
       "      <td>*****</td>\n",
       "      <td>12770631</td>\n",
       "      <td>(X)</td>\n",
       "      <td>6272172</td>\n",
       "      <td>951</td>\n",
       "      <td>49.1</td>\n",
       "      <td>0.1</td>\n",
       "      <td>...</td>\n",
       "      <td>9049960</td>\n",
       "      <td>(X)</td>\n",
       "      <td>4367958</td>\n",
       "      <td>5198</td>\n",
       "      <td>48.3</td>\n",
       "      <td>0.1</td>\n",
       "      <td>4682002</td>\n",
       "      <td>5375</td>\n",
       "      <td>51.7</td>\n",
       "      <td>0.1</td>\n",
       "    </tr>\n",
       "    <tr>\n",
       "      <th>15</th>\n",
       "      <td>0400000US18</td>\n",
       "      <td>Indiana</td>\n",
       "      <td>6665703</td>\n",
       "      <td>*****</td>\n",
       "      <td>6665703</td>\n",
       "      <td>(X)</td>\n",
       "      <td>3284846</td>\n",
       "      <td>1051</td>\n",
       "      <td>49.3</td>\n",
       "      <td>0.1</td>\n",
       "      <td>...</td>\n",
       "      <td>4903144</td>\n",
       "      <td>(X)</td>\n",
       "      <td>2378740</td>\n",
       "      <td>2686</td>\n",
       "      <td>48.5</td>\n",
       "      <td>0.1</td>\n",
       "      <td>2524404</td>\n",
       "      <td>2012</td>\n",
       "      <td>51.5</td>\n",
       "      <td>0.1</td>\n",
       "    </tr>\n",
       "    <tr>\n",
       "      <th>16</th>\n",
       "      <td>0400000US19</td>\n",
       "      <td>Iowa</td>\n",
       "      <td>3139508</td>\n",
       "      <td>*****</td>\n",
       "      <td>3139508</td>\n",
       "      <td>(X)</td>\n",
       "      <td>1558536</td>\n",
       "      <td>1077</td>\n",
       "      <td>49.6</td>\n",
       "      <td>0.1</td>\n",
       "      <td>...</td>\n",
       "      <td>2321084</td>\n",
       "      <td>(X)</td>\n",
       "      <td>1138212</td>\n",
       "      <td>1555</td>\n",
       "      <td>49.0</td>\n",
       "      <td>0.1</td>\n",
       "      <td>1182872</td>\n",
       "      <td>1595</td>\n",
       "      <td>51.0</td>\n",
       "      <td>0.1</td>\n",
       "    </tr>\n",
       "    <tr>\n",
       "      <th>17</th>\n",
       "      <td>0400000US20</td>\n",
       "      <td>Kansas</td>\n",
       "      <td>2910652</td>\n",
       "      <td>*****</td>\n",
       "      <td>2910652</td>\n",
       "      <td>(X)</td>\n",
       "      <td>1450697</td>\n",
       "      <td>949</td>\n",
       "      <td>49.8</td>\n",
       "      <td>0.1</td>\n",
       "      <td>...</td>\n",
       "      <td>2084736</td>\n",
       "      <td>(X)</td>\n",
       "      <td>1026399</td>\n",
       "      <td>1777</td>\n",
       "      <td>49.2</td>\n",
       "      <td>0.1</td>\n",
       "      <td>1058337</td>\n",
       "      <td>1782</td>\n",
       "      <td>50.8</td>\n",
       "      <td>0.1</td>\n",
       "    </tr>\n",
       "    <tr>\n",
       "      <th>18</th>\n",
       "      <td>0400000US21</td>\n",
       "      <td>Kentucky</td>\n",
       "      <td>4449052</td>\n",
       "      <td>*****</td>\n",
       "      <td>4449052</td>\n",
       "      <td>(X)</td>\n",
       "      <td>2190922</td>\n",
       "      <td>1184</td>\n",
       "      <td>49.2</td>\n",
       "      <td>0.1</td>\n",
       "      <td>...</td>\n",
       "      <td>3349115</td>\n",
       "      <td>(X)</td>\n",
       "      <td>1623302</td>\n",
       "      <td>2018</td>\n",
       "      <td>48.5</td>\n",
       "      <td>0.1</td>\n",
       "      <td>1725813</td>\n",
       "      <td>1619</td>\n",
       "      <td>51.5</td>\n",
       "      <td>0.1</td>\n",
       "    </tr>\n",
       "    <tr>\n",
       "      <th>19</th>\n",
       "      <td>0400000US22</td>\n",
       "      <td>Louisiana</td>\n",
       "      <td>4664362</td>\n",
       "      <td>*****</td>\n",
       "      <td>4664362</td>\n",
       "      <td>(X)</td>\n",
       "      <td>2278986</td>\n",
       "      <td>1162</td>\n",
       "      <td>48.9</td>\n",
       "      <td>0.1</td>\n",
       "      <td>...</td>\n",
       "      <td>3459488</td>\n",
       "      <td>(X)</td>\n",
       "      <td>1659463</td>\n",
       "      <td>2058</td>\n",
       "      <td>48.0</td>\n",
       "      <td>0.1</td>\n",
       "      <td>1800025</td>\n",
       "      <td>1661</td>\n",
       "      <td>52.0</td>\n",
       "      <td>0.1</td>\n",
       "    </tr>\n",
       "    <tr>\n",
       "      <th>20</th>\n",
       "      <td>0400000US23</td>\n",
       "      <td>Maine</td>\n",
       "      <td>1335492</td>\n",
       "      <td>*****</td>\n",
       "      <td>1335492</td>\n",
       "      <td>(X)</td>\n",
       "      <td>653942</td>\n",
       "      <td>422</td>\n",
       "      <td>49.0</td>\n",
       "      <td>0.1</td>\n",
       "      <td>...</td>\n",
       "      <td>1064670</td>\n",
       "      <td>(X)</td>\n",
       "      <td>515544</td>\n",
       "      <td>669</td>\n",
       "      <td>48.4</td>\n",
       "      <td>0.1</td>\n",
       "      <td>549126</td>\n",
       "      <td>727</td>\n",
       "      <td>51.6</td>\n",
       "      <td>0.1</td>\n",
       "    </tr>\n",
       "    <tr>\n",
       "      <th>21</th>\n",
       "      <td>0400000US24</td>\n",
       "      <td>Maryland</td>\n",
       "      <td>6018848</td>\n",
       "      <td>*****</td>\n",
       "      <td>6018848</td>\n",
       "      <td>(X)</td>\n",
       "      <td>2917613</td>\n",
       "      <td>619</td>\n",
       "      <td>48.5</td>\n",
       "      <td>0.1</td>\n",
       "      <td>...</td>\n",
       "      <td>4280946</td>\n",
       "      <td>(X)</td>\n",
       "      <td>2033526</td>\n",
       "      <td>3685</td>\n",
       "      <td>47.5</td>\n",
       "      <td>0.1</td>\n",
       "      <td>2247420</td>\n",
       "      <td>3319</td>\n",
       "      <td>52.5</td>\n",
       "      <td>0.1</td>\n",
       "    </tr>\n",
       "    <tr>\n",
       "      <th>22</th>\n",
       "      <td>0400000US25</td>\n",
       "      <td>Massachusetts</td>\n",
       "      <td>6850553</td>\n",
       "      <td>*****</td>\n",
       "      <td>6850553</td>\n",
       "      <td>(X)</td>\n",
       "      <td>3324207</td>\n",
       "      <td>463</td>\n",
       "      <td>48.5</td>\n",
       "      <td>0.1</td>\n",
       "      <td>...</td>\n",
       "      <td>4992533</td>\n",
       "      <td>(X)</td>\n",
       "      <td>2377676</td>\n",
       "      <td>4610</td>\n",
       "      <td>47.6</td>\n",
       "      <td>0.1</td>\n",
       "      <td>2614857</td>\n",
       "      <td>3937</td>\n",
       "      <td>52.4</td>\n",
       "      <td>0.1</td>\n",
       "    </tr>\n",
       "    <tr>\n",
       "      <th>23</th>\n",
       "      <td>0400000US26</td>\n",
       "      <td>Michigan</td>\n",
       "      <td>9965265</td>\n",
       "      <td>*****</td>\n",
       "      <td>9965265</td>\n",
       "      <td>(X)</td>\n",
       "      <td>4905240</td>\n",
       "      <td>848</td>\n",
       "      <td>49.2</td>\n",
       "      <td>0.1</td>\n",
       "      <td>...</td>\n",
       "      <td>7495884</td>\n",
       "      <td>(X)</td>\n",
       "      <td>3639229</td>\n",
       "      <td>2655</td>\n",
       "      <td>48.5</td>\n",
       "      <td>0.1</td>\n",
       "      <td>3856655</td>\n",
       "      <td>2856</td>\n",
       "      <td>51.5</td>\n",
       "      <td>0.1</td>\n",
       "    </tr>\n",
       "    <tr>\n",
       "      <th>24</th>\n",
       "      <td>0400000US27</td>\n",
       "      <td>Minnesota</td>\n",
       "      <td>5563378</td>\n",
       "      <td>*****</td>\n",
       "      <td>5563378</td>\n",
       "      <td>(X)</td>\n",
       "      <td>2770873</td>\n",
       "      <td>655</td>\n",
       "      <td>49.8</td>\n",
       "      <td>0.1</td>\n",
       "      <td>...</td>\n",
       "      <td>4069677</td>\n",
       "      <td>(X)</td>\n",
       "      <td>2004603</td>\n",
       "      <td>2351</td>\n",
       "      <td>49.3</td>\n",
       "      <td>0.1</td>\n",
       "      <td>2065074</td>\n",
       "      <td>2296</td>\n",
       "      <td>50.7</td>\n",
       "      <td>0.1</td>\n",
       "    </tr>\n",
       "    <tr>\n",
       "      <th>25</th>\n",
       "      <td>0400000US28</td>\n",
       "      <td>Mississippi</td>\n",
       "      <td>2984418</td>\n",
       "      <td>*****</td>\n",
       "      <td>2984418</td>\n",
       "      <td>(X)</td>\n",
       "      <td>1447873</td>\n",
       "      <td>1265</td>\n",
       "      <td>48.5</td>\n",
       "      <td>0.1</td>\n",
       "      <td>...</td>\n",
       "      <td>2232331</td>\n",
       "      <td>(X)</td>\n",
       "      <td>1061560</td>\n",
       "      <td>1349</td>\n",
       "      <td>47.6</td>\n",
       "      <td>0.1</td>\n",
       "      <td>1170771</td>\n",
       "      <td>1100</td>\n",
       "      <td>52.4</td>\n",
       "      <td>0.1</td>\n",
       "    </tr>\n",
       "    <tr>\n",
       "      <th>26</th>\n",
       "      <td>0400000US29</td>\n",
       "      <td>Missouri</td>\n",
       "      <td>6104910</td>\n",
       "      <td>*****</td>\n",
       "      <td>6104910</td>\n",
       "      <td>(X)</td>\n",
       "      <td>2995725</td>\n",
       "      <td>1185</td>\n",
       "      <td>49.1</td>\n",
       "      <td>0.1</td>\n",
       "      <td>...</td>\n",
       "      <td>4603770</td>\n",
       "      <td>(X)</td>\n",
       "      <td>2227454</td>\n",
       "      <td>2404</td>\n",
       "      <td>48.4</td>\n",
       "      <td>0.1</td>\n",
       "      <td>2376316</td>\n",
       "      <td>1713</td>\n",
       "      <td>51.6</td>\n",
       "      <td>0.1</td>\n",
       "    </tr>\n",
       "    <tr>\n",
       "      <th>27</th>\n",
       "      <td>0400000US30</td>\n",
       "      <td>Montana</td>\n",
       "      <td>1050649</td>\n",
       "      <td>*****</td>\n",
       "      <td>1050649</td>\n",
       "      <td>(X)</td>\n",
       "      <td>528573</td>\n",
       "      <td>653</td>\n",
       "      <td>50.3</td>\n",
       "      <td>0.1</td>\n",
       "      <td>...</td>\n",
       "      <td>812541</td>\n",
       "      <td>(X)</td>\n",
       "      <td>406451</td>\n",
       "      <td>752</td>\n",
       "      <td>50.0</td>\n",
       "      <td>0.1</td>\n",
       "      <td>406090</td>\n",
       "      <td>744</td>\n",
       "      <td>50.0</td>\n",
       "      <td>0.1</td>\n",
       "    </tr>\n",
       "    <tr>\n",
       "      <th>28</th>\n",
       "      <td>0400000US31</td>\n",
       "      <td>Nebraska</td>\n",
       "      <td>1914571</td>\n",
       "      <td>*****</td>\n",
       "      <td>1914571</td>\n",
       "      <td>(X)</td>\n",
       "      <td>954950</td>\n",
       "      <td>616</td>\n",
       "      <td>49.9</td>\n",
       "      <td>0.1</td>\n",
       "      <td>...</td>\n",
       "      <td>1366078</td>\n",
       "      <td>(X)</td>\n",
       "      <td>671739</td>\n",
       "      <td>1442</td>\n",
       "      <td>49.2</td>\n",
       "      <td>0.1</td>\n",
       "      <td>694339</td>\n",
       "      <td>1109</td>\n",
       "      <td>50.8</td>\n",
       "      <td>0.1</td>\n",
       "    </tr>\n",
       "    <tr>\n",
       "      <th>29</th>\n",
       "      <td>0400000US32</td>\n",
       "      <td>Nevada</td>\n",
       "      <td>2972382</td>\n",
       "      <td>*****</td>\n",
       "      <td>2972382</td>\n",
       "      <td>(X)</td>\n",
       "      <td>1491294</td>\n",
       "      <td>419</td>\n",
       "      <td>50.2</td>\n",
       "      <td>0.1</td>\n",
       "      <td>...</td>\n",
       "      <td>2018928</td>\n",
       "      <td>(X)</td>\n",
       "      <td>1009088</td>\n",
       "      <td>2565</td>\n",
       "      <td>50.0</td>\n",
       "      <td>0.1</td>\n",
       "      <td>1009840</td>\n",
       "      <td>2722</td>\n",
       "      <td>50.0</td>\n",
       "      <td>0.1</td>\n",
       "    </tr>\n",
       "    <tr>\n",
       "      <th>30</th>\n",
       "      <td>0400000US33</td>\n",
       "      <td>New Hampshire</td>\n",
       "      <td>1348124</td>\n",
       "      <td>*****</td>\n",
       "      <td>1348124</td>\n",
       "      <td>(X)</td>\n",
       "      <td>667689</td>\n",
       "      <td>424</td>\n",
       "      <td>49.5</td>\n",
       "      <td>0.1</td>\n",
       "      <td>...</td>\n",
       "      <td>1055456</td>\n",
       "      <td>(X)</td>\n",
       "      <td>517761</td>\n",
       "      <td>914</td>\n",
       "      <td>49.1</td>\n",
       "      <td>0.1</td>\n",
       "      <td>537695</td>\n",
       "      <td>950</td>\n",
       "      <td>50.9</td>\n",
       "      <td>0.1</td>\n",
       "    </tr>\n",
       "    <tr>\n",
       "      <th>31</th>\n",
       "      <td>0400000US34</td>\n",
       "      <td>New Jersey</td>\n",
       "      <td>8878503</td>\n",
       "      <td>*****</td>\n",
       "      <td>8878503</td>\n",
       "      <td>(X)</td>\n",
       "      <td>4335032</td>\n",
       "      <td>594</td>\n",
       "      <td>48.8</td>\n",
       "      <td>0.1</td>\n",
       "      <td>...</td>\n",
       "      <td>6132177</td>\n",
       "      <td>(X)</td>\n",
       "      <td>2938884</td>\n",
       "      <td>5422</td>\n",
       "      <td>47.9</td>\n",
       "      <td>0.1</td>\n",
       "      <td>3193293</td>\n",
       "      <td>4434</td>\n",
       "      <td>52.1</td>\n",
       "      <td>0.1</td>\n",
       "    </tr>\n",
       "    <tr>\n",
       "      <th>32</th>\n",
       "      <td>0400000US35</td>\n",
       "      <td>New Mexico</td>\n",
       "      <td>2092454</td>\n",
       "      <td>*****</td>\n",
       "      <td>2092454</td>\n",
       "      <td>(X)</td>\n",
       "      <td>1036190</td>\n",
       "      <td>693</td>\n",
       "      <td>49.5</td>\n",
       "      <td>0.1</td>\n",
       "      <td>...</td>\n",
       "      <td>1496286</td>\n",
       "      <td>(X)</td>\n",
       "      <td>730937</td>\n",
       "      <td>2183</td>\n",
       "      <td>48.9</td>\n",
       "      <td>0.1</td>\n",
       "      <td>765349</td>\n",
       "      <td>1935</td>\n",
       "      <td>51.1</td>\n",
       "      <td>0.1</td>\n",
       "    </tr>\n",
       "    <tr>\n",
       "      <th>33</th>\n",
       "      <td>0400000US36</td>\n",
       "      <td>New York</td>\n",
       "      <td>19572319</td>\n",
       "      <td>*****</td>\n",
       "      <td>19572319</td>\n",
       "      <td>(X)</td>\n",
       "      <td>9501001</td>\n",
       "      <td>981</td>\n",
       "      <td>48.5</td>\n",
       "      <td>0.1</td>\n",
       "      <td>...</td>\n",
       "      <td>13723456</td>\n",
       "      <td>(X)</td>\n",
       "      <td>6531858</td>\n",
       "      <td>9210</td>\n",
       "      <td>47.6</td>\n",
       "      <td>0.1</td>\n",
       "      <td>7191598</td>\n",
       "      <td>8586</td>\n",
       "      <td>52.4</td>\n",
       "      <td>0.1</td>\n",
       "    </tr>\n",
       "    <tr>\n",
       "      <th>34</th>\n",
       "      <td>0400000US37</td>\n",
       "      <td>North Carolina</td>\n",
       "      <td>10264876</td>\n",
       "      <td>*****</td>\n",
       "      <td>10264876</td>\n",
       "      <td>(X)</td>\n",
       "      <td>4996638</td>\n",
       "      <td>1311</td>\n",
       "      <td>48.7</td>\n",
       "      <td>0.1</td>\n",
       "      <td>...</td>\n",
       "      <td>7514969</td>\n",
       "      <td>(X)</td>\n",
       "      <td>3584093</td>\n",
       "      <td>3247</td>\n",
       "      <td>47.7</td>\n",
       "      <td>0.1</td>\n",
       "      <td>3930876</td>\n",
       "      <td>3525</td>\n",
       "      <td>52.3</td>\n",
       "      <td>0.1</td>\n",
       "    </tr>\n",
       "    <tr>\n",
       "      <th>35</th>\n",
       "      <td>0400000US38</td>\n",
       "      <td>North Dakota</td>\n",
       "      <td>756717</td>\n",
       "      <td>*****</td>\n",
       "      <td>756717</td>\n",
       "      <td>(X)</td>\n",
       "      <td>387555</td>\n",
       "      <td>729</td>\n",
       "      <td>51.2</td>\n",
       "      <td>0.1</td>\n",
       "      <td>...</td>\n",
       "      <td>564482</td>\n",
       "      <td>(X)</td>\n",
       "      <td>288707</td>\n",
       "      <td>903</td>\n",
       "      <td>51.1</td>\n",
       "      <td>0.1</td>\n",
       "      <td>275775</td>\n",
       "      <td>777</td>\n",
       "      <td>48.9</td>\n",
       "      <td>0.1</td>\n",
       "    </tr>\n",
       "    <tr>\n",
       "      <th>36</th>\n",
       "      <td>0400000US39</td>\n",
       "      <td>Ohio</td>\n",
       "      <td>11655397</td>\n",
       "      <td>*****</td>\n",
       "      <td>11655397</td>\n",
       "      <td>(X)</td>\n",
       "      <td>5711765</td>\n",
       "      <td>1244</td>\n",
       "      <td>49.0</td>\n",
       "      <td>0.1</td>\n",
       "      <td>...</td>\n",
       "      <td>8820897</td>\n",
       "      <td>(X)</td>\n",
       "      <td>4259626</td>\n",
       "      <td>2730</td>\n",
       "      <td>48.3</td>\n",
       "      <td>0.1</td>\n",
       "      <td>4561271</td>\n",
       "      <td>2683</td>\n",
       "      <td>51.7</td>\n",
       "      <td>0.1</td>\n",
       "    </tr>\n",
       "    <tr>\n",
       "      <th>37</th>\n",
       "      <td>0400000US40</td>\n",
       "      <td>Oklahoma</td>\n",
       "      <td>3932870</td>\n",
       "      <td>*****</td>\n",
       "      <td>3932870</td>\n",
       "      <td>(X)</td>\n",
       "      <td>1949528</td>\n",
       "      <td>688</td>\n",
       "      <td>49.6</td>\n",
       "      <td>0.1</td>\n",
       "      <td>...</td>\n",
       "      <td>2837291</td>\n",
       "      <td>(X)</td>\n",
       "      <td>1384332</td>\n",
       "      <td>1706</td>\n",
       "      <td>48.8</td>\n",
       "      <td>0.1</td>\n",
       "      <td>1452959</td>\n",
       "      <td>1518</td>\n",
       "      <td>51.2</td>\n",
       "      <td>0.1</td>\n",
       "    </tr>\n",
       "    <tr>\n",
       "      <th>38</th>\n",
       "      <td>0400000US41</td>\n",
       "      <td>Oregon</td>\n",
       "      <td>4129803</td>\n",
       "      <td>*****</td>\n",
       "      <td>4129803</td>\n",
       "      <td>(X)</td>\n",
       "      <td>2047338</td>\n",
       "      <td>680</td>\n",
       "      <td>49.6</td>\n",
       "      <td>0.1</td>\n",
       "      <td>...</td>\n",
       "      <td>3054026</td>\n",
       "      <td>(X)</td>\n",
       "      <td>1494710</td>\n",
       "      <td>2734</td>\n",
       "      <td>48.9</td>\n",
       "      <td>0.1</td>\n",
       "      <td>1559316</td>\n",
       "      <td>2510</td>\n",
       "      <td>51.1</td>\n",
       "      <td>0.1</td>\n",
       "    </tr>\n",
       "    <tr>\n",
       "      <th>39</th>\n",
       "      <td>0400000US42</td>\n",
       "      <td>Pennsylvania</td>\n",
       "      <td>12791530</td>\n",
       "      <td>*****</td>\n",
       "      <td>12791530</td>\n",
       "      <td>(X)</td>\n",
       "      <td>6265113</td>\n",
       "      <td>741</td>\n",
       "      <td>49.0</td>\n",
       "      <td>0.1</td>\n",
       "      <td>...</td>\n",
       "      <td>9759723</td>\n",
       "      <td>(X)</td>\n",
       "      <td>4713377</td>\n",
       "      <td>3460</td>\n",
       "      <td>48.3</td>\n",
       "      <td>0.1</td>\n",
       "      <td>5046346</td>\n",
       "      <td>3449</td>\n",
       "      <td>51.7</td>\n",
       "      <td>0.1</td>\n",
       "    </tr>\n",
       "    <tr>\n",
       "      <th>40</th>\n",
       "      <td>0400000US44</td>\n",
       "      <td>Rhode Island</td>\n",
       "      <td>1057231</td>\n",
       "      <td>*****</td>\n",
       "      <td>1057231</td>\n",
       "      <td>(X)</td>\n",
       "      <td>513792</td>\n",
       "      <td>315</td>\n",
       "      <td>48.6</td>\n",
       "      <td>0.1</td>\n",
       "      <td>...</td>\n",
       "      <td>792920</td>\n",
       "      <td>(X)</td>\n",
       "      <td>377211</td>\n",
       "      <td>1581</td>\n",
       "      <td>47.6</td>\n",
       "      <td>0.1</td>\n",
       "      <td>415709</td>\n",
       "      <td>1314</td>\n",
       "      <td>52.4</td>\n",
       "      <td>0.1</td>\n",
       "    </tr>\n",
       "    <tr>\n",
       "      <th>41</th>\n",
       "      <td>0400000US45</td>\n",
       "      <td>South Carolina</td>\n",
       "      <td>5020806</td>\n",
       "      <td>*****</td>\n",
       "      <td>5020806</td>\n",
       "      <td>(X)</td>\n",
       "      <td>2435472</td>\n",
       "      <td>868</td>\n",
       "      <td>48.5</td>\n",
       "      <td>0.1</td>\n",
       "      <td>...</td>\n",
       "      <td>3785353</td>\n",
       "      <td>(X)</td>\n",
       "      <td>1802488</td>\n",
       "      <td>2047</td>\n",
       "      <td>47.6</td>\n",
       "      <td>0.1</td>\n",
       "      <td>1982865</td>\n",
       "      <td>1909</td>\n",
       "      <td>52.4</td>\n",
       "      <td>0.1</td>\n",
       "    </tr>\n",
       "    <tr>\n",
       "      <th>42</th>\n",
       "      <td>0400000US46</td>\n",
       "      <td>South Dakota</td>\n",
       "      <td>870638</td>\n",
       "      <td>*****</td>\n",
       "      <td>870638</td>\n",
       "      <td>(X)</td>\n",
       "      <td>438946</td>\n",
       "      <td>666</td>\n",
       "      <td>50.4</td>\n",
       "      <td>0.1</td>\n",
       "      <td>...</td>\n",
       "      <td>639669</td>\n",
       "      <td>(X)</td>\n",
       "      <td>319982</td>\n",
       "      <td>826</td>\n",
       "      <td>50.0</td>\n",
       "      <td>0.1</td>\n",
       "      <td>319687</td>\n",
       "      <td>728</td>\n",
       "      <td>50.0</td>\n",
       "      <td>0.1</td>\n",
       "    </tr>\n",
       "    <tr>\n",
       "      <th>43</th>\n",
       "      <td>0400000US47</td>\n",
       "      <td>Tennessee</td>\n",
       "      <td>6709356</td>\n",
       "      <td>*****</td>\n",
       "      <td>6709356</td>\n",
       "      <td>(X)</td>\n",
       "      <td>3273278</td>\n",
       "      <td>1507</td>\n",
       "      <td>48.8</td>\n",
       "      <td>0.1</td>\n",
       "      <td>...</td>\n",
       "      <td>5019113</td>\n",
       "      <td>(X)</td>\n",
       "      <td>2404858</td>\n",
       "      <td>2625</td>\n",
       "      <td>47.9</td>\n",
       "      <td>0.1</td>\n",
       "      <td>2614255</td>\n",
       "      <td>2456</td>\n",
       "      <td>52.1</td>\n",
       "      <td>0.1</td>\n",
       "    </tr>\n",
       "    <tr>\n",
       "      <th>44</th>\n",
       "      <td>0400000US48</td>\n",
       "      <td>Texas</td>\n",
       "      <td>28260856</td>\n",
       "      <td>*****</td>\n",
       "      <td>28260856</td>\n",
       "      <td>(X)</td>\n",
       "      <td>14034009</td>\n",
       "      <td>2058</td>\n",
       "      <td>49.7</td>\n",
       "      <td>0.1</td>\n",
       "      <td>...</td>\n",
       "      <td>18181328</td>\n",
       "      <td>(X)</td>\n",
       "      <td>8882364</td>\n",
       "      <td>12697</td>\n",
       "      <td>48.9</td>\n",
       "      <td>0.1</td>\n",
       "      <td>9298964</td>\n",
       "      <td>11347</td>\n",
       "      <td>51.1</td>\n",
       "      <td>0.1</td>\n",
       "    </tr>\n",
       "    <tr>\n",
       "      <th>45</th>\n",
       "      <td>0400000US49</td>\n",
       "      <td>Utah</td>\n",
       "      <td>3096848</td>\n",
       "      <td>*****</td>\n",
       "      <td>3096848</td>\n",
       "      <td>(X)</td>\n",
       "      <td>1558868</td>\n",
       "      <td>603</td>\n",
       "      <td>50.3</td>\n",
       "      <td>0.1</td>\n",
       "      <td>...</td>\n",
       "      <td>2029032</td>\n",
       "      <td>(X)</td>\n",
       "      <td>1011681</td>\n",
       "      <td>1936</td>\n",
       "      <td>49.9</td>\n",
       "      <td>0.1</td>\n",
       "      <td>1017351</td>\n",
       "      <td>1884</td>\n",
       "      <td>50.1</td>\n",
       "      <td>0.1</td>\n",
       "    </tr>\n",
       "    <tr>\n",
       "      <th>46</th>\n",
       "      <td>0400000US50</td>\n",
       "      <td>Vermont</td>\n",
       "      <td>624313</td>\n",
       "      <td>*****</td>\n",
       "      <td>624313</td>\n",
       "      <td>(X)</td>\n",
       "      <td>308097</td>\n",
       "      <td>353</td>\n",
       "      <td>49.3</td>\n",
       "      <td>0.1</td>\n",
       "      <td>...</td>\n",
       "      <td>495821</td>\n",
       "      <td>(X)</td>\n",
       "      <td>242508</td>\n",
       "      <td>529</td>\n",
       "      <td>48.9</td>\n",
       "      <td>0.1</td>\n",
       "      <td>253313</td>\n",
       "      <td>531</td>\n",
       "      <td>51.1</td>\n",
       "      <td>0.1</td>\n",
       "    </tr>\n",
       "    <tr>\n",
       "      <th>47</th>\n",
       "      <td>0400000US51</td>\n",
       "      <td>Virginia</td>\n",
       "      <td>8454463</td>\n",
       "      <td>*****</td>\n",
       "      <td>8454463</td>\n",
       "      <td>(X)</td>\n",
       "      <td>4159173</td>\n",
       "      <td>1541</td>\n",
       "      <td>49.2</td>\n",
       "      <td>0.1</td>\n",
       "      <td>...</td>\n",
       "      <td>6140257</td>\n",
       "      <td>(X)</td>\n",
       "      <td>2984735</td>\n",
       "      <td>4651</td>\n",
       "      <td>48.6</td>\n",
       "      <td>0.1</td>\n",
       "      <td>3155522</td>\n",
       "      <td>4119</td>\n",
       "      <td>51.4</td>\n",
       "      <td>0.1</td>\n",
       "    </tr>\n",
       "    <tr>\n",
       "      <th>48</th>\n",
       "      <td>0400000US53</td>\n",
       "      <td>Washington</td>\n",
       "      <td>7404107</td>\n",
       "      <td>*****</td>\n",
       "      <td>7404107</td>\n",
       "      <td>(X)</td>\n",
       "      <td>3703301</td>\n",
       "      <td>802</td>\n",
       "      <td>50.0</td>\n",
       "      <td>0.1</td>\n",
       "      <td>...</td>\n",
       "      <td>5257899</td>\n",
       "      <td>(X)</td>\n",
       "      <td>2606385</td>\n",
       "      <td>3920</td>\n",
       "      <td>49.6</td>\n",
       "      <td>0.1</td>\n",
       "      <td>2651514</td>\n",
       "      <td>3589</td>\n",
       "      <td>50.4</td>\n",
       "      <td>0.1</td>\n",
       "    </tr>\n",
       "    <tr>\n",
       "      <th>49</th>\n",
       "      <td>0400000US54</td>\n",
       "      <td>West Virginia</td>\n",
       "      <td>1817305</td>\n",
       "      <td>*****</td>\n",
       "      <td>1817305</td>\n",
       "      <td>(X)</td>\n",
       "      <td>898578</td>\n",
       "      <td>865</td>\n",
       "      <td>49.4</td>\n",
       "      <td>0.1</td>\n",
       "      <td>...</td>\n",
       "      <td>1434259</td>\n",
       "      <td>(X)</td>\n",
       "      <td>702446</td>\n",
       "      <td>877</td>\n",
       "      <td>49.0</td>\n",
       "      <td>0.1</td>\n",
       "      <td>731813</td>\n",
       "      <td>834</td>\n",
       "      <td>51.0</td>\n",
       "      <td>0.1</td>\n",
       "    </tr>\n",
       "    <tr>\n",
       "      <th>50</th>\n",
       "      <td>0400000US55</td>\n",
       "      <td>Wisconsin</td>\n",
       "      <td>5790716</td>\n",
       "      <td>*****</td>\n",
       "      <td>5790716</td>\n",
       "      <td>(X)</td>\n",
       "      <td>2879894</td>\n",
       "      <td>833</td>\n",
       "      <td>49.7</td>\n",
       "      <td>0.1</td>\n",
       "      <td>...</td>\n",
       "      <td>4366395</td>\n",
       "      <td>(X)</td>\n",
       "      <td>2147191</td>\n",
       "      <td>1950</td>\n",
       "      <td>49.2</td>\n",
       "      <td>0.1</td>\n",
       "      <td>2219204</td>\n",
       "      <td>2058</td>\n",
       "      <td>50.8</td>\n",
       "      <td>0.1</td>\n",
       "    </tr>\n",
       "    <tr>\n",
       "      <th>51</th>\n",
       "      <td>0400000US56</td>\n",
       "      <td>Wyoming</td>\n",
       "      <td>581024</td>\n",
       "      <td>*****</td>\n",
       "      <td>581024</td>\n",
       "      <td>(X)</td>\n",
       "      <td>296202</td>\n",
       "      <td>809</td>\n",
       "      <td>51.0</td>\n",
       "      <td>0.1</td>\n",
       "      <td>...</td>\n",
       "      <td>433356</td>\n",
       "      <td>(X)</td>\n",
       "      <td>220304</td>\n",
       "      <td>719</td>\n",
       "      <td>50.8</td>\n",
       "      <td>0.1</td>\n",
       "      <td>213052</td>\n",
       "      <td>890</td>\n",
       "      <td>49.2</td>\n",
       "      <td>0.1</td>\n",
       "    </tr>\n",
       "    <tr>\n",
       "      <th>52</th>\n",
       "      <td>0400000US72</td>\n",
       "      <td>Puerto Rico</td>\n",
       "      <td>3318447</td>\n",
       "      <td>*****</td>\n",
       "      <td>3318447</td>\n",
       "      <td>(X)</td>\n",
       "      <td>1578318</td>\n",
       "      <td>343</td>\n",
       "      <td>47.6</td>\n",
       "      <td>0.1</td>\n",
       "      <td>...</td>\n",
       "      <td>2626418</td>\n",
       "      <td>(X)</td>\n",
       "      <td>1227163</td>\n",
       "      <td>1054</td>\n",
       "      <td>46.7</td>\n",
       "      <td>0.1</td>\n",
       "      <td>1399255</td>\n",
       "      <td>1077</td>\n",
       "      <td>53.3</td>\n",
       "      <td>0.1</td>\n",
       "    </tr>\n",
       "  </tbody>\n",
       "</table>\n",
       "<p>52 rows × 358 columns</p>\n",
       "</div>"
      ],
      "text/plain": [
       "0            id  Geographic Area Name Estimate!!SEX AND AGE!!Total population  \\\n",
       "1   0400000US01               Alabama                                 4876250   \n",
       "2   0400000US02                Alaska                                  737068   \n",
       "3   0400000US04               Arizona                                 7050299   \n",
       "4   0400000US05              Arkansas                                 2999370   \n",
       "5   0400000US06            California                                39283497   \n",
       "6   0400000US08              Colorado                                 5610349   \n",
       "7   0400000US09           Connecticut                                 3575074   \n",
       "8   0400000US10              Delaware                                  957248   \n",
       "9   0400000US11  District of Columbia                                  692683   \n",
       "10  0400000US12               Florida                                20901636   \n",
       "11  0400000US13               Georgia                                10403847   \n",
       "12  0400000US15                Hawaii                                 1422094   \n",
       "13  0400000US16                 Idaho                                 1717750   \n",
       "14  0400000US17              Illinois                                12770631   \n",
       "15  0400000US18               Indiana                                 6665703   \n",
       "16  0400000US19                  Iowa                                 3139508   \n",
       "17  0400000US20                Kansas                                 2910652   \n",
       "18  0400000US21              Kentucky                                 4449052   \n",
       "19  0400000US22             Louisiana                                 4664362   \n",
       "20  0400000US23                 Maine                                 1335492   \n",
       "21  0400000US24              Maryland                                 6018848   \n",
       "22  0400000US25         Massachusetts                                 6850553   \n",
       "23  0400000US26              Michigan                                 9965265   \n",
       "24  0400000US27             Minnesota                                 5563378   \n",
       "25  0400000US28           Mississippi                                 2984418   \n",
       "26  0400000US29              Missouri                                 6104910   \n",
       "27  0400000US30               Montana                                 1050649   \n",
       "28  0400000US31              Nebraska                                 1914571   \n",
       "29  0400000US32                Nevada                                 2972382   \n",
       "30  0400000US33         New Hampshire                                 1348124   \n",
       "31  0400000US34            New Jersey                                 8878503   \n",
       "32  0400000US35            New Mexico                                 2092454   \n",
       "33  0400000US36              New York                                19572319   \n",
       "34  0400000US37        North Carolina                                10264876   \n",
       "35  0400000US38          North Dakota                                  756717   \n",
       "36  0400000US39                  Ohio                                11655397   \n",
       "37  0400000US40              Oklahoma                                 3932870   \n",
       "38  0400000US41                Oregon                                 4129803   \n",
       "39  0400000US42          Pennsylvania                                12791530   \n",
       "40  0400000US44          Rhode Island                                 1057231   \n",
       "41  0400000US45        South Carolina                                 5020806   \n",
       "42  0400000US46          South Dakota                                  870638   \n",
       "43  0400000US47             Tennessee                                 6709356   \n",
       "44  0400000US48                 Texas                                28260856   \n",
       "45  0400000US49                  Utah                                 3096848   \n",
       "46  0400000US50               Vermont                                  624313   \n",
       "47  0400000US51              Virginia                                 8454463   \n",
       "48  0400000US53            Washington                                 7404107   \n",
       "49  0400000US54         West Virginia                                 1817305   \n",
       "50  0400000US55             Wisconsin                                 5790716   \n",
       "51  0400000US56               Wyoming                                  581024   \n",
       "52  0400000US72           Puerto Rico                                 3318447   \n",
       "\n",
       "0  Margin of Error!!SEX AND AGE!!Total population  \\\n",
       "1                                           *****   \n",
       "2                                           *****   \n",
       "3                                           *****   \n",
       "4                                           *****   \n",
       "5                                           *****   \n",
       "6                                           *****   \n",
       "7                                           *****   \n",
       "8                                           *****   \n",
       "9                                           *****   \n",
       "10                                          *****   \n",
       "11                                          *****   \n",
       "12                                          *****   \n",
       "13                                          *****   \n",
       "14                                          *****   \n",
       "15                                          *****   \n",
       "16                                          *****   \n",
       "17                                          *****   \n",
       "18                                          *****   \n",
       "19                                          *****   \n",
       "20                                          *****   \n",
       "21                                          *****   \n",
       "22                                          *****   \n",
       "23                                          *****   \n",
       "24                                          *****   \n",
       "25                                          *****   \n",
       "26                                          *****   \n",
       "27                                          *****   \n",
       "28                                          *****   \n",
       "29                                          *****   \n",
       "30                                          *****   \n",
       "31                                          *****   \n",
       "32                                          *****   \n",
       "33                                          *****   \n",
       "34                                          *****   \n",
       "35                                          *****   \n",
       "36                                          *****   \n",
       "37                                          *****   \n",
       "38                                          *****   \n",
       "39                                          *****   \n",
       "40                                          *****   \n",
       "41                                          *****   \n",
       "42                                          *****   \n",
       "43                                          *****   \n",
       "44                                          *****   \n",
       "45                                          *****   \n",
       "46                                          *****   \n",
       "47                                          *****   \n",
       "48                                          *****   \n",
       "49                                          *****   \n",
       "50                                          *****   \n",
       "51                                          *****   \n",
       "52                                          *****   \n",
       "\n",
       "0  Percent!!SEX AND AGE!!Total population  \\\n",
       "1                                 4876250   \n",
       "2                                  737068   \n",
       "3                                 7050299   \n",
       "4                                 2999370   \n",
       "5                                39283497   \n",
       "6                                 5610349   \n",
       "7                                 3575074   \n",
       "8                                  957248   \n",
       "9                                  692683   \n",
       "10                               20901636   \n",
       "11                               10403847   \n",
       "12                                1422094   \n",
       "13                                1717750   \n",
       "14                               12770631   \n",
       "15                                6665703   \n",
       "16                                3139508   \n",
       "17                                2910652   \n",
       "18                                4449052   \n",
       "19                                4664362   \n",
       "20                                1335492   \n",
       "21                                6018848   \n",
       "22                                6850553   \n",
       "23                                9965265   \n",
       "24                                5563378   \n",
       "25                                2984418   \n",
       "26                                6104910   \n",
       "27                                1050649   \n",
       "28                                1914571   \n",
       "29                                2972382   \n",
       "30                                1348124   \n",
       "31                                8878503   \n",
       "32                                2092454   \n",
       "33                               19572319   \n",
       "34                               10264876   \n",
       "35                                 756717   \n",
       "36                               11655397   \n",
       "37                                3932870   \n",
       "38                                4129803   \n",
       "39                               12791530   \n",
       "40                                1057231   \n",
       "41                                5020806   \n",
       "42                                 870638   \n",
       "43                                6709356   \n",
       "44                               28260856   \n",
       "45                                3096848   \n",
       "46                                 624313   \n",
       "47                                8454463   \n",
       "48                                7404107   \n",
       "49                                1817305   \n",
       "50                                5790716   \n",
       "51                                 581024   \n",
       "52                                3318447   \n",
       "\n",
       "0  Percent Margin of Error!!SEX AND AGE!!Total population  \\\n",
       "1                                                 (X)       \n",
       "2                                                 (X)       \n",
       "3                                                 (X)       \n",
       "4                                                 (X)       \n",
       "5                                                 (X)       \n",
       "6                                                 (X)       \n",
       "7                                                 (X)       \n",
       "8                                                 (X)       \n",
       "9                                                 (X)       \n",
       "10                                                (X)       \n",
       "11                                                (X)       \n",
       "12                                                (X)       \n",
       "13                                                (X)       \n",
       "14                                                (X)       \n",
       "15                                                (X)       \n",
       "16                                                (X)       \n",
       "17                                                (X)       \n",
       "18                                                (X)       \n",
       "19                                                (X)       \n",
       "20                                                (X)       \n",
       "21                                                (X)       \n",
       "22                                                (X)       \n",
       "23                                                (X)       \n",
       "24                                                (X)       \n",
       "25                                                (X)       \n",
       "26                                                (X)       \n",
       "27                                                (X)       \n",
       "28                                                (X)       \n",
       "29                                                (X)       \n",
       "30                                                (X)       \n",
       "31                                                (X)       \n",
       "32                                                (X)       \n",
       "33                                                (X)       \n",
       "34                                                (X)       \n",
       "35                                                (X)       \n",
       "36                                                (X)       \n",
       "37                                                (X)       \n",
       "38                                                (X)       \n",
       "39                                                (X)       \n",
       "40                                                (X)       \n",
       "41                                                (X)       \n",
       "42                                                (X)       \n",
       "43                                                (X)       \n",
       "44                                                (X)       \n",
       "45                                                (X)       \n",
       "46                                                (X)       \n",
       "47                                                (X)       \n",
       "48                                                (X)       \n",
       "49                                                (X)       \n",
       "50                                                (X)       \n",
       "51                                                (X)       \n",
       "52                                                (X)       \n",
       "\n",
       "0  Estimate!!SEX AND AGE!!Total population!!Male  \\\n",
       "1                                        2359355   \n",
       "2                                         384915   \n",
       "3                                        3504509   \n",
       "4                                        1471760   \n",
       "5                                       19526298   \n",
       "6                                        2823201   \n",
       "7                                        1744245   \n",
       "8                                         462890   \n",
       "9                                         328644   \n",
       "10                                      10220813   \n",
       "11                                       5062096   \n",
       "12                                        713260   \n",
       "13                                        861025   \n",
       "14                                       6272172   \n",
       "15                                       3284846   \n",
       "16                                       1558536   \n",
       "17                                       1450697   \n",
       "18                                       2190922   \n",
       "19                                       2278986   \n",
       "20                                        653942   \n",
       "21                                       2917613   \n",
       "22                                       3324207   \n",
       "23                                       4905240   \n",
       "24                                       2770873   \n",
       "25                                       1447873   \n",
       "26                                       2995725   \n",
       "27                                        528573   \n",
       "28                                        954950   \n",
       "29                                       1491294   \n",
       "30                                        667689   \n",
       "31                                       4335032   \n",
       "32                                       1036190   \n",
       "33                                       9501001   \n",
       "34                                       4996638   \n",
       "35                                        387555   \n",
       "36                                       5711765   \n",
       "37                                       1949528   \n",
       "38                                       2047338   \n",
       "39                                       6265113   \n",
       "40                                        513792   \n",
       "41                                       2435472   \n",
       "42                                        438946   \n",
       "43                                       3273278   \n",
       "44                                      14034009   \n",
       "45                                       1558868   \n",
       "46                                        308097   \n",
       "47                                       4159173   \n",
       "48                                       3703301   \n",
       "49                                        898578   \n",
       "50                                       2879894   \n",
       "51                                        296202   \n",
       "52                                       1578318   \n",
       "\n",
       "0  Margin of Error!!SEX AND AGE!!Total population!!Male  \\\n",
       "1                                                1270     \n",
       "2                                                 401     \n",
       "3                                                 349     \n",
       "4                                                 979     \n",
       "5                                                1141     \n",
       "6                                                1044     \n",
       "7                                                 441     \n",
       "8                                                 166     \n",
       "9                                                  74     \n",
       "10                                               1549     \n",
       "11                                               1660     \n",
       "12                                                157     \n",
       "13                                                651     \n",
       "14                                                951     \n",
       "15                                               1051     \n",
       "16                                               1077     \n",
       "17                                                949     \n",
       "18                                               1184     \n",
       "19                                               1162     \n",
       "20                                                422     \n",
       "21                                                619     \n",
       "22                                                463     \n",
       "23                                                848     \n",
       "24                                                655     \n",
       "25                                               1265     \n",
       "26                                               1185     \n",
       "27                                                653     \n",
       "28                                                616     \n",
       "29                                                419     \n",
       "30                                                424     \n",
       "31                                                594     \n",
       "32                                                693     \n",
       "33                                                981     \n",
       "34                                               1311     \n",
       "35                                                729     \n",
       "36                                               1244     \n",
       "37                                                688     \n",
       "38                                                680     \n",
       "39                                                741     \n",
       "40                                                315     \n",
       "41                                                868     \n",
       "42                                                666     \n",
       "43                                               1507     \n",
       "44                                               2058     \n",
       "45                                                603     \n",
       "46                                                353     \n",
       "47                                               1541     \n",
       "48                                                802     \n",
       "49                                                865     \n",
       "50                                                833     \n",
       "51                                                809     \n",
       "52                                                343     \n",
       "\n",
       "0  Percent!!SEX AND AGE!!Total population!!Male  \\\n",
       "1                                          48.4   \n",
       "2                                          52.2   \n",
       "3                                          49.7   \n",
       "4                                          49.1   \n",
       "5                                          49.7   \n",
       "6                                          50.3   \n",
       "7                                          48.8   \n",
       "8                                          48.4   \n",
       "9                                          47.4   \n",
       "10                                         48.9   \n",
       "11                                         48.7   \n",
       "12                                         50.2   \n",
       "13                                         50.1   \n",
       "14                                         49.1   \n",
       "15                                         49.3   \n",
       "16                                         49.6   \n",
       "17                                         49.8   \n",
       "18                                         49.2   \n",
       "19                                         48.9   \n",
       "20                                         49.0   \n",
       "21                                         48.5   \n",
       "22                                         48.5   \n",
       "23                                         49.2   \n",
       "24                                         49.8   \n",
       "25                                         48.5   \n",
       "26                                         49.1   \n",
       "27                                         50.3   \n",
       "28                                         49.9   \n",
       "29                                         50.2   \n",
       "30                                         49.5   \n",
       "31                                         48.8   \n",
       "32                                         49.5   \n",
       "33                                         48.5   \n",
       "34                                         48.7   \n",
       "35                                         51.2   \n",
       "36                                         49.0   \n",
       "37                                         49.6   \n",
       "38                                         49.6   \n",
       "39                                         49.0   \n",
       "40                                         48.6   \n",
       "41                                         48.5   \n",
       "42                                         50.4   \n",
       "43                                         48.8   \n",
       "44                                         49.7   \n",
       "45                                         50.3   \n",
       "46                                         49.3   \n",
       "47                                         49.2   \n",
       "48                                         50.0   \n",
       "49                                         49.4   \n",
       "50                                         49.7   \n",
       "51                                         51.0   \n",
       "52                                         47.6   \n",
       "\n",
       "0  Percent Margin of Error!!SEX AND AGE!!Total population!!Male  ...  \\\n",
       "1                                                 0.1            ...   \n",
       "2                                                 0.1            ...   \n",
       "3                                                 0.1            ...   \n",
       "4                                                 0.1            ...   \n",
       "5                                                 0.1            ...   \n",
       "6                                                 0.1            ...   \n",
       "7                                                 0.1            ...   \n",
       "8                                                 0.1            ...   \n",
       "9                                                 0.1            ...   \n",
       "10                                                0.1            ...   \n",
       "11                                                0.1            ...   \n",
       "12                                                0.1            ...   \n",
       "13                                                0.1            ...   \n",
       "14                                                0.1            ...   \n",
       "15                                                0.1            ...   \n",
       "16                                                0.1            ...   \n",
       "17                                                0.1            ...   \n",
       "18                                                0.1            ...   \n",
       "19                                                0.1            ...   \n",
       "20                                                0.1            ...   \n",
       "21                                                0.1            ...   \n",
       "22                                                0.1            ...   \n",
       "23                                                0.1            ...   \n",
       "24                                                0.1            ...   \n",
       "25                                                0.1            ...   \n",
       "26                                                0.1            ...   \n",
       "27                                                0.1            ...   \n",
       "28                                                0.1            ...   \n",
       "29                                                0.1            ...   \n",
       "30                                                0.1            ...   \n",
       "31                                                0.1            ...   \n",
       "32                                                0.1            ...   \n",
       "33                                                0.1            ...   \n",
       "34                                                0.1            ...   \n",
       "35                                                0.1            ...   \n",
       "36                                                0.1            ...   \n",
       "37                                                0.1            ...   \n",
       "38                                                0.1            ...   \n",
       "39                                                0.1            ...   \n",
       "40                                                0.1            ...   \n",
       "41                                                0.1            ...   \n",
       "42                                                0.1            ...   \n",
       "43                                                0.1            ...   \n",
       "44                                                0.1            ...   \n",
       "45                                                0.1            ...   \n",
       "46                                                0.1            ...   \n",
       "47                                                0.1            ...   \n",
       "48                                                0.1            ...   \n",
       "49                                                0.1            ...   \n",
       "50                                                0.1            ...   \n",
       "51                                                0.1            ...   \n",
       "52                                                0.1            ...   \n",
       "\n",
       "0  Percent!!CITIZEN, VOTING AGE POPULATION!!Citizen, 18 and over population  \\\n",
       "1                                             3685074                         \n",
       "2                                              530996                         \n",
       "3                                             4920449                         \n",
       "4                                             2207333                         \n",
       "5                                            25494383                         \n",
       "6                                             4063877                         \n",
       "7                                             2605409                         \n",
       "8                                              710280                         \n",
       "9                                              519267                         \n",
       "10                                           14988415                         \n",
       "11                                            7356558                         \n",
       "12                                            1018390                         \n",
       "13                                            1220310                         \n",
       "14                                            9049960                         \n",
       "15                                            4903144                         \n",
       "16                                            2321084                         \n",
       "17                                            2084736                         \n",
       "18                                            3349115                         \n",
       "19                                            3459488                         \n",
       "20                                            1064670                         \n",
       "21                                            4280946                         \n",
       "22                                            4992533                         \n",
       "23                                            7495884                         \n",
       "24                                            4069677                         \n",
       "25                                            2232331                         \n",
       "26                                            4603770                         \n",
       "27                                             812541                         \n",
       "28                                            1366078                         \n",
       "29                                            2018928                         \n",
       "30                                            1055456                         \n",
       "31                                            6132177                         \n",
       "32                                            1496286                         \n",
       "33                                           13723456                         \n",
       "34                                            7514969                         \n",
       "35                                             564482                         \n",
       "36                                            8820897                         \n",
       "37                                            2837291                         \n",
       "38                                            3054026                         \n",
       "39                                            9759723                         \n",
       "40                                             792920                         \n",
       "41                                            3785353                         \n",
       "42                                             639669                         \n",
       "43                                            5019113                         \n",
       "44                                           18181328                         \n",
       "45                                            2029032                         \n",
       "46                                             495821                         \n",
       "47                                            6140257                         \n",
       "48                                            5257899                         \n",
       "49                                            1434259                         \n",
       "50                                            4366395                         \n",
       "51                                             433356                         \n",
       "52                                            2626418                         \n",
       "\n",
       "0  Percent Margin of Error!!CITIZEN, VOTING AGE POPULATION!!Citizen, 18 and over population  \\\n",
       "1                                                 (X)                                         \n",
       "2                                                 (X)                                         \n",
       "3                                                 (X)                                         \n",
       "4                                                 (X)                                         \n",
       "5                                                 (X)                                         \n",
       "6                                                 (X)                                         \n",
       "7                                                 (X)                                         \n",
       "8                                                 (X)                                         \n",
       "9                                                 (X)                                         \n",
       "10                                                (X)                                         \n",
       "11                                                (X)                                         \n",
       "12                                                (X)                                         \n",
       "13                                                (X)                                         \n",
       "14                                                (X)                                         \n",
       "15                                                (X)                                         \n",
       "16                                                (X)                                         \n",
       "17                                                (X)                                         \n",
       "18                                                (X)                                         \n",
       "19                                                (X)                                         \n",
       "20                                                (X)                                         \n",
       "21                                                (X)                                         \n",
       "22                                                (X)                                         \n",
       "23                                                (X)                                         \n",
       "24                                                (X)                                         \n",
       "25                                                (X)                                         \n",
       "26                                                (X)                                         \n",
       "27                                                (X)                                         \n",
       "28                                                (X)                                         \n",
       "29                                                (X)                                         \n",
       "30                                                (X)                                         \n",
       "31                                                (X)                                         \n",
       "32                                                (X)                                         \n",
       "33                                                (X)                                         \n",
       "34                                                (X)                                         \n",
       "35                                                (X)                                         \n",
       "36                                                (X)                                         \n",
       "37                                                (X)                                         \n",
       "38                                                (X)                                         \n",
       "39                                                (X)                                         \n",
       "40                                                (X)                                         \n",
       "41                                                (X)                                         \n",
       "42                                                (X)                                         \n",
       "43                                                (X)                                         \n",
       "44                                                (X)                                         \n",
       "45                                                (X)                                         \n",
       "46                                                (X)                                         \n",
       "47                                                (X)                                         \n",
       "48                                                (X)                                         \n",
       "49                                                (X)                                         \n",
       "50                                                (X)                                         \n",
       "51                                                (X)                                         \n",
       "52                                                (X)                                         \n",
       "\n",
       "0  Estimate!!CITIZEN, VOTING AGE POPULATION!!Citizen, 18 and over population!!Male  \\\n",
       "1                                             1749845                                \n",
       "2                                              280398                                \n",
       "3                                             2422769                                \n",
       "4                                             1064813                                \n",
       "5                                            12511445                                \n",
       "6                                             2029222                                \n",
       "7                                             1247280                                \n",
       "8                                              337563                                \n",
       "9                                              241214                                \n",
       "10                                            7208765                                \n",
       "11                                            3501020                                \n",
       "12                                             516396                                \n",
       "13                                             605247                                \n",
       "14                                            4367958                                \n",
       "15                                            2378740                                \n",
       "16                                            1138212                                \n",
       "17                                            1026399                                \n",
       "18                                            1623302                                \n",
       "19                                            1659463                                \n",
       "20                                             515544                                \n",
       "21                                            2033526                                \n",
       "22                                            2377676                                \n",
       "23                                            3639229                                \n",
       "24                                            2004603                                \n",
       "25                                            1061560                                \n",
       "26                                            2227454                                \n",
       "27                                             406451                                \n",
       "28                                             671739                                \n",
       "29                                            1009088                                \n",
       "30                                             517761                                \n",
       "31                                            2938884                                \n",
       "32                                             730937                                \n",
       "33                                            6531858                                \n",
       "34                                            3584093                                \n",
       "35                                             288707                                \n",
       "36                                            4259626                                \n",
       "37                                            1384332                                \n",
       "38                                            1494710                                \n",
       "39                                            4713377                                \n",
       "40                                             377211                                \n",
       "41                                            1802488                                \n",
       "42                                             319982                                \n",
       "43                                            2404858                                \n",
       "44                                            8882364                                \n",
       "45                                            1011681                                \n",
       "46                                             242508                                \n",
       "47                                            2984735                                \n",
       "48                                            2606385                                \n",
       "49                                             702446                                \n",
       "50                                            2147191                                \n",
       "51                                             220304                                \n",
       "52                                            1227163                                \n",
       "\n",
       "0  Margin of Error!!CITIZEN, VOTING AGE POPULATION!!Citizen, 18 and over population!!Male  \\\n",
       "1                                                1904                                       \n",
       "2                                                 696                                       \n",
       "3                                                4358                                       \n",
       "4                                                1600                                       \n",
       "5                                               16188                                       \n",
       "6                                                3678                                       \n",
       "7                                                3219                                       \n",
       "8                                                1175                                       \n",
       "9                                                1290                                       \n",
       "10                                              11896                                       \n",
       "11                                               5032                                       \n",
       "12                                               1327                                       \n",
       "13                                               1481                                       \n",
       "14                                               5198                                       \n",
       "15                                               2686                                       \n",
       "16                                               1555                                       \n",
       "17                                               1777                                       \n",
       "18                                               2018                                       \n",
       "19                                               2058                                       \n",
       "20                                                669                                       \n",
       "21                                               3685                                       \n",
       "22                                               4610                                       \n",
       "23                                               2655                                       \n",
       "24                                               2351                                       \n",
       "25                                               1349                                       \n",
       "26                                               2404                                       \n",
       "27                                                752                                       \n",
       "28                                               1442                                       \n",
       "29                                               2565                                       \n",
       "30                                                914                                       \n",
       "31                                               5422                                       \n",
       "32                                               2183                                       \n",
       "33                                               9210                                       \n",
       "34                                               3247                                       \n",
       "35                                                903                                       \n",
       "36                                               2730                                       \n",
       "37                                               1706                                       \n",
       "38                                               2734                                       \n",
       "39                                               3460                                       \n",
       "40                                               1581                                       \n",
       "41                                               2047                                       \n",
       "42                                                826                                       \n",
       "43                                               2625                                       \n",
       "44                                              12697                                       \n",
       "45                                               1936                                       \n",
       "46                                                529                                       \n",
       "47                                               4651                                       \n",
       "48                                               3920                                       \n",
       "49                                                877                                       \n",
       "50                                               1950                                       \n",
       "51                                                719                                       \n",
       "52                                               1054                                       \n",
       "\n",
       "0  Percent!!CITIZEN, VOTING AGE POPULATION!!Citizen, 18 and over population!!Male  \\\n",
       "1                                                47.5                               \n",
       "2                                                52.8                               \n",
       "3                                                49.2                               \n",
       "4                                                48.2                               \n",
       "5                                                49.1                               \n",
       "6                                                49.9                               \n",
       "7                                                47.9                               \n",
       "8                                                47.5                               \n",
       "9                                                46.5                               \n",
       "10                                               48.1                               \n",
       "11                                               47.6                               \n",
       "12                                               50.7                               \n",
       "13                                               49.6                               \n",
       "14                                               48.3                               \n",
       "15                                               48.5                               \n",
       "16                                               49.0                               \n",
       "17                                               49.2                               \n",
       "18                                               48.5                               \n",
       "19                                               48.0                               \n",
       "20                                               48.4                               \n",
       "21                                               47.5                               \n",
       "22                                               47.6                               \n",
       "23                                               48.5                               \n",
       "24                                               49.3                               \n",
       "25                                               47.6                               \n",
       "26                                               48.4                               \n",
       "27                                               50.0                               \n",
       "28                                               49.2                               \n",
       "29                                               50.0                               \n",
       "30                                               49.1                               \n",
       "31                                               47.9                               \n",
       "32                                               48.9                               \n",
       "33                                               47.6                               \n",
       "34                                               47.7                               \n",
       "35                                               51.1                               \n",
       "36                                               48.3                               \n",
       "37                                               48.8                               \n",
       "38                                               48.9                               \n",
       "39                                               48.3                               \n",
       "40                                               47.6                               \n",
       "41                                               47.6                               \n",
       "42                                               50.0                               \n",
       "43                                               47.9                               \n",
       "44                                               48.9                               \n",
       "45                                               49.9                               \n",
       "46                                               48.9                               \n",
       "47                                               48.6                               \n",
       "48                                               49.6                               \n",
       "49                                               49.0                               \n",
       "50                                               49.2                               \n",
       "51                                               50.8                               \n",
       "52                                               46.7                               \n",
       "\n",
       "0  Percent Margin of Error!!CITIZEN, VOTING AGE POPULATION!!Citizen, 18 and over population!!Male  \\\n",
       "1                                                 0.1                                               \n",
       "2                                                 0.1                                               \n",
       "3                                                 0.1                                               \n",
       "4                                                 0.1                                               \n",
       "5                                                 0.1                                               \n",
       "6                                                 0.1                                               \n",
       "7                                                 0.1                                               \n",
       "8                                                 0.1                                               \n",
       "9                                                 0.1                                               \n",
       "10                                                0.1                                               \n",
       "11                                                0.1                                               \n",
       "12                                                0.1                                               \n",
       "13                                                0.1                                               \n",
       "14                                                0.1                                               \n",
       "15                                                0.1                                               \n",
       "16                                                0.1                                               \n",
       "17                                                0.1                                               \n",
       "18                                                0.1                                               \n",
       "19                                                0.1                                               \n",
       "20                                                0.1                                               \n",
       "21                                                0.1                                               \n",
       "22                                                0.1                                               \n",
       "23                                                0.1                                               \n",
       "24                                                0.1                                               \n",
       "25                                                0.1                                               \n",
       "26                                                0.1                                               \n",
       "27                                                0.1                                               \n",
       "28                                                0.1                                               \n",
       "29                                                0.1                                               \n",
       "30                                                0.1                                               \n",
       "31                                                0.1                                               \n",
       "32                                                0.1                                               \n",
       "33                                                0.1                                               \n",
       "34                                                0.1                                               \n",
       "35                                                0.1                                               \n",
       "36                                                0.1                                               \n",
       "37                                                0.1                                               \n",
       "38                                                0.1                                               \n",
       "39                                                0.1                                               \n",
       "40                                                0.1                                               \n",
       "41                                                0.1                                               \n",
       "42                                                0.1                                               \n",
       "43                                                0.1                                               \n",
       "44                                                0.1                                               \n",
       "45                                                0.1                                               \n",
       "46                                                0.1                                               \n",
       "47                                                0.1                                               \n",
       "48                                                0.1                                               \n",
       "49                                                0.1                                               \n",
       "50                                                0.1                                               \n",
       "51                                                0.1                                               \n",
       "52                                                0.1                                               \n",
       "\n",
       "0  Estimate!!CITIZEN, VOTING AGE POPULATION!!Citizen, 18 and over population!!Female  \\\n",
       "1                                             1935229                                  \n",
       "2                                              250598                                  \n",
       "3                                             2497680                                  \n",
       "4                                             1142520                                  \n",
       "5                                            12982938                                  \n",
       "6                                             2034655                                  \n",
       "7                                             1358129                                  \n",
       "8                                              372717                                  \n",
       "9                                              278053                                  \n",
       "10                                            7779650                                  \n",
       "11                                            3855538                                  \n",
       "12                                             501994                                  \n",
       "13                                             615063                                  \n",
       "14                                            4682002                                  \n",
       "15                                            2524404                                  \n",
       "16                                            1182872                                  \n",
       "17                                            1058337                                  \n",
       "18                                            1725813                                  \n",
       "19                                            1800025                                  \n",
       "20                                             549126                                  \n",
       "21                                            2247420                                  \n",
       "22                                            2614857                                  \n",
       "23                                            3856655                                  \n",
       "24                                            2065074                                  \n",
       "25                                            1170771                                  \n",
       "26                                            2376316                                  \n",
       "27                                             406090                                  \n",
       "28                                             694339                                  \n",
       "29                                            1009840                                  \n",
       "30                                             537695                                  \n",
       "31                                            3193293                                  \n",
       "32                                             765349                                  \n",
       "33                                            7191598                                  \n",
       "34                                            3930876                                  \n",
       "35                                             275775                                  \n",
       "36                                            4561271                                  \n",
       "37                                            1452959                                  \n",
       "38                                            1559316                                  \n",
       "39                                            5046346                                  \n",
       "40                                             415709                                  \n",
       "41                                            1982865                                  \n",
       "42                                             319687                                  \n",
       "43                                            2614255                                  \n",
       "44                                            9298964                                  \n",
       "45                                            1017351                                  \n",
       "46                                             253313                                  \n",
       "47                                            3155522                                  \n",
       "48                                            2651514                                  \n",
       "49                                             731813                                  \n",
       "50                                            2219204                                  \n",
       "51                                             213052                                  \n",
       "52                                            1399255                                  \n",
       "\n",
       "0  Margin of Error!!CITIZEN, VOTING AGE POPULATION!!Citizen, 18 and over population!!Female  \\\n",
       "1                                                1710                                         \n",
       "2                                                 902                                         \n",
       "3                                                3642                                         \n",
       "4                                                1442                                         \n",
       "5                                               17244                                         \n",
       "6                                                2991                                         \n",
       "7                                                2314                                         \n",
       "8                                                1028                                         \n",
       "9                                                1495                                         \n",
       "10                                               9945                                         \n",
       "11                                               4798                                         \n",
       "12                                               1911                                         \n",
       "13                                               1277                                         \n",
       "14                                               5375                                         \n",
       "15                                               2012                                         \n",
       "16                                               1595                                         \n",
       "17                                               1782                                         \n",
       "18                                               1619                                         \n",
       "19                                               1661                                         \n",
       "20                                                727                                         \n",
       "21                                               3319                                         \n",
       "22                                               3937                                         \n",
       "23                                               2856                                         \n",
       "24                                               2296                                         \n",
       "25                                               1100                                         \n",
       "26                                               1713                                         \n",
       "27                                                744                                         \n",
       "28                                               1109                                         \n",
       "29                                               2722                                         \n",
       "30                                                950                                         \n",
       "31                                               4434                                         \n",
       "32                                               1935                                         \n",
       "33                                               8586                                         \n",
       "34                                               3525                                         \n",
       "35                                                777                                         \n",
       "36                                               2683                                         \n",
       "37                                               1518                                         \n",
       "38                                               2510                                         \n",
       "39                                               3449                                         \n",
       "40                                               1314                                         \n",
       "41                                               1909                                         \n",
       "42                                                728                                         \n",
       "43                                               2456                                         \n",
       "44                                              11347                                         \n",
       "45                                               1884                                         \n",
       "46                                                531                                         \n",
       "47                                               4119                                         \n",
       "48                                               3589                                         \n",
       "49                                                834                                         \n",
       "50                                               2058                                         \n",
       "51                                                890                                         \n",
       "52                                               1077                                         \n",
       "\n",
       "0  Percent!!CITIZEN, VOTING AGE POPULATION!!Citizen, 18 and over population!!Female  \\\n",
       "1                                                52.5                                 \n",
       "2                                                47.2                                 \n",
       "3                                                50.8                                 \n",
       "4                                                51.8                                 \n",
       "5                                                50.9                                 \n",
       "6                                                50.1                                 \n",
       "7                                                52.1                                 \n",
       "8                                                52.5                                 \n",
       "9                                                53.5                                 \n",
       "10                                               51.9                                 \n",
       "11                                               52.4                                 \n",
       "12                                               49.3                                 \n",
       "13                                               50.4                                 \n",
       "14                                               51.7                                 \n",
       "15                                               51.5                                 \n",
       "16                                               51.0                                 \n",
       "17                                               50.8                                 \n",
       "18                                               51.5                                 \n",
       "19                                               52.0                                 \n",
       "20                                               51.6                                 \n",
       "21                                               52.5                                 \n",
       "22                                               52.4                                 \n",
       "23                                               51.5                                 \n",
       "24                                               50.7                                 \n",
       "25                                               52.4                                 \n",
       "26                                               51.6                                 \n",
       "27                                               50.0                                 \n",
       "28                                               50.8                                 \n",
       "29                                               50.0                                 \n",
       "30                                               50.9                                 \n",
       "31                                               52.1                                 \n",
       "32                                               51.1                                 \n",
       "33                                               52.4                                 \n",
       "34                                               52.3                                 \n",
       "35                                               48.9                                 \n",
       "36                                               51.7                                 \n",
       "37                                               51.2                                 \n",
       "38                                               51.1                                 \n",
       "39                                               51.7                                 \n",
       "40                                               52.4                                 \n",
       "41                                               52.4                                 \n",
       "42                                               50.0                                 \n",
       "43                                               52.1                                 \n",
       "44                                               51.1                                 \n",
       "45                                               50.1                                 \n",
       "46                                               51.1                                 \n",
       "47                                               51.4                                 \n",
       "48                                               50.4                                 \n",
       "49                                               51.0                                 \n",
       "50                                               50.8                                 \n",
       "51                                               49.2                                 \n",
       "52                                               53.3                                 \n",
       "\n",
       "0  Percent Margin of Error!!CITIZEN, VOTING AGE POPULATION!!Citizen, 18 and over population!!Female  \n",
       "1                                                 0.1                                                \n",
       "2                                                 0.1                                                \n",
       "3                                                 0.1                                                \n",
       "4                                                 0.1                                                \n",
       "5                                                 0.1                                                \n",
       "6                                                 0.1                                                \n",
       "7                                                 0.1                                                \n",
       "8                                                 0.1                                                \n",
       "9                                                 0.1                                                \n",
       "10                                                0.1                                                \n",
       "11                                                0.1                                                \n",
       "12                                                0.1                                                \n",
       "13                                                0.1                                                \n",
       "14                                                0.1                                                \n",
       "15                                                0.1                                                \n",
       "16                                                0.1                                                \n",
       "17                                                0.1                                                \n",
       "18                                                0.1                                                \n",
       "19                                                0.1                                                \n",
       "20                                                0.1                                                \n",
       "21                                                0.1                                                \n",
       "22                                                0.1                                                \n",
       "23                                                0.1                                                \n",
       "24                                                0.1                                                \n",
       "25                                                0.1                                                \n",
       "26                                                0.1                                                \n",
       "27                                                0.1                                                \n",
       "28                                                0.1                                                \n",
       "29                                                0.1                                                \n",
       "30                                                0.1                                                \n",
       "31                                                0.1                                                \n",
       "32                                                0.1                                                \n",
       "33                                                0.1                                                \n",
       "34                                                0.1                                                \n",
       "35                                                0.1                                                \n",
       "36                                                0.1                                                \n",
       "37                                                0.1                                                \n",
       "38                                                0.1                                                \n",
       "39                                                0.1                                                \n",
       "40                                                0.1                                                \n",
       "41                                                0.1                                                \n",
       "42                                                0.1                                                \n",
       "43                                                0.1                                                \n",
       "44                                                0.1                                                \n",
       "45                                                0.1                                                \n",
       "46                                                0.1                                                \n",
       "47                                                0.1                                                \n",
       "48                                                0.1                                                \n",
       "49                                                0.1                                                \n",
       "50                                                0.1                                                \n",
       "51                                                0.1                                                \n",
       "52                                                0.1                                                \n",
       "\n",
       "[52 rows x 358 columns]"
      ]
     },
     "execution_count": 26,
     "metadata": {},
     "output_type": "execute_result"
    }
   ],
   "source": [
    "# I downloaded California Demographic Data from the census website (https://data.census.gov) \n",
    "# for Race/Enthicity demographics by all zip codes in California\n",
    "\n",
    "# Create and load raw file for cleanup\n",
    "raw_states_byrace_df = pd.read_csv('../resources/raw_states_byrace.csv')\n",
    "raw_states_byrace_df\n",
    "\n",
    "# Drop first row since it is not a useful header:\n",
    "raw_states_byrace_df\n",
    "header_row = 0\n",
    "\n",
    "raw_states_byrace_df.columns = raw_states_byrace_df.iloc[header_row]\n",
    "raw_states_byrace_df\n",
    "\n",
    "raw_states_byrace_df = raw_states_byrace_df.drop(header_row)\n",
    "raw_states_byrace_df\n",
    "\n",
    "raw_states_byrace_df = raw_states_byrace_df.dropna(how='all') \n",
    "raw_states_byrace_df\n",
    "\n",
    "raw_states_byrace_df = raw_states_byrace_df.fillna(0) \n",
    "raw_states_byrace_df"
   ]
  },
  {
   "cell_type": "code",
   "execution_count": 27,
   "id": "80bce7f6-b15f-4bf7-9f49-5aafee89c066",
   "metadata": {},
   "outputs": [
    {
     "data": {
      "text/html": [
       "<div>\n",
       "<style scoped>\n",
       "    .dataframe tbody tr th:only-of-type {\n",
       "        vertical-align: middle;\n",
       "    }\n",
       "\n",
       "    .dataframe tbody tr th {\n",
       "        vertical-align: top;\n",
       "    }\n",
       "\n",
       "    .dataframe thead th {\n",
       "        text-align: right;\n",
       "    }\n",
       "</style>\n",
       "<table border=\"1\" class=\"dataframe\">\n",
       "  <thead>\n",
       "    <tr style=\"text-align: right;\">\n",
       "      <th></th>\n",
       "      <th>Geographic Area Name</th>\n",
       "      <th>Percent!!RACE!!Total population!!One race!!White</th>\n",
       "      <th>Percent!!RACE!!Total population!!One race!!Black or African American</th>\n",
       "      <th>Percent!!RACE!!Total population!!One race!!Asian</th>\n",
       "      <th>Percent!!HISPANIC OR LATINO AND RACE!!Total population!!Hispanic or Latino (of any race)</th>\n",
       "      <th>Percent!!RACE!!Total population!!One race!!American Indian and Alaska Native</th>\n",
       "    </tr>\n",
       "  </thead>\n",
       "  <tbody>\n",
       "    <tr>\n",
       "      <th>1</th>\n",
       "      <td>Alabama</td>\n",
       "      <td>68.1</td>\n",
       "      <td>26.6</td>\n",
       "      <td>1.4</td>\n",
       "      <td>4.3</td>\n",
       "      <td>0.5</td>\n",
       "    </tr>\n",
       "    <tr>\n",
       "      <th>2</th>\n",
       "      <td>Alaska</td>\n",
       "      <td>64.6</td>\n",
       "      <td>3.3</td>\n",
       "      <td>6.2</td>\n",
       "      <td>7.0</td>\n",
       "      <td>14.9</td>\n",
       "    </tr>\n",
       "    <tr>\n",
       "      <th>3</th>\n",
       "      <td>Arizona</td>\n",
       "      <td>77.2</td>\n",
       "      <td>4.5</td>\n",
       "      <td>3.3</td>\n",
       "      <td>31.3</td>\n",
       "      <td>4.5</td>\n",
       "    </tr>\n",
       "    <tr>\n",
       "      <th>4</th>\n",
       "      <td>Arkansas</td>\n",
       "      <td>76.7</td>\n",
       "      <td>15.3</td>\n",
       "      <td>1.5</td>\n",
       "      <td>7.5</td>\n",
       "      <td>0.7</td>\n",
       "    </tr>\n",
       "    <tr>\n",
       "      <th>5</th>\n",
       "      <td>California</td>\n",
       "      <td>59.7</td>\n",
       "      <td>5.8</td>\n",
       "      <td>14.5</td>\n",
       "      <td>39.0</td>\n",
       "      <td>0.8</td>\n",
       "    </tr>\n",
       "    <tr>\n",
       "      <th>6</th>\n",
       "      <td>Colorado</td>\n",
       "      <td>84.0</td>\n",
       "      <td>4.2</td>\n",
       "      <td>3.2</td>\n",
       "      <td>21.5</td>\n",
       "      <td>1.0</td>\n",
       "    </tr>\n",
       "    <tr>\n",
       "      <th>7</th>\n",
       "      <td>Connecticut</td>\n",
       "      <td>75.9</td>\n",
       "      <td>10.7</td>\n",
       "      <td>4.5</td>\n",
       "      <td>16.1</td>\n",
       "      <td>0.3</td>\n",
       "    </tr>\n",
       "    <tr>\n",
       "      <th>8</th>\n",
       "      <td>Delaware</td>\n",
       "      <td>68.8</td>\n",
       "      <td>22.2</td>\n",
       "      <td>3.9</td>\n",
       "      <td>9.2</td>\n",
       "      <td>0.4</td>\n",
       "    </tr>\n",
       "    <tr>\n",
       "      <th>9</th>\n",
       "      <td>District of Columbia</td>\n",
       "      <td>41.3</td>\n",
       "      <td>46.3</td>\n",
       "      <td>4.0</td>\n",
       "      <td>11.0</td>\n",
       "      <td>0.3</td>\n",
       "    </tr>\n",
       "    <tr>\n",
       "      <th>10</th>\n",
       "      <td>Florida</td>\n",
       "      <td>75.1</td>\n",
       "      <td>16.1</td>\n",
       "      <td>2.7</td>\n",
       "      <td>25.6</td>\n",
       "      <td>0.3</td>\n",
       "    </tr>\n",
       "    <tr>\n",
       "      <th>11</th>\n",
       "      <td>Georgia</td>\n",
       "      <td>58.6</td>\n",
       "      <td>31.6</td>\n",
       "      <td>4.0</td>\n",
       "      <td>9.5</td>\n",
       "      <td>0.4</td>\n",
       "    </tr>\n",
       "    <tr>\n",
       "      <th>12</th>\n",
       "      <td>Hawaii</td>\n",
       "      <td>25.0</td>\n",
       "      <td>1.8</td>\n",
       "      <td>37.8</td>\n",
       "      <td>10.5</td>\n",
       "      <td>0.3</td>\n",
       "    </tr>\n",
       "    <tr>\n",
       "      <th>13</th>\n",
       "      <td>Idaho</td>\n",
       "      <td>90.0</td>\n",
       "      <td>0.7</td>\n",
       "      <td>1.4</td>\n",
       "      <td>12.5</td>\n",
       "      <td>1.3</td>\n",
       "    </tr>\n",
       "    <tr>\n",
       "      <th>14</th>\n",
       "      <td>Illinois</td>\n",
       "      <td>71.5</td>\n",
       "      <td>14.2</td>\n",
       "      <td>5.5</td>\n",
       "      <td>17.1</td>\n",
       "      <td>0.3</td>\n",
       "    </tr>\n",
       "    <tr>\n",
       "      <th>15</th>\n",
       "      <td>Indiana</td>\n",
       "      <td>83.3</td>\n",
       "      <td>9.4</td>\n",
       "      <td>2.3</td>\n",
       "      <td>6.9</td>\n",
       "      <td>0.2</td>\n",
       "    </tr>\n",
       "    <tr>\n",
       "      <th>16</th>\n",
       "      <td>Iowa</td>\n",
       "      <td>90.0</td>\n",
       "      <td>3.7</td>\n",
       "      <td>2.4</td>\n",
       "      <td>6.0</td>\n",
       "      <td>0.4</td>\n",
       "    </tr>\n",
       "    <tr>\n",
       "      <th>17</th>\n",
       "      <td>Kansas</td>\n",
       "      <td>84.4</td>\n",
       "      <td>5.9</td>\n",
       "      <td>2.9</td>\n",
       "      <td>11.9</td>\n",
       "      <td>0.8</td>\n",
       "    </tr>\n",
       "    <tr>\n",
       "      <th>18</th>\n",
       "      <td>Kentucky</td>\n",
       "      <td>87.0</td>\n",
       "      <td>8.1</td>\n",
       "      <td>1.5</td>\n",
       "      <td>3.7</td>\n",
       "      <td>0.2</td>\n",
       "    </tr>\n",
       "    <tr>\n",
       "      <th>19</th>\n",
       "      <td>Louisiana</td>\n",
       "      <td>62.0</td>\n",
       "      <td>32.2</td>\n",
       "      <td>1.7</td>\n",
       "      <td>5.1</td>\n",
       "      <td>0.6</td>\n",
       "    </tr>\n",
       "    <tr>\n",
       "      <th>20</th>\n",
       "      <td>Maine</td>\n",
       "      <td>94.3</td>\n",
       "      <td>1.4</td>\n",
       "      <td>1.1</td>\n",
       "      <td>1.7</td>\n",
       "      <td>0.6</td>\n",
       "    </tr>\n",
       "    <tr>\n",
       "      <th>21</th>\n",
       "      <td>Maryland</td>\n",
       "      <td>55.5</td>\n",
       "      <td>29.9</td>\n",
       "      <td>6.3</td>\n",
       "      <td>10.1</td>\n",
       "      <td>0.3</td>\n",
       "    </tr>\n",
       "    <tr>\n",
       "      <th>22</th>\n",
       "      <td>Massachusetts</td>\n",
       "      <td>78.1</td>\n",
       "      <td>7.6</td>\n",
       "      <td>6.6</td>\n",
       "      <td>11.8</td>\n",
       "      <td>0.2</td>\n",
       "    </tr>\n",
       "    <tr>\n",
       "      <th>23</th>\n",
       "      <td>Michigan</td>\n",
       "      <td>78.4</td>\n",
       "      <td>13.8</td>\n",
       "      <td>3.1</td>\n",
       "      <td>5.1</td>\n",
       "      <td>0.5</td>\n",
       "    </tr>\n",
       "    <tr>\n",
       "      <th>24</th>\n",
       "      <td>Minnesota</td>\n",
       "      <td>82.8</td>\n",
       "      <td>6.4</td>\n",
       "      <td>4.8</td>\n",
       "      <td>5.4</td>\n",
       "      <td>1.0</td>\n",
       "    </tr>\n",
       "    <tr>\n",
       "      <th>25</th>\n",
       "      <td>Mississippi</td>\n",
       "      <td>58.4</td>\n",
       "      <td>37.7</td>\n",
       "      <td>1.0</td>\n",
       "      <td>3.1</td>\n",
       "      <td>0.5</td>\n",
       "    </tr>\n",
       "    <tr>\n",
       "      <th>26</th>\n",
       "      <td>Missouri</td>\n",
       "      <td>82.2</td>\n",
       "      <td>11.5</td>\n",
       "      <td>2.0</td>\n",
       "      <td>4.2</td>\n",
       "      <td>0.4</td>\n",
       "    </tr>\n",
       "    <tr>\n",
       "      <th>27</th>\n",
       "      <td>Montana</td>\n",
       "      <td>88.5</td>\n",
       "      <td>0.5</td>\n",
       "      <td>0.8</td>\n",
       "      <td>3.8</td>\n",
       "      <td>6.4</td>\n",
       "    </tr>\n",
       "    <tr>\n",
       "      <th>28</th>\n",
       "      <td>Nebraska</td>\n",
       "      <td>87.1</td>\n",
       "      <td>4.8</td>\n",
       "      <td>2.4</td>\n",
       "      <td>10.9</td>\n",
       "      <td>0.9</td>\n",
       "    </tr>\n",
       "    <tr>\n",
       "      <th>29</th>\n",
       "      <td>Nevada</td>\n",
       "      <td>65.6</td>\n",
       "      <td>9.1</td>\n",
       "      <td>8.2</td>\n",
       "      <td>28.7</td>\n",
       "      <td>1.3</td>\n",
       "    </tr>\n",
       "    <tr>\n",
       "      <th>30</th>\n",
       "      <td>New Hampshire</td>\n",
       "      <td>92.9</td>\n",
       "      <td>1.6</td>\n",
       "      <td>2.7</td>\n",
       "      <td>3.7</td>\n",
       "      <td>0.2</td>\n",
       "    </tr>\n",
       "    <tr>\n",
       "      <th>31</th>\n",
       "      <td>New Jersey</td>\n",
       "      <td>67.8</td>\n",
       "      <td>13.5</td>\n",
       "      <td>9.5</td>\n",
       "      <td>20.2</td>\n",
       "      <td>0.2</td>\n",
       "    </tr>\n",
       "    <tr>\n",
       "      <th>32</th>\n",
       "      <td>New Mexico</td>\n",
       "      <td>74.8</td>\n",
       "      <td>2.1</td>\n",
       "      <td>1.6</td>\n",
       "      <td>48.8</td>\n",
       "      <td>9.6</td>\n",
       "    </tr>\n",
       "    <tr>\n",
       "      <th>33</th>\n",
       "      <td>New York</td>\n",
       "      <td>63.7</td>\n",
       "      <td>15.7</td>\n",
       "      <td>8.4</td>\n",
       "      <td>19.0</td>\n",
       "      <td>0.4</td>\n",
       "    </tr>\n",
       "    <tr>\n",
       "      <th>34</th>\n",
       "      <td>North Carolina</td>\n",
       "      <td>68.7</td>\n",
       "      <td>21.4</td>\n",
       "      <td>2.9</td>\n",
       "      <td>9.4</td>\n",
       "      <td>1.2</td>\n",
       "    </tr>\n",
       "    <tr>\n",
       "      <th>35</th>\n",
       "      <td>North Dakota</td>\n",
       "      <td>86.6</td>\n",
       "      <td>2.9</td>\n",
       "      <td>1.5</td>\n",
       "      <td>3.7</td>\n",
       "      <td>5.3</td>\n",
       "    </tr>\n",
       "    <tr>\n",
       "      <th>36</th>\n",
       "      <td>Ohio</td>\n",
       "      <td>81.3</td>\n",
       "      <td>12.4</td>\n",
       "      <td>2.2</td>\n",
       "      <td>3.8</td>\n",
       "      <td>0.2</td>\n",
       "    </tr>\n",
       "    <tr>\n",
       "      <th>37</th>\n",
       "      <td>Oklahoma</td>\n",
       "      <td>72.3</td>\n",
       "      <td>7.3</td>\n",
       "      <td>2.2</td>\n",
       "      <td>10.6</td>\n",
       "      <td>7.6</td>\n",
       "    </tr>\n",
       "    <tr>\n",
       "      <th>38</th>\n",
       "      <td>Oregon</td>\n",
       "      <td>84.3</td>\n",
       "      <td>1.9</td>\n",
       "      <td>4.4</td>\n",
       "      <td>13.0</td>\n",
       "      <td>1.2</td>\n",
       "    </tr>\n",
       "    <tr>\n",
       "      <th>39</th>\n",
       "      <td>Pennsylvania</td>\n",
       "      <td>80.5</td>\n",
       "      <td>11.2</td>\n",
       "      <td>3.4</td>\n",
       "      <td>7.3</td>\n",
       "      <td>0.2</td>\n",
       "    </tr>\n",
       "    <tr>\n",
       "      <th>40</th>\n",
       "      <td>Rhode Island</td>\n",
       "      <td>80.5</td>\n",
       "      <td>6.8</td>\n",
       "      <td>3.4</td>\n",
       "      <td>15.4</td>\n",
       "      <td>0.5</td>\n",
       "    </tr>\n",
       "    <tr>\n",
       "      <th>41</th>\n",
       "      <td>South Carolina</td>\n",
       "      <td>67.2</td>\n",
       "      <td>26.8</td>\n",
       "      <td>1.6</td>\n",
       "      <td>5.7</td>\n",
       "      <td>0.4</td>\n",
       "    </tr>\n",
       "    <tr>\n",
       "      <th>42</th>\n",
       "      <td>South Dakota</td>\n",
       "      <td>84.3</td>\n",
       "      <td>2.0</td>\n",
       "      <td>1.5</td>\n",
       "      <td>3.8</td>\n",
       "      <td>8.8</td>\n",
       "    </tr>\n",
       "    <tr>\n",
       "      <th>43</th>\n",
       "      <td>Tennessee</td>\n",
       "      <td>77.6</td>\n",
       "      <td>16.8</td>\n",
       "      <td>1.8</td>\n",
       "      <td>5.4</td>\n",
       "      <td>0.3</td>\n",
       "    </tr>\n",
       "    <tr>\n",
       "      <th>44</th>\n",
       "      <td>Texas</td>\n",
       "      <td>74.0</td>\n",
       "      <td>12.1</td>\n",
       "      <td>4.8</td>\n",
       "      <td>39.3</td>\n",
       "      <td>0.5</td>\n",
       "    </tr>\n",
       "    <tr>\n",
       "      <th>45</th>\n",
       "      <td>Utah</td>\n",
       "      <td>86.4</td>\n",
       "      <td>1.2</td>\n",
       "      <td>2.3</td>\n",
       "      <td>14.0</td>\n",
       "      <td>1.1</td>\n",
       "    </tr>\n",
       "    <tr>\n",
       "      <th>46</th>\n",
       "      <td>Vermont</td>\n",
       "      <td>94.2</td>\n",
       "      <td>1.4</td>\n",
       "      <td>1.7</td>\n",
       "      <td>1.9</td>\n",
       "      <td>0.3</td>\n",
       "    </tr>\n",
       "    <tr>\n",
       "      <th>47</th>\n",
       "      <td>Virginia</td>\n",
       "      <td>67.6</td>\n",
       "      <td>19.2</td>\n",
       "      <td>6.4</td>\n",
       "      <td>9.4</td>\n",
       "      <td>0.3</td>\n",
       "    </tr>\n",
       "    <tr>\n",
       "      <th>48</th>\n",
       "      <td>Washington</td>\n",
       "      <td>75.4</td>\n",
       "      <td>3.8</td>\n",
       "      <td>8.5</td>\n",
       "      <td>12.7</td>\n",
       "      <td>1.3</td>\n",
       "    </tr>\n",
       "    <tr>\n",
       "      <th>49</th>\n",
       "      <td>West Virginia</td>\n",
       "      <td>93.1</td>\n",
       "      <td>3.7</td>\n",
       "      <td>0.8</td>\n",
       "      <td>1.6</td>\n",
       "      <td>0.2</td>\n",
       "    </tr>\n",
       "    <tr>\n",
       "      <th>50</th>\n",
       "      <td>Wisconsin</td>\n",
       "      <td>85.4</td>\n",
       "      <td>6.4</td>\n",
       "      <td>2.8</td>\n",
       "      <td>6.8</td>\n",
       "      <td>0.9</td>\n",
       "    </tr>\n",
       "    <tr>\n",
       "      <th>51</th>\n",
       "      <td>Wyoming</td>\n",
       "      <td>91.4</td>\n",
       "      <td>1.0</td>\n",
       "      <td>0.9</td>\n",
       "      <td>9.9</td>\n",
       "      <td>2.4</td>\n",
       "    </tr>\n",
       "    <tr>\n",
       "      <th>52</th>\n",
       "      <td>Puerto Rico</td>\n",
       "      <td>65.9</td>\n",
       "      <td>11.7</td>\n",
       "      <td>0.2</td>\n",
       "      <td>98.7</td>\n",
       "      <td>0.2</td>\n",
       "    </tr>\n",
       "  </tbody>\n",
       "</table>\n",
       "</div>"
      ],
      "text/plain": [
       "0   Geographic Area Name Percent!!RACE!!Total population!!One race!!White  \\\n",
       "1                Alabama                                             68.1   \n",
       "2                 Alaska                                             64.6   \n",
       "3                Arizona                                             77.2   \n",
       "4               Arkansas                                             76.7   \n",
       "5             California                                             59.7   \n",
       "6               Colorado                                             84.0   \n",
       "7            Connecticut                                             75.9   \n",
       "8               Delaware                                             68.8   \n",
       "9   District of Columbia                                             41.3   \n",
       "10               Florida                                             75.1   \n",
       "11               Georgia                                             58.6   \n",
       "12                Hawaii                                             25.0   \n",
       "13                 Idaho                                             90.0   \n",
       "14              Illinois                                             71.5   \n",
       "15               Indiana                                             83.3   \n",
       "16                  Iowa                                             90.0   \n",
       "17                Kansas                                             84.4   \n",
       "18              Kentucky                                             87.0   \n",
       "19             Louisiana                                             62.0   \n",
       "20                 Maine                                             94.3   \n",
       "21              Maryland                                             55.5   \n",
       "22         Massachusetts                                             78.1   \n",
       "23              Michigan                                             78.4   \n",
       "24             Minnesota                                             82.8   \n",
       "25           Mississippi                                             58.4   \n",
       "26              Missouri                                             82.2   \n",
       "27               Montana                                             88.5   \n",
       "28              Nebraska                                             87.1   \n",
       "29                Nevada                                             65.6   \n",
       "30         New Hampshire                                             92.9   \n",
       "31            New Jersey                                             67.8   \n",
       "32            New Mexico                                             74.8   \n",
       "33              New York                                             63.7   \n",
       "34        North Carolina                                             68.7   \n",
       "35          North Dakota                                             86.6   \n",
       "36                  Ohio                                             81.3   \n",
       "37              Oklahoma                                             72.3   \n",
       "38                Oregon                                             84.3   \n",
       "39          Pennsylvania                                             80.5   \n",
       "40          Rhode Island                                             80.5   \n",
       "41        South Carolina                                             67.2   \n",
       "42          South Dakota                                             84.3   \n",
       "43             Tennessee                                             77.6   \n",
       "44                 Texas                                             74.0   \n",
       "45                  Utah                                             86.4   \n",
       "46               Vermont                                             94.2   \n",
       "47              Virginia                                             67.6   \n",
       "48            Washington                                             75.4   \n",
       "49         West Virginia                                             93.1   \n",
       "50             Wisconsin                                             85.4   \n",
       "51               Wyoming                                             91.4   \n",
       "52           Puerto Rico                                             65.9   \n",
       "\n",
       "0  Percent!!RACE!!Total population!!One race!!Black or African American  \\\n",
       "1                                                26.6                     \n",
       "2                                                 3.3                     \n",
       "3                                                 4.5                     \n",
       "4                                                15.3                     \n",
       "5                                                 5.8                     \n",
       "6                                                 4.2                     \n",
       "7                                                10.7                     \n",
       "8                                                22.2                     \n",
       "9                                                46.3                     \n",
       "10                                               16.1                     \n",
       "11                                               31.6                     \n",
       "12                                                1.8                     \n",
       "13                                                0.7                     \n",
       "14                                               14.2                     \n",
       "15                                                9.4                     \n",
       "16                                                3.7                     \n",
       "17                                                5.9                     \n",
       "18                                                8.1                     \n",
       "19                                               32.2                     \n",
       "20                                                1.4                     \n",
       "21                                               29.9                     \n",
       "22                                                7.6                     \n",
       "23                                               13.8                     \n",
       "24                                                6.4                     \n",
       "25                                               37.7                     \n",
       "26                                               11.5                     \n",
       "27                                                0.5                     \n",
       "28                                                4.8                     \n",
       "29                                                9.1                     \n",
       "30                                                1.6                     \n",
       "31                                               13.5                     \n",
       "32                                                2.1                     \n",
       "33                                               15.7                     \n",
       "34                                               21.4                     \n",
       "35                                                2.9                     \n",
       "36                                               12.4                     \n",
       "37                                                7.3                     \n",
       "38                                                1.9                     \n",
       "39                                               11.2                     \n",
       "40                                                6.8                     \n",
       "41                                               26.8                     \n",
       "42                                                2.0                     \n",
       "43                                               16.8                     \n",
       "44                                               12.1                     \n",
       "45                                                1.2                     \n",
       "46                                                1.4                     \n",
       "47                                               19.2                     \n",
       "48                                                3.8                     \n",
       "49                                                3.7                     \n",
       "50                                                6.4                     \n",
       "51                                                1.0                     \n",
       "52                                               11.7                     \n",
       "\n",
       "0  Percent!!RACE!!Total population!!One race!!Asian  \\\n",
       "1                                               1.4   \n",
       "2                                               6.2   \n",
       "3                                               3.3   \n",
       "4                                               1.5   \n",
       "5                                              14.5   \n",
       "6                                               3.2   \n",
       "7                                               4.5   \n",
       "8                                               3.9   \n",
       "9                                               4.0   \n",
       "10                                              2.7   \n",
       "11                                              4.0   \n",
       "12                                             37.8   \n",
       "13                                              1.4   \n",
       "14                                              5.5   \n",
       "15                                              2.3   \n",
       "16                                              2.4   \n",
       "17                                              2.9   \n",
       "18                                              1.5   \n",
       "19                                              1.7   \n",
       "20                                              1.1   \n",
       "21                                              6.3   \n",
       "22                                              6.6   \n",
       "23                                              3.1   \n",
       "24                                              4.8   \n",
       "25                                              1.0   \n",
       "26                                              2.0   \n",
       "27                                              0.8   \n",
       "28                                              2.4   \n",
       "29                                              8.2   \n",
       "30                                              2.7   \n",
       "31                                              9.5   \n",
       "32                                              1.6   \n",
       "33                                              8.4   \n",
       "34                                              2.9   \n",
       "35                                              1.5   \n",
       "36                                              2.2   \n",
       "37                                              2.2   \n",
       "38                                              4.4   \n",
       "39                                              3.4   \n",
       "40                                              3.4   \n",
       "41                                              1.6   \n",
       "42                                              1.5   \n",
       "43                                              1.8   \n",
       "44                                              4.8   \n",
       "45                                              2.3   \n",
       "46                                              1.7   \n",
       "47                                              6.4   \n",
       "48                                              8.5   \n",
       "49                                              0.8   \n",
       "50                                              2.8   \n",
       "51                                              0.9   \n",
       "52                                              0.2   \n",
       "\n",
       "0  Percent!!HISPANIC OR LATINO AND RACE!!Total population!!Hispanic or Latino (of any race)  \\\n",
       "1                                                 4.3                                         \n",
       "2                                                 7.0                                         \n",
       "3                                                31.3                                         \n",
       "4                                                 7.5                                         \n",
       "5                                                39.0                                         \n",
       "6                                                21.5                                         \n",
       "7                                                16.1                                         \n",
       "8                                                 9.2                                         \n",
       "9                                                11.0                                         \n",
       "10                                               25.6                                         \n",
       "11                                                9.5                                         \n",
       "12                                               10.5                                         \n",
       "13                                               12.5                                         \n",
       "14                                               17.1                                         \n",
       "15                                                6.9                                         \n",
       "16                                                6.0                                         \n",
       "17                                               11.9                                         \n",
       "18                                                3.7                                         \n",
       "19                                                5.1                                         \n",
       "20                                                1.7                                         \n",
       "21                                               10.1                                         \n",
       "22                                               11.8                                         \n",
       "23                                                5.1                                         \n",
       "24                                                5.4                                         \n",
       "25                                                3.1                                         \n",
       "26                                                4.2                                         \n",
       "27                                                3.8                                         \n",
       "28                                               10.9                                         \n",
       "29                                               28.7                                         \n",
       "30                                                3.7                                         \n",
       "31                                               20.2                                         \n",
       "32                                               48.8                                         \n",
       "33                                               19.0                                         \n",
       "34                                                9.4                                         \n",
       "35                                                3.7                                         \n",
       "36                                                3.8                                         \n",
       "37                                               10.6                                         \n",
       "38                                               13.0                                         \n",
       "39                                                7.3                                         \n",
       "40                                               15.4                                         \n",
       "41                                                5.7                                         \n",
       "42                                                3.8                                         \n",
       "43                                                5.4                                         \n",
       "44                                               39.3                                         \n",
       "45                                               14.0                                         \n",
       "46                                                1.9                                         \n",
       "47                                                9.4                                         \n",
       "48                                               12.7                                         \n",
       "49                                                1.6                                         \n",
       "50                                                6.8                                         \n",
       "51                                                9.9                                         \n",
       "52                                               98.7                                         \n",
       "\n",
       "0  Percent!!RACE!!Total population!!One race!!American Indian and Alaska Native  \n",
       "1                                                 0.5                            \n",
       "2                                                14.9                            \n",
       "3                                                 4.5                            \n",
       "4                                                 0.7                            \n",
       "5                                                 0.8                            \n",
       "6                                                 1.0                            \n",
       "7                                                 0.3                            \n",
       "8                                                 0.4                            \n",
       "9                                                 0.3                            \n",
       "10                                                0.3                            \n",
       "11                                                0.4                            \n",
       "12                                                0.3                            \n",
       "13                                                1.3                            \n",
       "14                                                0.3                            \n",
       "15                                                0.2                            \n",
       "16                                                0.4                            \n",
       "17                                                0.8                            \n",
       "18                                                0.2                            \n",
       "19                                                0.6                            \n",
       "20                                                0.6                            \n",
       "21                                                0.3                            \n",
       "22                                                0.2                            \n",
       "23                                                0.5                            \n",
       "24                                                1.0                            \n",
       "25                                                0.5                            \n",
       "26                                                0.4                            \n",
       "27                                                6.4                            \n",
       "28                                                0.9                            \n",
       "29                                                1.3                            \n",
       "30                                                0.2                            \n",
       "31                                                0.2                            \n",
       "32                                                9.6                            \n",
       "33                                                0.4                            \n",
       "34                                                1.2                            \n",
       "35                                                5.3                            \n",
       "36                                                0.2                            \n",
       "37                                                7.6                            \n",
       "38                                                1.2                            \n",
       "39                                                0.2                            \n",
       "40                                                0.5                            \n",
       "41                                                0.4                            \n",
       "42                                                8.8                            \n",
       "43                                                0.3                            \n",
       "44                                                0.5                            \n",
       "45                                                1.1                            \n",
       "46                                                0.3                            \n",
       "47                                                0.3                            \n",
       "48                                                1.3                            \n",
       "49                                                0.2                            \n",
       "50                                                0.9                            \n",
       "51                                                2.4                            \n",
       "52                                                0.2                            "
      ]
     },
     "execution_count": 27,
     "metadata": {},
     "output_type": "execute_result"
    }
   ],
   "source": [
    "#Select/Filter pertinent columns\n",
    "raw_states_byrace_df = raw_states_byrace_df[['Geographic Area Name',                                              \n",
    "               'Percent!!RACE!!Total population!!One race!!White', \n",
    "               'Percent!!RACE!!Total population!!One race!!Black or African American', \n",
    "               'Percent!!RACE!!Total population!!One race!!Asian',\n",
    "               'Percent!!HISPANIC OR LATINO AND RACE!!Total population!!Hispanic or Latino (of any race)',\n",
    "               'Percent!!RACE!!Total population!!One race!!American Indian and Alaska Native']]\n",
    "\n",
    "raw_states_byrace_df"
   ]
  },
  {
   "cell_type": "code",
   "execution_count": 28,
   "id": "3c3dbc4c-e114-4063-82ec-da8d1773824c",
   "metadata": {},
   "outputs": [
    {
     "data": {
      "text/html": [
       "<div>\n",
       "<style scoped>\n",
       "    .dataframe tbody tr th:only-of-type {\n",
       "        vertical-align: middle;\n",
       "    }\n",
       "\n",
       "    .dataframe tbody tr th {\n",
       "        vertical-align: top;\n",
       "    }\n",
       "\n",
       "    .dataframe thead th {\n",
       "        text-align: right;\n",
       "    }\n",
       "</style>\n",
       "<table border=\"1\" class=\"dataframe\">\n",
       "  <thead>\n",
       "    <tr style=\"text-align: right;\">\n",
       "      <th></th>\n",
       "      <th>state_name</th>\n",
       "      <th>Percentage White</th>\n",
       "      <th>Percentage Black or African American</th>\n",
       "      <th>Percentage Asian</th>\n",
       "      <th>Percentage Hispanic or Latino</th>\n",
       "      <th>Percentage Native American</th>\n",
       "    </tr>\n",
       "  </thead>\n",
       "  <tbody>\n",
       "    <tr>\n",
       "      <th>1</th>\n",
       "      <td>Alabama</td>\n",
       "      <td>68.1</td>\n",
       "      <td>26.6</td>\n",
       "      <td>1.4</td>\n",
       "      <td>4.3</td>\n",
       "      <td>0.5</td>\n",
       "    </tr>\n",
       "    <tr>\n",
       "      <th>2</th>\n",
       "      <td>Alaska</td>\n",
       "      <td>64.6</td>\n",
       "      <td>3.3</td>\n",
       "      <td>6.2</td>\n",
       "      <td>7.0</td>\n",
       "      <td>14.9</td>\n",
       "    </tr>\n",
       "    <tr>\n",
       "      <th>3</th>\n",
       "      <td>Arizona</td>\n",
       "      <td>77.2</td>\n",
       "      <td>4.5</td>\n",
       "      <td>3.3</td>\n",
       "      <td>31.3</td>\n",
       "      <td>4.5</td>\n",
       "    </tr>\n",
       "    <tr>\n",
       "      <th>4</th>\n",
       "      <td>Arkansas</td>\n",
       "      <td>76.7</td>\n",
       "      <td>15.3</td>\n",
       "      <td>1.5</td>\n",
       "      <td>7.5</td>\n",
       "      <td>0.7</td>\n",
       "    </tr>\n",
       "    <tr>\n",
       "      <th>5</th>\n",
       "      <td>California</td>\n",
       "      <td>59.7</td>\n",
       "      <td>5.8</td>\n",
       "      <td>14.5</td>\n",
       "      <td>39.0</td>\n",
       "      <td>0.8</td>\n",
       "    </tr>\n",
       "    <tr>\n",
       "      <th>6</th>\n",
       "      <td>Colorado</td>\n",
       "      <td>84.0</td>\n",
       "      <td>4.2</td>\n",
       "      <td>3.2</td>\n",
       "      <td>21.5</td>\n",
       "      <td>1.0</td>\n",
       "    </tr>\n",
       "    <tr>\n",
       "      <th>7</th>\n",
       "      <td>Connecticut</td>\n",
       "      <td>75.9</td>\n",
       "      <td>10.7</td>\n",
       "      <td>4.5</td>\n",
       "      <td>16.1</td>\n",
       "      <td>0.3</td>\n",
       "    </tr>\n",
       "    <tr>\n",
       "      <th>8</th>\n",
       "      <td>Delaware</td>\n",
       "      <td>68.8</td>\n",
       "      <td>22.2</td>\n",
       "      <td>3.9</td>\n",
       "      <td>9.2</td>\n",
       "      <td>0.4</td>\n",
       "    </tr>\n",
       "    <tr>\n",
       "      <th>9</th>\n",
       "      <td>District of Columbia</td>\n",
       "      <td>41.3</td>\n",
       "      <td>46.3</td>\n",
       "      <td>4.0</td>\n",
       "      <td>11.0</td>\n",
       "      <td>0.3</td>\n",
       "    </tr>\n",
       "    <tr>\n",
       "      <th>10</th>\n",
       "      <td>Florida</td>\n",
       "      <td>75.1</td>\n",
       "      <td>16.1</td>\n",
       "      <td>2.7</td>\n",
       "      <td>25.6</td>\n",
       "      <td>0.3</td>\n",
       "    </tr>\n",
       "    <tr>\n",
       "      <th>11</th>\n",
       "      <td>Georgia</td>\n",
       "      <td>58.6</td>\n",
       "      <td>31.6</td>\n",
       "      <td>4.0</td>\n",
       "      <td>9.5</td>\n",
       "      <td>0.4</td>\n",
       "    </tr>\n",
       "    <tr>\n",
       "      <th>12</th>\n",
       "      <td>Hawaii</td>\n",
       "      <td>25.0</td>\n",
       "      <td>1.8</td>\n",
       "      <td>37.8</td>\n",
       "      <td>10.5</td>\n",
       "      <td>0.3</td>\n",
       "    </tr>\n",
       "    <tr>\n",
       "      <th>13</th>\n",
       "      <td>Idaho</td>\n",
       "      <td>90.0</td>\n",
       "      <td>0.7</td>\n",
       "      <td>1.4</td>\n",
       "      <td>12.5</td>\n",
       "      <td>1.3</td>\n",
       "    </tr>\n",
       "    <tr>\n",
       "      <th>14</th>\n",
       "      <td>Illinois</td>\n",
       "      <td>71.5</td>\n",
       "      <td>14.2</td>\n",
       "      <td>5.5</td>\n",
       "      <td>17.1</td>\n",
       "      <td>0.3</td>\n",
       "    </tr>\n",
       "    <tr>\n",
       "      <th>15</th>\n",
       "      <td>Indiana</td>\n",
       "      <td>83.3</td>\n",
       "      <td>9.4</td>\n",
       "      <td>2.3</td>\n",
       "      <td>6.9</td>\n",
       "      <td>0.2</td>\n",
       "    </tr>\n",
       "    <tr>\n",
       "      <th>16</th>\n",
       "      <td>Iowa</td>\n",
       "      <td>90.0</td>\n",
       "      <td>3.7</td>\n",
       "      <td>2.4</td>\n",
       "      <td>6.0</td>\n",
       "      <td>0.4</td>\n",
       "    </tr>\n",
       "    <tr>\n",
       "      <th>17</th>\n",
       "      <td>Kansas</td>\n",
       "      <td>84.4</td>\n",
       "      <td>5.9</td>\n",
       "      <td>2.9</td>\n",
       "      <td>11.9</td>\n",
       "      <td>0.8</td>\n",
       "    </tr>\n",
       "    <tr>\n",
       "      <th>18</th>\n",
       "      <td>Kentucky</td>\n",
       "      <td>87.0</td>\n",
       "      <td>8.1</td>\n",
       "      <td>1.5</td>\n",
       "      <td>3.7</td>\n",
       "      <td>0.2</td>\n",
       "    </tr>\n",
       "    <tr>\n",
       "      <th>19</th>\n",
       "      <td>Louisiana</td>\n",
       "      <td>62.0</td>\n",
       "      <td>32.2</td>\n",
       "      <td>1.7</td>\n",
       "      <td>5.1</td>\n",
       "      <td>0.6</td>\n",
       "    </tr>\n",
       "    <tr>\n",
       "      <th>20</th>\n",
       "      <td>Maine</td>\n",
       "      <td>94.3</td>\n",
       "      <td>1.4</td>\n",
       "      <td>1.1</td>\n",
       "      <td>1.7</td>\n",
       "      <td>0.6</td>\n",
       "    </tr>\n",
       "    <tr>\n",
       "      <th>21</th>\n",
       "      <td>Maryland</td>\n",
       "      <td>55.5</td>\n",
       "      <td>29.9</td>\n",
       "      <td>6.3</td>\n",
       "      <td>10.1</td>\n",
       "      <td>0.3</td>\n",
       "    </tr>\n",
       "    <tr>\n",
       "      <th>22</th>\n",
       "      <td>Massachusetts</td>\n",
       "      <td>78.1</td>\n",
       "      <td>7.6</td>\n",
       "      <td>6.6</td>\n",
       "      <td>11.8</td>\n",
       "      <td>0.2</td>\n",
       "    </tr>\n",
       "    <tr>\n",
       "      <th>23</th>\n",
       "      <td>Michigan</td>\n",
       "      <td>78.4</td>\n",
       "      <td>13.8</td>\n",
       "      <td>3.1</td>\n",
       "      <td>5.1</td>\n",
       "      <td>0.5</td>\n",
       "    </tr>\n",
       "    <tr>\n",
       "      <th>24</th>\n",
       "      <td>Minnesota</td>\n",
       "      <td>82.8</td>\n",
       "      <td>6.4</td>\n",
       "      <td>4.8</td>\n",
       "      <td>5.4</td>\n",
       "      <td>1.0</td>\n",
       "    </tr>\n",
       "    <tr>\n",
       "      <th>25</th>\n",
       "      <td>Mississippi</td>\n",
       "      <td>58.4</td>\n",
       "      <td>37.7</td>\n",
       "      <td>1.0</td>\n",
       "      <td>3.1</td>\n",
       "      <td>0.5</td>\n",
       "    </tr>\n",
       "    <tr>\n",
       "      <th>26</th>\n",
       "      <td>Missouri</td>\n",
       "      <td>82.2</td>\n",
       "      <td>11.5</td>\n",
       "      <td>2.0</td>\n",
       "      <td>4.2</td>\n",
       "      <td>0.4</td>\n",
       "    </tr>\n",
       "    <tr>\n",
       "      <th>27</th>\n",
       "      <td>Montana</td>\n",
       "      <td>88.5</td>\n",
       "      <td>0.5</td>\n",
       "      <td>0.8</td>\n",
       "      <td>3.8</td>\n",
       "      <td>6.4</td>\n",
       "    </tr>\n",
       "    <tr>\n",
       "      <th>28</th>\n",
       "      <td>Nebraska</td>\n",
       "      <td>87.1</td>\n",
       "      <td>4.8</td>\n",
       "      <td>2.4</td>\n",
       "      <td>10.9</td>\n",
       "      <td>0.9</td>\n",
       "    </tr>\n",
       "    <tr>\n",
       "      <th>29</th>\n",
       "      <td>Nevada</td>\n",
       "      <td>65.6</td>\n",
       "      <td>9.1</td>\n",
       "      <td>8.2</td>\n",
       "      <td>28.7</td>\n",
       "      <td>1.3</td>\n",
       "    </tr>\n",
       "    <tr>\n",
       "      <th>30</th>\n",
       "      <td>New Hampshire</td>\n",
       "      <td>92.9</td>\n",
       "      <td>1.6</td>\n",
       "      <td>2.7</td>\n",
       "      <td>3.7</td>\n",
       "      <td>0.2</td>\n",
       "    </tr>\n",
       "    <tr>\n",
       "      <th>31</th>\n",
       "      <td>New Jersey</td>\n",
       "      <td>67.8</td>\n",
       "      <td>13.5</td>\n",
       "      <td>9.5</td>\n",
       "      <td>20.2</td>\n",
       "      <td>0.2</td>\n",
       "    </tr>\n",
       "    <tr>\n",
       "      <th>32</th>\n",
       "      <td>New Mexico</td>\n",
       "      <td>74.8</td>\n",
       "      <td>2.1</td>\n",
       "      <td>1.6</td>\n",
       "      <td>48.8</td>\n",
       "      <td>9.6</td>\n",
       "    </tr>\n",
       "    <tr>\n",
       "      <th>33</th>\n",
       "      <td>New York</td>\n",
       "      <td>63.7</td>\n",
       "      <td>15.7</td>\n",
       "      <td>8.4</td>\n",
       "      <td>19.0</td>\n",
       "      <td>0.4</td>\n",
       "    </tr>\n",
       "    <tr>\n",
       "      <th>34</th>\n",
       "      <td>North Carolina</td>\n",
       "      <td>68.7</td>\n",
       "      <td>21.4</td>\n",
       "      <td>2.9</td>\n",
       "      <td>9.4</td>\n",
       "      <td>1.2</td>\n",
       "    </tr>\n",
       "    <tr>\n",
       "      <th>35</th>\n",
       "      <td>North Dakota</td>\n",
       "      <td>86.6</td>\n",
       "      <td>2.9</td>\n",
       "      <td>1.5</td>\n",
       "      <td>3.7</td>\n",
       "      <td>5.3</td>\n",
       "    </tr>\n",
       "    <tr>\n",
       "      <th>36</th>\n",
       "      <td>Ohio</td>\n",
       "      <td>81.3</td>\n",
       "      <td>12.4</td>\n",
       "      <td>2.2</td>\n",
       "      <td>3.8</td>\n",
       "      <td>0.2</td>\n",
       "    </tr>\n",
       "    <tr>\n",
       "      <th>37</th>\n",
       "      <td>Oklahoma</td>\n",
       "      <td>72.3</td>\n",
       "      <td>7.3</td>\n",
       "      <td>2.2</td>\n",
       "      <td>10.6</td>\n",
       "      <td>7.6</td>\n",
       "    </tr>\n",
       "    <tr>\n",
       "      <th>38</th>\n",
       "      <td>Oregon</td>\n",
       "      <td>84.3</td>\n",
       "      <td>1.9</td>\n",
       "      <td>4.4</td>\n",
       "      <td>13.0</td>\n",
       "      <td>1.2</td>\n",
       "    </tr>\n",
       "    <tr>\n",
       "      <th>39</th>\n",
       "      <td>Pennsylvania</td>\n",
       "      <td>80.5</td>\n",
       "      <td>11.2</td>\n",
       "      <td>3.4</td>\n",
       "      <td>7.3</td>\n",
       "      <td>0.2</td>\n",
       "    </tr>\n",
       "    <tr>\n",
       "      <th>40</th>\n",
       "      <td>Rhode Island</td>\n",
       "      <td>80.5</td>\n",
       "      <td>6.8</td>\n",
       "      <td>3.4</td>\n",
       "      <td>15.4</td>\n",
       "      <td>0.5</td>\n",
       "    </tr>\n",
       "    <tr>\n",
       "      <th>41</th>\n",
       "      <td>South Carolina</td>\n",
       "      <td>67.2</td>\n",
       "      <td>26.8</td>\n",
       "      <td>1.6</td>\n",
       "      <td>5.7</td>\n",
       "      <td>0.4</td>\n",
       "    </tr>\n",
       "    <tr>\n",
       "      <th>42</th>\n",
       "      <td>South Dakota</td>\n",
       "      <td>84.3</td>\n",
       "      <td>2.0</td>\n",
       "      <td>1.5</td>\n",
       "      <td>3.8</td>\n",
       "      <td>8.8</td>\n",
       "    </tr>\n",
       "    <tr>\n",
       "      <th>43</th>\n",
       "      <td>Tennessee</td>\n",
       "      <td>77.6</td>\n",
       "      <td>16.8</td>\n",
       "      <td>1.8</td>\n",
       "      <td>5.4</td>\n",
       "      <td>0.3</td>\n",
       "    </tr>\n",
       "    <tr>\n",
       "      <th>44</th>\n",
       "      <td>Texas</td>\n",
       "      <td>74.0</td>\n",
       "      <td>12.1</td>\n",
       "      <td>4.8</td>\n",
       "      <td>39.3</td>\n",
       "      <td>0.5</td>\n",
       "    </tr>\n",
       "    <tr>\n",
       "      <th>45</th>\n",
       "      <td>Utah</td>\n",
       "      <td>86.4</td>\n",
       "      <td>1.2</td>\n",
       "      <td>2.3</td>\n",
       "      <td>14.0</td>\n",
       "      <td>1.1</td>\n",
       "    </tr>\n",
       "    <tr>\n",
       "      <th>46</th>\n",
       "      <td>Vermont</td>\n",
       "      <td>94.2</td>\n",
       "      <td>1.4</td>\n",
       "      <td>1.7</td>\n",
       "      <td>1.9</td>\n",
       "      <td>0.3</td>\n",
       "    </tr>\n",
       "    <tr>\n",
       "      <th>47</th>\n",
       "      <td>Virginia</td>\n",
       "      <td>67.6</td>\n",
       "      <td>19.2</td>\n",
       "      <td>6.4</td>\n",
       "      <td>9.4</td>\n",
       "      <td>0.3</td>\n",
       "    </tr>\n",
       "    <tr>\n",
       "      <th>48</th>\n",
       "      <td>Washington</td>\n",
       "      <td>75.4</td>\n",
       "      <td>3.8</td>\n",
       "      <td>8.5</td>\n",
       "      <td>12.7</td>\n",
       "      <td>1.3</td>\n",
       "    </tr>\n",
       "    <tr>\n",
       "      <th>49</th>\n",
       "      <td>West Virginia</td>\n",
       "      <td>93.1</td>\n",
       "      <td>3.7</td>\n",
       "      <td>0.8</td>\n",
       "      <td>1.6</td>\n",
       "      <td>0.2</td>\n",
       "    </tr>\n",
       "    <tr>\n",
       "      <th>50</th>\n",
       "      <td>Wisconsin</td>\n",
       "      <td>85.4</td>\n",
       "      <td>6.4</td>\n",
       "      <td>2.8</td>\n",
       "      <td>6.8</td>\n",
       "      <td>0.9</td>\n",
       "    </tr>\n",
       "    <tr>\n",
       "      <th>51</th>\n",
       "      <td>Wyoming</td>\n",
       "      <td>91.4</td>\n",
       "      <td>1.0</td>\n",
       "      <td>0.9</td>\n",
       "      <td>9.9</td>\n",
       "      <td>2.4</td>\n",
       "    </tr>\n",
       "    <tr>\n",
       "      <th>52</th>\n",
       "      <td>Puerto Rico</td>\n",
       "      <td>65.9</td>\n",
       "      <td>11.7</td>\n",
       "      <td>0.2</td>\n",
       "      <td>98.7</td>\n",
       "      <td>0.2</td>\n",
       "    </tr>\n",
       "  </tbody>\n",
       "</table>\n",
       "</div>"
      ],
      "text/plain": [
       "0             state_name Percentage White  \\\n",
       "1                Alabama             68.1   \n",
       "2                 Alaska             64.6   \n",
       "3                Arizona             77.2   \n",
       "4               Arkansas             76.7   \n",
       "5             California             59.7   \n",
       "6               Colorado             84.0   \n",
       "7            Connecticut             75.9   \n",
       "8               Delaware             68.8   \n",
       "9   District of Columbia             41.3   \n",
       "10               Florida             75.1   \n",
       "11               Georgia             58.6   \n",
       "12                Hawaii             25.0   \n",
       "13                 Idaho             90.0   \n",
       "14              Illinois             71.5   \n",
       "15               Indiana             83.3   \n",
       "16                  Iowa             90.0   \n",
       "17                Kansas             84.4   \n",
       "18              Kentucky             87.0   \n",
       "19             Louisiana             62.0   \n",
       "20                 Maine             94.3   \n",
       "21              Maryland             55.5   \n",
       "22         Massachusetts             78.1   \n",
       "23              Michigan             78.4   \n",
       "24             Minnesota             82.8   \n",
       "25           Mississippi             58.4   \n",
       "26              Missouri             82.2   \n",
       "27               Montana             88.5   \n",
       "28              Nebraska             87.1   \n",
       "29                Nevada             65.6   \n",
       "30         New Hampshire             92.9   \n",
       "31            New Jersey             67.8   \n",
       "32            New Mexico             74.8   \n",
       "33              New York             63.7   \n",
       "34        North Carolina             68.7   \n",
       "35          North Dakota             86.6   \n",
       "36                  Ohio             81.3   \n",
       "37              Oklahoma             72.3   \n",
       "38                Oregon             84.3   \n",
       "39          Pennsylvania             80.5   \n",
       "40          Rhode Island             80.5   \n",
       "41        South Carolina             67.2   \n",
       "42          South Dakota             84.3   \n",
       "43             Tennessee             77.6   \n",
       "44                 Texas             74.0   \n",
       "45                  Utah             86.4   \n",
       "46               Vermont             94.2   \n",
       "47              Virginia             67.6   \n",
       "48            Washington             75.4   \n",
       "49         West Virginia             93.1   \n",
       "50             Wisconsin             85.4   \n",
       "51               Wyoming             91.4   \n",
       "52           Puerto Rico             65.9   \n",
       "\n",
       "0  Percentage Black or African American Percentage Asian  \\\n",
       "1                                  26.6              1.4   \n",
       "2                                   3.3              6.2   \n",
       "3                                   4.5              3.3   \n",
       "4                                  15.3              1.5   \n",
       "5                                   5.8             14.5   \n",
       "6                                   4.2              3.2   \n",
       "7                                  10.7              4.5   \n",
       "8                                  22.2              3.9   \n",
       "9                                  46.3              4.0   \n",
       "10                                 16.1              2.7   \n",
       "11                                 31.6              4.0   \n",
       "12                                  1.8             37.8   \n",
       "13                                  0.7              1.4   \n",
       "14                                 14.2              5.5   \n",
       "15                                  9.4              2.3   \n",
       "16                                  3.7              2.4   \n",
       "17                                  5.9              2.9   \n",
       "18                                  8.1              1.5   \n",
       "19                                 32.2              1.7   \n",
       "20                                  1.4              1.1   \n",
       "21                                 29.9              6.3   \n",
       "22                                  7.6              6.6   \n",
       "23                                 13.8              3.1   \n",
       "24                                  6.4              4.8   \n",
       "25                                 37.7              1.0   \n",
       "26                                 11.5              2.0   \n",
       "27                                  0.5              0.8   \n",
       "28                                  4.8              2.4   \n",
       "29                                  9.1              8.2   \n",
       "30                                  1.6              2.7   \n",
       "31                                 13.5              9.5   \n",
       "32                                  2.1              1.6   \n",
       "33                                 15.7              8.4   \n",
       "34                                 21.4              2.9   \n",
       "35                                  2.9              1.5   \n",
       "36                                 12.4              2.2   \n",
       "37                                  7.3              2.2   \n",
       "38                                  1.9              4.4   \n",
       "39                                 11.2              3.4   \n",
       "40                                  6.8              3.4   \n",
       "41                                 26.8              1.6   \n",
       "42                                  2.0              1.5   \n",
       "43                                 16.8              1.8   \n",
       "44                                 12.1              4.8   \n",
       "45                                  1.2              2.3   \n",
       "46                                  1.4              1.7   \n",
       "47                                 19.2              6.4   \n",
       "48                                  3.8              8.5   \n",
       "49                                  3.7              0.8   \n",
       "50                                  6.4              2.8   \n",
       "51                                  1.0              0.9   \n",
       "52                                 11.7              0.2   \n",
       "\n",
       "0  Percentage Hispanic or Latino Percentage Native American  \n",
       "1                            4.3                        0.5  \n",
       "2                            7.0                       14.9  \n",
       "3                           31.3                        4.5  \n",
       "4                            7.5                        0.7  \n",
       "5                           39.0                        0.8  \n",
       "6                           21.5                        1.0  \n",
       "7                           16.1                        0.3  \n",
       "8                            9.2                        0.4  \n",
       "9                           11.0                        0.3  \n",
       "10                          25.6                        0.3  \n",
       "11                           9.5                        0.4  \n",
       "12                          10.5                        0.3  \n",
       "13                          12.5                        1.3  \n",
       "14                          17.1                        0.3  \n",
       "15                           6.9                        0.2  \n",
       "16                           6.0                        0.4  \n",
       "17                          11.9                        0.8  \n",
       "18                           3.7                        0.2  \n",
       "19                           5.1                        0.6  \n",
       "20                           1.7                        0.6  \n",
       "21                          10.1                        0.3  \n",
       "22                          11.8                        0.2  \n",
       "23                           5.1                        0.5  \n",
       "24                           5.4                        1.0  \n",
       "25                           3.1                        0.5  \n",
       "26                           4.2                        0.4  \n",
       "27                           3.8                        6.4  \n",
       "28                          10.9                        0.9  \n",
       "29                          28.7                        1.3  \n",
       "30                           3.7                        0.2  \n",
       "31                          20.2                        0.2  \n",
       "32                          48.8                        9.6  \n",
       "33                          19.0                        0.4  \n",
       "34                           9.4                        1.2  \n",
       "35                           3.7                        5.3  \n",
       "36                           3.8                        0.2  \n",
       "37                          10.6                        7.6  \n",
       "38                          13.0                        1.2  \n",
       "39                           7.3                        0.2  \n",
       "40                          15.4                        0.5  \n",
       "41                           5.7                        0.4  \n",
       "42                           3.8                        8.8  \n",
       "43                           5.4                        0.3  \n",
       "44                          39.3                        0.5  \n",
       "45                          14.0                        1.1  \n",
       "46                           1.9                        0.3  \n",
       "47                           9.4                        0.3  \n",
       "48                          12.7                        1.3  \n",
       "49                           1.6                        0.2  \n",
       "50                           6.8                        0.9  \n",
       "51                           9.9                        2.4  \n",
       "52                          98.7                        0.2  "
      ]
     },
     "execution_count": 28,
     "metadata": {},
     "output_type": "execute_result"
    }
   ],
   "source": [
    "raw_states_byrace_df = raw_states_byrace_df.rename(columns={'Geographic Area Name':'state_name', \n",
    "               'Percent!!RACE!!Total population!!One race!!White':'Percentage White', \n",
    "               'Percent!!RACE!!Total population!!One race!!Black or African American':'Percentage Black or African American', \n",
    "               'Percent!!RACE!!Total population!!One race!!Asian':'Percentage Asian',\n",
    "               'Percent!!HISPANIC OR LATINO AND RACE!!Total population!!Hispanic or Latino (of any race)':'Percentage Hispanic or Latino',\n",
    "               'Percent!!RACE!!Total population!!One race!!American Indian and Alaska Native':'Percentage Native American'})\n",
    "raw_states_byrace_df"
   ]
  },
  {
   "cell_type": "code",
   "execution_count": 29,
   "id": "ed76a840-4392-4513-bbf0-1e4c01d966cf",
   "metadata": {},
   "outputs": [
    {
     "data": {
      "text/plain": [
       "0\n",
       "state_name                               object\n",
       "Percentage White                        float64\n",
       "Percentage Black or African American    float64\n",
       "Percentage Asian                        float64\n",
       "Percentage Hispanic or Latino           float64\n",
       "Percentage Native American              float64\n",
       "dtype: object"
      ]
     },
     "execution_count": 29,
     "metadata": {},
     "output_type": "execute_result"
    }
   ],
   "source": [
    "raw_states_byrace_df.replace(to_replace='-',\n",
    "                        value=0,\n",
    "                        inplace=True,\n",
    "                        limit=None,\n",
    "                        regex=False,\n",
    "                        method='pad'\n",
    "                        )\n",
    "\n",
    "raw_states_byrace_df['Percentage White'] = pd.to_numeric(raw_states_byrace_df['Percentage White'])\n",
    "raw_states_byrace_df['Percentage Black or African American'] = pd.to_numeric(raw_states_byrace_df['Percentage Black or African American'])\n",
    "raw_states_byrace_df['Percentage Asian'] = pd.to_numeric(raw_states_byrace_df['Percentage Asian'])\n",
    "raw_states_byrace_df['Percentage Hispanic or Latino'] = pd.to_numeric(raw_states_byrace_df['Percentage Hispanic or Latino'])\n",
    "raw_states_byrace_df['Percentage Native American'] = pd.to_numeric(raw_states_byrace_df['Percentage Native American'])\n",
    "\n",
    "states_byrace_df = raw_states_byrace_df\n",
    "\n",
    "states_byrace_df.dtypes"
   ]
  },
  {
   "cell_type": "code",
   "execution_count": 30,
   "id": "c4529d54-4765-41b8-b8fe-228d45466e37",
   "metadata": {},
   "outputs": [
    {
     "data": {
      "text/html": [
       "<div>\n",
       "<style scoped>\n",
       "    .dataframe tbody tr th:only-of-type {\n",
       "        vertical-align: middle;\n",
       "    }\n",
       "\n",
       "    .dataframe tbody tr th {\n",
       "        vertical-align: top;\n",
       "    }\n",
       "\n",
       "    .dataframe thead th {\n",
       "        text-align: right;\n",
       "    }\n",
       "</style>\n",
       "<table border=\"1\" class=\"dataframe\">\n",
       "  <thead>\n",
       "    <tr style=\"text-align: right;\">\n",
       "      <th></th>\n",
       "      <th>state_name</th>\n",
       "      <th>Percentage White</th>\n",
       "      <th>Percentage Black or African American</th>\n",
       "      <th>Percentage Asian</th>\n",
       "      <th>Percentage Hispanic or Latino</th>\n",
       "      <th>Percentage Native American</th>\n",
       "    </tr>\n",
       "  </thead>\n",
       "  <tbody>\n",
       "    <tr>\n",
       "      <th>1</th>\n",
       "      <td>Alabama</td>\n",
       "      <td>68.1</td>\n",
       "      <td>26.6</td>\n",
       "      <td>1.4</td>\n",
       "      <td>4.3</td>\n",
       "      <td>0.5</td>\n",
       "    </tr>\n",
       "    <tr>\n",
       "      <th>2</th>\n",
       "      <td>Alaska</td>\n",
       "      <td>64.6</td>\n",
       "      <td>3.3</td>\n",
       "      <td>6.2</td>\n",
       "      <td>7.0</td>\n",
       "      <td>14.9</td>\n",
       "    </tr>\n",
       "    <tr>\n",
       "      <th>3</th>\n",
       "      <td>Arizona</td>\n",
       "      <td>77.2</td>\n",
       "      <td>4.5</td>\n",
       "      <td>3.3</td>\n",
       "      <td>31.3</td>\n",
       "      <td>4.5</td>\n",
       "    </tr>\n",
       "    <tr>\n",
       "      <th>4</th>\n",
       "      <td>Arkansas</td>\n",
       "      <td>76.7</td>\n",
       "      <td>15.3</td>\n",
       "      <td>1.5</td>\n",
       "      <td>7.5</td>\n",
       "      <td>0.7</td>\n",
       "    </tr>\n",
       "    <tr>\n",
       "      <th>5</th>\n",
       "      <td>California</td>\n",
       "      <td>59.7</td>\n",
       "      <td>5.8</td>\n",
       "      <td>14.5</td>\n",
       "      <td>39.0</td>\n",
       "      <td>0.8</td>\n",
       "    </tr>\n",
       "    <tr>\n",
       "      <th>6</th>\n",
       "      <td>Colorado</td>\n",
       "      <td>84.0</td>\n",
       "      <td>4.2</td>\n",
       "      <td>3.2</td>\n",
       "      <td>21.5</td>\n",
       "      <td>1.0</td>\n",
       "    </tr>\n",
       "    <tr>\n",
       "      <th>7</th>\n",
       "      <td>Connecticut</td>\n",
       "      <td>75.9</td>\n",
       "      <td>10.7</td>\n",
       "      <td>4.5</td>\n",
       "      <td>16.1</td>\n",
       "      <td>0.3</td>\n",
       "    </tr>\n",
       "    <tr>\n",
       "      <th>8</th>\n",
       "      <td>Delaware</td>\n",
       "      <td>68.8</td>\n",
       "      <td>22.2</td>\n",
       "      <td>3.9</td>\n",
       "      <td>9.2</td>\n",
       "      <td>0.4</td>\n",
       "    </tr>\n",
       "    <tr>\n",
       "      <th>9</th>\n",
       "      <td>District of Columbia</td>\n",
       "      <td>41.3</td>\n",
       "      <td>46.3</td>\n",
       "      <td>4.0</td>\n",
       "      <td>11.0</td>\n",
       "      <td>0.3</td>\n",
       "    </tr>\n",
       "    <tr>\n",
       "      <th>10</th>\n",
       "      <td>Florida</td>\n",
       "      <td>75.1</td>\n",
       "      <td>16.1</td>\n",
       "      <td>2.7</td>\n",
       "      <td>25.6</td>\n",
       "      <td>0.3</td>\n",
       "    </tr>\n",
       "    <tr>\n",
       "      <th>11</th>\n",
       "      <td>Georgia</td>\n",
       "      <td>58.6</td>\n",
       "      <td>31.6</td>\n",
       "      <td>4.0</td>\n",
       "      <td>9.5</td>\n",
       "      <td>0.4</td>\n",
       "    </tr>\n",
       "    <tr>\n",
       "      <th>12</th>\n",
       "      <td>Hawaii</td>\n",
       "      <td>25.0</td>\n",
       "      <td>1.8</td>\n",
       "      <td>37.8</td>\n",
       "      <td>10.5</td>\n",
       "      <td>0.3</td>\n",
       "    </tr>\n",
       "    <tr>\n",
       "      <th>13</th>\n",
       "      <td>Idaho</td>\n",
       "      <td>90.0</td>\n",
       "      <td>0.7</td>\n",
       "      <td>1.4</td>\n",
       "      <td>12.5</td>\n",
       "      <td>1.3</td>\n",
       "    </tr>\n",
       "    <tr>\n",
       "      <th>14</th>\n",
       "      <td>Illinois</td>\n",
       "      <td>71.5</td>\n",
       "      <td>14.2</td>\n",
       "      <td>5.5</td>\n",
       "      <td>17.1</td>\n",
       "      <td>0.3</td>\n",
       "    </tr>\n",
       "    <tr>\n",
       "      <th>15</th>\n",
       "      <td>Indiana</td>\n",
       "      <td>83.3</td>\n",
       "      <td>9.4</td>\n",
       "      <td>2.3</td>\n",
       "      <td>6.9</td>\n",
       "      <td>0.2</td>\n",
       "    </tr>\n",
       "    <tr>\n",
       "      <th>16</th>\n",
       "      <td>Iowa</td>\n",
       "      <td>90.0</td>\n",
       "      <td>3.7</td>\n",
       "      <td>2.4</td>\n",
       "      <td>6.0</td>\n",
       "      <td>0.4</td>\n",
       "    </tr>\n",
       "    <tr>\n",
       "      <th>17</th>\n",
       "      <td>Kansas</td>\n",
       "      <td>84.4</td>\n",
       "      <td>5.9</td>\n",
       "      <td>2.9</td>\n",
       "      <td>11.9</td>\n",
       "      <td>0.8</td>\n",
       "    </tr>\n",
       "    <tr>\n",
       "      <th>18</th>\n",
       "      <td>Kentucky</td>\n",
       "      <td>87.0</td>\n",
       "      <td>8.1</td>\n",
       "      <td>1.5</td>\n",
       "      <td>3.7</td>\n",
       "      <td>0.2</td>\n",
       "    </tr>\n",
       "    <tr>\n",
       "      <th>19</th>\n",
       "      <td>Louisiana</td>\n",
       "      <td>62.0</td>\n",
       "      <td>32.2</td>\n",
       "      <td>1.7</td>\n",
       "      <td>5.1</td>\n",
       "      <td>0.6</td>\n",
       "    </tr>\n",
       "    <tr>\n",
       "      <th>20</th>\n",
       "      <td>Maine</td>\n",
       "      <td>94.3</td>\n",
       "      <td>1.4</td>\n",
       "      <td>1.1</td>\n",
       "      <td>1.7</td>\n",
       "      <td>0.6</td>\n",
       "    </tr>\n",
       "    <tr>\n",
       "      <th>21</th>\n",
       "      <td>Maryland</td>\n",
       "      <td>55.5</td>\n",
       "      <td>29.9</td>\n",
       "      <td>6.3</td>\n",
       "      <td>10.1</td>\n",
       "      <td>0.3</td>\n",
       "    </tr>\n",
       "    <tr>\n",
       "      <th>22</th>\n",
       "      <td>Massachusetts</td>\n",
       "      <td>78.1</td>\n",
       "      <td>7.6</td>\n",
       "      <td>6.6</td>\n",
       "      <td>11.8</td>\n",
       "      <td>0.2</td>\n",
       "    </tr>\n",
       "    <tr>\n",
       "      <th>23</th>\n",
       "      <td>Michigan</td>\n",
       "      <td>78.4</td>\n",
       "      <td>13.8</td>\n",
       "      <td>3.1</td>\n",
       "      <td>5.1</td>\n",
       "      <td>0.5</td>\n",
       "    </tr>\n",
       "    <tr>\n",
       "      <th>24</th>\n",
       "      <td>Minnesota</td>\n",
       "      <td>82.8</td>\n",
       "      <td>6.4</td>\n",
       "      <td>4.8</td>\n",
       "      <td>5.4</td>\n",
       "      <td>1.0</td>\n",
       "    </tr>\n",
       "    <tr>\n",
       "      <th>25</th>\n",
       "      <td>Mississippi</td>\n",
       "      <td>58.4</td>\n",
       "      <td>37.7</td>\n",
       "      <td>1.0</td>\n",
       "      <td>3.1</td>\n",
       "      <td>0.5</td>\n",
       "    </tr>\n",
       "    <tr>\n",
       "      <th>26</th>\n",
       "      <td>Missouri</td>\n",
       "      <td>82.2</td>\n",
       "      <td>11.5</td>\n",
       "      <td>2.0</td>\n",
       "      <td>4.2</td>\n",
       "      <td>0.4</td>\n",
       "    </tr>\n",
       "    <tr>\n",
       "      <th>27</th>\n",
       "      <td>Montana</td>\n",
       "      <td>88.5</td>\n",
       "      <td>0.5</td>\n",
       "      <td>0.8</td>\n",
       "      <td>3.8</td>\n",
       "      <td>6.4</td>\n",
       "    </tr>\n",
       "    <tr>\n",
       "      <th>28</th>\n",
       "      <td>Nebraska</td>\n",
       "      <td>87.1</td>\n",
       "      <td>4.8</td>\n",
       "      <td>2.4</td>\n",
       "      <td>10.9</td>\n",
       "      <td>0.9</td>\n",
       "    </tr>\n",
       "    <tr>\n",
       "      <th>29</th>\n",
       "      <td>Nevada</td>\n",
       "      <td>65.6</td>\n",
       "      <td>9.1</td>\n",
       "      <td>8.2</td>\n",
       "      <td>28.7</td>\n",
       "      <td>1.3</td>\n",
       "    </tr>\n",
       "    <tr>\n",
       "      <th>30</th>\n",
       "      <td>New Hampshire</td>\n",
       "      <td>92.9</td>\n",
       "      <td>1.6</td>\n",
       "      <td>2.7</td>\n",
       "      <td>3.7</td>\n",
       "      <td>0.2</td>\n",
       "    </tr>\n",
       "    <tr>\n",
       "      <th>31</th>\n",
       "      <td>New Jersey</td>\n",
       "      <td>67.8</td>\n",
       "      <td>13.5</td>\n",
       "      <td>9.5</td>\n",
       "      <td>20.2</td>\n",
       "      <td>0.2</td>\n",
       "    </tr>\n",
       "    <tr>\n",
       "      <th>32</th>\n",
       "      <td>New Mexico</td>\n",
       "      <td>74.8</td>\n",
       "      <td>2.1</td>\n",
       "      <td>1.6</td>\n",
       "      <td>48.8</td>\n",
       "      <td>9.6</td>\n",
       "    </tr>\n",
       "    <tr>\n",
       "      <th>33</th>\n",
       "      <td>New York</td>\n",
       "      <td>63.7</td>\n",
       "      <td>15.7</td>\n",
       "      <td>8.4</td>\n",
       "      <td>19.0</td>\n",
       "      <td>0.4</td>\n",
       "    </tr>\n",
       "    <tr>\n",
       "      <th>34</th>\n",
       "      <td>North Carolina</td>\n",
       "      <td>68.7</td>\n",
       "      <td>21.4</td>\n",
       "      <td>2.9</td>\n",
       "      <td>9.4</td>\n",
       "      <td>1.2</td>\n",
       "    </tr>\n",
       "    <tr>\n",
       "      <th>35</th>\n",
       "      <td>North Dakota</td>\n",
       "      <td>86.6</td>\n",
       "      <td>2.9</td>\n",
       "      <td>1.5</td>\n",
       "      <td>3.7</td>\n",
       "      <td>5.3</td>\n",
       "    </tr>\n",
       "    <tr>\n",
       "      <th>36</th>\n",
       "      <td>Ohio</td>\n",
       "      <td>81.3</td>\n",
       "      <td>12.4</td>\n",
       "      <td>2.2</td>\n",
       "      <td>3.8</td>\n",
       "      <td>0.2</td>\n",
       "    </tr>\n",
       "    <tr>\n",
       "      <th>37</th>\n",
       "      <td>Oklahoma</td>\n",
       "      <td>72.3</td>\n",
       "      <td>7.3</td>\n",
       "      <td>2.2</td>\n",
       "      <td>10.6</td>\n",
       "      <td>7.6</td>\n",
       "    </tr>\n",
       "    <tr>\n",
       "      <th>38</th>\n",
       "      <td>Oregon</td>\n",
       "      <td>84.3</td>\n",
       "      <td>1.9</td>\n",
       "      <td>4.4</td>\n",
       "      <td>13.0</td>\n",
       "      <td>1.2</td>\n",
       "    </tr>\n",
       "    <tr>\n",
       "      <th>39</th>\n",
       "      <td>Pennsylvania</td>\n",
       "      <td>80.5</td>\n",
       "      <td>11.2</td>\n",
       "      <td>3.4</td>\n",
       "      <td>7.3</td>\n",
       "      <td>0.2</td>\n",
       "    </tr>\n",
       "    <tr>\n",
       "      <th>40</th>\n",
       "      <td>Rhode Island</td>\n",
       "      <td>80.5</td>\n",
       "      <td>6.8</td>\n",
       "      <td>3.4</td>\n",
       "      <td>15.4</td>\n",
       "      <td>0.5</td>\n",
       "    </tr>\n",
       "    <tr>\n",
       "      <th>41</th>\n",
       "      <td>South Carolina</td>\n",
       "      <td>67.2</td>\n",
       "      <td>26.8</td>\n",
       "      <td>1.6</td>\n",
       "      <td>5.7</td>\n",
       "      <td>0.4</td>\n",
       "    </tr>\n",
       "    <tr>\n",
       "      <th>42</th>\n",
       "      <td>South Dakota</td>\n",
       "      <td>84.3</td>\n",
       "      <td>2.0</td>\n",
       "      <td>1.5</td>\n",
       "      <td>3.8</td>\n",
       "      <td>8.8</td>\n",
       "    </tr>\n",
       "    <tr>\n",
       "      <th>43</th>\n",
       "      <td>Tennessee</td>\n",
       "      <td>77.6</td>\n",
       "      <td>16.8</td>\n",
       "      <td>1.8</td>\n",
       "      <td>5.4</td>\n",
       "      <td>0.3</td>\n",
       "    </tr>\n",
       "    <tr>\n",
       "      <th>44</th>\n",
       "      <td>Texas</td>\n",
       "      <td>74.0</td>\n",
       "      <td>12.1</td>\n",
       "      <td>4.8</td>\n",
       "      <td>39.3</td>\n",
       "      <td>0.5</td>\n",
       "    </tr>\n",
       "    <tr>\n",
       "      <th>45</th>\n",
       "      <td>Utah</td>\n",
       "      <td>86.4</td>\n",
       "      <td>1.2</td>\n",
       "      <td>2.3</td>\n",
       "      <td>14.0</td>\n",
       "      <td>1.1</td>\n",
       "    </tr>\n",
       "    <tr>\n",
       "      <th>46</th>\n",
       "      <td>Vermont</td>\n",
       "      <td>94.2</td>\n",
       "      <td>1.4</td>\n",
       "      <td>1.7</td>\n",
       "      <td>1.9</td>\n",
       "      <td>0.3</td>\n",
       "    </tr>\n",
       "    <tr>\n",
       "      <th>47</th>\n",
       "      <td>Virginia</td>\n",
       "      <td>67.6</td>\n",
       "      <td>19.2</td>\n",
       "      <td>6.4</td>\n",
       "      <td>9.4</td>\n",
       "      <td>0.3</td>\n",
       "    </tr>\n",
       "    <tr>\n",
       "      <th>48</th>\n",
       "      <td>Washington</td>\n",
       "      <td>75.4</td>\n",
       "      <td>3.8</td>\n",
       "      <td>8.5</td>\n",
       "      <td>12.7</td>\n",
       "      <td>1.3</td>\n",
       "    </tr>\n",
       "    <tr>\n",
       "      <th>49</th>\n",
       "      <td>West Virginia</td>\n",
       "      <td>93.1</td>\n",
       "      <td>3.7</td>\n",
       "      <td>0.8</td>\n",
       "      <td>1.6</td>\n",
       "      <td>0.2</td>\n",
       "    </tr>\n",
       "    <tr>\n",
       "      <th>50</th>\n",
       "      <td>Wisconsin</td>\n",
       "      <td>85.4</td>\n",
       "      <td>6.4</td>\n",
       "      <td>2.8</td>\n",
       "      <td>6.8</td>\n",
       "      <td>0.9</td>\n",
       "    </tr>\n",
       "    <tr>\n",
       "      <th>51</th>\n",
       "      <td>Wyoming</td>\n",
       "      <td>91.4</td>\n",
       "      <td>1.0</td>\n",
       "      <td>0.9</td>\n",
       "      <td>9.9</td>\n",
       "      <td>2.4</td>\n",
       "    </tr>\n",
       "    <tr>\n",
       "      <th>52</th>\n",
       "      <td>Puerto Rico</td>\n",
       "      <td>65.9</td>\n",
       "      <td>11.7</td>\n",
       "      <td>0.2</td>\n",
       "      <td>98.7</td>\n",
       "      <td>0.2</td>\n",
       "    </tr>\n",
       "  </tbody>\n",
       "</table>\n",
       "</div>"
      ],
      "text/plain": [
       "0             state_name  Percentage White  \\\n",
       "1                Alabama              68.1   \n",
       "2                 Alaska              64.6   \n",
       "3                Arizona              77.2   \n",
       "4               Arkansas              76.7   \n",
       "5             California              59.7   \n",
       "6               Colorado              84.0   \n",
       "7            Connecticut              75.9   \n",
       "8               Delaware              68.8   \n",
       "9   District of Columbia              41.3   \n",
       "10               Florida              75.1   \n",
       "11               Georgia              58.6   \n",
       "12                Hawaii              25.0   \n",
       "13                 Idaho              90.0   \n",
       "14              Illinois              71.5   \n",
       "15               Indiana              83.3   \n",
       "16                  Iowa              90.0   \n",
       "17                Kansas              84.4   \n",
       "18              Kentucky              87.0   \n",
       "19             Louisiana              62.0   \n",
       "20                 Maine              94.3   \n",
       "21              Maryland              55.5   \n",
       "22         Massachusetts              78.1   \n",
       "23              Michigan              78.4   \n",
       "24             Minnesota              82.8   \n",
       "25           Mississippi              58.4   \n",
       "26              Missouri              82.2   \n",
       "27               Montana              88.5   \n",
       "28              Nebraska              87.1   \n",
       "29                Nevada              65.6   \n",
       "30         New Hampshire              92.9   \n",
       "31            New Jersey              67.8   \n",
       "32            New Mexico              74.8   \n",
       "33              New York              63.7   \n",
       "34        North Carolina              68.7   \n",
       "35          North Dakota              86.6   \n",
       "36                  Ohio              81.3   \n",
       "37              Oklahoma              72.3   \n",
       "38                Oregon              84.3   \n",
       "39          Pennsylvania              80.5   \n",
       "40          Rhode Island              80.5   \n",
       "41        South Carolina              67.2   \n",
       "42          South Dakota              84.3   \n",
       "43             Tennessee              77.6   \n",
       "44                 Texas              74.0   \n",
       "45                  Utah              86.4   \n",
       "46               Vermont              94.2   \n",
       "47              Virginia              67.6   \n",
       "48            Washington              75.4   \n",
       "49         West Virginia              93.1   \n",
       "50             Wisconsin              85.4   \n",
       "51               Wyoming              91.4   \n",
       "52           Puerto Rico              65.9   \n",
       "\n",
       "0   Percentage Black or African American  Percentage Asian  \\\n",
       "1                                   26.6               1.4   \n",
       "2                                    3.3               6.2   \n",
       "3                                    4.5               3.3   \n",
       "4                                   15.3               1.5   \n",
       "5                                    5.8              14.5   \n",
       "6                                    4.2               3.2   \n",
       "7                                   10.7               4.5   \n",
       "8                                   22.2               3.9   \n",
       "9                                   46.3               4.0   \n",
       "10                                  16.1               2.7   \n",
       "11                                  31.6               4.0   \n",
       "12                                   1.8              37.8   \n",
       "13                                   0.7               1.4   \n",
       "14                                  14.2               5.5   \n",
       "15                                   9.4               2.3   \n",
       "16                                   3.7               2.4   \n",
       "17                                   5.9               2.9   \n",
       "18                                   8.1               1.5   \n",
       "19                                  32.2               1.7   \n",
       "20                                   1.4               1.1   \n",
       "21                                  29.9               6.3   \n",
       "22                                   7.6               6.6   \n",
       "23                                  13.8               3.1   \n",
       "24                                   6.4               4.8   \n",
       "25                                  37.7               1.0   \n",
       "26                                  11.5               2.0   \n",
       "27                                   0.5               0.8   \n",
       "28                                   4.8               2.4   \n",
       "29                                   9.1               8.2   \n",
       "30                                   1.6               2.7   \n",
       "31                                  13.5               9.5   \n",
       "32                                   2.1               1.6   \n",
       "33                                  15.7               8.4   \n",
       "34                                  21.4               2.9   \n",
       "35                                   2.9               1.5   \n",
       "36                                  12.4               2.2   \n",
       "37                                   7.3               2.2   \n",
       "38                                   1.9               4.4   \n",
       "39                                  11.2               3.4   \n",
       "40                                   6.8               3.4   \n",
       "41                                  26.8               1.6   \n",
       "42                                   2.0               1.5   \n",
       "43                                  16.8               1.8   \n",
       "44                                  12.1               4.8   \n",
       "45                                   1.2               2.3   \n",
       "46                                   1.4               1.7   \n",
       "47                                  19.2               6.4   \n",
       "48                                   3.8               8.5   \n",
       "49                                   3.7               0.8   \n",
       "50                                   6.4               2.8   \n",
       "51                                   1.0               0.9   \n",
       "52                                  11.7               0.2   \n",
       "\n",
       "0   Percentage Hispanic or Latino  Percentage Native American  \n",
       "1                             4.3                         0.5  \n",
       "2                             7.0                        14.9  \n",
       "3                            31.3                         4.5  \n",
       "4                             7.5                         0.7  \n",
       "5                            39.0                         0.8  \n",
       "6                            21.5                         1.0  \n",
       "7                            16.1                         0.3  \n",
       "8                             9.2                         0.4  \n",
       "9                            11.0                         0.3  \n",
       "10                           25.6                         0.3  \n",
       "11                            9.5                         0.4  \n",
       "12                           10.5                         0.3  \n",
       "13                           12.5                         1.3  \n",
       "14                           17.1                         0.3  \n",
       "15                            6.9                         0.2  \n",
       "16                            6.0                         0.4  \n",
       "17                           11.9                         0.8  \n",
       "18                            3.7                         0.2  \n",
       "19                            5.1                         0.6  \n",
       "20                            1.7                         0.6  \n",
       "21                           10.1                         0.3  \n",
       "22                           11.8                         0.2  \n",
       "23                            5.1                         0.5  \n",
       "24                            5.4                         1.0  \n",
       "25                            3.1                         0.5  \n",
       "26                            4.2                         0.4  \n",
       "27                            3.8                         6.4  \n",
       "28                           10.9                         0.9  \n",
       "29                           28.7                         1.3  \n",
       "30                            3.7                         0.2  \n",
       "31                           20.2                         0.2  \n",
       "32                           48.8                         9.6  \n",
       "33                           19.0                         0.4  \n",
       "34                            9.4                         1.2  \n",
       "35                            3.7                         5.3  \n",
       "36                            3.8                         0.2  \n",
       "37                           10.6                         7.6  \n",
       "38                           13.0                         1.2  \n",
       "39                            7.3                         0.2  \n",
       "40                           15.4                         0.5  \n",
       "41                            5.7                         0.4  \n",
       "42                            3.8                         8.8  \n",
       "43                            5.4                         0.3  \n",
       "44                           39.3                         0.5  \n",
       "45                           14.0                         1.1  \n",
       "46                            1.9                         0.3  \n",
       "47                            9.4                         0.3  \n",
       "48                           12.7                         1.3  \n",
       "49                            1.6                         0.2  \n",
       "50                            6.8                         0.9  \n",
       "51                            9.9                         2.4  \n",
       "52                           98.7                         0.2  "
      ]
     },
     "execution_count": 30,
     "metadata": {},
     "output_type": "execute_result"
    }
   ],
   "source": [
    "states_byrace_df"
   ]
  },
  {
   "cell_type": "code",
   "execution_count": 31,
   "id": "cb454f59-ddc3-449f-b56e-7008297c162b",
   "metadata": {},
   "outputs": [
    {
     "data": {
      "text/html": [
       "<div>\n",
       "<style scoped>\n",
       "    .dataframe tbody tr th:only-of-type {\n",
       "        vertical-align: middle;\n",
       "    }\n",
       "\n",
       "    .dataframe tbody tr th {\n",
       "        vertical-align: top;\n",
       "    }\n",
       "\n",
       "    .dataframe thead th {\n",
       "        text-align: right;\n",
       "    }\n",
       "</style>\n",
       "<table border=\"1\" class=\"dataframe\">\n",
       "  <thead>\n",
       "    <tr style=\"text-align: right;\">\n",
       "      <th></th>\n",
       "      <th>state_name</th>\n",
       "      <th>Percentage White</th>\n",
       "      <th>Percentage Black or African American</th>\n",
       "      <th>Percentage Asian</th>\n",
       "      <th>Percentage Hispanic or Latino</th>\n",
       "      <th>Percentage Native American</th>\n",
       "      <th>state_code</th>\n",
       "    </tr>\n",
       "  </thead>\n",
       "  <tbody>\n",
       "    <tr>\n",
       "      <th>0</th>\n",
       "      <td>Alabama</td>\n",
       "      <td>68.1</td>\n",
       "      <td>26.6</td>\n",
       "      <td>1.4</td>\n",
       "      <td>4.3</td>\n",
       "      <td>0.5</td>\n",
       "      <td>AL</td>\n",
       "    </tr>\n",
       "    <tr>\n",
       "      <th>1</th>\n",
       "      <td>Alaska</td>\n",
       "      <td>64.6</td>\n",
       "      <td>3.3</td>\n",
       "      <td>6.2</td>\n",
       "      <td>7.0</td>\n",
       "      <td>14.9</td>\n",
       "      <td>NaN</td>\n",
       "    </tr>\n",
       "    <tr>\n",
       "      <th>2</th>\n",
       "      <td>Arizona</td>\n",
       "      <td>77.2</td>\n",
       "      <td>4.5</td>\n",
       "      <td>3.3</td>\n",
       "      <td>31.3</td>\n",
       "      <td>4.5</td>\n",
       "      <td>AZ</td>\n",
       "    </tr>\n",
       "    <tr>\n",
       "      <th>3</th>\n",
       "      <td>Arkansas</td>\n",
       "      <td>76.7</td>\n",
       "      <td>15.3</td>\n",
       "      <td>1.5</td>\n",
       "      <td>7.5</td>\n",
       "      <td>0.7</td>\n",
       "      <td>AR</td>\n",
       "    </tr>\n",
       "    <tr>\n",
       "      <th>4</th>\n",
       "      <td>California</td>\n",
       "      <td>59.7</td>\n",
       "      <td>5.8</td>\n",
       "      <td>14.5</td>\n",
       "      <td>39.0</td>\n",
       "      <td>0.8</td>\n",
       "      <td>CA</td>\n",
       "    </tr>\n",
       "    <tr>\n",
       "      <th>5</th>\n",
       "      <td>Colorado</td>\n",
       "      <td>84.0</td>\n",
       "      <td>4.2</td>\n",
       "      <td>3.2</td>\n",
       "      <td>21.5</td>\n",
       "      <td>1.0</td>\n",
       "      <td>CO</td>\n",
       "    </tr>\n",
       "    <tr>\n",
       "      <th>6</th>\n",
       "      <td>Connecticut</td>\n",
       "      <td>75.9</td>\n",
       "      <td>10.7</td>\n",
       "      <td>4.5</td>\n",
       "      <td>16.1</td>\n",
       "      <td>0.3</td>\n",
       "      <td>CT</td>\n",
       "    </tr>\n",
       "    <tr>\n",
       "      <th>7</th>\n",
       "      <td>Delaware</td>\n",
       "      <td>68.8</td>\n",
       "      <td>22.2</td>\n",
       "      <td>3.9</td>\n",
       "      <td>9.2</td>\n",
       "      <td>0.4</td>\n",
       "      <td>DE</td>\n",
       "    </tr>\n",
       "    <tr>\n",
       "      <th>8</th>\n",
       "      <td>District of Columbia</td>\n",
       "      <td>41.3</td>\n",
       "      <td>46.3</td>\n",
       "      <td>4.0</td>\n",
       "      <td>11.0</td>\n",
       "      <td>0.3</td>\n",
       "      <td>NaN</td>\n",
       "    </tr>\n",
       "    <tr>\n",
       "      <th>9</th>\n",
       "      <td>Florida</td>\n",
       "      <td>75.1</td>\n",
       "      <td>16.1</td>\n",
       "      <td>2.7</td>\n",
       "      <td>25.6</td>\n",
       "      <td>0.3</td>\n",
       "      <td>FL</td>\n",
       "    </tr>\n",
       "    <tr>\n",
       "      <th>10</th>\n",
       "      <td>Georgia</td>\n",
       "      <td>58.6</td>\n",
       "      <td>31.6</td>\n",
       "      <td>4.0</td>\n",
       "      <td>9.5</td>\n",
       "      <td>0.4</td>\n",
       "      <td>GA</td>\n",
       "    </tr>\n",
       "    <tr>\n",
       "      <th>11</th>\n",
       "      <td>Hawaii</td>\n",
       "      <td>25.0</td>\n",
       "      <td>1.8</td>\n",
       "      <td>37.8</td>\n",
       "      <td>10.5</td>\n",
       "      <td>0.3</td>\n",
       "      <td>NaN</td>\n",
       "    </tr>\n",
       "    <tr>\n",
       "      <th>12</th>\n",
       "      <td>Idaho</td>\n",
       "      <td>90.0</td>\n",
       "      <td>0.7</td>\n",
       "      <td>1.4</td>\n",
       "      <td>12.5</td>\n",
       "      <td>1.3</td>\n",
       "      <td>ID</td>\n",
       "    </tr>\n",
       "    <tr>\n",
       "      <th>13</th>\n",
       "      <td>Illinois</td>\n",
       "      <td>71.5</td>\n",
       "      <td>14.2</td>\n",
       "      <td>5.5</td>\n",
       "      <td>17.1</td>\n",
       "      <td>0.3</td>\n",
       "      <td>IL</td>\n",
       "    </tr>\n",
       "    <tr>\n",
       "      <th>14</th>\n",
       "      <td>Indiana</td>\n",
       "      <td>83.3</td>\n",
       "      <td>9.4</td>\n",
       "      <td>2.3</td>\n",
       "      <td>6.9</td>\n",
       "      <td>0.2</td>\n",
       "      <td>IN</td>\n",
       "    </tr>\n",
       "    <tr>\n",
       "      <th>15</th>\n",
       "      <td>Iowa</td>\n",
       "      <td>90.0</td>\n",
       "      <td>3.7</td>\n",
       "      <td>2.4</td>\n",
       "      <td>6.0</td>\n",
       "      <td>0.4</td>\n",
       "      <td>IA</td>\n",
       "    </tr>\n",
       "    <tr>\n",
       "      <th>16</th>\n",
       "      <td>Kansas</td>\n",
       "      <td>84.4</td>\n",
       "      <td>5.9</td>\n",
       "      <td>2.9</td>\n",
       "      <td>11.9</td>\n",
       "      <td>0.8</td>\n",
       "      <td>KS</td>\n",
       "    </tr>\n",
       "    <tr>\n",
       "      <th>17</th>\n",
       "      <td>Kentucky</td>\n",
       "      <td>87.0</td>\n",
       "      <td>8.1</td>\n",
       "      <td>1.5</td>\n",
       "      <td>3.7</td>\n",
       "      <td>0.2</td>\n",
       "      <td>KY</td>\n",
       "    </tr>\n",
       "    <tr>\n",
       "      <th>18</th>\n",
       "      <td>Louisiana</td>\n",
       "      <td>62.0</td>\n",
       "      <td>32.2</td>\n",
       "      <td>1.7</td>\n",
       "      <td>5.1</td>\n",
       "      <td>0.6</td>\n",
       "      <td>LA</td>\n",
       "    </tr>\n",
       "    <tr>\n",
       "      <th>19</th>\n",
       "      <td>Maine</td>\n",
       "      <td>94.3</td>\n",
       "      <td>1.4</td>\n",
       "      <td>1.1</td>\n",
       "      <td>1.7</td>\n",
       "      <td>0.6</td>\n",
       "      <td>ME</td>\n",
       "    </tr>\n",
       "    <tr>\n",
       "      <th>20</th>\n",
       "      <td>Maryland</td>\n",
       "      <td>55.5</td>\n",
       "      <td>29.9</td>\n",
       "      <td>6.3</td>\n",
       "      <td>10.1</td>\n",
       "      <td>0.3</td>\n",
       "      <td>MD</td>\n",
       "    </tr>\n",
       "    <tr>\n",
       "      <th>21</th>\n",
       "      <td>Massachusetts</td>\n",
       "      <td>78.1</td>\n",
       "      <td>7.6</td>\n",
       "      <td>6.6</td>\n",
       "      <td>11.8</td>\n",
       "      <td>0.2</td>\n",
       "      <td>MA</td>\n",
       "    </tr>\n",
       "    <tr>\n",
       "      <th>22</th>\n",
       "      <td>Michigan</td>\n",
       "      <td>78.4</td>\n",
       "      <td>13.8</td>\n",
       "      <td>3.1</td>\n",
       "      <td>5.1</td>\n",
       "      <td>0.5</td>\n",
       "      <td>MI</td>\n",
       "    </tr>\n",
       "    <tr>\n",
       "      <th>23</th>\n",
       "      <td>Minnesota</td>\n",
       "      <td>82.8</td>\n",
       "      <td>6.4</td>\n",
       "      <td>4.8</td>\n",
       "      <td>5.4</td>\n",
       "      <td>1.0</td>\n",
       "      <td>MN</td>\n",
       "    </tr>\n",
       "    <tr>\n",
       "      <th>24</th>\n",
       "      <td>Mississippi</td>\n",
       "      <td>58.4</td>\n",
       "      <td>37.7</td>\n",
       "      <td>1.0</td>\n",
       "      <td>3.1</td>\n",
       "      <td>0.5</td>\n",
       "      <td>MS</td>\n",
       "    </tr>\n",
       "    <tr>\n",
       "      <th>25</th>\n",
       "      <td>Missouri</td>\n",
       "      <td>82.2</td>\n",
       "      <td>11.5</td>\n",
       "      <td>2.0</td>\n",
       "      <td>4.2</td>\n",
       "      <td>0.4</td>\n",
       "      <td>MO</td>\n",
       "    </tr>\n",
       "    <tr>\n",
       "      <th>26</th>\n",
       "      <td>Montana</td>\n",
       "      <td>88.5</td>\n",
       "      <td>0.5</td>\n",
       "      <td>0.8</td>\n",
       "      <td>3.8</td>\n",
       "      <td>6.4</td>\n",
       "      <td>MT</td>\n",
       "    </tr>\n",
       "    <tr>\n",
       "      <th>27</th>\n",
       "      <td>Nebraska</td>\n",
       "      <td>87.1</td>\n",
       "      <td>4.8</td>\n",
       "      <td>2.4</td>\n",
       "      <td>10.9</td>\n",
       "      <td>0.9</td>\n",
       "      <td>NE</td>\n",
       "    </tr>\n",
       "    <tr>\n",
       "      <th>28</th>\n",
       "      <td>Nevada</td>\n",
       "      <td>65.6</td>\n",
       "      <td>9.1</td>\n",
       "      <td>8.2</td>\n",
       "      <td>28.7</td>\n",
       "      <td>1.3</td>\n",
       "      <td>NV</td>\n",
       "    </tr>\n",
       "    <tr>\n",
       "      <th>29</th>\n",
       "      <td>New Hampshire</td>\n",
       "      <td>92.9</td>\n",
       "      <td>1.6</td>\n",
       "      <td>2.7</td>\n",
       "      <td>3.7</td>\n",
       "      <td>0.2</td>\n",
       "      <td>NH</td>\n",
       "    </tr>\n",
       "    <tr>\n",
       "      <th>30</th>\n",
       "      <td>New Jersey</td>\n",
       "      <td>67.8</td>\n",
       "      <td>13.5</td>\n",
       "      <td>9.5</td>\n",
       "      <td>20.2</td>\n",
       "      <td>0.2</td>\n",
       "      <td>NJ</td>\n",
       "    </tr>\n",
       "    <tr>\n",
       "      <th>31</th>\n",
       "      <td>New Mexico</td>\n",
       "      <td>74.8</td>\n",
       "      <td>2.1</td>\n",
       "      <td>1.6</td>\n",
       "      <td>48.8</td>\n",
       "      <td>9.6</td>\n",
       "      <td>NM</td>\n",
       "    </tr>\n",
       "    <tr>\n",
       "      <th>32</th>\n",
       "      <td>New York</td>\n",
       "      <td>63.7</td>\n",
       "      <td>15.7</td>\n",
       "      <td>8.4</td>\n",
       "      <td>19.0</td>\n",
       "      <td>0.4</td>\n",
       "      <td>NY</td>\n",
       "    </tr>\n",
       "    <tr>\n",
       "      <th>33</th>\n",
       "      <td>North Carolina</td>\n",
       "      <td>68.7</td>\n",
       "      <td>21.4</td>\n",
       "      <td>2.9</td>\n",
       "      <td>9.4</td>\n",
       "      <td>1.2</td>\n",
       "      <td>NC</td>\n",
       "    </tr>\n",
       "    <tr>\n",
       "      <th>34</th>\n",
       "      <td>North Dakota</td>\n",
       "      <td>86.6</td>\n",
       "      <td>2.9</td>\n",
       "      <td>1.5</td>\n",
       "      <td>3.7</td>\n",
       "      <td>5.3</td>\n",
       "      <td>ND</td>\n",
       "    </tr>\n",
       "    <tr>\n",
       "      <th>35</th>\n",
       "      <td>Ohio</td>\n",
       "      <td>81.3</td>\n",
       "      <td>12.4</td>\n",
       "      <td>2.2</td>\n",
       "      <td>3.8</td>\n",
       "      <td>0.2</td>\n",
       "      <td>OH</td>\n",
       "    </tr>\n",
       "    <tr>\n",
       "      <th>36</th>\n",
       "      <td>Oklahoma</td>\n",
       "      <td>72.3</td>\n",
       "      <td>7.3</td>\n",
       "      <td>2.2</td>\n",
       "      <td>10.6</td>\n",
       "      <td>7.6</td>\n",
       "      <td>OK</td>\n",
       "    </tr>\n",
       "    <tr>\n",
       "      <th>37</th>\n",
       "      <td>Oregon</td>\n",
       "      <td>84.3</td>\n",
       "      <td>1.9</td>\n",
       "      <td>4.4</td>\n",
       "      <td>13.0</td>\n",
       "      <td>1.2</td>\n",
       "      <td>OR</td>\n",
       "    </tr>\n",
       "    <tr>\n",
       "      <th>38</th>\n",
       "      <td>Pennsylvania</td>\n",
       "      <td>80.5</td>\n",
       "      <td>11.2</td>\n",
       "      <td>3.4</td>\n",
       "      <td>7.3</td>\n",
       "      <td>0.2</td>\n",
       "      <td>PA</td>\n",
       "    </tr>\n",
       "    <tr>\n",
       "      <th>39</th>\n",
       "      <td>Rhode Island</td>\n",
       "      <td>80.5</td>\n",
       "      <td>6.8</td>\n",
       "      <td>3.4</td>\n",
       "      <td>15.4</td>\n",
       "      <td>0.5</td>\n",
       "      <td>RI</td>\n",
       "    </tr>\n",
       "    <tr>\n",
       "      <th>40</th>\n",
       "      <td>South Carolina</td>\n",
       "      <td>67.2</td>\n",
       "      <td>26.8</td>\n",
       "      <td>1.6</td>\n",
       "      <td>5.7</td>\n",
       "      <td>0.4</td>\n",
       "      <td>SC</td>\n",
       "    </tr>\n",
       "    <tr>\n",
       "      <th>41</th>\n",
       "      <td>South Dakota</td>\n",
       "      <td>84.3</td>\n",
       "      <td>2.0</td>\n",
       "      <td>1.5</td>\n",
       "      <td>3.8</td>\n",
       "      <td>8.8</td>\n",
       "      <td>SD</td>\n",
       "    </tr>\n",
       "    <tr>\n",
       "      <th>42</th>\n",
       "      <td>Tennessee</td>\n",
       "      <td>77.6</td>\n",
       "      <td>16.8</td>\n",
       "      <td>1.8</td>\n",
       "      <td>5.4</td>\n",
       "      <td>0.3</td>\n",
       "      <td>TN</td>\n",
       "    </tr>\n",
       "    <tr>\n",
       "      <th>43</th>\n",
       "      <td>Texas</td>\n",
       "      <td>74.0</td>\n",
       "      <td>12.1</td>\n",
       "      <td>4.8</td>\n",
       "      <td>39.3</td>\n",
       "      <td>0.5</td>\n",
       "      <td>TX</td>\n",
       "    </tr>\n",
       "    <tr>\n",
       "      <th>44</th>\n",
       "      <td>Utah</td>\n",
       "      <td>86.4</td>\n",
       "      <td>1.2</td>\n",
       "      <td>2.3</td>\n",
       "      <td>14.0</td>\n",
       "      <td>1.1</td>\n",
       "      <td>UT</td>\n",
       "    </tr>\n",
       "    <tr>\n",
       "      <th>45</th>\n",
       "      <td>Vermont</td>\n",
       "      <td>94.2</td>\n",
       "      <td>1.4</td>\n",
       "      <td>1.7</td>\n",
       "      <td>1.9</td>\n",
       "      <td>0.3</td>\n",
       "      <td>VT</td>\n",
       "    </tr>\n",
       "    <tr>\n",
       "      <th>46</th>\n",
       "      <td>Virginia</td>\n",
       "      <td>67.6</td>\n",
       "      <td>19.2</td>\n",
       "      <td>6.4</td>\n",
       "      <td>9.4</td>\n",
       "      <td>0.3</td>\n",
       "      <td>VA</td>\n",
       "    </tr>\n",
       "    <tr>\n",
       "      <th>47</th>\n",
       "      <td>Washington</td>\n",
       "      <td>75.4</td>\n",
       "      <td>3.8</td>\n",
       "      <td>8.5</td>\n",
       "      <td>12.7</td>\n",
       "      <td>1.3</td>\n",
       "      <td>WA</td>\n",
       "    </tr>\n",
       "    <tr>\n",
       "      <th>48</th>\n",
       "      <td>West Virginia</td>\n",
       "      <td>93.1</td>\n",
       "      <td>3.7</td>\n",
       "      <td>0.8</td>\n",
       "      <td>1.6</td>\n",
       "      <td>0.2</td>\n",
       "      <td>WV</td>\n",
       "    </tr>\n",
       "    <tr>\n",
       "      <th>49</th>\n",
       "      <td>Wisconsin</td>\n",
       "      <td>85.4</td>\n",
       "      <td>6.4</td>\n",
       "      <td>2.8</td>\n",
       "      <td>6.8</td>\n",
       "      <td>0.9</td>\n",
       "      <td>WI</td>\n",
       "    </tr>\n",
       "    <tr>\n",
       "      <th>50</th>\n",
       "      <td>Wyoming</td>\n",
       "      <td>91.4</td>\n",
       "      <td>1.0</td>\n",
       "      <td>0.9</td>\n",
       "      <td>9.9</td>\n",
       "      <td>2.4</td>\n",
       "      <td>WY</td>\n",
       "    </tr>\n",
       "    <tr>\n",
       "      <th>51</th>\n",
       "      <td>Puerto Rico</td>\n",
       "      <td>65.9</td>\n",
       "      <td>11.7</td>\n",
       "      <td>0.2</td>\n",
       "      <td>98.7</td>\n",
       "      <td>0.2</td>\n",
       "      <td>NaN</td>\n",
       "    </tr>\n",
       "  </tbody>\n",
       "</table>\n",
       "</div>"
      ],
      "text/plain": [
       "              state_name  Percentage White  \\\n",
       "0                Alabama              68.1   \n",
       "1                 Alaska              64.6   \n",
       "2                Arizona              77.2   \n",
       "3               Arkansas              76.7   \n",
       "4             California              59.7   \n",
       "5               Colorado              84.0   \n",
       "6            Connecticut              75.9   \n",
       "7               Delaware              68.8   \n",
       "8   District of Columbia              41.3   \n",
       "9                Florida              75.1   \n",
       "10               Georgia              58.6   \n",
       "11                Hawaii              25.0   \n",
       "12                 Idaho              90.0   \n",
       "13              Illinois              71.5   \n",
       "14               Indiana              83.3   \n",
       "15                  Iowa              90.0   \n",
       "16                Kansas              84.4   \n",
       "17              Kentucky              87.0   \n",
       "18             Louisiana              62.0   \n",
       "19                 Maine              94.3   \n",
       "20              Maryland              55.5   \n",
       "21         Massachusetts              78.1   \n",
       "22              Michigan              78.4   \n",
       "23             Minnesota              82.8   \n",
       "24           Mississippi              58.4   \n",
       "25              Missouri              82.2   \n",
       "26               Montana              88.5   \n",
       "27              Nebraska              87.1   \n",
       "28                Nevada              65.6   \n",
       "29         New Hampshire              92.9   \n",
       "30            New Jersey              67.8   \n",
       "31            New Mexico              74.8   \n",
       "32              New York              63.7   \n",
       "33        North Carolina              68.7   \n",
       "34          North Dakota              86.6   \n",
       "35                  Ohio              81.3   \n",
       "36              Oklahoma              72.3   \n",
       "37                Oregon              84.3   \n",
       "38          Pennsylvania              80.5   \n",
       "39          Rhode Island              80.5   \n",
       "40        South Carolina              67.2   \n",
       "41          South Dakota              84.3   \n",
       "42             Tennessee              77.6   \n",
       "43                 Texas              74.0   \n",
       "44                  Utah              86.4   \n",
       "45               Vermont              94.2   \n",
       "46              Virginia              67.6   \n",
       "47            Washington              75.4   \n",
       "48         West Virginia              93.1   \n",
       "49             Wisconsin              85.4   \n",
       "50               Wyoming              91.4   \n",
       "51           Puerto Rico              65.9   \n",
       "\n",
       "    Percentage Black or African American  Percentage Asian  \\\n",
       "0                                   26.6               1.4   \n",
       "1                                    3.3               6.2   \n",
       "2                                    4.5               3.3   \n",
       "3                                   15.3               1.5   \n",
       "4                                    5.8              14.5   \n",
       "5                                    4.2               3.2   \n",
       "6                                   10.7               4.5   \n",
       "7                                   22.2               3.9   \n",
       "8                                   46.3               4.0   \n",
       "9                                   16.1               2.7   \n",
       "10                                  31.6               4.0   \n",
       "11                                   1.8              37.8   \n",
       "12                                   0.7               1.4   \n",
       "13                                  14.2               5.5   \n",
       "14                                   9.4               2.3   \n",
       "15                                   3.7               2.4   \n",
       "16                                   5.9               2.9   \n",
       "17                                   8.1               1.5   \n",
       "18                                  32.2               1.7   \n",
       "19                                   1.4               1.1   \n",
       "20                                  29.9               6.3   \n",
       "21                                   7.6               6.6   \n",
       "22                                  13.8               3.1   \n",
       "23                                   6.4               4.8   \n",
       "24                                  37.7               1.0   \n",
       "25                                  11.5               2.0   \n",
       "26                                   0.5               0.8   \n",
       "27                                   4.8               2.4   \n",
       "28                                   9.1               8.2   \n",
       "29                                   1.6               2.7   \n",
       "30                                  13.5               9.5   \n",
       "31                                   2.1               1.6   \n",
       "32                                  15.7               8.4   \n",
       "33                                  21.4               2.9   \n",
       "34                                   2.9               1.5   \n",
       "35                                  12.4               2.2   \n",
       "36                                   7.3               2.2   \n",
       "37                                   1.9               4.4   \n",
       "38                                  11.2               3.4   \n",
       "39                                   6.8               3.4   \n",
       "40                                  26.8               1.6   \n",
       "41                                   2.0               1.5   \n",
       "42                                  16.8               1.8   \n",
       "43                                  12.1               4.8   \n",
       "44                                   1.2               2.3   \n",
       "45                                   1.4               1.7   \n",
       "46                                  19.2               6.4   \n",
       "47                                   3.8               8.5   \n",
       "48                                   3.7               0.8   \n",
       "49                                   6.4               2.8   \n",
       "50                                   1.0               0.9   \n",
       "51                                  11.7               0.2   \n",
       "\n",
       "    Percentage Hispanic or Latino  Percentage Native American state_code  \n",
       "0                             4.3                         0.5         AL  \n",
       "1                             7.0                        14.9        NaN  \n",
       "2                            31.3                         4.5         AZ  \n",
       "3                             7.5                         0.7         AR  \n",
       "4                            39.0                         0.8         CA  \n",
       "5                            21.5                         1.0         CO  \n",
       "6                            16.1                         0.3         CT  \n",
       "7                             9.2                         0.4         DE  \n",
       "8                            11.0                         0.3        NaN  \n",
       "9                            25.6                         0.3         FL  \n",
       "10                            9.5                         0.4         GA  \n",
       "11                           10.5                         0.3        NaN  \n",
       "12                           12.5                         1.3         ID  \n",
       "13                           17.1                         0.3         IL  \n",
       "14                            6.9                         0.2         IN  \n",
       "15                            6.0                         0.4         IA  \n",
       "16                           11.9                         0.8         KS  \n",
       "17                            3.7                         0.2         KY  \n",
       "18                            5.1                         0.6         LA  \n",
       "19                            1.7                         0.6         ME  \n",
       "20                           10.1                         0.3         MD  \n",
       "21                           11.8                         0.2         MA  \n",
       "22                            5.1                         0.5         MI  \n",
       "23                            5.4                         1.0         MN  \n",
       "24                            3.1                         0.5         MS  \n",
       "25                            4.2                         0.4         MO  \n",
       "26                            3.8                         6.4         MT  \n",
       "27                           10.9                         0.9         NE  \n",
       "28                           28.7                         1.3         NV  \n",
       "29                            3.7                         0.2         NH  \n",
       "30                           20.2                         0.2         NJ  \n",
       "31                           48.8                         9.6         NM  \n",
       "32                           19.0                         0.4         NY  \n",
       "33                            9.4                         1.2         NC  \n",
       "34                            3.7                         5.3         ND  \n",
       "35                            3.8                         0.2         OH  \n",
       "36                           10.6                         7.6         OK  \n",
       "37                           13.0                         1.2         OR  \n",
       "38                            7.3                         0.2         PA  \n",
       "39                           15.4                         0.5         RI  \n",
       "40                            5.7                         0.4         SC  \n",
       "41                            3.8                         8.8         SD  \n",
       "42                            5.4                         0.3         TN  \n",
       "43                           39.3                         0.5         TX  \n",
       "44                           14.0                         1.1         UT  \n",
       "45                            1.9                         0.3         VT  \n",
       "46                            9.4                         0.3         VA  \n",
       "47                           12.7                         1.3         WA  \n",
       "48                            1.6                         0.2         WV  \n",
       "49                            6.8                         0.9         WI  \n",
       "50                            9.9                         2.4         WY  \n",
       "51                           98.7                         0.2        NaN  "
      ]
     },
     "execution_count": 31,
     "metadata": {},
     "output_type": "execute_result"
    }
   ],
   "source": [
    "statecodes_df = pd.read_csv('../resources/model_state.csv')\n",
    "statecodes_df = statecodes_df[['STUSAB',                                              \n",
    "               'STATE_NAME']]\n",
    "\n",
    "statecodes_df = statecodes_df.rename(columns={'STUSAB':'state_code',\n",
    "                                             'STATE_NAME':'state_name'})\n",
    "\n",
    "clean_states_byrace_df = raw_states_byrace_df.merge(statecodes_df, on='state_name', how = 'outer')\n",
    "clean_states_byrace_df"
   ]
  },
  {
   "cell_type": "code",
   "execution_count": 33,
   "id": "79289fa0-9188-4c03-83ae-5ad2dfc35a5f",
   "metadata": {},
   "outputs": [
    {
     "data": {
      "application/vnd.plotly.v1+json": {
       "config": {
        "plotlyServerURL": "https://plot.ly"
       },
       "data": [
        {
         "coloraxis": "coloraxis",
         "geo": "geo",
         "hovertemplate": "<b>%{hovertext}</b><br><br>state_code=%{location}<br>Percentage White=%{z}<extra></extra>",
         "hovertext": [
          "Alabama",
          "Alaska",
          "Arizona",
          "Arkansas",
          "California",
          "Colorado",
          "Connecticut",
          "Delaware",
          "District of Columbia",
          "Florida",
          "Georgia",
          "Hawaii",
          "Idaho",
          "Illinois",
          "Indiana",
          "Iowa",
          "Kansas",
          "Kentucky",
          "Louisiana",
          "Maine",
          "Maryland",
          "Massachusetts",
          "Michigan",
          "Minnesota",
          "Mississippi",
          "Missouri",
          "Montana",
          "Nebraska",
          "Nevada",
          "New Hampshire",
          "New Jersey",
          "New Mexico",
          "New York",
          "North Carolina",
          "North Dakota",
          "Ohio",
          "Oklahoma",
          "Oregon",
          "Pennsylvania",
          "Rhode Island",
          "South Carolina",
          "South Dakota",
          "Tennessee",
          "Texas",
          "Utah",
          "Vermont",
          "Virginia",
          "Washington",
          "West Virginia",
          "Wisconsin",
          "Wyoming",
          "Puerto Rico"
         ],
         "locationmode": "USA-states",
         "locations": [
          "AL",
          null,
          "AZ",
          "AR",
          "CA",
          "CO",
          "CT",
          "DE",
          null,
          "FL",
          "GA",
          null,
          "ID",
          "IL",
          "IN",
          "IA",
          "KS",
          "KY",
          "LA",
          "ME",
          "MD",
          "MA",
          "MI",
          "MN",
          "MS",
          "MO",
          "MT",
          "NE",
          "NV",
          "NH",
          "NJ",
          "NM",
          "NY",
          "NC",
          "ND",
          "OH",
          "OK",
          "OR",
          "PA",
          "RI",
          "SC",
          "SD",
          "TN",
          "TX",
          "UT",
          "VT",
          "VA",
          "WA",
          "WV",
          "WI",
          "WY",
          null
         ],
         "name": "",
         "type": "choropleth",
         "z": [
          68.1,
          64.6,
          77.2,
          76.7,
          59.7,
          84,
          75.9,
          68.8,
          41.3,
          75.1,
          58.6,
          25,
          90,
          71.5,
          83.3,
          90,
          84.4,
          87,
          62,
          94.3,
          55.5,
          78.1,
          78.4,
          82.8,
          58.4,
          82.2,
          88.5,
          87.1,
          65.6,
          92.9,
          67.8,
          74.8,
          63.7,
          68.7,
          86.6,
          81.3,
          72.3,
          84.3,
          80.5,
          80.5,
          67.2,
          84.3,
          77.6,
          74,
          86.4,
          94.2,
          67.6,
          75.4,
          93.1,
          85.4,
          91.4,
          65.9
         ]
        }
       ],
       "layout": {
        "autosize": true,
        "coloraxis": {
         "colorbar": {
          "title": {
           "text": "Percentage White"
          }
         },
         "colorscale": [
          [
           0,
           "#0d0887"
          ],
          [
           0.1111111111111111,
           "#46039f"
          ],
          [
           0.2222222222222222,
           "#7201a8"
          ],
          [
           0.3333333333333333,
           "#9c179e"
          ],
          [
           0.4444444444444444,
           "#bd3786"
          ],
          [
           0.5555555555555556,
           "#d8576b"
          ],
          [
           0.6666666666666666,
           "#ed7953"
          ],
          [
           0.7777777777777778,
           "#fb9f3a"
          ],
          [
           0.8888888888888888,
           "#fdca26"
          ],
          [
           1,
           "#f0f921"
          ]
         ]
        },
        "geo": {
         "center": {},
         "domain": {
          "x": [
           0,
           1
          ],
          "y": [
           0,
           1
          ]
         },
         "scope": "usa"
        },
        "legend": {
         "tracegroupgap": 0
        },
        "margin": {
         "t": 60
        },
        "template": {
         "data": {
          "bar": [
           {
            "error_x": {
             "color": "#2a3f5f"
            },
            "error_y": {
             "color": "#2a3f5f"
            },
            "marker": {
             "line": {
              "color": "#E5ECF6",
              "width": 0.5
             },
             "pattern": {
              "fillmode": "overlay",
              "size": 10,
              "solidity": 0.2
             }
            },
            "type": "bar"
           }
          ],
          "barpolar": [
           {
            "marker": {
             "line": {
              "color": "#E5ECF6",
              "width": 0.5
             },
             "pattern": {
              "fillmode": "overlay",
              "size": 10,
              "solidity": 0.2
             }
            },
            "type": "barpolar"
           }
          ],
          "carpet": [
           {
            "aaxis": {
             "endlinecolor": "#2a3f5f",
             "gridcolor": "white",
             "linecolor": "white",
             "minorgridcolor": "white",
             "startlinecolor": "#2a3f5f"
            },
            "baxis": {
             "endlinecolor": "#2a3f5f",
             "gridcolor": "white",
             "linecolor": "white",
             "minorgridcolor": "white",
             "startlinecolor": "#2a3f5f"
            },
            "type": "carpet"
           }
          ],
          "choropleth": [
           {
            "colorbar": {
             "outlinewidth": 0,
             "ticks": ""
            },
            "type": "choropleth"
           }
          ],
          "contour": [
           {
            "colorbar": {
             "outlinewidth": 0,
             "ticks": ""
            },
            "colorscale": [
             [
              0,
              "#0d0887"
             ],
             [
              0.1111111111111111,
              "#46039f"
             ],
             [
              0.2222222222222222,
              "#7201a8"
             ],
             [
              0.3333333333333333,
              "#9c179e"
             ],
             [
              0.4444444444444444,
              "#bd3786"
             ],
             [
              0.5555555555555556,
              "#d8576b"
             ],
             [
              0.6666666666666666,
              "#ed7953"
             ],
             [
              0.7777777777777778,
              "#fb9f3a"
             ],
             [
              0.8888888888888888,
              "#fdca26"
             ],
             [
              1,
              "#f0f921"
             ]
            ],
            "type": "contour"
           }
          ],
          "contourcarpet": [
           {
            "colorbar": {
             "outlinewidth": 0,
             "ticks": ""
            },
            "type": "contourcarpet"
           }
          ],
          "heatmap": [
           {
            "colorbar": {
             "outlinewidth": 0,
             "ticks": ""
            },
            "colorscale": [
             [
              0,
              "#0d0887"
             ],
             [
              0.1111111111111111,
              "#46039f"
             ],
             [
              0.2222222222222222,
              "#7201a8"
             ],
             [
              0.3333333333333333,
              "#9c179e"
             ],
             [
              0.4444444444444444,
              "#bd3786"
             ],
             [
              0.5555555555555556,
              "#d8576b"
             ],
             [
              0.6666666666666666,
              "#ed7953"
             ],
             [
              0.7777777777777778,
              "#fb9f3a"
             ],
             [
              0.8888888888888888,
              "#fdca26"
             ],
             [
              1,
              "#f0f921"
             ]
            ],
            "type": "heatmap"
           }
          ],
          "heatmapgl": [
           {
            "colorbar": {
             "outlinewidth": 0,
             "ticks": ""
            },
            "colorscale": [
             [
              0,
              "#0d0887"
             ],
             [
              0.1111111111111111,
              "#46039f"
             ],
             [
              0.2222222222222222,
              "#7201a8"
             ],
             [
              0.3333333333333333,
              "#9c179e"
             ],
             [
              0.4444444444444444,
              "#bd3786"
             ],
             [
              0.5555555555555556,
              "#d8576b"
             ],
             [
              0.6666666666666666,
              "#ed7953"
             ],
             [
              0.7777777777777778,
              "#fb9f3a"
             ],
             [
              0.8888888888888888,
              "#fdca26"
             ],
             [
              1,
              "#f0f921"
             ]
            ],
            "type": "heatmapgl"
           }
          ],
          "histogram": [
           {
            "marker": {
             "pattern": {
              "fillmode": "overlay",
              "size": 10,
              "solidity": 0.2
             }
            },
            "type": "histogram"
           }
          ],
          "histogram2d": [
           {
            "colorbar": {
             "outlinewidth": 0,
             "ticks": ""
            },
            "colorscale": [
             [
              0,
              "#0d0887"
             ],
             [
              0.1111111111111111,
              "#46039f"
             ],
             [
              0.2222222222222222,
              "#7201a8"
             ],
             [
              0.3333333333333333,
              "#9c179e"
             ],
             [
              0.4444444444444444,
              "#bd3786"
             ],
             [
              0.5555555555555556,
              "#d8576b"
             ],
             [
              0.6666666666666666,
              "#ed7953"
             ],
             [
              0.7777777777777778,
              "#fb9f3a"
             ],
             [
              0.8888888888888888,
              "#fdca26"
             ],
             [
              1,
              "#f0f921"
             ]
            ],
            "type": "histogram2d"
           }
          ],
          "histogram2dcontour": [
           {
            "colorbar": {
             "outlinewidth": 0,
             "ticks": ""
            },
            "colorscale": [
             [
              0,
              "#0d0887"
             ],
             [
              0.1111111111111111,
              "#46039f"
             ],
             [
              0.2222222222222222,
              "#7201a8"
             ],
             [
              0.3333333333333333,
              "#9c179e"
             ],
             [
              0.4444444444444444,
              "#bd3786"
             ],
             [
              0.5555555555555556,
              "#d8576b"
             ],
             [
              0.6666666666666666,
              "#ed7953"
             ],
             [
              0.7777777777777778,
              "#fb9f3a"
             ],
             [
              0.8888888888888888,
              "#fdca26"
             ],
             [
              1,
              "#f0f921"
             ]
            ],
            "type": "histogram2dcontour"
           }
          ],
          "mesh3d": [
           {
            "colorbar": {
             "outlinewidth": 0,
             "ticks": ""
            },
            "type": "mesh3d"
           }
          ],
          "parcoords": [
           {
            "line": {
             "colorbar": {
              "outlinewidth": 0,
              "ticks": ""
             }
            },
            "type": "parcoords"
           }
          ],
          "pie": [
           {
            "automargin": true,
            "type": "pie"
           }
          ],
          "scatter": [
           {
            "marker": {
             "colorbar": {
              "outlinewidth": 0,
              "ticks": ""
             }
            },
            "type": "scatter"
           }
          ],
          "scatter3d": [
           {
            "line": {
             "colorbar": {
              "outlinewidth": 0,
              "ticks": ""
             }
            },
            "marker": {
             "colorbar": {
              "outlinewidth": 0,
              "ticks": ""
             }
            },
            "type": "scatter3d"
           }
          ],
          "scattercarpet": [
           {
            "marker": {
             "colorbar": {
              "outlinewidth": 0,
              "ticks": ""
             }
            },
            "type": "scattercarpet"
           }
          ],
          "scattergeo": [
           {
            "marker": {
             "colorbar": {
              "outlinewidth": 0,
              "ticks": ""
             }
            },
            "type": "scattergeo"
           }
          ],
          "scattergl": [
           {
            "marker": {
             "colorbar": {
              "outlinewidth": 0,
              "ticks": ""
             }
            },
            "type": "scattergl"
           }
          ],
          "scattermapbox": [
           {
            "marker": {
             "colorbar": {
              "outlinewidth": 0,
              "ticks": ""
             }
            },
            "type": "scattermapbox"
           }
          ],
          "scatterpolar": [
           {
            "marker": {
             "colorbar": {
              "outlinewidth": 0,
              "ticks": ""
             }
            },
            "type": "scatterpolar"
           }
          ],
          "scatterpolargl": [
           {
            "marker": {
             "colorbar": {
              "outlinewidth": 0,
              "ticks": ""
             }
            },
            "type": "scatterpolargl"
           }
          ],
          "scatterternary": [
           {
            "marker": {
             "colorbar": {
              "outlinewidth": 0,
              "ticks": ""
             }
            },
            "type": "scatterternary"
           }
          ],
          "surface": [
           {
            "colorbar": {
             "outlinewidth": 0,
             "ticks": ""
            },
            "colorscale": [
             [
              0,
              "#0d0887"
             ],
             [
              0.1111111111111111,
              "#46039f"
             ],
             [
              0.2222222222222222,
              "#7201a8"
             ],
             [
              0.3333333333333333,
              "#9c179e"
             ],
             [
              0.4444444444444444,
              "#bd3786"
             ],
             [
              0.5555555555555556,
              "#d8576b"
             ],
             [
              0.6666666666666666,
              "#ed7953"
             ],
             [
              0.7777777777777778,
              "#fb9f3a"
             ],
             [
              0.8888888888888888,
              "#fdca26"
             ],
             [
              1,
              "#f0f921"
             ]
            ],
            "type": "surface"
           }
          ],
          "table": [
           {
            "cells": {
             "fill": {
              "color": "#EBF0F8"
             },
             "line": {
              "color": "white"
             }
            },
            "header": {
             "fill": {
              "color": "#C8D4E3"
             },
             "line": {
              "color": "white"
             }
            },
            "type": "table"
           }
          ]
         },
         "layout": {
          "annotationdefaults": {
           "arrowcolor": "#2a3f5f",
           "arrowhead": 0,
           "arrowwidth": 1
          },
          "autotypenumbers": "strict",
          "coloraxis": {
           "colorbar": {
            "outlinewidth": 0,
            "ticks": ""
           }
          },
          "colorscale": {
           "diverging": [
            [
             0,
             "#8e0152"
            ],
            [
             0.1,
             "#c51b7d"
            ],
            [
             0.2,
             "#de77ae"
            ],
            [
             0.3,
             "#f1b6da"
            ],
            [
             0.4,
             "#fde0ef"
            ],
            [
             0.5,
             "#f7f7f7"
            ],
            [
             0.6,
             "#e6f5d0"
            ],
            [
             0.7,
             "#b8e186"
            ],
            [
             0.8,
             "#7fbc41"
            ],
            [
             0.9,
             "#4d9221"
            ],
            [
             1,
             "#276419"
            ]
           ],
           "sequential": [
            [
             0,
             "#0d0887"
            ],
            [
             0.1111111111111111,
             "#46039f"
            ],
            [
             0.2222222222222222,
             "#7201a8"
            ],
            [
             0.3333333333333333,
             "#9c179e"
            ],
            [
             0.4444444444444444,
             "#bd3786"
            ],
            [
             0.5555555555555556,
             "#d8576b"
            ],
            [
             0.6666666666666666,
             "#ed7953"
            ],
            [
             0.7777777777777778,
             "#fb9f3a"
            ],
            [
             0.8888888888888888,
             "#fdca26"
            ],
            [
             1,
             "#f0f921"
            ]
           ],
           "sequentialminus": [
            [
             0,
             "#0d0887"
            ],
            [
             0.1111111111111111,
             "#46039f"
            ],
            [
             0.2222222222222222,
             "#7201a8"
            ],
            [
             0.3333333333333333,
             "#9c179e"
            ],
            [
             0.4444444444444444,
             "#bd3786"
            ],
            [
             0.5555555555555556,
             "#d8576b"
            ],
            [
             0.6666666666666666,
             "#ed7953"
            ],
            [
             0.7777777777777778,
             "#fb9f3a"
            ],
            [
             0.8888888888888888,
             "#fdca26"
            ],
            [
             1,
             "#f0f921"
            ]
           ]
          },
          "colorway": [
           "#636efa",
           "#EF553B",
           "#00cc96",
           "#ab63fa",
           "#FFA15A",
           "#19d3f3",
           "#FF6692",
           "#B6E880",
           "#FF97FF",
           "#FECB52"
          ],
          "font": {
           "color": "#2a3f5f"
          },
          "geo": {
           "bgcolor": "white",
           "lakecolor": "white",
           "landcolor": "#E5ECF6",
           "showlakes": true,
           "showland": true,
           "subunitcolor": "white"
          },
          "hoverlabel": {
           "align": "left"
          },
          "hovermode": "closest",
          "mapbox": {
           "style": "light"
          },
          "paper_bgcolor": "white",
          "plot_bgcolor": "#E5ECF6",
          "polar": {
           "angularaxis": {
            "gridcolor": "white",
            "linecolor": "white",
            "ticks": ""
           },
           "bgcolor": "#E5ECF6",
           "radialaxis": {
            "gridcolor": "white",
            "linecolor": "white",
            "ticks": ""
           }
          },
          "scene": {
           "xaxis": {
            "backgroundcolor": "#E5ECF6",
            "gridcolor": "white",
            "gridwidth": 2,
            "linecolor": "white",
            "showbackground": true,
            "ticks": "",
            "zerolinecolor": "white"
           },
           "yaxis": {
            "backgroundcolor": "#E5ECF6",
            "gridcolor": "white",
            "gridwidth": 2,
            "linecolor": "white",
            "showbackground": true,
            "ticks": "",
            "zerolinecolor": "white"
           },
           "zaxis": {
            "backgroundcolor": "#E5ECF6",
            "gridcolor": "white",
            "gridwidth": 2,
            "linecolor": "white",
            "showbackground": true,
            "ticks": "",
            "zerolinecolor": "white"
           }
          },
          "shapedefaults": {
           "line": {
            "color": "#2a3f5f"
           }
          },
          "ternary": {
           "aaxis": {
            "gridcolor": "white",
            "linecolor": "white",
            "ticks": ""
           },
           "baxis": {
            "gridcolor": "white",
            "linecolor": "white",
            "ticks": ""
           },
           "bgcolor": "#E5ECF6",
           "caxis": {
            "gridcolor": "white",
            "linecolor": "white",
            "ticks": ""
           }
          },
          "title": {
           "x": 0.05
          },
          "xaxis": {
           "automargin": true,
           "gridcolor": "white",
           "linecolor": "white",
           "ticks": "",
           "title": {
            "standoff": 15
           },
           "zerolinecolor": "white",
           "zerolinewidth": 2
          },
          "yaxis": {
           "automargin": true,
           "gridcolor": "white",
           "linecolor": "white",
           "ticks": "",
           "title": {
            "standoff": 15
           },
           "zerolinecolor": "white",
           "zerolinewidth": 2
          }
         }
        }
       }
      },
      "image/png": "[encoded data removed]",
      "text/html": [
       "<div>                            <div id=\"8360eebd-cbc5-41b4-bfbb-e1d5b0b86917\" class=\"plotly-graph-div\" style=\"height:525px; width:100%;\"></div>            <script type=\"text/javascript\">                require([\"plotly\"], function(Plotly) {                    window.PLOTLYENV=window.PLOTLYENV || {};                                    if (document.getElementById(\"8360eebd-cbc5-41b4-bfbb-e1d5b0b86917\")) {                    Plotly.newPlot(                        \"8360eebd-cbc5-41b4-bfbb-e1d5b0b86917\",                        [{\"coloraxis\":\"coloraxis\",\"geo\":\"geo\",\"hovertemplate\":\"<b>%{hovertext}</b><br><br>state_code=%{location}<br>Percentage White=%{z}<extra></extra>\",\"hovertext\":[\"Alabama\",\"Alaska\",\"Arizona\",\"Arkansas\",\"California\",\"Colorado\",\"Connecticut\",\"Delaware\",\"District of Columbia\",\"Florida\",\"Georgia\",\"Hawaii\",\"Idaho\",\"Illinois\",\"Indiana\",\"Iowa\",\"Kansas\",\"Kentucky\",\"Louisiana\",\"Maine\",\"Maryland\",\"Massachusetts\",\"Michigan\",\"Minnesota\",\"Mississippi\",\"Missouri\",\"Montana\",\"Nebraska\",\"Nevada\",\"New Hampshire\",\"New Jersey\",\"New Mexico\",\"New York\",\"North Carolina\",\"North Dakota\",\"Ohio\",\"Oklahoma\",\"Oregon\",\"Pennsylvania\",\"Rhode Island\",\"South Carolina\",\"South Dakota\",\"Tennessee\",\"Texas\",\"Utah\",\"Vermont\",\"Virginia\",\"Washington\",\"West Virginia\",\"Wisconsin\",\"Wyoming\",\"Puerto Rico\"],\"locationmode\":\"USA-states\",\"locations\":[\"AL\",null,\"AZ\",\"AR\",\"CA\",\"CO\",\"CT\",\"DE\",null,\"FL\",\"GA\",null,\"ID\",\"IL\",\"IN\",\"IA\",\"KS\",\"KY\",\"LA\",\"ME\",\"MD\",\"MA\",\"MI\",\"MN\",\"MS\",\"MO\",\"MT\",\"NE\",\"NV\",\"NH\",\"NJ\",\"NM\",\"NY\",\"NC\",\"ND\",\"OH\",\"OK\",\"OR\",\"PA\",\"RI\",\"SC\",\"SD\",\"TN\",\"TX\",\"UT\",\"VT\",\"VA\",\"WA\",\"WV\",\"WI\",\"WY\",null],\"name\":\"\",\"type\":\"choropleth\",\"z\":[68.1,64.6,77.2,76.7,59.7,84.0,75.9,68.8,41.3,75.1,58.6,25.0,90.0,71.5,83.3,90.0,84.4,87.0,62.0,94.3,55.5,78.1,78.4,82.8,58.4,82.2,88.5,87.1,65.6,92.9,67.8,74.8,63.7,68.7,86.6,81.3,72.3,84.3,80.5,80.5,67.2,84.3,77.6,74.0,86.4,94.2,67.6,75.4,93.1,85.4,91.4,65.9]}],                        {\"coloraxis\":{\"colorbar\":{\"title\":{\"text\":\"Percentage White\"}},\"colorscale\":[[0.0,\"#0d0887\"],[0.1111111111111111,\"#46039f\"],[0.2222222222222222,\"#7201a8\"],[0.3333333333333333,\"#9c179e\"],[0.4444444444444444,\"#bd3786\"],[0.5555555555555556,\"#d8576b\"],[0.6666666666666666,\"#ed7953\"],[0.7777777777777778,\"#fb9f3a\"],[0.8888888888888888,\"#fdca26\"],[1.0,\"#f0f921\"]]},\"geo\":{\"center\":{},\"domain\":{\"x\":[0.0,1.0],\"y\":[0.0,1.0]},\"scope\":\"usa\"},\"legend\":{\"tracegroupgap\":0},\"margin\":{\"t\":60},\"template\":{\"data\":{\"bar\":[{\"error_x\":{\"color\":\"#2a3f5f\"},\"error_y\":{\"color\":\"#2a3f5f\"},\"marker\":{\"line\":{\"color\":\"#E5ECF6\",\"width\":0.5},\"pattern\":{\"fillmode\":\"overlay\",\"size\":10,\"solidity\":0.2}},\"type\":\"bar\"}],\"barpolar\":[{\"marker\":{\"line\":{\"color\":\"#E5ECF6\",\"width\":0.5},\"pattern\":{\"fillmode\":\"overlay\",\"size\":10,\"solidity\":0.2}},\"type\":\"barpolar\"}],\"carpet\":[{\"aaxis\":{\"endlinecolor\":\"#2a3f5f\",\"gridcolor\":\"white\",\"linecolor\":\"white\",\"minorgridcolor\":\"white\",\"startlinecolor\":\"#2a3f5f\"},\"baxis\":{\"endlinecolor\":\"#2a3f5f\",\"gridcolor\":\"white\",\"linecolor\":\"white\",\"minorgridcolor\":\"white\",\"startlinecolor\":\"#2a3f5f\"},\"type\":\"carpet\"}],\"choropleth\":[{\"colorbar\":{\"outlinewidth\":0,\"ticks\":\"\"},\"type\":\"choropleth\"}],\"contour\":[{\"colorbar\":{\"outlinewidth\":0,\"ticks\":\"\"},\"colorscale\":[[0.0,\"#0d0887\"],[0.1111111111111111,\"#46039f\"],[0.2222222222222222,\"#7201a8\"],[0.3333333333333333,\"#9c179e\"],[0.4444444444444444,\"#bd3786\"],[0.5555555555555556,\"#d8576b\"],[0.6666666666666666,\"#ed7953\"],[0.7777777777777778,\"#fb9f3a\"],[0.8888888888888888,\"#fdca26\"],[1.0,\"#f0f921\"]],\"type\":\"contour\"}],\"contourcarpet\":[{\"colorbar\":{\"outlinewidth\":0,\"ticks\":\"\"},\"type\":\"contourcarpet\"}],\"heatmap\":[{\"colorbar\":{\"outlinewidth\":0,\"ticks\":\"\"},\"colorscale\":[[0.0,\"#0d0887\"],[0.1111111111111111,\"#46039f\"],[0.2222222222222222,\"#7201a8\"],[0.3333333333333333,\"#9c179e\"],[0.4444444444444444,\"#bd3786\"],[0.5555555555555556,\"#d8576b\"],[0.6666666666666666,\"#ed7953\"],[0.7777777777777778,\"#fb9f3a\"],[0.8888888888888888,\"#fdca26\"],[1.0,\"#f0f921\"]],\"type\":\"heatmap\"}],\"heatmapgl\":[{\"colorbar\":{\"outlinewidth\":0,\"ticks\":\"\"},\"colorscale\":[[0.0,\"#0d0887\"],[0.1111111111111111,\"#46039f\"],[0.2222222222222222,\"#7201a8\"],[0.3333333333333333,\"#9c179e\"],[0.4444444444444444,\"#bd3786\"],[0.5555555555555556,\"#d8576b\"],[0.6666666666666666,\"#ed7953\"],[0.7777777777777778,\"#fb9f3a\"],[0.8888888888888888,\"#fdca26\"],[1.0,\"#f0f921\"]],\"type\":\"heatmapgl\"}],\"histogram\":[{\"marker\":{\"pattern\":{\"fillmode\":\"overlay\",\"size\":10,\"solidity\":0.2}},\"type\":\"histogram\"}],\"histogram2d\":[{\"colorbar\":{\"outlinewidth\":0,\"ticks\":\"\"},\"colorscale\":[[0.0,\"#0d0887\"],[0.1111111111111111,\"#46039f\"],[0.2222222222222222,\"#7201a8\"],[0.3333333333333333,\"#9c179e\"],[0.4444444444444444,\"#bd3786\"],[0.5555555555555556,\"#d8576b\"],[0.6666666666666666,\"#ed7953\"],[0.7777777777777778,\"#fb9f3a\"],[0.8888888888888888,\"#fdca26\"],[1.0,\"#f0f921\"]],\"type\":\"histogram2d\"}],\"histogram2dcontour\":[{\"colorbar\":{\"outlinewidth\":0,\"ticks\":\"\"},\"colorscale\":[[0.0,\"#0d0887\"],[0.1111111111111111,\"#46039f\"],[0.2222222222222222,\"#7201a8\"],[0.3333333333333333,\"#9c179e\"],[0.4444444444444444,\"#bd3786\"],[0.5555555555555556,\"#d8576b\"],[0.6666666666666666,\"#ed7953\"],[0.7777777777777778,\"#fb9f3a\"],[0.8888888888888888,\"#fdca26\"],[1.0,\"#f0f921\"]],\"type\":\"histogram2dcontour\"}],\"mesh3d\":[{\"colorbar\":{\"outlinewidth\":0,\"ticks\":\"\"},\"type\":\"mesh3d\"}],\"parcoords\":[{\"line\":{\"colorbar\":{\"outlinewidth\":0,\"ticks\":\"\"}},\"type\":\"parcoords\"}],\"pie\":[{\"automargin\":true,\"type\":\"pie\"}],\"scatter\":[{\"marker\":{\"colorbar\":{\"outlinewidth\":0,\"ticks\":\"\"}},\"type\":\"scatter\"}],\"scatter3d\":[{\"line\":{\"colorbar\":{\"outlinewidth\":0,\"ticks\":\"\"}},\"marker\":{\"colorbar\":{\"outlinewidth\":0,\"ticks\":\"\"}},\"type\":\"scatter3d\"}],\"scattercarpet\":[{\"marker\":{\"colorbar\":{\"outlinewidth\":0,\"ticks\":\"\"}},\"type\":\"scattercarpet\"}],\"scattergeo\":[{\"marker\":{\"colorbar\":{\"outlinewidth\":0,\"ticks\":\"\"}},\"type\":\"scattergeo\"}],\"scattergl\":[{\"marker\":{\"colorbar\":{\"outlinewidth\":0,\"ticks\":\"\"}},\"type\":\"scattergl\"}],\"scattermapbox\":[{\"marker\":{\"colorbar\":{\"outlinewidth\":0,\"ticks\":\"\"}},\"type\":\"scattermapbox\"}],\"scatterpolar\":[{\"marker\":{\"colorbar\":{\"outlinewidth\":0,\"ticks\":\"\"}},\"type\":\"scatterpolar\"}],\"scatterpolargl\":[{\"marker\":{\"colorbar\":{\"outlinewidth\":0,\"ticks\":\"\"}},\"type\":\"scatterpolargl\"}],\"scatterternary\":[{\"marker\":{\"colorbar\":{\"outlinewidth\":0,\"ticks\":\"\"}},\"type\":\"scatterternary\"}],\"surface\":[{\"colorbar\":{\"outlinewidth\":0,\"ticks\":\"\"},\"colorscale\":[[0.0,\"#0d0887\"],[0.1111111111111111,\"#46039f\"],[0.2222222222222222,\"#7201a8\"],[0.3333333333333333,\"#9c179e\"],[0.4444444444444444,\"#bd3786\"],[0.5555555555555556,\"#d8576b\"],[0.6666666666666666,\"#ed7953\"],[0.7777777777777778,\"#fb9f3a\"],[0.8888888888888888,\"#fdca26\"],[1.0,\"#f0f921\"]],\"type\":\"surface\"}],\"table\":[{\"cells\":{\"fill\":{\"color\":\"#EBF0F8\"},\"line\":{\"color\":\"white\"}},\"header\":{\"fill\":{\"color\":\"#C8D4E3\"},\"line\":{\"color\":\"white\"}},\"type\":\"table\"}]},\"layout\":{\"annotationdefaults\":{\"arrowcolor\":\"#2a3f5f\",\"arrowhead\":0,\"arrowwidth\":1},\"autotypenumbers\":\"strict\",\"coloraxis\":{\"colorbar\":{\"outlinewidth\":0,\"ticks\":\"\"}},\"colorscale\":{\"diverging\":[[0,\"#8e0152\"],[0.1,\"#c51b7d\"],[0.2,\"#de77ae\"],[0.3,\"#f1b6da\"],[0.4,\"#fde0ef\"],[0.5,\"#f7f7f7\"],[0.6,\"#e6f5d0\"],[0.7,\"#b8e186\"],[0.8,\"#7fbc41\"],[0.9,\"#4d9221\"],[1,\"#276419\"]],\"sequential\":[[0.0,\"#0d0887\"],[0.1111111111111111,\"#46039f\"],[0.2222222222222222,\"#7201a8\"],[0.3333333333333333,\"#9c179e\"],[0.4444444444444444,\"#bd3786\"],[0.5555555555555556,\"#d8576b\"],[0.6666666666666666,\"#ed7953\"],[0.7777777777777778,\"#fb9f3a\"],[0.8888888888888888,\"#fdca26\"],[1.0,\"#f0f921\"]],\"sequentialminus\":[[0.0,\"#0d0887\"],[0.1111111111111111,\"#46039f\"],[0.2222222222222222,\"#7201a8\"],[0.3333333333333333,\"#9c179e\"],[0.4444444444444444,\"#bd3786\"],[0.5555555555555556,\"#d8576b\"],[0.6666666666666666,\"#ed7953\"],[0.7777777777777778,\"#fb9f3a\"],[0.8888888888888888,\"#fdca26\"],[1.0,\"#f0f921\"]]},\"colorway\":[\"#636efa\",\"#EF553B\",\"#00cc96\",\"#ab63fa\",\"#FFA15A\",\"#19d3f3\",\"#FF6692\",\"#B6E880\",\"#FF97FF\",\"#FECB52\"],\"font\":{\"color\":\"#2a3f5f\"},\"geo\":{\"bgcolor\":\"white\",\"lakecolor\":\"white\",\"landcolor\":\"#E5ECF6\",\"showlakes\":true,\"showland\":true,\"subunitcolor\":\"white\"},\"hoverlabel\":{\"align\":\"left\"},\"hovermode\":\"closest\",\"mapbox\":{\"style\":\"light\"},\"paper_bgcolor\":\"white\",\"plot_bgcolor\":\"#E5ECF6\",\"polar\":{\"angularaxis\":{\"gridcolor\":\"white\",\"linecolor\":\"white\",\"ticks\":\"\"},\"bgcolor\":\"#E5ECF6\",\"radialaxis\":{\"gridcolor\":\"white\",\"linecolor\":\"white\",\"ticks\":\"\"}},\"scene\":{\"xaxis\":{\"backgroundcolor\":\"#E5ECF6\",\"gridcolor\":\"white\",\"gridwidth\":2,\"linecolor\":\"white\",\"showbackground\":true,\"ticks\":\"\",\"zerolinecolor\":\"white\"},\"yaxis\":{\"backgroundcolor\":\"#E5ECF6\",\"gridcolor\":\"white\",\"gridwidth\":2,\"linecolor\":\"white\",\"showbackground\":true,\"ticks\":\"\",\"zerolinecolor\":\"white\"},\"zaxis\":{\"backgroundcolor\":\"#E5ECF6\",\"gridcolor\":\"white\",\"gridwidth\":2,\"linecolor\":\"white\",\"showbackground\":true,\"ticks\":\"\",\"zerolinecolor\":\"white\"}},\"shapedefaults\":{\"line\":{\"color\":\"#2a3f5f\"}},\"ternary\":{\"aaxis\":{\"gridcolor\":\"white\",\"linecolor\":\"white\",\"ticks\":\"\"},\"baxis\":{\"gridcolor\":\"white\",\"linecolor\":\"white\",\"ticks\":\"\"},\"bgcolor\":\"#E5ECF6\",\"caxis\":{\"gridcolor\":\"white\",\"linecolor\":\"white\",\"ticks\":\"\"}},\"title\":{\"x\":0.05},\"xaxis\":{\"automargin\":true,\"gridcolor\":\"white\",\"linecolor\":\"white\",\"ticks\":\"\",\"title\":{\"standoff\":15},\"zerolinecolor\":\"white\",\"zerolinewidth\":2},\"yaxis\":{\"automargin\":true,\"gridcolor\":\"white\",\"linecolor\":\"white\",\"ticks\":\"\",\"title\":{\"standoff\":15},\"zerolinecolor\":\"white\",\"zerolinewidth\":2}}}},                        {\"responsive\": true}                    ).then(function(){\n",
       "                            \n",
       "var gd = document.getElementById('8360eebd-cbc5-41b4-bfbb-e1d5b0b86917');\n",
       "var x = new MutationObserver(function (mutations, observer) {{\n",
       "        var display = window.getComputedStyle(gd).display;\n",
       "        if (!display || display === 'none') {{\n",
       "            console.log([gd, 'removed!']);\n",
       "            Plotly.purge(gd);\n",
       "            observer.disconnect();\n",
       "        }}\n",
       "}});\n",
       "\n",
       "// Listen for the removal of the full notebook cells\n",
       "var notebookContainer = gd.closest('#notebook-container');\n",
       "if (notebookContainer) {{\n",
       "    x.observe(notebookContainer, {childList: true});\n",
       "}}\n",
       "\n",
       "// Listen for the clearing of the current output cell\n",
       "var outputEl = gd.closest('.output');\n",
       "if (outputEl) {{\n",
       "    x.observe(outputEl, {childList: true});\n",
       "}}\n",
       "\n",
       "                        })                };                });            </script>        </div>"
      ]
     },
     "metadata": {},
     "output_type": "display_data"
    }
   ],
   "source": [
    "fig_white = px.choropleth(clean_states_byrace_df,\n",
    "              locations = \"state_code\",\n",
    "              locationmode = \"USA-states\",\n",
    "              hover_name= \"state_name\",\n",
    "              color = \"Percentage White\", scope =\"usa\")\n",
    "\n",
    "fig_white.show()"
   ]
  },
  {
   "cell_type": "code",
   "execution_count": 23,
   "id": "00f5cb2e-dfcf-4015-8bec-8b45de5fae9e",
   "metadata": {},
   "outputs": [
    {
     "data": {
      "application/vnd.plotly.v1+json": {
       "config": {
        "plotlyServerURL": "https://plot.ly"
       },
       "data": [
        {
         "coloraxis": "coloraxis",
         "geo": "geo",
         "hovertemplate": "<b>%{hovertext}</b><br><br>state_code=%{location}<br>Percentage Black or African American=%{z}<extra></extra>",
         "hovertext": [
          "Alabama",
          "Alaska",
          "Arizona",
          "Arkansas",
          "California",
          "Colorado",
          "Connecticut",
          "Delaware",
          "District of Columbia",
          "Florida",
          "Georgia",
          "Hawaii",
          "Idaho",
          "Illinois",
          "Indiana",
          "Iowa",
          "Kansas",
          "Kentucky",
          "Louisiana",
          "Maine",
          "Maryland",
          "Massachusetts",
          "Michigan",
          "Minnesota",
          "Mississippi",
          "Missouri",
          "Montana",
          "Nebraska",
          "Nevada",
          "New Hampshire",
          "New Jersey",
          "New Mexico",
          "New York",
          "North Carolina",
          "North Dakota",
          "Ohio",
          "Oklahoma",
          "Oregon",
          "Pennsylvania",
          "Rhode Island",
          "South Carolina",
          "South Dakota",
          "Tennessee",
          "Texas",
          "Utah",
          "Vermont",
          "Virginia",
          "Washington",
          "West Virginia",
          "Wisconsin",
          "Wyoming",
          "Puerto Rico"
         ],
         "locationmode": "USA-states",
         "locations": [
          "AL",
          null,
          "AZ",
          "AR",
          "CA",
          "CO",
          "CT",
          "DE",
          null,
          "FL",
          "GA",
          null,
          "ID",
          "IL",
          "IN",
          "IA",
          "KS",
          "KY",
          "LA",
          "ME",
          "MD",
          "MA",
          "MI",
          "MN",
          "MS",
          "MO",
          "MT",
          "NE",
          "NV",
          "NH",
          "NJ",
          "NM",
          "NY",
          "NC",
          "ND",
          "OH",
          "OK",
          "OR",
          "PA",
          "RI",
          "SC",
          "SD",
          "TN",
          "TX",
          "UT",
          "VT",
          "VA",
          "WA",
          "WV",
          "WI",
          "WY",
          null
         ],
         "name": "",
         "type": "choropleth",
         "z": [
          26.6,
          3.3,
          4.5,
          15.3,
          5.8,
          4.2,
          10.7,
          22.2,
          46.3,
          16.1,
          31.6,
          1.8,
          0.7,
          14.2,
          9.4,
          3.7,
          5.9,
          8.1,
          32.2,
          1.4,
          29.9,
          7.6,
          13.8,
          6.4,
          37.7,
          11.5,
          0.5,
          4.8,
          9.1,
          1.6,
          13.5,
          2.1,
          15.7,
          21.4,
          2.9,
          12.4,
          7.3,
          1.9,
          11.2,
          6.8,
          26.8,
          2,
          16.8,
          12.1,
          1.2,
          1.4,
          19.2,
          3.8,
          3.7,
          6.4,
          1,
          11.7
         ]
        }
       ],
       "layout": {
        "autosize": true,
        "coloraxis": {
         "colorbar": {
          "title": {
           "text": "Percentage Black or African American"
          }
         },
         "colorscale": [
          [
           0,
           "#0d0887"
          ],
          [
           0.1111111111111111,
           "#46039f"
          ],
          [
           0.2222222222222222,
           "#7201a8"
          ],
          [
           0.3333333333333333,
           "#9c179e"
          ],
          [
           0.4444444444444444,
           "#bd3786"
          ],
          [
           0.5555555555555556,
           "#d8576b"
          ],
          [
           0.6666666666666666,
           "#ed7953"
          ],
          [
           0.7777777777777778,
           "#fb9f3a"
          ],
          [
           0.8888888888888888,
           "#fdca26"
          ],
          [
           1,
           "#f0f921"
          ]
         ]
        },
        "dragmode": "pan",
        "geo": {
         "center": {
          "lat": 38.7,
          "lon": -96.6
         },
         "domain": {
          "x": [
           0,
           1
          ],
          "y": [
           0,
           1
          ]
         },
         "fitbounds": false,
         "projection": {
          "scale": 1
         },
         "scope": "usa"
        },
        "legend": {
         "tracegroupgap": 0
        },
        "margin": {
         "t": 60
        },
        "template": {
         "data": {
          "bar": [
           {
            "error_x": {
             "color": "#2a3f5f"
            },
            "error_y": {
             "color": "#2a3f5f"
            },
            "marker": {
             "line": {
              "color": "#E5ECF6",
              "width": 0.5
             },
             "pattern": {
              "fillmode": "overlay",
              "size": 10,
              "solidity": 0.2
             }
            },
            "type": "bar"
           }
          ],
          "barpolar": [
           {
            "marker": {
             "line": {
              "color": "#E5ECF6",
              "width": 0.5
             },
             "pattern": {
              "fillmode": "overlay",
              "size": 10,
              "solidity": 0.2
             }
            },
            "type": "barpolar"
           }
          ],
          "carpet": [
           {
            "aaxis": {
             "endlinecolor": "#2a3f5f",
             "gridcolor": "white",
             "linecolor": "white",
             "minorgridcolor": "white",
             "startlinecolor": "#2a3f5f"
            },
            "baxis": {
             "endlinecolor": "#2a3f5f",
             "gridcolor": "white",
             "linecolor": "white",
             "minorgridcolor": "white",
             "startlinecolor": "#2a3f5f"
            },
            "type": "carpet"
           }
          ],
          "choropleth": [
           {
            "colorbar": {
             "outlinewidth": 0,
             "ticks": ""
            },
            "type": "choropleth"
           }
          ],
          "contour": [
           {
            "colorbar": {
             "outlinewidth": 0,
             "ticks": ""
            },
            "colorscale": [
             [
              0,
              "#0d0887"
             ],
             [
              0.1111111111111111,
              "#46039f"
             ],
             [
              0.2222222222222222,
              "#7201a8"
             ],
             [
              0.3333333333333333,
              "#9c179e"
             ],
             [
              0.4444444444444444,
              "#bd3786"
             ],
             [
              0.5555555555555556,
              "#d8576b"
             ],
             [
              0.6666666666666666,
              "#ed7953"
             ],
             [
              0.7777777777777778,
              "#fb9f3a"
             ],
             [
              0.8888888888888888,
              "#fdca26"
             ],
             [
              1,
              "#f0f921"
             ]
            ],
            "type": "contour"
           }
          ],
          "contourcarpet": [
           {
            "colorbar": {
             "outlinewidth": 0,
             "ticks": ""
            },
            "type": "contourcarpet"
           }
          ],
          "heatmap": [
           {
            "colorbar": {
             "outlinewidth": 0,
             "ticks": ""
            },
            "colorscale": [
             [
              0,
              "#0d0887"
             ],
             [
              0.1111111111111111,
              "#46039f"
             ],
             [
              0.2222222222222222,
              "#7201a8"
             ],
             [
              0.3333333333333333,
              "#9c179e"
             ],
             [
              0.4444444444444444,
              "#bd3786"
             ],
             [
              0.5555555555555556,
              "#d8576b"
             ],
             [
              0.6666666666666666,
              "#ed7953"
             ],
             [
              0.7777777777777778,
              "#fb9f3a"
             ],
             [
              0.8888888888888888,
              "#fdca26"
             ],
             [
              1,
              "#f0f921"
             ]
            ],
            "type": "heatmap"
           }
          ],
          "heatmapgl": [
           {
            "colorbar": {
             "outlinewidth": 0,
             "ticks": ""
            },
            "colorscale": [
             [
              0,
              "#0d0887"
             ],
             [
              0.1111111111111111,
              "#46039f"
             ],
             [
              0.2222222222222222,
              "#7201a8"
             ],
             [
              0.3333333333333333,
              "#9c179e"
             ],
             [
              0.4444444444444444,
              "#bd3786"
             ],
             [
              0.5555555555555556,
              "#d8576b"
             ],
             [
              0.6666666666666666,
              "#ed7953"
             ],
             [
              0.7777777777777778,
              "#fb9f3a"
             ],
             [
              0.8888888888888888,
              "#fdca26"
             ],
             [
              1,
              "#f0f921"
             ]
            ],
            "type": "heatmapgl"
           }
          ],
          "histogram": [
           {
            "marker": {
             "pattern": {
              "fillmode": "overlay",
              "size": 10,
              "solidity": 0.2
             }
            },
            "type": "histogram"
           }
          ],
          "histogram2d": [
           {
            "colorbar": {
             "outlinewidth": 0,
             "ticks": ""
            },
            "colorscale": [
             [
              0,
              "#0d0887"
             ],
             [
              0.1111111111111111,
              "#46039f"
             ],
             [
              0.2222222222222222,
              "#7201a8"
             ],
             [
              0.3333333333333333,
              "#9c179e"
             ],
             [
              0.4444444444444444,
              "#bd3786"
             ],
             [
              0.5555555555555556,
              "#d8576b"
             ],
             [
              0.6666666666666666,
              "#ed7953"
             ],
             [
              0.7777777777777778,
              "#fb9f3a"
             ],
             [
              0.8888888888888888,
              "#fdca26"
             ],
             [
              1,
              "#f0f921"
             ]
            ],
            "type": "histogram2d"
           }
          ],
          "histogram2dcontour": [
           {
            "colorbar": {
             "outlinewidth": 0,
             "ticks": ""
            },
            "colorscale": [
             [
              0,
              "#0d0887"
             ],
             [
              0.1111111111111111,
              "#46039f"
             ],
             [
              0.2222222222222222,
              "#7201a8"
             ],
             [
              0.3333333333333333,
              "#9c179e"
             ],
             [
              0.4444444444444444,
              "#bd3786"
             ],
             [
              0.5555555555555556,
              "#d8576b"
             ],
             [
              0.6666666666666666,
              "#ed7953"
             ],
             [
              0.7777777777777778,
              "#fb9f3a"
             ],
             [
              0.8888888888888888,
              "#fdca26"
             ],
             [
              1,
              "#f0f921"
             ]
            ],
            "type": "histogram2dcontour"
           }
          ],
          "mesh3d": [
           {
            "colorbar": {
             "outlinewidth": 0,
             "ticks": ""
            },
            "type": "mesh3d"
           }
          ],
          "parcoords": [
           {
            "line": {
             "colorbar": {
              "outlinewidth": 0,
              "ticks": ""
             }
            },
            "type": "parcoords"
           }
          ],
          "pie": [
           {
            "automargin": true,
            "type": "pie"
           }
          ],
          "scatter": [
           {
            "marker": {
             "colorbar": {
              "outlinewidth": 0,
              "ticks": ""
             }
            },
            "type": "scatter"
           }
          ],
          "scatter3d": [
           {
            "line": {
             "colorbar": {
              "outlinewidth": 0,
              "ticks": ""
             }
            },
            "marker": {
             "colorbar": {
              "outlinewidth": 0,
              "ticks": ""
             }
            },
            "type": "scatter3d"
           }
          ],
          "scattercarpet": [
           {
            "marker": {
             "colorbar": {
              "outlinewidth": 0,
              "ticks": ""
             }
            },
            "type": "scattercarpet"
           }
          ],
          "scattergeo": [
           {
            "marker": {
             "colorbar": {
              "outlinewidth": 0,
              "ticks": ""
             }
            },
            "type": "scattergeo"
           }
          ],
          "scattergl": [
           {
            "marker": {
             "colorbar": {
              "outlinewidth": 0,
              "ticks": ""
             }
            },
            "type": "scattergl"
           }
          ],
          "scattermapbox": [
           {
            "marker": {
             "colorbar": {
              "outlinewidth": 0,
              "ticks": ""
             }
            },
            "type": "scattermapbox"
           }
          ],
          "scatterpolar": [
           {
            "marker": {
             "colorbar": {
              "outlinewidth": 0,
              "ticks": ""
             }
            },
            "type": "scatterpolar"
           }
          ],
          "scatterpolargl": [
           {
            "marker": {
             "colorbar": {
              "outlinewidth": 0,
              "ticks": ""
             }
            },
            "type": "scatterpolargl"
           }
          ],
          "scatterternary": [
           {
            "marker": {
             "colorbar": {
              "outlinewidth": 0,
              "ticks": ""
             }
            },
            "type": "scatterternary"
           }
          ],
          "surface": [
           {
            "colorbar": {
             "outlinewidth": 0,
             "ticks": ""
            },
            "colorscale": [
             [
              0,
              "#0d0887"
             ],
             [
              0.1111111111111111,
              "#46039f"
             ],
             [
              0.2222222222222222,
              "#7201a8"
             ],
             [
              0.3333333333333333,
              "#9c179e"
             ],
             [
              0.4444444444444444,
              "#bd3786"
             ],
             [
              0.5555555555555556,
              "#d8576b"
             ],
             [
              0.6666666666666666,
              "#ed7953"
             ],
             [
              0.7777777777777778,
              "#fb9f3a"
             ],
             [
              0.8888888888888888,
              "#fdca26"
             ],
             [
              1,
              "#f0f921"
             ]
            ],
            "type": "surface"
           }
          ],
          "table": [
           {
            "cells": {
             "fill": {
              "color": "#EBF0F8"
             },
             "line": {
              "color": "white"
             }
            },
            "header": {
             "fill": {
              "color": "#C8D4E3"
             },
             "line": {
              "color": "white"
             }
            },
            "type": "table"
           }
          ]
         },
         "layout": {
          "annotationdefaults": {
           "arrowcolor": "#2a3f5f",
           "arrowhead": 0,
           "arrowwidth": 1
          },
          "autotypenumbers": "strict",
          "coloraxis": {
           "colorbar": {
            "outlinewidth": 0,
            "ticks": ""
           }
          },
          "colorscale": {
           "diverging": [
            [
             0,
             "#8e0152"
            ],
            [
             0.1,
             "#c51b7d"
            ],
            [
             0.2,
             "#de77ae"
            ],
            [
             0.3,
             "#f1b6da"
            ],
            [
             0.4,
             "#fde0ef"
            ],
            [
             0.5,
             "#f7f7f7"
            ],
            [
             0.6,
             "#e6f5d0"
            ],
            [
             0.7,
             "#b8e186"
            ],
            [
             0.8,
             "#7fbc41"
            ],
            [
             0.9,
             "#4d9221"
            ],
            [
             1,
             "#276419"
            ]
           ],
           "sequential": [
            [
             0,
             "#0d0887"
            ],
            [
             0.1111111111111111,
             "#46039f"
            ],
            [
             0.2222222222222222,
             "#7201a8"
            ],
            [
             0.3333333333333333,
             "#9c179e"
            ],
            [
             0.4444444444444444,
             "#bd3786"
            ],
            [
             0.5555555555555556,
             "#d8576b"
            ],
            [
             0.6666666666666666,
             "#ed7953"
            ],
            [
             0.7777777777777778,
             "#fb9f3a"
            ],
            [
             0.8888888888888888,
             "#fdca26"
            ],
            [
             1,
             "#f0f921"
            ]
           ],
           "sequentialminus": [
            [
             0,
             "#0d0887"
            ],
            [
             0.1111111111111111,
             "#46039f"
            ],
            [
             0.2222222222222222,
             "#7201a8"
            ],
            [
             0.3333333333333333,
             "#9c179e"
            ],
            [
             0.4444444444444444,
             "#bd3786"
            ],
            [
             0.5555555555555556,
             "#d8576b"
            ],
            [
             0.6666666666666666,
             "#ed7953"
            ],
            [
             0.7777777777777778,
             "#fb9f3a"
            ],
            [
             0.8888888888888888,
             "#fdca26"
            ],
            [
             1,
             "#f0f921"
            ]
           ]
          },
          "colorway": [
           "#636efa",
           "#EF553B",
           "#00cc96",
           "#ab63fa",
           "#FFA15A",
           "#19d3f3",
           "#FF6692",
           "#B6E880",
           "#FF97FF",
           "#FECB52"
          ],
          "font": {
           "color": "#2a3f5f"
          },
          "geo": {
           "bgcolor": "white",
           "lakecolor": "white",
           "landcolor": "#E5ECF6",
           "showlakes": true,
           "showland": true,
           "subunitcolor": "white"
          },
          "hoverlabel": {
           "align": "left"
          },
          "hovermode": "closest",
          "mapbox": {
           "style": "light"
          },
          "paper_bgcolor": "white",
          "plot_bgcolor": "#E5ECF6",
          "polar": {
           "angularaxis": {
            "gridcolor": "white",
            "linecolor": "white",
            "ticks": ""
           },
           "bgcolor": "#E5ECF6",
           "radialaxis": {
            "gridcolor": "white",
            "linecolor": "white",
            "ticks": ""
           }
          },
          "scene": {
           "xaxis": {
            "backgroundcolor": "#E5ECF6",
            "gridcolor": "white",
            "gridwidth": 2,
            "linecolor": "white",
            "showbackground": true,
            "ticks": "",
            "zerolinecolor": "white"
           },
           "yaxis": {
            "backgroundcolor": "#E5ECF6",
            "gridcolor": "white",
            "gridwidth": 2,
            "linecolor": "white",
            "showbackground": true,
            "ticks": "",
            "zerolinecolor": "white"
           },
           "zaxis": {
            "backgroundcolor": "#E5ECF6",
            "gridcolor": "white",
            "gridwidth": 2,
            "linecolor": "white",
            "showbackground": true,
            "ticks": "",
            "zerolinecolor": "white"
           }
          },
          "shapedefaults": {
           "line": {
            "color": "#2a3f5f"
           }
          },
          "ternary": {
           "aaxis": {
            "gridcolor": "white",
            "linecolor": "white",
            "ticks": ""
           },
           "baxis": {
            "gridcolor": "white",
            "linecolor": "white",
            "ticks": ""
           },
           "bgcolor": "#E5ECF6",
           "caxis": {
            "gridcolor": "white",
            "linecolor": "white",
            "ticks": ""
           }
          },
          "title": {
           "x": 0.05
          },
          "xaxis": {
           "automargin": true,
           "gridcolor": "white",
           "linecolor": "white",
           "ticks": "",
           "title": {
            "standoff": 15
           },
           "zerolinecolor": "white",
           "zerolinewidth": 2
          },
          "yaxis": {
           "automargin": true,
           "gridcolor": "white",
           "linecolor": "white",
           "ticks": "",
           "title": {
            "standoff": 15
           },
           "zerolinecolor": "white",
           "zerolinewidth": 2
          }
         }
        }
       }
      },
      "image/png": "[encoded data removed]",
      "text/html": [
       "<div>                            <div id=\"86bb3120-1298-4817-b31c-d8f3b48eae90\" class=\"plotly-graph-div\" style=\"height:525px; width:100%;\"></div>            <script type=\"text/javascript\">                require([\"plotly\"], function(Plotly) {                    window.PLOTLYENV=window.PLOTLYENV || {};                                    if (document.getElementById(\"86bb3120-1298-4817-b31c-d8f3b48eae90\")) {                    Plotly.newPlot(                        \"86bb3120-1298-4817-b31c-d8f3b48eae90\",                        [{\"coloraxis\":\"coloraxis\",\"geo\":\"geo\",\"hovertemplate\":\"<b>%{hovertext}</b><br><br>state_code=%{location}<br>Percentage Black or African American=%{z}<extra></extra>\",\"hovertext\":[\"Alabama\",\"Alaska\",\"Arizona\",\"Arkansas\",\"California\",\"Colorado\",\"Connecticut\",\"Delaware\",\"District of Columbia\",\"Florida\",\"Georgia\",\"Hawaii\",\"Idaho\",\"Illinois\",\"Indiana\",\"Iowa\",\"Kansas\",\"Kentucky\",\"Louisiana\",\"Maine\",\"Maryland\",\"Massachusetts\",\"Michigan\",\"Minnesota\",\"Mississippi\",\"Missouri\",\"Montana\",\"Nebraska\",\"Nevada\",\"New Hampshire\",\"New Jersey\",\"New Mexico\",\"New York\",\"North Carolina\",\"North Dakota\",\"Ohio\",\"Oklahoma\",\"Oregon\",\"Pennsylvania\",\"Rhode Island\",\"South Carolina\",\"South Dakota\",\"Tennessee\",\"Texas\",\"Utah\",\"Vermont\",\"Virginia\",\"Washington\",\"West Virginia\",\"Wisconsin\",\"Wyoming\",\"Puerto Rico\"],\"locationmode\":\"USA-states\",\"locations\":[\"AL\",null,\"AZ\",\"AR\",\"CA\",\"CO\",\"CT\",\"DE\",null,\"FL\",\"GA\",null,\"ID\",\"IL\",\"IN\",\"IA\",\"KS\",\"KY\",\"LA\",\"ME\",\"MD\",\"MA\",\"MI\",\"MN\",\"MS\",\"MO\",\"MT\",\"NE\",\"NV\",\"NH\",\"NJ\",\"NM\",\"NY\",\"NC\",\"ND\",\"OH\",\"OK\",\"OR\",\"PA\",\"RI\",\"SC\",\"SD\",\"TN\",\"TX\",\"UT\",\"VT\",\"VA\",\"WA\",\"WV\",\"WI\",\"WY\",null],\"name\":\"\",\"type\":\"choropleth\",\"z\":[26.6,3.3,4.5,15.3,5.8,4.2,10.7,22.2,46.3,16.1,31.6,1.8,0.7,14.2,9.4,3.7,5.9,8.1,32.2,1.4,29.9,7.6,13.8,6.4,37.7,11.5,0.5,4.8,9.1,1.6,13.5,2.1,15.7,21.4,2.9,12.4,7.3,1.9,11.2,6.8,26.8,2.0,16.8,12.1,1.2,1.4,19.2,3.8,3.7,6.4,1.0,11.7]}],                        {\"coloraxis\":{\"colorbar\":{\"title\":{\"text\":\"Percentage Black or African American\"}},\"colorscale\":[[0.0,\"#0d0887\"],[0.1111111111111111,\"#46039f\"],[0.2222222222222222,\"#7201a8\"],[0.3333333333333333,\"#9c179e\"],[0.4444444444444444,\"#bd3786\"],[0.5555555555555556,\"#d8576b\"],[0.6666666666666666,\"#ed7953\"],[0.7777777777777778,\"#fb9f3a\"],[0.8888888888888888,\"#fdca26\"],[1.0,\"#f0f921\"]]},\"geo\":{\"center\":{},\"domain\":{\"x\":[0.0,1.0],\"y\":[0.0,1.0]},\"scope\":\"usa\"},\"legend\":{\"tracegroupgap\":0},\"margin\":{\"t\":60},\"template\":{\"data\":{\"bar\":[{\"error_x\":{\"color\":\"#2a3f5f\"},\"error_y\":{\"color\":\"#2a3f5f\"},\"marker\":{\"line\":{\"color\":\"#E5ECF6\",\"width\":0.5},\"pattern\":{\"fillmode\":\"overlay\",\"size\":10,\"solidity\":0.2}},\"type\":\"bar\"}],\"barpolar\":[{\"marker\":{\"line\":{\"color\":\"#E5ECF6\",\"width\":0.5},\"pattern\":{\"fillmode\":\"overlay\",\"size\":10,\"solidity\":0.2}},\"type\":\"barpolar\"}],\"carpet\":[{\"aaxis\":{\"endlinecolor\":\"#2a3f5f\",\"gridcolor\":\"white\",\"linecolor\":\"white\",\"minorgridcolor\":\"white\",\"startlinecolor\":\"#2a3f5f\"},\"baxis\":{\"endlinecolor\":\"#2a3f5f\",\"gridcolor\":\"white\",\"linecolor\":\"white\",\"minorgridcolor\":\"white\",\"startlinecolor\":\"#2a3f5f\"},\"type\":\"carpet\"}],\"choropleth\":[{\"colorbar\":{\"outlinewidth\":0,\"ticks\":\"\"},\"type\":\"choropleth\"}],\"contour\":[{\"colorbar\":{\"outlinewidth\":0,\"ticks\":\"\"},\"colorscale\":[[0.0,\"#0d0887\"],[0.1111111111111111,\"#46039f\"],[0.2222222222222222,\"#7201a8\"],[0.3333333333333333,\"#9c179e\"],[0.4444444444444444,\"#bd3786\"],[0.5555555555555556,\"#d8576b\"],[0.6666666666666666,\"#ed7953\"],[0.7777777777777778,\"#fb9f3a\"],[0.8888888888888888,\"#fdca26\"],[1.0,\"#f0f921\"]],\"type\":\"contour\"}],\"contourcarpet\":[{\"colorbar\":{\"outlinewidth\":0,\"ticks\":\"\"},\"type\":\"contourcarpet\"}],\"heatmap\":[{\"colorbar\":{\"outlinewidth\":0,\"ticks\":\"\"},\"colorscale\":[[0.0,\"#0d0887\"],[0.1111111111111111,\"#46039f\"],[0.2222222222222222,\"#7201a8\"],[0.3333333333333333,\"#9c179e\"],[0.4444444444444444,\"#bd3786\"],[0.5555555555555556,\"#d8576b\"],[0.6666666666666666,\"#ed7953\"],[0.7777777777777778,\"#fb9f3a\"],[0.8888888888888888,\"#fdca26\"],[1.0,\"#f0f921\"]],\"type\":\"heatmap\"}],\"heatmapgl\":[{\"colorbar\":{\"outlinewidth\":0,\"ticks\":\"\"},\"colorscale\":[[0.0,\"#0d0887\"],[0.1111111111111111,\"#46039f\"],[0.2222222222222222,\"#7201a8\"],[0.3333333333333333,\"#9c179e\"],[0.4444444444444444,\"#bd3786\"],[0.5555555555555556,\"#d8576b\"],[0.6666666666666666,\"#ed7953\"],[0.7777777777777778,\"#fb9f3a\"],[0.8888888888888888,\"#fdca26\"],[1.0,\"#f0f921\"]],\"type\":\"heatmapgl\"}],\"histogram\":[{\"marker\":{\"pattern\":{\"fillmode\":\"overlay\",\"size\":10,\"solidity\":0.2}},\"type\":\"histogram\"}],\"histogram2d\":[{\"colorbar\":{\"outlinewidth\":0,\"ticks\":\"\"},\"colorscale\":[[0.0,\"#0d0887\"],[0.1111111111111111,\"#46039f\"],[0.2222222222222222,\"#7201a8\"],[0.3333333333333333,\"#9c179e\"],[0.4444444444444444,\"#bd3786\"],[0.5555555555555556,\"#d8576b\"],[0.6666666666666666,\"#ed7953\"],[0.7777777777777778,\"#fb9f3a\"],[0.8888888888888888,\"#fdca26\"],[1.0,\"#f0f921\"]],\"type\":\"histogram2d\"}],\"histogram2dcontour\":[{\"colorbar\":{\"outlinewidth\":0,\"ticks\":\"\"},\"colorscale\":[[0.0,\"#0d0887\"],[0.1111111111111111,\"#46039f\"],[0.2222222222222222,\"#7201a8\"],[0.3333333333333333,\"#9c179e\"],[0.4444444444444444,\"#bd3786\"],[0.5555555555555556,\"#d8576b\"],[0.6666666666666666,\"#ed7953\"],[0.7777777777777778,\"#fb9f3a\"],[0.8888888888888888,\"#fdca26\"],[1.0,\"#f0f921\"]],\"type\":\"histogram2dcontour\"}],\"mesh3d\":[{\"colorbar\":{\"outlinewidth\":0,\"ticks\":\"\"},\"type\":\"mesh3d\"}],\"parcoords\":[{\"line\":{\"colorbar\":{\"outlinewidth\":0,\"ticks\":\"\"}},\"type\":\"parcoords\"}],\"pie\":[{\"automargin\":true,\"type\":\"pie\"}],\"scatter\":[{\"marker\":{\"colorbar\":{\"outlinewidth\":0,\"ticks\":\"\"}},\"type\":\"scatter\"}],\"scatter3d\":[{\"line\":{\"colorbar\":{\"outlinewidth\":0,\"ticks\":\"\"}},\"marker\":{\"colorbar\":{\"outlinewidth\":0,\"ticks\":\"\"}},\"type\":\"scatter3d\"}],\"scattercarpet\":[{\"marker\":{\"colorbar\":{\"outlinewidth\":0,\"ticks\":\"\"}},\"type\":\"scattercarpet\"}],\"scattergeo\":[{\"marker\":{\"colorbar\":{\"outlinewidth\":0,\"ticks\":\"\"}},\"type\":\"scattergeo\"}],\"scattergl\":[{\"marker\":{\"colorbar\":{\"outlinewidth\":0,\"ticks\":\"\"}},\"type\":\"scattergl\"}],\"scattermapbox\":[{\"marker\":{\"colorbar\":{\"outlinewidth\":0,\"ticks\":\"\"}},\"type\":\"scattermapbox\"}],\"scatterpolar\":[{\"marker\":{\"colorbar\":{\"outlinewidth\":0,\"ticks\":\"\"}},\"type\":\"scatterpolar\"}],\"scatterpolargl\":[{\"marker\":{\"colorbar\":{\"outlinewidth\":0,\"ticks\":\"\"}},\"type\":\"scatterpolargl\"}],\"scatterternary\":[{\"marker\":{\"colorbar\":{\"outlinewidth\":0,\"ticks\":\"\"}},\"type\":\"scatterternary\"}],\"surface\":[{\"colorbar\":{\"outlinewidth\":0,\"ticks\":\"\"},\"colorscale\":[[0.0,\"#0d0887\"],[0.1111111111111111,\"#46039f\"],[0.2222222222222222,\"#7201a8\"],[0.3333333333333333,\"#9c179e\"],[0.4444444444444444,\"#bd3786\"],[0.5555555555555556,\"#d8576b\"],[0.6666666666666666,\"#ed7953\"],[0.7777777777777778,\"#fb9f3a\"],[0.8888888888888888,\"#fdca26\"],[1.0,\"#f0f921\"]],\"type\":\"surface\"}],\"table\":[{\"cells\":{\"fill\":{\"color\":\"#EBF0F8\"},\"line\":{\"color\":\"white\"}},\"header\":{\"fill\":{\"color\":\"#C8D4E3\"},\"line\":{\"color\":\"white\"}},\"type\":\"table\"}]},\"layout\":{\"annotationdefaults\":{\"arrowcolor\":\"#2a3f5f\",\"arrowhead\":0,\"arrowwidth\":1},\"autotypenumbers\":\"strict\",\"coloraxis\":{\"colorbar\":{\"outlinewidth\":0,\"ticks\":\"\"}},\"colorscale\":{\"diverging\":[[0,\"#8e0152\"],[0.1,\"#c51b7d\"],[0.2,\"#de77ae\"],[0.3,\"#f1b6da\"],[0.4,\"#fde0ef\"],[0.5,\"#f7f7f7\"],[0.6,\"#e6f5d0\"],[0.7,\"#b8e186\"],[0.8,\"#7fbc41\"],[0.9,\"#4d9221\"],[1,\"#276419\"]],\"sequential\":[[0.0,\"#0d0887\"],[0.1111111111111111,\"#46039f\"],[0.2222222222222222,\"#7201a8\"],[0.3333333333333333,\"#9c179e\"],[0.4444444444444444,\"#bd3786\"],[0.5555555555555556,\"#d8576b\"],[0.6666666666666666,\"#ed7953\"],[0.7777777777777778,\"#fb9f3a\"],[0.8888888888888888,\"#fdca26\"],[1.0,\"#f0f921\"]],\"sequentialminus\":[[0.0,\"#0d0887\"],[0.1111111111111111,\"#46039f\"],[0.2222222222222222,\"#7201a8\"],[0.3333333333333333,\"#9c179e\"],[0.4444444444444444,\"#bd3786\"],[0.5555555555555556,\"#d8576b\"],[0.6666666666666666,\"#ed7953\"],[0.7777777777777778,\"#fb9f3a\"],[0.8888888888888888,\"#fdca26\"],[1.0,\"#f0f921\"]]},\"colorway\":[\"#636efa\",\"#EF553B\",\"#00cc96\",\"#ab63fa\",\"#FFA15A\",\"#19d3f3\",\"#FF6692\",\"#B6E880\",\"#FF97FF\",\"#FECB52\"],\"font\":{\"color\":\"#2a3f5f\"},\"geo\":{\"bgcolor\":\"white\",\"lakecolor\":\"white\",\"landcolor\":\"#E5ECF6\",\"showlakes\":true,\"showland\":true,\"subunitcolor\":\"white\"},\"hoverlabel\":{\"align\":\"left\"},\"hovermode\":\"closest\",\"mapbox\":{\"style\":\"light\"},\"paper_bgcolor\":\"white\",\"plot_bgcolor\":\"#E5ECF6\",\"polar\":{\"angularaxis\":{\"gridcolor\":\"white\",\"linecolor\":\"white\",\"ticks\":\"\"},\"bgcolor\":\"#E5ECF6\",\"radialaxis\":{\"gridcolor\":\"white\",\"linecolor\":\"white\",\"ticks\":\"\"}},\"scene\":{\"xaxis\":{\"backgroundcolor\":\"#E5ECF6\",\"gridcolor\":\"white\",\"gridwidth\":2,\"linecolor\":\"white\",\"showbackground\":true,\"ticks\":\"\",\"zerolinecolor\":\"white\"},\"yaxis\":{\"backgroundcolor\":\"#E5ECF6\",\"gridcolor\":\"white\",\"gridwidth\":2,\"linecolor\":\"white\",\"showbackground\":true,\"ticks\":\"\",\"zerolinecolor\":\"white\"},\"zaxis\":{\"backgroundcolor\":\"#E5ECF6\",\"gridcolor\":\"white\",\"gridwidth\":2,\"linecolor\":\"white\",\"showbackground\":true,\"ticks\":\"\",\"zerolinecolor\":\"white\"}},\"shapedefaults\":{\"line\":{\"color\":\"#2a3f5f\"}},\"ternary\":{\"aaxis\":{\"gridcolor\":\"white\",\"linecolor\":\"white\",\"ticks\":\"\"},\"baxis\":{\"gridcolor\":\"white\",\"linecolor\":\"white\",\"ticks\":\"\"},\"bgcolor\":\"#E5ECF6\",\"caxis\":{\"gridcolor\":\"white\",\"linecolor\":\"white\",\"ticks\":\"\"}},\"title\":{\"x\":0.05},\"xaxis\":{\"automargin\":true,\"gridcolor\":\"white\",\"linecolor\":\"white\",\"ticks\":\"\",\"title\":{\"standoff\":15},\"zerolinecolor\":\"white\",\"zerolinewidth\":2},\"yaxis\":{\"automargin\":true,\"gridcolor\":\"white\",\"linecolor\":\"white\",\"ticks\":\"\",\"title\":{\"standoff\":15},\"zerolinecolor\":\"white\",\"zerolinewidth\":2}}}},                        {\"responsive\": true}                    ).then(function(){\n",
       "                            \n",
       "var gd = document.getElementById('86bb3120-1298-4817-b31c-d8f3b48eae90');\n",
       "var x = new MutationObserver(function (mutations, observer) {{\n",
       "        var display = window.getComputedStyle(gd).display;\n",
       "        if (!display || display === 'none') {{\n",
       "            console.log([gd, 'removed!']);\n",
       "            Plotly.purge(gd);\n",
       "            observer.disconnect();\n",
       "        }}\n",
       "}});\n",
       "\n",
       "// Listen for the removal of the full notebook cells\n",
       "var notebookContainer = gd.closest('#notebook-container');\n",
       "if (notebookContainer) {{\n",
       "    x.observe(notebookContainer, {childList: true});\n",
       "}}\n",
       "\n",
       "// Listen for the clearing of the current output cell\n",
       "var outputEl = gd.closest('.output');\n",
       "if (outputEl) {{\n",
       "    x.observe(outputEl, {childList: true});\n",
       "}}\n",
       "\n",
       "                        })                };                });            </script>        </div>"
      ]
     },
     "metadata": {},
     "output_type": "display_data"
    }
   ],
   "source": [
    "fig_Black_or_African_American = px.choropleth(clean_states_byrace_df,\n",
    "              locations = \"state_code\",\n",
    "              locationmode = \"USA-states\",\n",
    "              hover_name= \"state_name\",\n",
    "              color = \"Percentage Black or African American\", scope =\"usa\")\n",
    "\n",
    "fig_Black_or_African_American.show()"
   ]
  },
  {
   "cell_type": "code",
   "execution_count": 19,
   "id": "3f33e526-7db6-449b-8a85-3b7756a3aaa3",
   "metadata": {},
   "outputs": [
    {
     "data": {
      "application/vnd.plotly.v1+json": {
       "config": {
        "plotlyServerURL": "https://plot.ly"
       },
       "data": [
        {
         "coloraxis": "coloraxis",
         "geo": "geo",
         "hovertemplate": "<b>%{hovertext}</b><br><br>state_code=%{location}<br>Percentage Asian=%{z}<extra></extra>",
         "hovertext": [
          "Alabama",
          "Alaska",
          "Arizona",
          "Arkansas",
          "California",
          "Colorado",
          "Connecticut",
          "Delaware",
          "District of Columbia",
          "Florida",
          "Georgia",
          "Hawaii",
          "Idaho",
          "Illinois",
          "Indiana",
          "Iowa",
          "Kansas",
          "Kentucky",
          "Louisiana",
          "Maine",
          "Maryland",
          "Massachusetts",
          "Michigan",
          "Minnesota",
          "Mississippi",
          "Missouri",
          "Montana",
          "Nebraska",
          "Nevada",
          "New Hampshire",
          "New Jersey",
          "New Mexico",
          "New York",
          "North Carolina",
          "North Dakota",
          "Ohio",
          "Oklahoma",
          "Oregon",
          "Pennsylvania",
          "Rhode Island",
          "South Carolina",
          "South Dakota",
          "Tennessee",
          "Texas",
          "Utah",
          "Vermont",
          "Virginia",
          "Washington",
          "West Virginia",
          "Wisconsin",
          "Wyoming",
          "Puerto Rico"
         ],
         "locationmode": "USA-states",
         "locations": [
          "AL",
          null,
          "AZ",
          "AR",
          "CA",
          "CO",
          "CT",
          "DE",
          null,
          "FL",
          "GA",
          null,
          "ID",
          "IL",
          "IN",
          "IA",
          "KS",
          "KY",
          "LA",
          "ME",
          "MD",
          "MA",
          "MI",
          "MN",
          "MS",
          "MO",
          "MT",
          "NE",
          "NV",
          "NH",
          "NJ",
          "NM",
          "NY",
          "NC",
          "ND",
          "OH",
          "OK",
          "OR",
          "PA",
          "RI",
          "SC",
          "SD",
          "TN",
          "TX",
          "UT",
          "VT",
          "VA",
          "WA",
          "WV",
          "WI",
          "WY",
          null
         ],
         "name": "",
         "type": "choropleth",
         "z": [
          1.4,
          6.2,
          3.3,
          1.5,
          14.5,
          3.2,
          4.5,
          3.9,
          4,
          2.7,
          4,
          37.8,
          1.4,
          5.5,
          2.3,
          2.4,
          2.9,
          1.5,
          1.7,
          1.1,
          6.3,
          6.6,
          3.1,
          4.8,
          1,
          2,
          0.8,
          2.4,
          8.2,
          2.7,
          9.5,
          1.6,
          8.4,
          2.9,
          1.5,
          2.2,
          2.2,
          4.4,
          3.4,
          3.4,
          1.6,
          1.5,
          1.8,
          4.8,
          2.3,
          1.7,
          6.4,
          8.5,
          0.8,
          2.8,
          0.9,
          0.2
         ]
        }
       ],
       "layout": {
        "autosize": true,
        "coloraxis": {
         "colorbar": {
          "title": {
           "text": "Percentage Asian"
          }
         },
         "colorscale": [
          [
           0,
           "#0d0887"
          ],
          [
           0.1111111111111111,
           "#46039f"
          ],
          [
           0.2222222222222222,
           "#7201a8"
          ],
          [
           0.3333333333333333,
           "#9c179e"
          ],
          [
           0.4444444444444444,
           "#bd3786"
          ],
          [
           0.5555555555555556,
           "#d8576b"
          ],
          [
           0.6666666666666666,
           "#ed7953"
          ],
          [
           0.7777777777777778,
           "#fb9f3a"
          ],
          [
           0.8888888888888888,
           "#fdca26"
          ],
          [
           1,
           "#f0f921"
          ]
         ]
        },
        "geo": {
         "center": {
          "lat": 38.69700956849188,
          "lon": -96.58545575944572
         },
         "domain": {
          "x": [
           0,
           1
          ],
          "y": [
           0,
           1
          ]
         },
         "fitbounds": false,
         "projection": {
          "scale": 1.0007203133180416
         },
         "scope": "usa"
        },
        "legend": {
         "tracegroupgap": 0
        },
        "margin": {
         "t": 60
        },
        "template": {
         "data": {
          "bar": [
           {
            "error_x": {
             "color": "#2a3f5f"
            },
            "error_y": {
             "color": "#2a3f5f"
            },
            "marker": {
             "line": {
              "color": "#E5ECF6",
              "width": 0.5
             },
             "pattern": {
              "fillmode": "overlay",
              "size": 10,
              "solidity": 0.2
             }
            },
            "type": "bar"
           }
          ],
          "barpolar": [
           {
            "marker": {
             "line": {
              "color": "#E5ECF6",
              "width": 0.5
             },
             "pattern": {
              "fillmode": "overlay",
              "size": 10,
              "solidity": 0.2
             }
            },
            "type": "barpolar"
           }
          ],
          "carpet": [
           {
            "aaxis": {
             "endlinecolor": "#2a3f5f",
             "gridcolor": "white",
             "linecolor": "white",
             "minorgridcolor": "white",
             "startlinecolor": "#2a3f5f"
            },
            "baxis": {
             "endlinecolor": "#2a3f5f",
             "gridcolor": "white",
             "linecolor": "white",
             "minorgridcolor": "white",
             "startlinecolor": "#2a3f5f"
            },
            "type": "carpet"
           }
          ],
          "choropleth": [
           {
            "colorbar": {
             "outlinewidth": 0,
             "ticks": ""
            },
            "type": "choropleth"
           }
          ],
          "contour": [
           {
            "colorbar": {
             "outlinewidth": 0,
             "ticks": ""
            },
            "colorscale": [
             [
              0,
              "#0d0887"
             ],
             [
              0.1111111111111111,
              "#46039f"
             ],
             [
              0.2222222222222222,
              "#7201a8"
             ],
             [
              0.3333333333333333,
              "#9c179e"
             ],
             [
              0.4444444444444444,
              "#bd3786"
             ],
             [
              0.5555555555555556,
              "#d8576b"
             ],
             [
              0.6666666666666666,
              "#ed7953"
             ],
             [
              0.7777777777777778,
              "#fb9f3a"
             ],
             [
              0.8888888888888888,
              "#fdca26"
             ],
             [
              1,
              "#f0f921"
             ]
            ],
            "type": "contour"
           }
          ],
          "contourcarpet": [
           {
            "colorbar": {
             "outlinewidth": 0,
             "ticks": ""
            },
            "type": "contourcarpet"
           }
          ],
          "heatmap": [
           {
            "colorbar": {
             "outlinewidth": 0,
             "ticks": ""
            },
            "colorscale": [
             [
              0,
              "#0d0887"
             ],
             [
              0.1111111111111111,
              "#46039f"
             ],
             [
              0.2222222222222222,
              "#7201a8"
             ],
             [
              0.3333333333333333,
              "#9c179e"
             ],
             [
              0.4444444444444444,
              "#bd3786"
             ],
             [
              0.5555555555555556,
              "#d8576b"
             ],
             [
              0.6666666666666666,
              "#ed7953"
             ],
             [
              0.7777777777777778,
              "#fb9f3a"
             ],
             [
              0.8888888888888888,
              "#fdca26"
             ],
             [
              1,
              "#f0f921"
             ]
            ],
            "type": "heatmap"
           }
          ],
          "heatmapgl": [
           {
            "colorbar": {
             "outlinewidth": 0,
             "ticks": ""
            },
            "colorscale": [
             [
              0,
              "#0d0887"
             ],
             [
              0.1111111111111111,
              "#46039f"
             ],
             [
              0.2222222222222222,
              "#7201a8"
             ],
             [
              0.3333333333333333,
              "#9c179e"
             ],
             [
              0.4444444444444444,
              "#bd3786"
             ],
             [
              0.5555555555555556,
              "#d8576b"
             ],
             [
              0.6666666666666666,
              "#ed7953"
             ],
             [
              0.7777777777777778,
              "#fb9f3a"
             ],
             [
              0.8888888888888888,
              "#fdca26"
             ],
             [
              1,
              "#f0f921"
             ]
            ],
            "type": "heatmapgl"
           }
          ],
          "histogram": [
           {
            "marker": {
             "pattern": {
              "fillmode": "overlay",
              "size": 10,
              "solidity": 0.2
             }
            },
            "type": "histogram"
           }
          ],
          "histogram2d": [
           {
            "colorbar": {
             "outlinewidth": 0,
             "ticks": ""
            },
            "colorscale": [
             [
              0,
              "#0d0887"
             ],
             [
              0.1111111111111111,
              "#46039f"
             ],
             [
              0.2222222222222222,
              "#7201a8"
             ],
             [
              0.3333333333333333,
              "#9c179e"
             ],
             [
              0.4444444444444444,
              "#bd3786"
             ],
             [
              0.5555555555555556,
              "#d8576b"
             ],
             [
              0.6666666666666666,
              "#ed7953"
             ],
             [
              0.7777777777777778,
              "#fb9f3a"
             ],
             [
              0.8888888888888888,
              "#fdca26"
             ],
             [
              1,
              "#f0f921"
             ]
            ],
            "type": "histogram2d"
           }
          ],
          "histogram2dcontour": [
           {
            "colorbar": {
             "outlinewidth": 0,
             "ticks": ""
            },
            "colorscale": [
             [
              0,
              "#0d0887"
             ],
             [
              0.1111111111111111,
              "#46039f"
             ],
             [
              0.2222222222222222,
              "#7201a8"
             ],
             [
              0.3333333333333333,
              "#9c179e"
             ],
             [
              0.4444444444444444,
              "#bd3786"
             ],
             [
              0.5555555555555556,
              "#d8576b"
             ],
             [
              0.6666666666666666,
              "#ed7953"
             ],
             [
              0.7777777777777778,
              "#fb9f3a"
             ],
             [
              0.8888888888888888,
              "#fdca26"
             ],
             [
              1,
              "#f0f921"
             ]
            ],
            "type": "histogram2dcontour"
           }
          ],
          "mesh3d": [
           {
            "colorbar": {
             "outlinewidth": 0,
             "ticks": ""
            },
            "type": "mesh3d"
           }
          ],
          "parcoords": [
           {
            "line": {
             "colorbar": {
              "outlinewidth": 0,
              "ticks": ""
             }
            },
            "type": "parcoords"
           }
          ],
          "pie": [
           {
            "automargin": true,
            "type": "pie"
           }
          ],
          "scatter": [
           {
            "marker": {
             "colorbar": {
              "outlinewidth": 0,
              "ticks": ""
             }
            },
            "type": "scatter"
           }
          ],
          "scatter3d": [
           {
            "line": {
             "colorbar": {
              "outlinewidth": 0,
              "ticks": ""
             }
            },
            "marker": {
             "colorbar": {
              "outlinewidth": 0,
              "ticks": ""
             }
            },
            "type": "scatter3d"
           }
          ],
          "scattercarpet": [
           {
            "marker": {
             "colorbar": {
              "outlinewidth": 0,
              "ticks": ""
             }
            },
            "type": "scattercarpet"
           }
          ],
          "scattergeo": [
           {
            "marker": {
             "colorbar": {
              "outlinewidth": 0,
              "ticks": ""
             }
            },
            "type": "scattergeo"
           }
          ],
          "scattergl": [
           {
            "marker": {
             "colorbar": {
              "outlinewidth": 0,
              "ticks": ""
             }
            },
            "type": "scattergl"
           }
          ],
          "scattermapbox": [
           {
            "marker": {
             "colorbar": {
              "outlinewidth": 0,
              "ticks": ""
             }
            },
            "type": "scattermapbox"
           }
          ],
          "scatterpolar": [
           {
            "marker": {
             "colorbar": {
              "outlinewidth": 0,
              "ticks": ""
             }
            },
            "type": "scatterpolar"
           }
          ],
          "scatterpolargl": [
           {
            "marker": {
             "colorbar": {
              "outlinewidth": 0,
              "ticks": ""
             }
            },
            "type": "scatterpolargl"
           }
          ],
          "scatterternary": [
           {
            "marker": {
             "colorbar": {
              "outlinewidth": 0,
              "ticks": ""
             }
            },
            "type": "scatterternary"
           }
          ],
          "surface": [
           {
            "colorbar": {
             "outlinewidth": 0,
             "ticks": ""
            },
            "colorscale": [
             [
              0,
              "#0d0887"
             ],
             [
              0.1111111111111111,
              "#46039f"
             ],
             [
              0.2222222222222222,
              "#7201a8"
             ],
             [
              0.3333333333333333,
              "#9c179e"
             ],
             [
              0.4444444444444444,
              "#bd3786"
             ],
             [
              0.5555555555555556,
              "#d8576b"
             ],
             [
              0.6666666666666666,
              "#ed7953"
             ],
             [
              0.7777777777777778,
              "#fb9f3a"
             ],
             [
              0.8888888888888888,
              "#fdca26"
             ],
             [
              1,
              "#f0f921"
             ]
            ],
            "type": "surface"
           }
          ],
          "table": [
           {
            "cells": {
             "fill": {
              "color": "#EBF0F8"
             },
             "line": {
              "color": "white"
             }
            },
            "header": {
             "fill": {
              "color": "#C8D4E3"
             },
             "line": {
              "color": "white"
             }
            },
            "type": "table"
           }
          ]
         },
         "layout": {
          "annotationdefaults": {
           "arrowcolor": "#2a3f5f",
           "arrowhead": 0,
           "arrowwidth": 1
          },
          "autotypenumbers": "strict",
          "coloraxis": {
           "colorbar": {
            "outlinewidth": 0,
            "ticks": ""
           }
          },
          "colorscale": {
           "diverging": [
            [
             0,
             "#8e0152"
            ],
            [
             0.1,
             "#c51b7d"
            ],
            [
             0.2,
             "#de77ae"
            ],
            [
             0.3,
             "#f1b6da"
            ],
            [
             0.4,
             "#fde0ef"
            ],
            [
             0.5,
             "#f7f7f7"
            ],
            [
             0.6,
             "#e6f5d0"
            ],
            [
             0.7,
             "#b8e186"
            ],
            [
             0.8,
             "#7fbc41"
            ],
            [
             0.9,
             "#4d9221"
            ],
            [
             1,
             "#276419"
            ]
           ],
           "sequential": [
            [
             0,
             "#0d0887"
            ],
            [
             0.1111111111111111,
             "#46039f"
            ],
            [
             0.2222222222222222,
             "#7201a8"
            ],
            [
             0.3333333333333333,
             "#9c179e"
            ],
            [
             0.4444444444444444,
             "#bd3786"
            ],
            [
             0.5555555555555556,
             "#d8576b"
            ],
            [
             0.6666666666666666,
             "#ed7953"
            ],
            [
             0.7777777777777778,
             "#fb9f3a"
            ],
            [
             0.8888888888888888,
             "#fdca26"
            ],
            [
             1,
             "#f0f921"
            ]
           ],
           "sequentialminus": [
            [
             0,
             "#0d0887"
            ],
            [
             0.1111111111111111,
             "#46039f"
            ],
            [
             0.2222222222222222,
             "#7201a8"
            ],
            [
             0.3333333333333333,
             "#9c179e"
            ],
            [
             0.4444444444444444,
             "#bd3786"
            ],
            [
             0.5555555555555556,
             "#d8576b"
            ],
            [
             0.6666666666666666,
             "#ed7953"
            ],
            [
             0.7777777777777778,
             "#fb9f3a"
            ],
            [
             0.8888888888888888,
             "#fdca26"
            ],
            [
             1,
             "#f0f921"
            ]
           ]
          },
          "colorway": [
           "#636efa",
           "#EF553B",
           "#00cc96",
           "#ab63fa",
           "#FFA15A",
           "#19d3f3",
           "#FF6692",
           "#B6E880",
           "#FF97FF",
           "#FECB52"
          ],
          "font": {
           "color": "#2a3f5f"
          },
          "geo": {
           "bgcolor": "white",
           "lakecolor": "white",
           "landcolor": "#E5ECF6",
           "showlakes": true,
           "showland": true,
           "subunitcolor": "white"
          },
          "hoverlabel": {
           "align": "left"
          },
          "hovermode": "closest",
          "mapbox": {
           "style": "light"
          },
          "paper_bgcolor": "white",
          "plot_bgcolor": "#E5ECF6",
          "polar": {
           "angularaxis": {
            "gridcolor": "white",
            "linecolor": "white",
            "ticks": ""
           },
           "bgcolor": "#E5ECF6",
           "radialaxis": {
            "gridcolor": "white",
            "linecolor": "white",
            "ticks": ""
           }
          },
          "scene": {
           "xaxis": {
            "backgroundcolor": "#E5ECF6",
            "gridcolor": "white",
            "gridwidth": 2,
            "linecolor": "white",
            "showbackground": true,
            "ticks": "",
            "zerolinecolor": "white"
           },
           "yaxis": {
            "backgroundcolor": "#E5ECF6",
            "gridcolor": "white",
            "gridwidth": 2,
            "linecolor": "white",
            "showbackground": true,
            "ticks": "",
            "zerolinecolor": "white"
           },
           "zaxis": {
            "backgroundcolor": "#E5ECF6",
            "gridcolor": "white",
            "gridwidth": 2,
            "linecolor": "white",
            "showbackground": true,
            "ticks": "",
            "zerolinecolor": "white"
           }
          },
          "shapedefaults": {
           "line": {
            "color": "#2a3f5f"
           }
          },
          "ternary": {
           "aaxis": {
            "gridcolor": "white",
            "linecolor": "white",
            "ticks": ""
           },
           "baxis": {
            "gridcolor": "white",
            "linecolor": "white",
            "ticks": ""
           },
           "bgcolor": "#E5ECF6",
           "caxis": {
            "gridcolor": "white",
            "linecolor": "white",
            "ticks": ""
           }
          },
          "title": {
           "x": 0.05
          },
          "xaxis": {
           "automargin": true,
           "gridcolor": "white",
           "linecolor": "white",
           "ticks": "",
           "title": {
            "standoff": 15
           },
           "zerolinecolor": "white",
           "zerolinewidth": 2
          },
          "yaxis": {
           "automargin": true,
           "gridcolor": "white",
           "linecolor": "white",
           "ticks": "",
           "title": {
            "standoff": 15
           },
           "zerolinecolor": "white",
           "zerolinewidth": 2
          }
         }
        }
       }
      },
      "image/png": "[encoded data removed]",
      "text/html": [
       "<div>                            <div id=\"fdfee627-d1c7-4b92-965e-5b9c9f88f7bb\" class=\"plotly-graph-div\" style=\"height:525px; width:100%;\"></div>            <script type=\"text/javascript\">                require([\"plotly\"], function(Plotly) {                    window.PLOTLYENV=window.PLOTLYENV || {};                                    if (document.getElementById(\"fdfee627-d1c7-4b92-965e-5b9c9f88f7bb\")) {                    Plotly.newPlot(                        \"fdfee627-d1c7-4b92-965e-5b9c9f88f7bb\",                        [{\"coloraxis\":\"coloraxis\",\"geo\":\"geo\",\"hovertemplate\":\"<b>%{hovertext}</b><br><br>state_code=%{location}<br>Percentage Asian=%{z}<extra></extra>\",\"hovertext\":[\"Alabama\",\"Alaska\",\"Arizona\",\"Arkansas\",\"California\",\"Colorado\",\"Connecticut\",\"Delaware\",\"District of Columbia\",\"Florida\",\"Georgia\",\"Hawaii\",\"Idaho\",\"Illinois\",\"Indiana\",\"Iowa\",\"Kansas\",\"Kentucky\",\"Louisiana\",\"Maine\",\"Maryland\",\"Massachusetts\",\"Michigan\",\"Minnesota\",\"Mississippi\",\"Missouri\",\"Montana\",\"Nebraska\",\"Nevada\",\"New Hampshire\",\"New Jersey\",\"New Mexico\",\"New York\",\"North Carolina\",\"North Dakota\",\"Ohio\",\"Oklahoma\",\"Oregon\",\"Pennsylvania\",\"Rhode Island\",\"South Carolina\",\"South Dakota\",\"Tennessee\",\"Texas\",\"Utah\",\"Vermont\",\"Virginia\",\"Washington\",\"West Virginia\",\"Wisconsin\",\"Wyoming\",\"Puerto Rico\"],\"locationmode\":\"USA-states\",\"locations\":[\"AL\",null,\"AZ\",\"AR\",\"CA\",\"CO\",\"CT\",\"DE\",null,\"FL\",\"GA\",null,\"ID\",\"IL\",\"IN\",\"IA\",\"KS\",\"KY\",\"LA\",\"ME\",\"MD\",\"MA\",\"MI\",\"MN\",\"MS\",\"MO\",\"MT\",\"NE\",\"NV\",\"NH\",\"NJ\",\"NM\",\"NY\",\"NC\",\"ND\",\"OH\",\"OK\",\"OR\",\"PA\",\"RI\",\"SC\",\"SD\",\"TN\",\"TX\",\"UT\",\"VT\",\"VA\",\"WA\",\"WV\",\"WI\",\"WY\",null],\"name\":\"\",\"type\":\"choropleth\",\"z\":[1.4,6.2,3.3,1.5,14.5,3.2,4.5,3.9,4.0,2.7,4.0,37.8,1.4,5.5,2.3,2.4,2.9,1.5,1.7,1.1,6.3,6.6,3.1,4.8,1.0,2.0,0.8,2.4,8.2,2.7,9.5,1.6,8.4,2.9,1.5,2.2,2.2,4.4,3.4,3.4,1.6,1.5,1.8,4.8,2.3,1.7,6.4,8.5,0.8,2.8,0.9,0.2]}],                        {\"coloraxis\":{\"colorbar\":{\"title\":{\"text\":\"Percentage Asian\"}},\"colorscale\":[[0.0,\"#0d0887\"],[0.1111111111111111,\"#46039f\"],[0.2222222222222222,\"#7201a8\"],[0.3333333333333333,\"#9c179e\"],[0.4444444444444444,\"#bd3786\"],[0.5555555555555556,\"#d8576b\"],[0.6666666666666666,\"#ed7953\"],[0.7777777777777778,\"#fb9f3a\"],[0.8888888888888888,\"#fdca26\"],[1.0,\"#f0f921\"]]},\"geo\":{\"center\":{},\"domain\":{\"x\":[0.0,1.0],\"y\":[0.0,1.0]},\"scope\":\"usa\"},\"legend\":{\"tracegroupgap\":0},\"margin\":{\"t\":60},\"template\":{\"data\":{\"bar\":[{\"error_x\":{\"color\":\"#2a3f5f\"},\"error_y\":{\"color\":\"#2a3f5f\"},\"marker\":{\"line\":{\"color\":\"#E5ECF6\",\"width\":0.5},\"pattern\":{\"fillmode\":\"overlay\",\"size\":10,\"solidity\":0.2}},\"type\":\"bar\"}],\"barpolar\":[{\"marker\":{\"line\":{\"color\":\"#E5ECF6\",\"width\":0.5},\"pattern\":{\"fillmode\":\"overlay\",\"size\":10,\"solidity\":0.2}},\"type\":\"barpolar\"}],\"carpet\":[{\"aaxis\":{\"endlinecolor\":\"#2a3f5f\",\"gridcolor\":\"white\",\"linecolor\":\"white\",\"minorgridcolor\":\"white\",\"startlinecolor\":\"#2a3f5f\"},\"baxis\":{\"endlinecolor\":\"#2a3f5f\",\"gridcolor\":\"white\",\"linecolor\":\"white\",\"minorgridcolor\":\"white\",\"startlinecolor\":\"#2a3f5f\"},\"type\":\"carpet\"}],\"choropleth\":[{\"colorbar\":{\"outlinewidth\":0,\"ticks\":\"\"},\"type\":\"choropleth\"}],\"contour\":[{\"colorbar\":{\"outlinewidth\":0,\"ticks\":\"\"},\"colorscale\":[[0.0,\"#0d0887\"],[0.1111111111111111,\"#46039f\"],[0.2222222222222222,\"#7201a8\"],[0.3333333333333333,\"#9c179e\"],[0.4444444444444444,\"#bd3786\"],[0.5555555555555556,\"#d8576b\"],[0.6666666666666666,\"#ed7953\"],[0.7777777777777778,\"#fb9f3a\"],[0.8888888888888888,\"#fdca26\"],[1.0,\"#f0f921\"]],\"type\":\"contour\"}],\"contourcarpet\":[{\"colorbar\":{\"outlinewidth\":0,\"ticks\":\"\"},\"type\":\"contourcarpet\"}],\"heatmap\":[{\"colorbar\":{\"outlinewidth\":0,\"ticks\":\"\"},\"colorscale\":[[0.0,\"#0d0887\"],[0.1111111111111111,\"#46039f\"],[0.2222222222222222,\"#7201a8\"],[0.3333333333333333,\"#9c179e\"],[0.4444444444444444,\"#bd3786\"],[0.5555555555555556,\"#d8576b\"],[0.6666666666666666,\"#ed7953\"],[0.7777777777777778,\"#fb9f3a\"],[0.8888888888888888,\"#fdca26\"],[1.0,\"#f0f921\"]],\"type\":\"heatmap\"}],\"heatmapgl\":[{\"colorbar\":{\"outlinewidth\":0,\"ticks\":\"\"},\"colorscale\":[[0.0,\"#0d0887\"],[0.1111111111111111,\"#46039f\"],[0.2222222222222222,\"#7201a8\"],[0.3333333333333333,\"#9c179e\"],[0.4444444444444444,\"#bd3786\"],[0.5555555555555556,\"#d8576b\"],[0.6666666666666666,\"#ed7953\"],[0.7777777777777778,\"#fb9f3a\"],[0.8888888888888888,\"#fdca26\"],[1.0,\"#f0f921\"]],\"type\":\"heatmapgl\"}],\"histogram\":[{\"marker\":{\"pattern\":{\"fillmode\":\"overlay\",\"size\":10,\"solidity\":0.2}},\"type\":\"histogram\"}],\"histogram2d\":[{\"colorbar\":{\"outlinewidth\":0,\"ticks\":\"\"},\"colorscale\":[[0.0,\"#0d0887\"],[0.1111111111111111,\"#46039f\"],[0.2222222222222222,\"#7201a8\"],[0.3333333333333333,\"#9c179e\"],[0.4444444444444444,\"#bd3786\"],[0.5555555555555556,\"#d8576b\"],[0.6666666666666666,\"#ed7953\"],[0.7777777777777778,\"#fb9f3a\"],[0.8888888888888888,\"#fdca26\"],[1.0,\"#f0f921\"]],\"type\":\"histogram2d\"}],\"histogram2dcontour\":[{\"colorbar\":{\"outlinewidth\":0,\"ticks\":\"\"},\"colorscale\":[[0.0,\"#0d0887\"],[0.1111111111111111,\"#46039f\"],[0.2222222222222222,\"#7201a8\"],[0.3333333333333333,\"#9c179e\"],[0.4444444444444444,\"#bd3786\"],[0.5555555555555556,\"#d8576b\"],[0.6666666666666666,\"#ed7953\"],[0.7777777777777778,\"#fb9f3a\"],[0.8888888888888888,\"#fdca26\"],[1.0,\"#f0f921\"]],\"type\":\"histogram2dcontour\"}],\"mesh3d\":[{\"colorbar\":{\"outlinewidth\":0,\"ticks\":\"\"},\"type\":\"mesh3d\"}],\"parcoords\":[{\"line\":{\"colorbar\":{\"outlinewidth\":0,\"ticks\":\"\"}},\"type\":\"parcoords\"}],\"pie\":[{\"automargin\":true,\"type\":\"pie\"}],\"scatter\":[{\"marker\":{\"colorbar\":{\"outlinewidth\":0,\"ticks\":\"\"}},\"type\":\"scatter\"}],\"scatter3d\":[{\"line\":{\"colorbar\":{\"outlinewidth\":0,\"ticks\":\"\"}},\"marker\":{\"colorbar\":{\"outlinewidth\":0,\"ticks\":\"\"}},\"type\":\"scatter3d\"}],\"scattercarpet\":[{\"marker\":{\"colorbar\":{\"outlinewidth\":0,\"ticks\":\"\"}},\"type\":\"scattercarpet\"}],\"scattergeo\":[{\"marker\":{\"colorbar\":{\"outlinewidth\":0,\"ticks\":\"\"}},\"type\":\"scattergeo\"}],\"scattergl\":[{\"marker\":{\"colorbar\":{\"outlinewidth\":0,\"ticks\":\"\"}},\"type\":\"scattergl\"}],\"scattermapbox\":[{\"marker\":{\"colorbar\":{\"outlinewidth\":0,\"ticks\":\"\"}},\"type\":\"scattermapbox\"}],\"scatterpolar\":[{\"marker\":{\"colorbar\":{\"outlinewidth\":0,\"ticks\":\"\"}},\"type\":\"scatterpolar\"}],\"scatterpolargl\":[{\"marker\":{\"colorbar\":{\"outlinewidth\":0,\"ticks\":\"\"}},\"type\":\"scatterpolargl\"}],\"scatterternary\":[{\"marker\":{\"colorbar\":{\"outlinewidth\":0,\"ticks\":\"\"}},\"type\":\"scatterternary\"}],\"surface\":[{\"colorbar\":{\"outlinewidth\":0,\"ticks\":\"\"},\"colorscale\":[[0.0,\"#0d0887\"],[0.1111111111111111,\"#46039f\"],[0.2222222222222222,\"#7201a8\"],[0.3333333333333333,\"#9c179e\"],[0.4444444444444444,\"#bd3786\"],[0.5555555555555556,\"#d8576b\"],[0.6666666666666666,\"#ed7953\"],[0.7777777777777778,\"#fb9f3a\"],[0.8888888888888888,\"#fdca26\"],[1.0,\"#f0f921\"]],\"type\":\"surface\"}],\"table\":[{\"cells\":{\"fill\":{\"color\":\"#EBF0F8\"},\"line\":{\"color\":\"white\"}},\"header\":{\"fill\":{\"color\":\"#C8D4E3\"},\"line\":{\"color\":\"white\"}},\"type\":\"table\"}]},\"layout\":{\"annotationdefaults\":{\"arrowcolor\":\"#2a3f5f\",\"arrowhead\":0,\"arrowwidth\":1},\"autotypenumbers\":\"strict\",\"coloraxis\":{\"colorbar\":{\"outlinewidth\":0,\"ticks\":\"\"}},\"colorscale\":{\"diverging\":[[0,\"#8e0152\"],[0.1,\"#c51b7d\"],[0.2,\"#de77ae\"],[0.3,\"#f1b6da\"],[0.4,\"#fde0ef\"],[0.5,\"#f7f7f7\"],[0.6,\"#e6f5d0\"],[0.7,\"#b8e186\"],[0.8,\"#7fbc41\"],[0.9,\"#4d9221\"],[1,\"#276419\"]],\"sequential\":[[0.0,\"#0d0887\"],[0.1111111111111111,\"#46039f\"],[0.2222222222222222,\"#7201a8\"],[0.3333333333333333,\"#9c179e\"],[0.4444444444444444,\"#bd3786\"],[0.5555555555555556,\"#d8576b\"],[0.6666666666666666,\"#ed7953\"],[0.7777777777777778,\"#fb9f3a\"],[0.8888888888888888,\"#fdca26\"],[1.0,\"#f0f921\"]],\"sequentialminus\":[[0.0,\"#0d0887\"],[0.1111111111111111,\"#46039f\"],[0.2222222222222222,\"#7201a8\"],[0.3333333333333333,\"#9c179e\"],[0.4444444444444444,\"#bd3786\"],[0.5555555555555556,\"#d8576b\"],[0.6666666666666666,\"#ed7953\"],[0.7777777777777778,\"#fb9f3a\"],[0.8888888888888888,\"#fdca26\"],[1.0,\"#f0f921\"]]},\"colorway\":[\"#636efa\",\"#EF553B\",\"#00cc96\",\"#ab63fa\",\"#FFA15A\",\"#19d3f3\",\"#FF6692\",\"#B6E880\",\"#FF97FF\",\"#FECB52\"],\"font\":{\"color\":\"#2a3f5f\"},\"geo\":{\"bgcolor\":\"white\",\"lakecolor\":\"white\",\"landcolor\":\"#E5ECF6\",\"showlakes\":true,\"showland\":true,\"subunitcolor\":\"white\"},\"hoverlabel\":{\"align\":\"left\"},\"hovermode\":\"closest\",\"mapbox\":{\"style\":\"light\"},\"paper_bgcolor\":\"white\",\"plot_bgcolor\":\"#E5ECF6\",\"polar\":{\"angularaxis\":{\"gridcolor\":\"white\",\"linecolor\":\"white\",\"ticks\":\"\"},\"bgcolor\":\"#E5ECF6\",\"radialaxis\":{\"gridcolor\":\"white\",\"linecolor\":\"white\",\"ticks\":\"\"}},\"scene\":{\"xaxis\":{\"backgroundcolor\":\"#E5ECF6\",\"gridcolor\":\"white\",\"gridwidth\":2,\"linecolor\":\"white\",\"showbackground\":true,\"ticks\":\"\",\"zerolinecolor\":\"white\"},\"yaxis\":{\"backgroundcolor\":\"#E5ECF6\",\"gridcolor\":\"white\",\"gridwidth\":2,\"linecolor\":\"white\",\"showbackground\":true,\"ticks\":\"\",\"zerolinecolor\":\"white\"},\"zaxis\":{\"backgroundcolor\":\"#E5ECF6\",\"gridcolor\":\"white\",\"gridwidth\":2,\"linecolor\":\"white\",\"showbackground\":true,\"ticks\":\"\",\"zerolinecolor\":\"white\"}},\"shapedefaults\":{\"line\":{\"color\":\"#2a3f5f\"}},\"ternary\":{\"aaxis\":{\"gridcolor\":\"white\",\"linecolor\":\"white\",\"ticks\":\"\"},\"baxis\":{\"gridcolor\":\"white\",\"linecolor\":\"white\",\"ticks\":\"\"},\"bgcolor\":\"#E5ECF6\",\"caxis\":{\"gridcolor\":\"white\",\"linecolor\":\"white\",\"ticks\":\"\"}},\"title\":{\"x\":0.05},\"xaxis\":{\"automargin\":true,\"gridcolor\":\"white\",\"linecolor\":\"white\",\"ticks\":\"\",\"title\":{\"standoff\":15},\"zerolinecolor\":\"white\",\"zerolinewidth\":2},\"yaxis\":{\"automargin\":true,\"gridcolor\":\"white\",\"linecolor\":\"white\",\"ticks\":\"\",\"title\":{\"standoff\":15},\"zerolinecolor\":\"white\",\"zerolinewidth\":2}}}},                        {\"responsive\": true}                    ).then(function(){\n",
       "                            \n",
       "var gd = document.getElementById('fdfee627-d1c7-4b92-965e-5b9c9f88f7bb');\n",
       "var x = new MutationObserver(function (mutations, observer) {{\n",
       "        var display = window.getComputedStyle(gd).display;\n",
       "        if (!display || display === 'none') {{\n",
       "            console.log([gd, 'removed!']);\n",
       "            Plotly.purge(gd);\n",
       "            observer.disconnect();\n",
       "        }}\n",
       "}});\n",
       "\n",
       "// Listen for the removal of the full notebook cells\n",
       "var notebookContainer = gd.closest('#notebook-container');\n",
       "if (notebookContainer) {{\n",
       "    x.observe(notebookContainer, {childList: true});\n",
       "}}\n",
       "\n",
       "// Listen for the clearing of the current output cell\n",
       "var outputEl = gd.closest('.output');\n",
       "if (outputEl) {{\n",
       "    x.observe(outputEl, {childList: true});\n",
       "}}\n",
       "\n",
       "                        })                };                });            </script>        </div>"
      ]
     },
     "metadata": {},
     "output_type": "display_data"
    }
   ],
   "source": [
    "fig_Asian = px.choropleth(clean_states_byrace_df,\n",
    "              locations = \"state_code\",\n",
    "              locationmode = \"USA-states\",\n",
    "              hover_name= \"state_name\",\n",
    "              color = \"Percentage Asian\", scope =\"usa\")\n"
   ]
  },
  {
   "cell_type": "code",
   "execution_count": 18,
   "id": "d3f5e08e-be5c-4b3c-a01d-b017733a9a19",
   "metadata": {},
   "outputs": [
    {
     "data": {
      "application/vnd.plotly.v1+json": {
       "config": {
        "plotlyServerURL": "https://plot.ly"
       },
       "data": [
        {
         "coloraxis": "coloraxis",
         "geo": "geo",
         "hovertemplate": "<b>%{hovertext}</b><br><br>state_code=%{location}<br>Percentage Hispanic or Latino=%{z}<extra></extra>",
         "hovertext": [
          "Alabama",
          "Alaska",
          "Arizona",
          "Arkansas",
          "California",
          "Colorado",
          "Connecticut",
          "Delaware",
          "District of Columbia",
          "Florida",
          "Georgia",
          "Hawaii",
          "Idaho",
          "Illinois",
          "Indiana",
          "Iowa",
          "Kansas",
          "Kentucky",
          "Louisiana",
          "Maine",
          "Maryland",
          "Massachusetts",
          "Michigan",
          "Minnesota",
          "Mississippi",
          "Missouri",
          "Montana",
          "Nebraska",
          "Nevada",
          "New Hampshire",
          "New Jersey",
          "New Mexico",
          "New York",
          "North Carolina",
          "North Dakota",
          "Ohio",
          "Oklahoma",
          "Oregon",
          "Pennsylvania",
          "Rhode Island",
          "South Carolina",
          "South Dakota",
          "Tennessee",
          "Texas",
          "Utah",
          "Vermont",
          "Virginia",
          "Washington",
          "West Virginia",
          "Wisconsin",
          "Wyoming",
          "Puerto Rico"
         ],
         "locationmode": "USA-states",
         "locations": [
          "AL",
          null,
          "AZ",
          "AR",
          "CA",
          "CO",
          "CT",
          "DE",
          null,
          "FL",
          "GA",
          null,
          "ID",
          "IL",
          "IN",
          "IA",
          "KS",
          "KY",
          "LA",
          "ME",
          "MD",
          "MA",
          "MI",
          "MN",
          "MS",
          "MO",
          "MT",
          "NE",
          "NV",
          "NH",
          "NJ",
          "NM",
          "NY",
          "NC",
          "ND",
          "OH",
          "OK",
          "OR",
          "PA",
          "RI",
          "SC",
          "SD",
          "TN",
          "TX",
          "UT",
          "VT",
          "VA",
          "WA",
          "WV",
          "WI",
          "WY",
          null
         ],
         "name": "",
         "type": "choropleth",
         "z": [
          4.3,
          7,
          31.3,
          7.5,
          39,
          21.5,
          16.1,
          9.2,
          11,
          25.6,
          9.5,
          10.5,
          12.5,
          17.1,
          6.9,
          6,
          11.9,
          3.7,
          5.1,
          1.7,
          10.1,
          11.8,
          5.1,
          5.4,
          3.1,
          4.2,
          3.8,
          10.9,
          28.7,
          3.7,
          20.2,
          48.8,
          19,
          9.4,
          3.7,
          3.8,
          10.6,
          13,
          7.3,
          15.4,
          5.7,
          3.8,
          5.4,
          39.3,
          14,
          1.9,
          9.4,
          12.7,
          1.6,
          6.8,
          9.9,
          98.7
         ]
        }
       ],
       "layout": {
        "autosize": true,
        "coloraxis": {
         "colorbar": {
          "title": {
           "text": "Percentage Hispanic or Latino"
          }
         },
         "colorscale": [
          [
           0,
           "#0d0887"
          ],
          [
           0.1111111111111111,
           "#46039f"
          ],
          [
           0.2222222222222222,
           "#7201a8"
          ],
          [
           0.3333333333333333,
           "#9c179e"
          ],
          [
           0.4444444444444444,
           "#bd3786"
          ],
          [
           0.5555555555555556,
           "#d8576b"
          ],
          [
           0.6666666666666666,
           "#ed7953"
          ],
          [
           0.7777777777777778,
           "#fb9f3a"
          ],
          [
           0.8888888888888888,
           "#fdca26"
          ],
          [
           1,
           "#f0f921"
          ]
         ]
        },
        "geo": {
         "center": {
          "lat": 38.7,
          "lon": -96.6
         },
         "domain": {
          "x": [
           0,
           1
          ],
          "y": [
           0,
           1
          ]
         },
         "fitbounds": false,
         "projection": {
          "scale": 1
         },
         "scope": "usa"
        },
        "legend": {
         "tracegroupgap": 0
        },
        "margin": {
         "t": 60
        },
        "template": {
         "data": {
          "bar": [
           {
            "error_x": {
             "color": "#2a3f5f"
            },
            "error_y": {
             "color": "#2a3f5f"
            },
            "marker": {
             "line": {
              "color": "#E5ECF6",
              "width": 0.5
             },
             "pattern": {
              "fillmode": "overlay",
              "size": 10,
              "solidity": 0.2
             }
            },
            "type": "bar"
           }
          ],
          "barpolar": [
           {
            "marker": {
             "line": {
              "color": "#E5ECF6",
              "width": 0.5
             },
             "pattern": {
              "fillmode": "overlay",
              "size": 10,
              "solidity": 0.2
             }
            },
            "type": "barpolar"
           }
          ],
          "carpet": [
           {
            "aaxis": {
             "endlinecolor": "#2a3f5f",
             "gridcolor": "white",
             "linecolor": "white",
             "minorgridcolor": "white",
             "startlinecolor": "#2a3f5f"
            },
            "baxis": {
             "endlinecolor": "#2a3f5f",
             "gridcolor": "white",
             "linecolor": "white",
             "minorgridcolor": "white",
             "startlinecolor": "#2a3f5f"
            },
            "type": "carpet"
           }
          ],
          "choropleth": [
           {
            "colorbar": {
             "outlinewidth": 0,
             "ticks": ""
            },
            "type": "choropleth"
           }
          ],
          "contour": [
           {
            "colorbar": {
             "outlinewidth": 0,
             "ticks": ""
            },
            "colorscale": [
             [
              0,
              "#0d0887"
             ],
             [
              0.1111111111111111,
              "#46039f"
             ],
             [
              0.2222222222222222,
              "#7201a8"
             ],
             [
              0.3333333333333333,
              "#9c179e"
             ],
             [
              0.4444444444444444,
              "#bd3786"
             ],
             [
              0.5555555555555556,
              "#d8576b"
             ],
             [
              0.6666666666666666,
              "#ed7953"
             ],
             [
              0.7777777777777778,
              "#fb9f3a"
             ],
             [
              0.8888888888888888,
              "#fdca26"
             ],
             [
              1,
              "#f0f921"
             ]
            ],
            "type": "contour"
           }
          ],
          "contourcarpet": [
           {
            "colorbar": {
             "outlinewidth": 0,
             "ticks": ""
            },
            "type": "contourcarpet"
           }
          ],
          "heatmap": [
           {
            "colorbar": {
             "outlinewidth": 0,
             "ticks": ""
            },
            "colorscale": [
             [
              0,
              "#0d0887"
             ],
             [
              0.1111111111111111,
              "#46039f"
             ],
             [
              0.2222222222222222,
              "#7201a8"
             ],
             [
              0.3333333333333333,
              "#9c179e"
             ],
             [
              0.4444444444444444,
              "#bd3786"
             ],
             [
              0.5555555555555556,
              "#d8576b"
             ],
             [
              0.6666666666666666,
              "#ed7953"
             ],
             [
              0.7777777777777778,
              "#fb9f3a"
             ],
             [
              0.8888888888888888,
              "#fdca26"
             ],
             [
              1,
              "#f0f921"
             ]
            ],
            "type": "heatmap"
           }
          ],
          "heatmapgl": [
           {
            "colorbar": {
             "outlinewidth": 0,
             "ticks": ""
            },
            "colorscale": [
             [
              0,
              "#0d0887"
             ],
             [
              0.1111111111111111,
              "#46039f"
             ],
             [
              0.2222222222222222,
              "#7201a8"
             ],
             [
              0.3333333333333333,
              "#9c179e"
             ],
             [
              0.4444444444444444,
              "#bd3786"
             ],
             [
              0.5555555555555556,
              "#d8576b"
             ],
             [
              0.6666666666666666,
              "#ed7953"
             ],
             [
              0.7777777777777778,
              "#fb9f3a"
             ],
             [
              0.8888888888888888,
              "#fdca26"
             ],
             [
              1,
              "#f0f921"
             ]
            ],
            "type": "heatmapgl"
           }
          ],
          "histogram": [
           {
            "marker": {
             "pattern": {
              "fillmode": "overlay",
              "size": 10,
              "solidity": 0.2
             }
            },
            "type": "histogram"
           }
          ],
          "histogram2d": [
           {
            "colorbar": {
             "outlinewidth": 0,
             "ticks": ""
            },
            "colorscale": [
             [
              0,
              "#0d0887"
             ],
             [
              0.1111111111111111,
              "#46039f"
             ],
             [
              0.2222222222222222,
              "#7201a8"
             ],
             [
              0.3333333333333333,
              "#9c179e"
             ],
             [
              0.4444444444444444,
              "#bd3786"
             ],
             [
              0.5555555555555556,
              "#d8576b"
             ],
             [
              0.6666666666666666,
              "#ed7953"
             ],
             [
              0.7777777777777778,
              "#fb9f3a"
             ],
             [
              0.8888888888888888,
              "#fdca26"
             ],
             [
              1,
              "#f0f921"
             ]
            ],
            "type": "histogram2d"
           }
          ],
          "histogram2dcontour": [
           {
            "colorbar": {
             "outlinewidth": 0,
             "ticks": ""
            },
            "colorscale": [
             [
              0,
              "#0d0887"
             ],
             [
              0.1111111111111111,
              "#46039f"
             ],
             [
              0.2222222222222222,
              "#7201a8"
             ],
             [
              0.3333333333333333,
              "#9c179e"
             ],
             [
              0.4444444444444444,
              "#bd3786"
             ],
             [
              0.5555555555555556,
              "#d8576b"
             ],
             [
              0.6666666666666666,
              "#ed7953"
             ],
             [
              0.7777777777777778,
              "#fb9f3a"
             ],
             [
              0.8888888888888888,
              "#fdca26"
             ],
             [
              1,
              "#f0f921"
             ]
            ],
            "type": "histogram2dcontour"
           }
          ],
          "mesh3d": [
           {
            "colorbar": {
             "outlinewidth": 0,
             "ticks": ""
            },
            "type": "mesh3d"
           }
          ],
          "parcoords": [
           {
            "line": {
             "colorbar": {
              "outlinewidth": 0,
              "ticks": ""
             }
            },
            "type": "parcoords"
           }
          ],
          "pie": [
           {
            "automargin": true,
            "type": "pie"
           }
          ],
          "scatter": [
           {
            "marker": {
             "colorbar": {
              "outlinewidth": 0,
              "ticks": ""
             }
            },
            "type": "scatter"
           }
          ],
          "scatter3d": [
           {
            "line": {
             "colorbar": {
              "outlinewidth": 0,
              "ticks": ""
             }
            },
            "marker": {
             "colorbar": {
              "outlinewidth": 0,
              "ticks": ""
             }
            },
            "type": "scatter3d"
           }
          ],
          "scattercarpet": [
           {
            "marker": {
             "colorbar": {
              "outlinewidth": 0,
              "ticks": ""
             }
            },
            "type": "scattercarpet"
           }
          ],
          "scattergeo": [
           {
            "marker": {
             "colorbar": {
              "outlinewidth": 0,
              "ticks": ""
             }
            },
            "type": "scattergeo"
           }
          ],
          "scattergl": [
           {
            "marker": {
             "colorbar": {
              "outlinewidth": 0,
              "ticks": ""
             }
            },
            "type": "scattergl"
           }
          ],
          "scattermapbox": [
           {
            "marker": {
             "colorbar": {
              "outlinewidth": 0,
              "ticks": ""
             }
            },
            "type": "scattermapbox"
           }
          ],
          "scatterpolar": [
           {
            "marker": {
             "colorbar": {
              "outlinewidth": 0,
              "ticks": ""
             }
            },
            "type": "scatterpolar"
           }
          ],
          "scatterpolargl": [
           {
            "marker": {
             "colorbar": {
              "outlinewidth": 0,
              "ticks": ""
             }
            },
            "type": "scatterpolargl"
           }
          ],
          "scatterternary": [
           {
            "marker": {
             "colorbar": {
              "outlinewidth": 0,
              "ticks": ""
             }
            },
            "type": "scatterternary"
           }
          ],
          "surface": [
           {
            "colorbar": {
             "outlinewidth": 0,
             "ticks": ""
            },
            "colorscale": [
             [
              0,
              "#0d0887"
             ],
             [
              0.1111111111111111,
              "#46039f"
             ],
             [
              0.2222222222222222,
              "#7201a8"
             ],
             [
              0.3333333333333333,
              "#9c179e"
             ],
             [
              0.4444444444444444,
              "#bd3786"
             ],
             [
              0.5555555555555556,
              "#d8576b"
             ],
             [
              0.6666666666666666,
              "#ed7953"
             ],
             [
              0.7777777777777778,
              "#fb9f3a"
             ],
             [
              0.8888888888888888,
              "#fdca26"
             ],
             [
              1,
              "#f0f921"
             ]
            ],
            "type": "surface"
           }
          ],
          "table": [
           {
            "cells": {
             "fill": {
              "color": "#EBF0F8"
             },
             "line": {
              "color": "white"
             }
            },
            "header": {
             "fill": {
              "color": "#C8D4E3"
             },
             "line": {
              "color": "white"
             }
            },
            "type": "table"
           }
          ]
         },
         "layout": {
          "annotationdefaults": {
           "arrowcolor": "#2a3f5f",
           "arrowhead": 0,
           "arrowwidth": 1
          },
          "autotypenumbers": "strict",
          "coloraxis": {
           "colorbar": {
            "outlinewidth": 0,
            "ticks": ""
           }
          },
          "colorscale": {
           "diverging": [
            [
             0,
             "#8e0152"
            ],
            [
             0.1,
             "#c51b7d"
            ],
            [
             0.2,
             "#de77ae"
            ],
            [
             0.3,
             "#f1b6da"
            ],
            [
             0.4,
             "#fde0ef"
            ],
            [
             0.5,
             "#f7f7f7"
            ],
            [
             0.6,
             "#e6f5d0"
            ],
            [
             0.7,
             "#b8e186"
            ],
            [
             0.8,
             "#7fbc41"
            ],
            [
             0.9,
             "#4d9221"
            ],
            [
             1,
             "#276419"
            ]
           ],
           "sequential": [
            [
             0,
             "#0d0887"
            ],
            [
             0.1111111111111111,
             "#46039f"
            ],
            [
             0.2222222222222222,
             "#7201a8"
            ],
            [
             0.3333333333333333,
             "#9c179e"
            ],
            [
             0.4444444444444444,
             "#bd3786"
            ],
            [
             0.5555555555555556,
             "#d8576b"
            ],
            [
             0.6666666666666666,
             "#ed7953"
            ],
            [
             0.7777777777777778,
             "#fb9f3a"
            ],
            [
             0.8888888888888888,
             "#fdca26"
            ],
            [
             1,
             "#f0f921"
            ]
           ],
           "sequentialminus": [
            [
             0,
             "#0d0887"
            ],
            [
             0.1111111111111111,
             "#46039f"
            ],
            [
             0.2222222222222222,
             "#7201a8"
            ],
            [
             0.3333333333333333,
             "#9c179e"
            ],
            [
             0.4444444444444444,
             "#bd3786"
            ],
            [
             0.5555555555555556,
             "#d8576b"
            ],
            [
             0.6666666666666666,
             "#ed7953"
            ],
            [
             0.7777777777777778,
             "#fb9f3a"
            ],
            [
             0.8888888888888888,
             "#fdca26"
            ],
            [
             1,
             "#f0f921"
            ]
           ]
          },
          "colorway": [
           "#636efa",
           "#EF553B",
           "#00cc96",
           "#ab63fa",
           "#FFA15A",
           "#19d3f3",
           "#FF6692",
           "#B6E880",
           "#FF97FF",
           "#FECB52"
          ],
          "font": {
           "color": "#2a3f5f"
          },
          "geo": {
           "bgcolor": "white",
           "lakecolor": "white",
           "landcolor": "#E5ECF6",
           "showlakes": true,
           "showland": true,
           "subunitcolor": "white"
          },
          "hoverlabel": {
           "align": "left"
          },
          "hovermode": "closest",
          "mapbox": {
           "style": "light"
          },
          "paper_bgcolor": "white",
          "plot_bgcolor": "#E5ECF6",
          "polar": {
           "angularaxis": {
            "gridcolor": "white",
            "linecolor": "white",
            "ticks": ""
           },
           "bgcolor": "#E5ECF6",
           "radialaxis": {
            "gridcolor": "white",
            "linecolor": "white",
            "ticks": ""
           }
          },
          "scene": {
           "xaxis": {
            "backgroundcolor": "#E5ECF6",
            "gridcolor": "white",
            "gridwidth": 2,
            "linecolor": "white",
            "showbackground": true,
            "ticks": "",
            "zerolinecolor": "white"
           },
           "yaxis": {
            "backgroundcolor": "#E5ECF6",
            "gridcolor": "white",
            "gridwidth": 2,
            "linecolor": "white",
            "showbackground": true,
            "ticks": "",
            "zerolinecolor": "white"
           },
           "zaxis": {
            "backgroundcolor": "#E5ECF6",
            "gridcolor": "white",
            "gridwidth": 2,
            "linecolor": "white",
            "showbackground": true,
            "ticks": "",
            "zerolinecolor": "white"
           }
          },
          "shapedefaults": {
           "line": {
            "color": "#2a3f5f"
           }
          },
          "ternary": {
           "aaxis": {
            "gridcolor": "white",
            "linecolor": "white",
            "ticks": ""
           },
           "baxis": {
            "gridcolor": "white",
            "linecolor": "white",
            "ticks": ""
           },
           "bgcolor": "#E5ECF6",
           "caxis": {
            "gridcolor": "white",
            "linecolor": "white",
            "ticks": ""
           }
          },
          "title": {
           "x": 0.05
          },
          "xaxis": {
           "automargin": true,
           "gridcolor": "white",
           "linecolor": "white",
           "ticks": "",
           "title": {
            "standoff": 15
           },
           "zerolinecolor": "white",
           "zerolinewidth": 2
          },
          "yaxis": {
           "automargin": true,
           "gridcolor": "white",
           "linecolor": "white",
           "ticks": "",
           "title": {
            "standoff": 15
           },
           "zerolinecolor": "white",
           "zerolinewidth": 2
          }
         }
        }
       }
      },
      "image/png": "[encoded data removed]",
      "text/html": [
       "<div>                            <div id=\"9abfc2c3-689e-464e-96fb-62bdfee5b6b1\" class=\"plotly-graph-div\" style=\"height:525px; width:100%;\"></div>            <script type=\"text/javascript\">                require([\"plotly\"], function(Plotly) {                    window.PLOTLYENV=window.PLOTLYENV || {};                                    if (document.getElementById(\"9abfc2c3-689e-464e-96fb-62bdfee5b6b1\")) {                    Plotly.newPlot(                        \"9abfc2c3-689e-464e-96fb-62bdfee5b6b1\",                        [{\"coloraxis\":\"coloraxis\",\"geo\":\"geo\",\"hovertemplate\":\"<b>%{hovertext}</b><br><br>state_code=%{location}<br>Percentage Hispanic or Latino=%{z}<extra></extra>\",\"hovertext\":[\"Alabama\",\"Alaska\",\"Arizona\",\"Arkansas\",\"California\",\"Colorado\",\"Connecticut\",\"Delaware\",\"District of Columbia\",\"Florida\",\"Georgia\",\"Hawaii\",\"Idaho\",\"Illinois\",\"Indiana\",\"Iowa\",\"Kansas\",\"Kentucky\",\"Louisiana\",\"Maine\",\"Maryland\",\"Massachusetts\",\"Michigan\",\"Minnesota\",\"Mississippi\",\"Missouri\",\"Montana\",\"Nebraska\",\"Nevada\",\"New Hampshire\",\"New Jersey\",\"New Mexico\",\"New York\",\"North Carolina\",\"North Dakota\",\"Ohio\",\"Oklahoma\",\"Oregon\",\"Pennsylvania\",\"Rhode Island\",\"South Carolina\",\"South Dakota\",\"Tennessee\",\"Texas\",\"Utah\",\"Vermont\",\"Virginia\",\"Washington\",\"West Virginia\",\"Wisconsin\",\"Wyoming\",\"Puerto Rico\"],\"locationmode\":\"USA-states\",\"locations\":[\"AL\",null,\"AZ\",\"AR\",\"CA\",\"CO\",\"CT\",\"DE\",null,\"FL\",\"GA\",null,\"ID\",\"IL\",\"IN\",\"IA\",\"KS\",\"KY\",\"LA\",\"ME\",\"MD\",\"MA\",\"MI\",\"MN\",\"MS\",\"MO\",\"MT\",\"NE\",\"NV\",\"NH\",\"NJ\",\"NM\",\"NY\",\"NC\",\"ND\",\"OH\",\"OK\",\"OR\",\"PA\",\"RI\",\"SC\",\"SD\",\"TN\",\"TX\",\"UT\",\"VT\",\"VA\",\"WA\",\"WV\",\"WI\",\"WY\",null],\"name\":\"\",\"type\":\"choropleth\",\"z\":[4.3,7.0,31.3,7.5,39.0,21.5,16.1,9.2,11.0,25.6,9.5,10.5,12.5,17.1,6.9,6.0,11.9,3.7,5.1,1.7,10.1,11.8,5.1,5.4,3.1,4.2,3.8,10.9,28.7,3.7,20.2,48.8,19.0,9.4,3.7,3.8,10.6,13.0,7.3,15.4,5.7,3.8,5.4,39.3,14.0,1.9,9.4,12.7,1.6,6.8,9.9,98.7]}],                        {\"coloraxis\":{\"colorbar\":{\"title\":{\"text\":\"Percentage Hispanic or Latino\"}},\"colorscale\":[[0.0,\"#0d0887\"],[0.1111111111111111,\"#46039f\"],[0.2222222222222222,\"#7201a8\"],[0.3333333333333333,\"#9c179e\"],[0.4444444444444444,\"#bd3786\"],[0.5555555555555556,\"#d8576b\"],[0.6666666666666666,\"#ed7953\"],[0.7777777777777778,\"#fb9f3a\"],[0.8888888888888888,\"#fdca26\"],[1.0,\"#f0f921\"]]},\"geo\":{\"center\":{},\"domain\":{\"x\":[0.0,1.0],\"y\":[0.0,1.0]},\"scope\":\"usa\"},\"legend\":{\"tracegroupgap\":0},\"margin\":{\"t\":60},\"template\":{\"data\":{\"bar\":[{\"error_x\":{\"color\":\"#2a3f5f\"},\"error_y\":{\"color\":\"#2a3f5f\"},\"marker\":{\"line\":{\"color\":\"#E5ECF6\",\"width\":0.5},\"pattern\":{\"fillmode\":\"overlay\",\"size\":10,\"solidity\":0.2}},\"type\":\"bar\"}],\"barpolar\":[{\"marker\":{\"line\":{\"color\":\"#E5ECF6\",\"width\":0.5},\"pattern\":{\"fillmode\":\"overlay\",\"size\":10,\"solidity\":0.2}},\"type\":\"barpolar\"}],\"carpet\":[{\"aaxis\":{\"endlinecolor\":\"#2a3f5f\",\"gridcolor\":\"white\",\"linecolor\":\"white\",\"minorgridcolor\":\"white\",\"startlinecolor\":\"#2a3f5f\"},\"baxis\":{\"endlinecolor\":\"#2a3f5f\",\"gridcolor\":\"white\",\"linecolor\":\"white\",\"minorgridcolor\":\"white\",\"startlinecolor\":\"#2a3f5f\"},\"type\":\"carpet\"}],\"choropleth\":[{\"colorbar\":{\"outlinewidth\":0,\"ticks\":\"\"},\"type\":\"choropleth\"}],\"contour\":[{\"colorbar\":{\"outlinewidth\":0,\"ticks\":\"\"},\"colorscale\":[[0.0,\"#0d0887\"],[0.1111111111111111,\"#46039f\"],[0.2222222222222222,\"#7201a8\"],[0.3333333333333333,\"#9c179e\"],[0.4444444444444444,\"#bd3786\"],[0.5555555555555556,\"#d8576b\"],[0.6666666666666666,\"#ed7953\"],[0.7777777777777778,\"#fb9f3a\"],[0.8888888888888888,\"#fdca26\"],[1.0,\"#f0f921\"]],\"type\":\"contour\"}],\"contourcarpet\":[{\"colorbar\":{\"outlinewidth\":0,\"ticks\":\"\"},\"type\":\"contourcarpet\"}],\"heatmap\":[{\"colorbar\":{\"outlinewidth\":0,\"ticks\":\"\"},\"colorscale\":[[0.0,\"#0d0887\"],[0.1111111111111111,\"#46039f\"],[0.2222222222222222,\"#7201a8\"],[0.3333333333333333,\"#9c179e\"],[0.4444444444444444,\"#bd3786\"],[0.5555555555555556,\"#d8576b\"],[0.6666666666666666,\"#ed7953\"],[0.7777777777777778,\"#fb9f3a\"],[0.8888888888888888,\"#fdca26\"],[1.0,\"#f0f921\"]],\"type\":\"heatmap\"}],\"heatmapgl\":[{\"colorbar\":{\"outlinewidth\":0,\"ticks\":\"\"},\"colorscale\":[[0.0,\"#0d0887\"],[0.1111111111111111,\"#46039f\"],[0.2222222222222222,\"#7201a8\"],[0.3333333333333333,\"#9c179e\"],[0.4444444444444444,\"#bd3786\"],[0.5555555555555556,\"#d8576b\"],[0.6666666666666666,\"#ed7953\"],[0.7777777777777778,\"#fb9f3a\"],[0.8888888888888888,\"#fdca26\"],[1.0,\"#f0f921\"]],\"type\":\"heatmapgl\"}],\"histogram\":[{\"marker\":{\"pattern\":{\"fillmode\":\"overlay\",\"size\":10,\"solidity\":0.2}},\"type\":\"histogram\"}],\"histogram2d\":[{\"colorbar\":{\"outlinewidth\":0,\"ticks\":\"\"},\"colorscale\":[[0.0,\"#0d0887\"],[0.1111111111111111,\"#46039f\"],[0.2222222222222222,\"#7201a8\"],[0.3333333333333333,\"#9c179e\"],[0.4444444444444444,\"#bd3786\"],[0.5555555555555556,\"#d8576b\"],[0.6666666666666666,\"#ed7953\"],[0.7777777777777778,\"#fb9f3a\"],[0.8888888888888888,\"#fdca26\"],[1.0,\"#f0f921\"]],\"type\":\"histogram2d\"}],\"histogram2dcontour\":[{\"colorbar\":{\"outlinewidth\":0,\"ticks\":\"\"},\"colorscale\":[[0.0,\"#0d0887\"],[0.1111111111111111,\"#46039f\"],[0.2222222222222222,\"#7201a8\"],[0.3333333333333333,\"#9c179e\"],[0.4444444444444444,\"#bd3786\"],[0.5555555555555556,\"#d8576b\"],[0.6666666666666666,\"#ed7953\"],[0.7777777777777778,\"#fb9f3a\"],[0.8888888888888888,\"#fdca26\"],[1.0,\"#f0f921\"]],\"type\":\"histogram2dcontour\"}],\"mesh3d\":[{\"colorbar\":{\"outlinewidth\":0,\"ticks\":\"\"},\"type\":\"mesh3d\"}],\"parcoords\":[{\"line\":{\"colorbar\":{\"outlinewidth\":0,\"ticks\":\"\"}},\"type\":\"parcoords\"}],\"pie\":[{\"automargin\":true,\"type\":\"pie\"}],\"scatter\":[{\"marker\":{\"colorbar\":{\"outlinewidth\":0,\"ticks\":\"\"}},\"type\":\"scatter\"}],\"scatter3d\":[{\"line\":{\"colorbar\":{\"outlinewidth\":0,\"ticks\":\"\"}},\"marker\":{\"colorbar\":{\"outlinewidth\":0,\"ticks\":\"\"}},\"type\":\"scatter3d\"}],\"scattercarpet\":[{\"marker\":{\"colorbar\":{\"outlinewidth\":0,\"ticks\":\"\"}},\"type\":\"scattercarpet\"}],\"scattergeo\":[{\"marker\":{\"colorbar\":{\"outlinewidth\":0,\"ticks\":\"\"}},\"type\":\"scattergeo\"}],\"scattergl\":[{\"marker\":{\"colorbar\":{\"outlinewidth\":0,\"ticks\":\"\"}},\"type\":\"scattergl\"}],\"scattermapbox\":[{\"marker\":{\"colorbar\":{\"outlinewidth\":0,\"ticks\":\"\"}},\"type\":\"scattermapbox\"}],\"scatterpolar\":[{\"marker\":{\"colorbar\":{\"outlinewidth\":0,\"ticks\":\"\"}},\"type\":\"scatterpolar\"}],\"scatterpolargl\":[{\"marker\":{\"colorbar\":{\"outlinewidth\":0,\"ticks\":\"\"}},\"type\":\"scatterpolargl\"}],\"scatterternary\":[{\"marker\":{\"colorbar\":{\"outlinewidth\":0,\"ticks\":\"\"}},\"type\":\"scatterternary\"}],\"surface\":[{\"colorbar\":{\"outlinewidth\":0,\"ticks\":\"\"},\"colorscale\":[[0.0,\"#0d0887\"],[0.1111111111111111,\"#46039f\"],[0.2222222222222222,\"#7201a8\"],[0.3333333333333333,\"#9c179e\"],[0.4444444444444444,\"#bd3786\"],[0.5555555555555556,\"#d8576b\"],[0.6666666666666666,\"#ed7953\"],[0.7777777777777778,\"#fb9f3a\"],[0.8888888888888888,\"#fdca26\"],[1.0,\"#f0f921\"]],\"type\":\"surface\"}],\"table\":[{\"cells\":{\"fill\":{\"color\":\"#EBF0F8\"},\"line\":{\"color\":\"white\"}},\"header\":{\"fill\":{\"color\":\"#C8D4E3\"},\"line\":{\"color\":\"white\"}},\"type\":\"table\"}]},\"layout\":{\"annotationdefaults\":{\"arrowcolor\":\"#2a3f5f\",\"arrowhead\":0,\"arrowwidth\":1},\"autotypenumbers\":\"strict\",\"coloraxis\":{\"colorbar\":{\"outlinewidth\":0,\"ticks\":\"\"}},\"colorscale\":{\"diverging\":[[0,\"#8e0152\"],[0.1,\"#c51b7d\"],[0.2,\"#de77ae\"],[0.3,\"#f1b6da\"],[0.4,\"#fde0ef\"],[0.5,\"#f7f7f7\"],[0.6,\"#e6f5d0\"],[0.7,\"#b8e186\"],[0.8,\"#7fbc41\"],[0.9,\"#4d9221\"],[1,\"#276419\"]],\"sequential\":[[0.0,\"#0d0887\"],[0.1111111111111111,\"#46039f\"],[0.2222222222222222,\"#7201a8\"],[0.3333333333333333,\"#9c179e\"],[0.4444444444444444,\"#bd3786\"],[0.5555555555555556,\"#d8576b\"],[0.6666666666666666,\"#ed7953\"],[0.7777777777777778,\"#fb9f3a\"],[0.8888888888888888,\"#fdca26\"],[1.0,\"#f0f921\"]],\"sequentialminus\":[[0.0,\"#0d0887\"],[0.1111111111111111,\"#46039f\"],[0.2222222222222222,\"#7201a8\"],[0.3333333333333333,\"#9c179e\"],[0.4444444444444444,\"#bd3786\"],[0.5555555555555556,\"#d8576b\"],[0.6666666666666666,\"#ed7953\"],[0.7777777777777778,\"#fb9f3a\"],[0.8888888888888888,\"#fdca26\"],[1.0,\"#f0f921\"]]},\"colorway\":[\"#636efa\",\"#EF553B\",\"#00cc96\",\"#ab63fa\",\"#FFA15A\",\"#19d3f3\",\"#FF6692\",\"#B6E880\",\"#FF97FF\",\"#FECB52\"],\"font\":{\"color\":\"#2a3f5f\"},\"geo\":{\"bgcolor\":\"white\",\"lakecolor\":\"white\",\"landcolor\":\"#E5ECF6\",\"showlakes\":true,\"showland\":true,\"subunitcolor\":\"white\"},\"hoverlabel\":{\"align\":\"left\"},\"hovermode\":\"closest\",\"mapbox\":{\"style\":\"light\"},\"paper_bgcolor\":\"white\",\"plot_bgcolor\":\"#E5ECF6\",\"polar\":{\"angularaxis\":{\"gridcolor\":\"white\",\"linecolor\":\"white\",\"ticks\":\"\"},\"bgcolor\":\"#E5ECF6\",\"radialaxis\":{\"gridcolor\":\"white\",\"linecolor\":\"white\",\"ticks\":\"\"}},\"scene\":{\"xaxis\":{\"backgroundcolor\":\"#E5ECF6\",\"gridcolor\":\"white\",\"gridwidth\":2,\"linecolor\":\"white\",\"showbackground\":true,\"ticks\":\"\",\"zerolinecolor\":\"white\"},\"yaxis\":{\"backgroundcolor\":\"#E5ECF6\",\"gridcolor\":\"white\",\"gridwidth\":2,\"linecolor\":\"white\",\"showbackground\":true,\"ticks\":\"\",\"zerolinecolor\":\"white\"},\"zaxis\":{\"backgroundcolor\":\"#E5ECF6\",\"gridcolor\":\"white\",\"gridwidth\":2,\"linecolor\":\"white\",\"showbackground\":true,\"ticks\":\"\",\"zerolinecolor\":\"white\"}},\"shapedefaults\":{\"line\":{\"color\":\"#2a3f5f\"}},\"ternary\":{\"aaxis\":{\"gridcolor\":\"white\",\"linecolor\":\"white\",\"ticks\":\"\"},\"baxis\":{\"gridcolor\":\"white\",\"linecolor\":\"white\",\"ticks\":\"\"},\"bgcolor\":\"#E5ECF6\",\"caxis\":{\"gridcolor\":\"white\",\"linecolor\":\"white\",\"ticks\":\"\"}},\"title\":{\"x\":0.05},\"xaxis\":{\"automargin\":true,\"gridcolor\":\"white\",\"linecolor\":\"white\",\"ticks\":\"\",\"title\":{\"standoff\":15},\"zerolinecolor\":\"white\",\"zerolinewidth\":2},\"yaxis\":{\"automargin\":true,\"gridcolor\":\"white\",\"linecolor\":\"white\",\"ticks\":\"\",\"title\":{\"standoff\":15},\"zerolinecolor\":\"white\",\"zerolinewidth\":2}}}},                        {\"responsive\": true}                    ).then(function(){\n",
       "                            \n",
       "var gd = document.getElementById('9abfc2c3-689e-464e-96fb-62bdfee5b6b1');\n",
       "var x = new MutationObserver(function (mutations, observer) {{\n",
       "        var display = window.getComputedStyle(gd).display;\n",
       "        if (!display || display === 'none') {{\n",
       "            console.log([gd, 'removed!']);\n",
       "            Plotly.purge(gd);\n",
       "            observer.disconnect();\n",
       "        }}\n",
       "}});\n",
       "\n",
       "// Listen for the removal of the full notebook cells\n",
       "var notebookContainer = gd.closest('#notebook-container');\n",
       "if (notebookContainer) {{\n",
       "    x.observe(notebookContainer, {childList: true});\n",
       "}}\n",
       "\n",
       "// Listen for the clearing of the current output cell\n",
       "var outputEl = gd.closest('.output');\n",
       "if (outputEl) {{\n",
       "    x.observe(outputEl, {childList: true});\n",
       "}}\n",
       "\n",
       "                        })                };                });            </script>        </div>"
      ]
     },
     "metadata": {},
     "output_type": "display_data"
    }
   ],
   "source": [
    "fig_Hispanic_or_Latino = px.choropleth(clean_states_byrace_df,\n",
    "              locations = \"state_code\",\n",
    "              locationmode = \"USA-states\",\n",
    "              hover_name= \"state_name\",\n",
    "              color = \"Percentage Hispanic or Latino\", scope =\"usa\")\n",
    "\n",
    "fig_Hispanic_or_Latino.show()"
   ]
  },
  {
   "cell_type": "code",
   "execution_count": 20,
   "id": "0c4a4d31-073f-4bcb-aa01-4bdaccbf030d",
   "metadata": {},
   "outputs": [
    {
     "data": {
      "application/vnd.plotly.v1+json": {
       "config": {
        "plotlyServerURL": "https://plot.ly"
       },
       "data": [
        {
         "coloraxis": "coloraxis",
         "geo": "geo",
         "hovertemplate": "<b>%{hovertext}</b><br><br>state_code=%{location}<br>Percentage Native American=%{z}<extra></extra>",
         "hovertext": [
          "Alabama",
          "Alaska",
          "Arizona",
          "Arkansas",
          "California",
          "Colorado",
          "Connecticut",
          "Delaware",
          "District of Columbia",
          "Florida",
          "Georgia",
          "Hawaii",
          "Idaho",
          "Illinois",
          "Indiana",
          "Iowa",
          "Kansas",
          "Kentucky",
          "Louisiana",
          "Maine",
          "Maryland",
          "Massachusetts",
          "Michigan",
          "Minnesota",
          "Mississippi",
          "Missouri",
          "Montana",
          "Nebraska",
          "Nevada",
          "New Hampshire",
          "New Jersey",
          "New Mexico",
          "New York",
          "North Carolina",
          "North Dakota",
          "Ohio",
          "Oklahoma",
          "Oregon",
          "Pennsylvania",
          "Rhode Island",
          "South Carolina",
          "South Dakota",
          "Tennessee",
          "Texas",
          "Utah",
          "Vermont",
          "Virginia",
          "Washington",
          "West Virginia",
          "Wisconsin",
          "Wyoming",
          "Puerto Rico"
         ],
         "locationmode": "USA-states",
         "locations": [
          "AL",
          null,
          "AZ",
          "AR",
          "CA",
          "CO",
          "CT",
          "DE",
          null,
          "FL",
          "GA",
          null,
          "ID",
          "IL",
          "IN",
          "IA",
          "KS",
          "KY",
          "LA",
          "ME",
          "MD",
          "MA",
          "MI",
          "MN",
          "MS",
          "MO",
          "MT",
          "NE",
          "NV",
          "NH",
          "NJ",
          "NM",
          "NY",
          "NC",
          "ND",
          "OH",
          "OK",
          "OR",
          "PA",
          "RI",
          "SC",
          "SD",
          "TN",
          "TX",
          "UT",
          "VT",
          "VA",
          "WA",
          "WV",
          "WI",
          "WY",
          null
         ],
         "name": "",
         "type": "choropleth",
         "z": [
          0.5,
          14.9,
          4.5,
          0.7,
          0.8,
          1,
          0.3,
          0.4,
          0.3,
          0.3,
          0.4,
          0.3,
          1.3,
          0.3,
          0.2,
          0.4,
          0.8,
          0.2,
          0.6,
          0.6,
          0.3,
          0.2,
          0.5,
          1,
          0.5,
          0.4,
          6.4,
          0.9,
          1.3,
          0.2,
          0.2,
          9.6,
          0.4,
          1.2,
          5.3,
          0.2,
          7.6,
          1.2,
          0.2,
          0.5,
          0.4,
          8.8,
          0.3,
          0.5,
          1.1,
          0.3,
          0.3,
          1.3,
          0.2,
          0.9,
          2.4,
          0.2
         ]
        }
       ],
       "layout": {
        "autosize": true,
        "coloraxis": {
         "colorbar": {
          "title": {
           "text": "Percentage Native American"
          }
         },
         "colorscale": [
          [
           0,
           "#0d0887"
          ],
          [
           0.1111111111111111,
           "#46039f"
          ],
          [
           0.2222222222222222,
           "#7201a8"
          ],
          [
           0.3333333333333333,
           "#9c179e"
          ],
          [
           0.4444444444444444,
           "#bd3786"
          ],
          [
           0.5555555555555556,
           "#d8576b"
          ],
          [
           0.6666666666666666,
           "#ed7953"
          ],
          [
           0.7777777777777778,
           "#fb9f3a"
          ],
          [
           0.8888888888888888,
           "#fdca26"
          ],
          [
           1,
           "#f0f921"
          ]
         ]
        },
        "geo": {
         "center": {
          "lat": 38.63039238437184,
          "lon": -96.58833826696535
         },
         "domain": {
          "x": [
           0,
           1
          ],
          "y": [
           0,
           1
          ]
         },
         "projection": {
          "scale": 0.9944698320940752
         },
         "scope": "usa"
        },
        "legend": {
         "tracegroupgap": 0
        },
        "margin": {
         "t": 60
        },
        "template": {
         "data": {
          "bar": [
           {
            "error_x": {
             "color": "#2a3f5f"
            },
            "error_y": {
             "color": "#2a3f5f"
            },
            "marker": {
             "line": {
              "color": "#E5ECF6",
              "width": 0.5
             },
             "pattern": {
              "fillmode": "overlay",
              "size": 10,
              "solidity": 0.2
             }
            },
            "type": "bar"
           }
          ],
          "barpolar": [
           {
            "marker": {
             "line": {
              "color": "#E5ECF6",
              "width": 0.5
             },
             "pattern": {
              "fillmode": "overlay",
              "size": 10,
              "solidity": 0.2
             }
            },
            "type": "barpolar"
           }
          ],
          "carpet": [
           {
            "aaxis": {
             "endlinecolor": "#2a3f5f",
             "gridcolor": "white",
             "linecolor": "white",
             "minorgridcolor": "white",
             "startlinecolor": "#2a3f5f"
            },
            "baxis": {
             "endlinecolor": "#2a3f5f",
             "gridcolor": "white",
             "linecolor": "white",
             "minorgridcolor": "white",
             "startlinecolor": "#2a3f5f"
            },
            "type": "carpet"
           }
          ],
          "choropleth": [
           {
            "colorbar": {
             "outlinewidth": 0,
             "ticks": ""
            },
            "type": "choropleth"
           }
          ],
          "contour": [
           {
            "colorbar": {
             "outlinewidth": 0,
             "ticks": ""
            },
            "colorscale": [
             [
              0,
              "#0d0887"
             ],
             [
              0.1111111111111111,
              "#46039f"
             ],
             [
              0.2222222222222222,
              "#7201a8"
             ],
             [
              0.3333333333333333,
              "#9c179e"
             ],
             [
              0.4444444444444444,
              "#bd3786"
             ],
             [
              0.5555555555555556,
              "#d8576b"
             ],
             [
              0.6666666666666666,
              "#ed7953"
             ],
             [
              0.7777777777777778,
              "#fb9f3a"
             ],
             [
              0.8888888888888888,
              "#fdca26"
             ],
             [
              1,
              "#f0f921"
             ]
            ],
            "type": "contour"
           }
          ],
          "contourcarpet": [
           {
            "colorbar": {
             "outlinewidth": 0,
             "ticks": ""
            },
            "type": "contourcarpet"
           }
          ],
          "heatmap": [
           {
            "colorbar": {
             "outlinewidth": 0,
             "ticks": ""
            },
            "colorscale": [
             [
              0,
              "#0d0887"
             ],
             [
              0.1111111111111111,
              "#46039f"
             ],
             [
              0.2222222222222222,
              "#7201a8"
             ],
             [
              0.3333333333333333,
              "#9c179e"
             ],
             [
              0.4444444444444444,
              "#bd3786"
             ],
             [
              0.5555555555555556,
              "#d8576b"
             ],
             [
              0.6666666666666666,
              "#ed7953"
             ],
             [
              0.7777777777777778,
              "#fb9f3a"
             ],
             [
              0.8888888888888888,
              "#fdca26"
             ],
             [
              1,
              "#f0f921"
             ]
            ],
            "type": "heatmap"
           }
          ],
          "heatmapgl": [
           {
            "colorbar": {
             "outlinewidth": 0,
             "ticks": ""
            },
            "colorscale": [
             [
              0,
              "#0d0887"
             ],
             [
              0.1111111111111111,
              "#46039f"
             ],
             [
              0.2222222222222222,
              "#7201a8"
             ],
             [
              0.3333333333333333,
              "#9c179e"
             ],
             [
              0.4444444444444444,
              "#bd3786"
             ],
             [
              0.5555555555555556,
              "#d8576b"
             ],
             [
              0.6666666666666666,
              "#ed7953"
             ],
             [
              0.7777777777777778,
              "#fb9f3a"
             ],
             [
              0.8888888888888888,
              "#fdca26"
             ],
             [
              1,
              "#f0f921"
             ]
            ],
            "type": "heatmapgl"
           }
          ],
          "histogram": [
           {
            "marker": {
             "pattern": {
              "fillmode": "overlay",
              "size": 10,
              "solidity": 0.2
             }
            },
            "type": "histogram"
           }
          ],
          "histogram2d": [
           {
            "colorbar": {
             "outlinewidth": 0,
             "ticks": ""
            },
            "colorscale": [
             [
              0,
              "#0d0887"
             ],
             [
              0.1111111111111111,
              "#46039f"
             ],
             [
              0.2222222222222222,
              "#7201a8"
             ],
             [
              0.3333333333333333,
              "#9c179e"
             ],
             [
              0.4444444444444444,
              "#bd3786"
             ],
             [
              0.5555555555555556,
              "#d8576b"
             ],
             [
              0.6666666666666666,
              "#ed7953"
             ],
             [
              0.7777777777777778,
              "#fb9f3a"
             ],
             [
              0.8888888888888888,
              "#fdca26"
             ],
             [
              1,
              "#f0f921"
             ]
            ],
            "type": "histogram2d"
           }
          ],
          "histogram2dcontour": [
           {
            "colorbar": {
             "outlinewidth": 0,
             "ticks": ""
            },
            "colorscale": [
             [
              0,
              "#0d0887"
             ],
             [
              0.1111111111111111,
              "#46039f"
             ],
             [
              0.2222222222222222,
              "#7201a8"
             ],
             [
              0.3333333333333333,
              "#9c179e"
             ],
             [
              0.4444444444444444,
              "#bd3786"
             ],
             [
              0.5555555555555556,
              "#d8576b"
             ],
             [
              0.6666666666666666,
              "#ed7953"
             ],
             [
              0.7777777777777778,
              "#fb9f3a"
             ],
             [
              0.8888888888888888,
              "#fdca26"
             ],
             [
              1,
              "#f0f921"
             ]
            ],
            "type": "histogram2dcontour"
           }
          ],
          "mesh3d": [
           {
            "colorbar": {
             "outlinewidth": 0,
             "ticks": ""
            },
            "type": "mesh3d"
           }
          ],
          "parcoords": [
           {
            "line": {
             "colorbar": {
              "outlinewidth": 0,
              "ticks": ""
             }
            },
            "type": "parcoords"
           }
          ],
          "pie": [
           {
            "automargin": true,
            "type": "pie"
           }
          ],
          "scatter": [
           {
            "marker": {
             "colorbar": {
              "outlinewidth": 0,
              "ticks": ""
             }
            },
            "type": "scatter"
           }
          ],
          "scatter3d": [
           {
            "line": {
             "colorbar": {
              "outlinewidth": 0,
              "ticks": ""
             }
            },
            "marker": {
             "colorbar": {
              "outlinewidth": 0,
              "ticks": ""
             }
            },
            "type": "scatter3d"
           }
          ],
          "scattercarpet": [
           {
            "marker": {
             "colorbar": {
              "outlinewidth": 0,
              "ticks": ""
             }
            },
            "type": "scattercarpet"
           }
          ],
          "scattergeo": [
           {
            "marker": {
             "colorbar": {
              "outlinewidth": 0,
              "ticks": ""
             }
            },
            "type": "scattergeo"
           }
          ],
          "scattergl": [
           {
            "marker": {
             "colorbar": {
              "outlinewidth": 0,
              "ticks": ""
             }
            },
            "type": "scattergl"
           }
          ],
          "scattermapbox": [
           {
            "marker": {
             "colorbar": {
              "outlinewidth": 0,
              "ticks": ""
             }
            },
            "type": "scattermapbox"
           }
          ],
          "scatterpolar": [
           {
            "marker": {
             "colorbar": {
              "outlinewidth": 0,
              "ticks": ""
             }
            },
            "type": "scatterpolar"
           }
          ],
          "scatterpolargl": [
           {
            "marker": {
             "colorbar": {
              "outlinewidth": 0,
              "ticks": ""
             }
            },
            "type": "scatterpolargl"
           }
          ],
          "scatterternary": [
           {
            "marker": {
             "colorbar": {
              "outlinewidth": 0,
              "ticks": ""
             }
            },
            "type": "scatterternary"
           }
          ],
          "surface": [
           {
            "colorbar": {
             "outlinewidth": 0,
             "ticks": ""
            },
            "colorscale": [
             [
              0,
              "#0d0887"
             ],
             [
              0.1111111111111111,
              "#46039f"
             ],
             [
              0.2222222222222222,
              "#7201a8"
             ],
             [
              0.3333333333333333,
              "#9c179e"
             ],
             [
              0.4444444444444444,
              "#bd3786"
             ],
             [
              0.5555555555555556,
              "#d8576b"
             ],
             [
              0.6666666666666666,
              "#ed7953"
             ],
             [
              0.7777777777777778,
              "#fb9f3a"
             ],
             [
              0.8888888888888888,
              "#fdca26"
             ],
             [
              1,
              "#f0f921"
             ]
            ],
            "type": "surface"
           }
          ],
          "table": [
           {
            "cells": {
             "fill": {
              "color": "#EBF0F8"
             },
             "line": {
              "color": "white"
             }
            },
            "header": {
             "fill": {
              "color": "#C8D4E3"
             },
             "line": {
              "color": "white"
             }
            },
            "type": "table"
           }
          ]
         },
         "layout": {
          "annotationdefaults": {
           "arrowcolor": "#2a3f5f",
           "arrowhead": 0,
           "arrowwidth": 1
          },
          "autotypenumbers": "strict",
          "coloraxis": {
           "colorbar": {
            "outlinewidth": 0,
            "ticks": ""
           }
          },
          "colorscale": {
           "diverging": [
            [
             0,
             "#8e0152"
            ],
            [
             0.1,
             "#c51b7d"
            ],
            [
             0.2,
             "#de77ae"
            ],
            [
             0.3,
             "#f1b6da"
            ],
            [
             0.4,
             "#fde0ef"
            ],
            [
             0.5,
             "#f7f7f7"
            ],
            [
             0.6,
             "#e6f5d0"
            ],
            [
             0.7,
             "#b8e186"
            ],
            [
             0.8,
             "#7fbc41"
            ],
            [
             0.9,
             "#4d9221"
            ],
            [
             1,
             "#276419"
            ]
           ],
           "sequential": [
            [
             0,
             "#0d0887"
            ],
            [
             0.1111111111111111,
             "#46039f"
            ],
            [
             0.2222222222222222,
             "#7201a8"
            ],
            [
             0.3333333333333333,
             "#9c179e"
            ],
            [
             0.4444444444444444,
             "#bd3786"
            ],
            [
             0.5555555555555556,
             "#d8576b"
            ],
            [
             0.6666666666666666,
             "#ed7953"
            ],
            [
             0.7777777777777778,
             "#fb9f3a"
            ],
            [
             0.8888888888888888,
             "#fdca26"
            ],
            [
             1,
             "#f0f921"
            ]
           ],
           "sequentialminus": [
            [
             0,
             "#0d0887"
            ],
            [
             0.1111111111111111,
             "#46039f"
            ],
            [
             0.2222222222222222,
             "#7201a8"
            ],
            [
             0.3333333333333333,
             "#9c179e"
            ],
            [
             0.4444444444444444,
             "#bd3786"
            ],
            [
             0.5555555555555556,
             "#d8576b"
            ],
            [
             0.6666666666666666,
             "#ed7953"
            ],
            [
             0.7777777777777778,
             "#fb9f3a"
            ],
            [
             0.8888888888888888,
             "#fdca26"
            ],
            [
             1,
             "#f0f921"
            ]
           ]
          },
          "colorway": [
           "#636efa",
           "#EF553B",
           "#00cc96",
           "#ab63fa",
           "#FFA15A",
           "#19d3f3",
           "#FF6692",
           "#B6E880",
           "#FF97FF",
           "#FECB52"
          ],
          "font": {
           "color": "#2a3f5f"
          },
          "geo": {
           "bgcolor": "white",
           "lakecolor": "white",
           "landcolor": "#E5ECF6",
           "showlakes": true,
           "showland": true,
           "subunitcolor": "white"
          },
          "hoverlabel": {
           "align": "left"
          },
          "hovermode": "closest",
          "mapbox": {
           "style": "light"
          },
          "paper_bgcolor": "white",
          "plot_bgcolor": "#E5ECF6",
          "polar": {
           "angularaxis": {
            "gridcolor": "white",
            "linecolor": "white",
            "ticks": ""
           },
           "bgcolor": "#E5ECF6",
           "radialaxis": {
            "gridcolor": "white",
            "linecolor": "white",
            "ticks": ""
           }
          },
          "scene": {
           "xaxis": {
            "backgroundcolor": "#E5ECF6",
            "gridcolor": "white",
            "gridwidth": 2,
            "linecolor": "white",
            "showbackground": true,
            "ticks": "",
            "zerolinecolor": "white"
           },
           "yaxis": {
            "backgroundcolor": "#E5ECF6",
            "gridcolor": "white",
            "gridwidth": 2,
            "linecolor": "white",
            "showbackground": true,
            "ticks": "",
            "zerolinecolor": "white"
           },
           "zaxis": {
            "backgroundcolor": "#E5ECF6",
            "gridcolor": "white",
            "gridwidth": 2,
            "linecolor": "white",
            "showbackground": true,
            "ticks": "",
            "zerolinecolor": "white"
           }
          },
          "shapedefaults": {
           "line": {
            "color": "#2a3f5f"
           }
          },
          "ternary": {
           "aaxis": {
            "gridcolor": "white",
            "linecolor": "white",
            "ticks": ""
           },
           "baxis": {
            "gridcolor": "white",
            "linecolor": "white",
            "ticks": ""
           },
           "bgcolor": "#E5ECF6",
           "caxis": {
            "gridcolor": "white",
            "linecolor": "white",
            "ticks": ""
           }
          },
          "title": {
           "x": 0.05
          },
          "xaxis": {
           "automargin": true,
           "gridcolor": "white",
           "linecolor": "white",
           "ticks": "",
           "title": {
            "standoff": 15
           },
           "zerolinecolor": "white",
           "zerolinewidth": 2
          },
          "yaxis": {
           "automargin": true,
           "gridcolor": "white",
           "linecolor": "white",
           "ticks": "",
           "title": {
            "standoff": 15
           },
           "zerolinecolor": "white",
           "zerolinewidth": 2
          }
         }
        }
       }
      },
      "image/png": "[encoded data removed]",
      "text/html": [
       "<div>                            <div id=\"407e4eb9-cb41-4e19-b943-a117fae00d96\" class=\"plotly-graph-div\" style=\"height:525px; width:100%;\"></div>            <script type=\"text/javascript\">                require([\"plotly\"], function(Plotly) {                    window.PLOTLYENV=window.PLOTLYENV || {};                                    if (document.getElementById(\"407e4eb9-cb41-4e19-b943-a117fae00d96\")) {                    Plotly.newPlot(                        \"407e4eb9-cb41-4e19-b943-a117fae00d96\",                        [{\"coloraxis\":\"coloraxis\",\"geo\":\"geo\",\"hovertemplate\":\"<b>%{hovertext}</b><br><br>state_code=%{location}<br>Percentage Native American=%{z}<extra></extra>\",\"hovertext\":[\"Alabama\",\"Alaska\",\"Arizona\",\"Arkansas\",\"California\",\"Colorado\",\"Connecticut\",\"Delaware\",\"District of Columbia\",\"Florida\",\"Georgia\",\"Hawaii\",\"Idaho\",\"Illinois\",\"Indiana\",\"Iowa\",\"Kansas\",\"Kentucky\",\"Louisiana\",\"Maine\",\"Maryland\",\"Massachusetts\",\"Michigan\",\"Minnesota\",\"Mississippi\",\"Missouri\",\"Montana\",\"Nebraska\",\"Nevada\",\"New Hampshire\",\"New Jersey\",\"New Mexico\",\"New York\",\"North Carolina\",\"North Dakota\",\"Ohio\",\"Oklahoma\",\"Oregon\",\"Pennsylvania\",\"Rhode Island\",\"South Carolina\",\"South Dakota\",\"Tennessee\",\"Texas\",\"Utah\",\"Vermont\",\"Virginia\",\"Washington\",\"West Virginia\",\"Wisconsin\",\"Wyoming\",\"Puerto Rico\"],\"locationmode\":\"USA-states\",\"locations\":[\"AL\",null,\"AZ\",\"AR\",\"CA\",\"CO\",\"CT\",\"DE\",null,\"FL\",\"GA\",null,\"ID\",\"IL\",\"IN\",\"IA\",\"KS\",\"KY\",\"LA\",\"ME\",\"MD\",\"MA\",\"MI\",\"MN\",\"MS\",\"MO\",\"MT\",\"NE\",\"NV\",\"NH\",\"NJ\",\"NM\",\"NY\",\"NC\",\"ND\",\"OH\",\"OK\",\"OR\",\"PA\",\"RI\",\"SC\",\"SD\",\"TN\",\"TX\",\"UT\",\"VT\",\"VA\",\"WA\",\"WV\",\"WI\",\"WY\",null],\"name\":\"\",\"type\":\"choropleth\",\"z\":[0.5,14.9,4.5,0.7,0.8,1.0,0.3,0.4,0.3,0.3,0.4,0.3,1.3,0.3,0.2,0.4,0.8,0.2,0.6,0.6,0.3,0.2,0.5,1.0,0.5,0.4,6.4,0.9,1.3,0.2,0.2,9.6,0.4,1.2,5.3,0.2,7.6,1.2,0.2,0.5,0.4,8.8,0.3,0.5,1.1,0.3,0.3,1.3,0.2,0.9,2.4,0.2]}],                        {\"coloraxis\":{\"colorbar\":{\"title\":{\"text\":\"Percentage Native American\"}},\"colorscale\":[[0.0,\"#0d0887\"],[0.1111111111111111,\"#46039f\"],[0.2222222222222222,\"#7201a8\"],[0.3333333333333333,\"#9c179e\"],[0.4444444444444444,\"#bd3786\"],[0.5555555555555556,\"#d8576b\"],[0.6666666666666666,\"#ed7953\"],[0.7777777777777778,\"#fb9f3a\"],[0.8888888888888888,\"#fdca26\"],[1.0,\"#f0f921\"]]},\"geo\":{\"center\":{},\"domain\":{\"x\":[0.0,1.0],\"y\":[0.0,1.0]},\"scope\":\"usa\"},\"legend\":{\"tracegroupgap\":0},\"margin\":{\"t\":60},\"template\":{\"data\":{\"bar\":[{\"error_x\":{\"color\":\"#2a3f5f\"},\"error_y\":{\"color\":\"#2a3f5f\"},\"marker\":{\"line\":{\"color\":\"#E5ECF6\",\"width\":0.5},\"pattern\":{\"fillmode\":\"overlay\",\"size\":10,\"solidity\":0.2}},\"type\":\"bar\"}],\"barpolar\":[{\"marker\":{\"line\":{\"color\":\"#E5ECF6\",\"width\":0.5},\"pattern\":{\"fillmode\":\"overlay\",\"size\":10,\"solidity\":0.2}},\"type\":\"barpolar\"}],\"carpet\":[{\"aaxis\":{\"endlinecolor\":\"#2a3f5f\",\"gridcolor\":\"white\",\"linecolor\":\"white\",\"minorgridcolor\":\"white\",\"startlinecolor\":\"#2a3f5f\"},\"baxis\":{\"endlinecolor\":\"#2a3f5f\",\"gridcolor\":\"white\",\"linecolor\":\"white\",\"minorgridcolor\":\"white\",\"startlinecolor\":\"#2a3f5f\"},\"type\":\"carpet\"}],\"choropleth\":[{\"colorbar\":{\"outlinewidth\":0,\"ticks\":\"\"},\"type\":\"choropleth\"}],\"contour\":[{\"colorbar\":{\"outlinewidth\":0,\"ticks\":\"\"},\"colorscale\":[[0.0,\"#0d0887\"],[0.1111111111111111,\"#46039f\"],[0.2222222222222222,\"#7201a8\"],[0.3333333333333333,\"#9c179e\"],[0.4444444444444444,\"#bd3786\"],[0.5555555555555556,\"#d8576b\"],[0.6666666666666666,\"#ed7953\"],[0.7777777777777778,\"#fb9f3a\"],[0.8888888888888888,\"#fdca26\"],[1.0,\"#f0f921\"]],\"type\":\"contour\"}],\"contourcarpet\":[{\"colorbar\":{\"outlinewidth\":0,\"ticks\":\"\"},\"type\":\"contourcarpet\"}],\"heatmap\":[{\"colorbar\":{\"outlinewidth\":0,\"ticks\":\"\"},\"colorscale\":[[0.0,\"#0d0887\"],[0.1111111111111111,\"#46039f\"],[0.2222222222222222,\"#7201a8\"],[0.3333333333333333,\"#9c179e\"],[0.4444444444444444,\"#bd3786\"],[0.5555555555555556,\"#d8576b\"],[0.6666666666666666,\"#ed7953\"],[0.7777777777777778,\"#fb9f3a\"],[0.8888888888888888,\"#fdca26\"],[1.0,\"#f0f921\"]],\"type\":\"heatmap\"}],\"heatmapgl\":[{\"colorbar\":{\"outlinewidth\":0,\"ticks\":\"\"},\"colorscale\":[[0.0,\"#0d0887\"],[0.1111111111111111,\"#46039f\"],[0.2222222222222222,\"#7201a8\"],[0.3333333333333333,\"#9c179e\"],[0.4444444444444444,\"#bd3786\"],[0.5555555555555556,\"#d8576b\"],[0.6666666666666666,\"#ed7953\"],[0.7777777777777778,\"#fb9f3a\"],[0.8888888888888888,\"#fdca26\"],[1.0,\"#f0f921\"]],\"type\":\"heatmapgl\"}],\"histogram\":[{\"marker\":{\"pattern\":{\"fillmode\":\"overlay\",\"size\":10,\"solidity\":0.2}},\"type\":\"histogram\"}],\"histogram2d\":[{\"colorbar\":{\"outlinewidth\":0,\"ticks\":\"\"},\"colorscale\":[[0.0,\"#0d0887\"],[0.1111111111111111,\"#46039f\"],[0.2222222222222222,\"#7201a8\"],[0.3333333333333333,\"#9c179e\"],[0.4444444444444444,\"#bd3786\"],[0.5555555555555556,\"#d8576b\"],[0.6666666666666666,\"#ed7953\"],[0.7777777777777778,\"#fb9f3a\"],[0.8888888888888888,\"#fdca26\"],[1.0,\"#f0f921\"]],\"type\":\"histogram2d\"}],\"histogram2dcontour\":[{\"colorbar\":{\"outlinewidth\":0,\"ticks\":\"\"},\"colorscale\":[[0.0,\"#0d0887\"],[0.1111111111111111,\"#46039f\"],[0.2222222222222222,\"#7201a8\"],[0.3333333333333333,\"#9c179e\"],[0.4444444444444444,\"#bd3786\"],[0.5555555555555556,\"#d8576b\"],[0.6666666666666666,\"#ed7953\"],[0.7777777777777778,\"#fb9f3a\"],[0.8888888888888888,\"#fdca26\"],[1.0,\"#f0f921\"]],\"type\":\"histogram2dcontour\"}],\"mesh3d\":[{\"colorbar\":{\"outlinewidth\":0,\"ticks\":\"\"},\"type\":\"mesh3d\"}],\"parcoords\":[{\"line\":{\"colorbar\":{\"outlinewidth\":0,\"ticks\":\"\"}},\"type\":\"parcoords\"}],\"pie\":[{\"automargin\":true,\"type\":\"pie\"}],\"scatter\":[{\"marker\":{\"colorbar\":{\"outlinewidth\":0,\"ticks\":\"\"}},\"type\":\"scatter\"}],\"scatter3d\":[{\"line\":{\"colorbar\":{\"outlinewidth\":0,\"ticks\":\"\"}},\"marker\":{\"colorbar\":{\"outlinewidth\":0,\"ticks\":\"\"}},\"type\":\"scatter3d\"}],\"scattercarpet\":[{\"marker\":{\"colorbar\":{\"outlinewidth\":0,\"ticks\":\"\"}},\"type\":\"scattercarpet\"}],\"scattergeo\":[{\"marker\":{\"colorbar\":{\"outlinewidth\":0,\"ticks\":\"\"}},\"type\":\"scattergeo\"}],\"scattergl\":[{\"marker\":{\"colorbar\":{\"outlinewidth\":0,\"ticks\":\"\"}},\"type\":\"scattergl\"}],\"scattermapbox\":[{\"marker\":{\"colorbar\":{\"outlinewidth\":0,\"ticks\":\"\"}},\"type\":\"scattermapbox\"}],\"scatterpolar\":[{\"marker\":{\"colorbar\":{\"outlinewidth\":0,\"ticks\":\"\"}},\"type\":\"scatterpolar\"}],\"scatterpolargl\":[{\"marker\":{\"colorbar\":{\"outlinewidth\":0,\"ticks\":\"\"}},\"type\":\"scatterpolargl\"}],\"scatterternary\":[{\"marker\":{\"colorbar\":{\"outlinewidth\":0,\"ticks\":\"\"}},\"type\":\"scatterternary\"}],\"surface\":[{\"colorbar\":{\"outlinewidth\":0,\"ticks\":\"\"},\"colorscale\":[[0.0,\"#0d0887\"],[0.1111111111111111,\"#46039f\"],[0.2222222222222222,\"#7201a8\"],[0.3333333333333333,\"#9c179e\"],[0.4444444444444444,\"#bd3786\"],[0.5555555555555556,\"#d8576b\"],[0.6666666666666666,\"#ed7953\"],[0.7777777777777778,\"#fb9f3a\"],[0.8888888888888888,\"#fdca26\"],[1.0,\"#f0f921\"]],\"type\":\"surface\"}],\"table\":[{\"cells\":{\"fill\":{\"color\":\"#EBF0F8\"},\"line\":{\"color\":\"white\"}},\"header\":{\"fill\":{\"color\":\"#C8D4E3\"},\"line\":{\"color\":\"white\"}},\"type\":\"table\"}]},\"layout\":{\"annotationdefaults\":{\"arrowcolor\":\"#2a3f5f\",\"arrowhead\":0,\"arrowwidth\":1},\"autotypenumbers\":\"strict\",\"coloraxis\":{\"colorbar\":{\"outlinewidth\":0,\"ticks\":\"\"}},\"colorscale\":{\"diverging\":[[0,\"#8e0152\"],[0.1,\"#c51b7d\"],[0.2,\"#de77ae\"],[0.3,\"#f1b6da\"],[0.4,\"#fde0ef\"],[0.5,\"#f7f7f7\"],[0.6,\"#e6f5d0\"],[0.7,\"#b8e186\"],[0.8,\"#7fbc41\"],[0.9,\"#4d9221\"],[1,\"#276419\"]],\"sequential\":[[0.0,\"#0d0887\"],[0.1111111111111111,\"#46039f\"],[0.2222222222222222,\"#7201a8\"],[0.3333333333333333,\"#9c179e\"],[0.4444444444444444,\"#bd3786\"],[0.5555555555555556,\"#d8576b\"],[0.6666666666666666,\"#ed7953\"],[0.7777777777777778,\"#fb9f3a\"],[0.8888888888888888,\"#fdca26\"],[1.0,\"#f0f921\"]],\"sequentialminus\":[[0.0,\"#0d0887\"],[0.1111111111111111,\"#46039f\"],[0.2222222222222222,\"#7201a8\"],[0.3333333333333333,\"#9c179e\"],[0.4444444444444444,\"#bd3786\"],[0.5555555555555556,\"#d8576b\"],[0.6666666666666666,\"#ed7953\"],[0.7777777777777778,\"#fb9f3a\"],[0.8888888888888888,\"#fdca26\"],[1.0,\"#f0f921\"]]},\"colorway\":[\"#636efa\",\"#EF553B\",\"#00cc96\",\"#ab63fa\",\"#FFA15A\",\"#19d3f3\",\"#FF6692\",\"#B6E880\",\"#FF97FF\",\"#FECB52\"],\"font\":{\"color\":\"#2a3f5f\"},\"geo\":{\"bgcolor\":\"white\",\"lakecolor\":\"white\",\"landcolor\":\"#E5ECF6\",\"showlakes\":true,\"showland\":true,\"subunitcolor\":\"white\"},\"hoverlabel\":{\"align\":\"left\"},\"hovermode\":\"closest\",\"mapbox\":{\"style\":\"light\"},\"paper_bgcolor\":\"white\",\"plot_bgcolor\":\"#E5ECF6\",\"polar\":{\"angularaxis\":{\"gridcolor\":\"white\",\"linecolor\":\"white\",\"ticks\":\"\"},\"bgcolor\":\"#E5ECF6\",\"radialaxis\":{\"gridcolor\":\"white\",\"linecolor\":\"white\",\"ticks\":\"\"}},\"scene\":{\"xaxis\":{\"backgroundcolor\":\"#E5ECF6\",\"gridcolor\":\"white\",\"gridwidth\":2,\"linecolor\":\"white\",\"showbackground\":true,\"ticks\":\"\",\"zerolinecolor\":\"white\"},\"yaxis\":{\"backgroundcolor\":\"#E5ECF6\",\"gridcolor\":\"white\",\"gridwidth\":2,\"linecolor\":\"white\",\"showbackground\":true,\"ticks\":\"\",\"zerolinecolor\":\"white\"},\"zaxis\":{\"backgroundcolor\":\"#E5ECF6\",\"gridcolor\":\"white\",\"gridwidth\":2,\"linecolor\":\"white\",\"showbackground\":true,\"ticks\":\"\",\"zerolinecolor\":\"white\"}},\"shapedefaults\":{\"line\":{\"color\":\"#2a3f5f\"}},\"ternary\":{\"aaxis\":{\"gridcolor\":\"white\",\"linecolor\":\"white\",\"ticks\":\"\"},\"baxis\":{\"gridcolor\":\"white\",\"linecolor\":\"white\",\"ticks\":\"\"},\"bgcolor\":\"#E5ECF6\",\"caxis\":{\"gridcolor\":\"white\",\"linecolor\":\"white\",\"ticks\":\"\"}},\"title\":{\"x\":0.05},\"xaxis\":{\"automargin\":true,\"gridcolor\":\"white\",\"linecolor\":\"white\",\"ticks\":\"\",\"title\":{\"standoff\":15},\"zerolinecolor\":\"white\",\"zerolinewidth\":2},\"yaxis\":{\"automargin\":true,\"gridcolor\":\"white\",\"linecolor\":\"white\",\"ticks\":\"\",\"title\":{\"standoff\":15},\"zerolinecolor\":\"white\",\"zerolinewidth\":2}}}},                        {\"responsive\": true}                    ).then(function(){\n",
       "                            \n",
       "var gd = document.getElementById('407e4eb9-cb41-4e19-b943-a117fae00d96');\n",
       "var x = new MutationObserver(function (mutations, observer) {{\n",
       "        var display = window.getComputedStyle(gd).display;\n",
       "        if (!display || display === 'none') {{\n",
       "            console.log([gd, 'removed!']);\n",
       "            Plotly.purge(gd);\n",
       "            observer.disconnect();\n",
       "        }}\n",
       "}});\n",
       "\n",
       "// Listen for the removal of the full notebook cells\n",
       "var notebookContainer = gd.closest('#notebook-container');\n",
       "if (notebookContainer) {{\n",
       "    x.observe(notebookContainer, {childList: true});\n",
       "}}\n",
       "\n",
       "// Listen for the clearing of the current output cell\n",
       "var outputEl = gd.closest('.output');\n",
       "if (outputEl) {{\n",
       "    x.observe(outputEl, {childList: true});\n",
       "}}\n",
       "\n",
       "                        })                };                });            </script>        </div>"
      ]
     },
     "metadata": {},
     "output_type": "display_data"
    }
   ],
   "source": [
    "fig_Native_American = px.choropleth(clean_states_byrace_df,\n",
    "              locations = \"state_code\",\n",
    "              locationmode = \"USA-states\",\n",
    "              hover_name= \"state_name\",\n",
    "              color = \"Percentage Native American\", scope =\"usa\")\n",
    "\n",
    "fig_Native_American.show()"
   ]
  },
  {
   "cell_type": "code",
   "execution_count": null,
   "id": "b93d9a11-01f7-4148-94c2-d605d70091ea",
   "metadata": {},
   "outputs": [],
   "source": []
  }
 ],
 "metadata": {
  "kernelspec": {
   "display_name": "Python 3",
   "language": "python",
   "name": "python3"
  },
  "language_info": {
   "codemirror_mode": {
    "name": "ipython",
    "version": 3
   },
   "file_extension": ".py",
   "mimetype": "text/x-python",
   "name": "python",
   "nbconvert_exporter": "python",
   "pygments_lexer": "ipython3",
   "version": "3.8.8"
  }
 },
 "nbformat": 4,
 "nbformat_minor": 5
}
