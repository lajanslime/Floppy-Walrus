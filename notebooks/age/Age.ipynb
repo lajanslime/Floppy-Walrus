{
 "cells": [
  {
   "cell_type": "code",
   "execution_count": 2,
   "id": "fc2deb0a-9ae6-417c-a9e2-2684575aa021",
   "metadata": {},
   "outputs": [
    {
     "data": {
      "text/html": [
       "<div>\n",
       "<style scoped>\n",
       "    .dataframe tbody tr th:only-of-type {\n",
       "        vertical-align: middle;\n",
       "    }\n",
       "\n",
       "    .dataframe tbody tr th {\n",
       "        vertical-align: top;\n",
       "    }\n",
       "\n",
       "    .dataframe thead th {\n",
       "        text-align: right;\n",
       "    }\n",
       "</style>\n",
       "<table border=\"1\" class=\"dataframe\">\n",
       "  <thead>\n",
       "    <tr style=\"text-align: right;\">\n",
       "      <th></th>\n",
       "      <th>date</th>\n",
       "      <th>age</th>\n",
       "      <th>confirmed_cases_total</th>\n",
       "      <th>confirmed_cases_percent</th>\n",
       "      <th>deaths_total</th>\n",
       "      <th>deaths_percent</th>\n",
       "    </tr>\n",
       "  </thead>\n",
       "  <tbody>\n",
       "    <tr>\n",
       "      <th>0</th>\n",
       "      <td>2021-08-04</td>\n",
       "      <td>0-4</td>\n",
       "      <td>94852</td>\n",
       "      <td>0.024</td>\n",
       "      <td>7</td>\n",
       "      <td>0.000</td>\n",
       "    </tr>\n",
       "    <tr>\n",
       "      <th>1</th>\n",
       "      <td>2021-08-04</td>\n",
       "      <td>0-4</td>\n",
       "      <td>94852</td>\n",
       "      <td>0.024</td>\n",
       "      <td>7</td>\n",
       "      <td>0.000</td>\n",
       "    </tr>\n",
       "    <tr>\n",
       "      <th>2</th>\n",
       "      <td>2021-08-04</td>\n",
       "      <td>5-17</td>\n",
       "      <td>420696</td>\n",
       "      <td>0.108</td>\n",
       "      <td>23</td>\n",
       "      <td>0.000</td>\n",
       "    </tr>\n",
       "    <tr>\n",
       "      <th>3</th>\n",
       "      <td>2021-08-04</td>\n",
       "      <td>5-17</td>\n",
       "      <td>420696</td>\n",
       "      <td>0.108</td>\n",
       "      <td>23</td>\n",
       "      <td>0.000</td>\n",
       "    </tr>\n",
       "    <tr>\n",
       "      <th>4</th>\n",
       "      <td>2021-08-04</td>\n",
       "      <td>18-34</td>\n",
       "      <td>1319796</td>\n",
       "      <td>0.338</td>\n",
       "      <td>932</td>\n",
       "      <td>0.015</td>\n",
       "    </tr>\n",
       "    <tr>\n",
       "      <th>...</th>\n",
       "      <td>...</td>\n",
       "      <td>...</td>\n",
       "      <td>...</td>\n",
       "      <td>...</td>\n",
       "      <td>...</td>\n",
       "      <td>...</td>\n",
       "    </tr>\n",
       "    <tr>\n",
       "      <th>36015</th>\n",
       "      <td>2020-05-21</td>\n",
       "      <td>80+</td>\n",
       "      <td>6740</td>\n",
       "      <td>0.076</td>\n",
       "      <td>1656</td>\n",
       "      <td>0.467</td>\n",
       "    </tr>\n",
       "    <tr>\n",
       "      <th>36016</th>\n",
       "      <td>2020-05-21</td>\n",
       "      <td>80+</td>\n",
       "      <td>6740</td>\n",
       "      <td>0.076</td>\n",
       "      <td>1656</td>\n",
       "      <td>0.467</td>\n",
       "    </tr>\n",
       "    <tr>\n",
       "      <th>36017</th>\n",
       "      <td>2020-05-21</td>\n",
       "      <td>80+</td>\n",
       "      <td>6740</td>\n",
       "      <td>0.076</td>\n",
       "      <td>1656</td>\n",
       "      <td>0.467</td>\n",
       "    </tr>\n",
       "    <tr>\n",
       "      <th>36018</th>\n",
       "      <td>2020-05-21</td>\n",
       "      <td>80+</td>\n",
       "      <td>6740</td>\n",
       "      <td>0.076</td>\n",
       "      <td>1656</td>\n",
       "      <td>0.467</td>\n",
       "    </tr>\n",
       "    <tr>\n",
       "      <th>36019</th>\n",
       "      <td>2020-05-21</td>\n",
       "      <td>80+</td>\n",
       "      <td>6740</td>\n",
       "      <td>0.076</td>\n",
       "      <td>1656</td>\n",
       "      <td>0.467</td>\n",
       "    </tr>\n",
       "  </tbody>\n",
       "</table>\n",
       "<p>36020 rows × 6 columns</p>\n",
       "</div>"
      ],
      "text/plain": [
       "             date    age  confirmed_cases_total  confirmed_cases_percent  \\\n",
       "0      2021-08-04    0-4                  94852                    0.024   \n",
       "1      2021-08-04    0-4                  94852                    0.024   \n",
       "2      2021-08-04   5-17                 420696                    0.108   \n",
       "3      2021-08-04   5-17                 420696                    0.108   \n",
       "4      2021-08-04  18-34                1319796                    0.338   \n",
       "...           ...    ...                    ...                      ...   \n",
       "36015  2020-05-21    80+                   6740                    0.076   \n",
       "36016  2020-05-21    80+                   6740                    0.076   \n",
       "36017  2020-05-21    80+                   6740                    0.076   \n",
       "36018  2020-05-21    80+                   6740                    0.076   \n",
       "36019  2020-05-21    80+                   6740                    0.076   \n",
       "\n",
       "       deaths_total  deaths_percent  \n",
       "0                 7           0.000  \n",
       "1                 7           0.000  \n",
       "2                23           0.000  \n",
       "3                23           0.000  \n",
       "4               932           0.015  \n",
       "...             ...             ...  \n",
       "36015          1656           0.467  \n",
       "36016          1656           0.467  \n",
       "36017          1656           0.467  \n",
       "36018          1656           0.467  \n",
       "36019          1656           0.467  \n",
       "\n",
       "[36020 rows x 6 columns]"
      ]
     },
     "execution_count": 2,
     "metadata": {},
     "output_type": "execute_result"
    }
   ],
   "source": [
    "# Dependencies and Setup\n",
    "import matplotlib.pyplot as plt\n",
    "import pandas as pd\n",
    "import scipy.stats as st\n",
    "import numpy as np\n",
    "import matplotlib.cm as cm\n",
    "from matplotlib.colors import Normalize\n",
    "\n",
    "# Study data files\n",
    "age_group = \"data/cdph-age.csv\"\n",
    "\n",
    "\n",
    "# Read the Vaccination Case per Age and the Mortality Case results\n",
    "age_group1 = pd.read_csv(age_group)\n",
    "age_group1"
   ]
  },
  {
   "cell_type": "code",
   "execution_count": 3,
   "id": "efb03a28-e209-4864-978c-83aa00b35da8",
   "metadata": {},
   "outputs": [
    {
     "data": {
      "text/html": [
       "<div>\n",
       "<style scoped>\n",
       "    .dataframe tbody tr th:only-of-type {\n",
       "        vertical-align: middle;\n",
       "    }\n",
       "\n",
       "    .dataframe tbody tr th {\n",
       "        vertical-align: top;\n",
       "    }\n",
       "\n",
       "    .dataframe thead th {\n",
       "        text-align: right;\n",
       "    }\n",
       "</style>\n",
       "<table border=\"1\" class=\"dataframe\">\n",
       "  <thead>\n",
       "    <tr style=\"text-align: right;\">\n",
       "      <th></th>\n",
       "      <th>date</th>\n",
       "      <th>age</th>\n",
       "      <th>confirmed_cases_total</th>\n",
       "      <th>confirmed_cases_percent</th>\n",
       "      <th>deaths_total</th>\n",
       "      <th>deaths_percent</th>\n",
       "    </tr>\n",
       "  </thead>\n",
       "  <tbody>\n",
       "    <tr>\n",
       "      <th>0</th>\n",
       "      <td>2021-08-04</td>\n",
       "      <td>0-4</td>\n",
       "      <td>94852</td>\n",
       "      <td>0.024</td>\n",
       "      <td>7</td>\n",
       "      <td>0.000</td>\n",
       "    </tr>\n",
       "    <tr>\n",
       "      <th>2</th>\n",
       "      <td>2021-08-04</td>\n",
       "      <td>5-17</td>\n",
       "      <td>420696</td>\n",
       "      <td>0.108</td>\n",
       "      <td>23</td>\n",
       "      <td>0.000</td>\n",
       "    </tr>\n",
       "    <tr>\n",
       "      <th>4</th>\n",
       "      <td>2021-08-04</td>\n",
       "      <td>18-34</td>\n",
       "      <td>1319796</td>\n",
       "      <td>0.338</td>\n",
       "      <td>932</td>\n",
       "      <td>0.015</td>\n",
       "    </tr>\n",
       "    <tr>\n",
       "      <th>6</th>\n",
       "      <td>2021-08-04</td>\n",
       "      <td>35-49</td>\n",
       "      <td>926899</td>\n",
       "      <td>0.238</td>\n",
       "      <td>3489</td>\n",
       "      <td>0.054</td>\n",
       "    </tr>\n",
       "    <tr>\n",
       "      <th>8</th>\n",
       "      <td>2021-08-04</td>\n",
       "      <td>50-59</td>\n",
       "      <td>531177</td>\n",
       "      <td>0.136</td>\n",
       "      <td>6904</td>\n",
       "      <td>0.108</td>\n",
       "    </tr>\n",
       "    <tr>\n",
       "      <th>10</th>\n",
       "      <td>2021-08-04</td>\n",
       "      <td>60-64</td>\n",
       "      <td>199351</td>\n",
       "      <td>0.051</td>\n",
       "      <td>5921</td>\n",
       "      <td>0.092</td>\n",
       "    </tr>\n",
       "    <tr>\n",
       "      <th>12</th>\n",
       "      <td>2021-08-04</td>\n",
       "      <td>65-69</td>\n",
       "      <td>136874</td>\n",
       "      <td>0.035</td>\n",
       "      <td>6831</td>\n",
       "      <td>0.106</td>\n",
       "    </tr>\n",
       "    <tr>\n",
       "      <th>14</th>\n",
       "      <td>2021-08-04</td>\n",
       "      <td>70-74</td>\n",
       "      <td>94816</td>\n",
       "      <td>0.024</td>\n",
       "      <td>7476</td>\n",
       "      <td>0.116</td>\n",
       "    </tr>\n",
       "    <tr>\n",
       "      <th>16</th>\n",
       "      <td>2021-08-04</td>\n",
       "      <td>75-79</td>\n",
       "      <td>62896</td>\n",
       "      <td>0.016</td>\n",
       "      <td>7635</td>\n",
       "      <td>0.119</td>\n",
       "    </tr>\n",
       "    <tr>\n",
       "      <th>18</th>\n",
       "      <td>2021-08-04</td>\n",
       "      <td>80+</td>\n",
       "      <td>109491</td>\n",
       "      <td>0.028</td>\n",
       "      <td>24980</td>\n",
       "      <td>0.389</td>\n",
       "    </tr>\n",
       "  </tbody>\n",
       "</table>\n",
       "</div>"
      ],
      "text/plain": [
       "          date    age  confirmed_cases_total  confirmed_cases_percent  \\\n",
       "0   2021-08-04    0-4                  94852                    0.024   \n",
       "2   2021-08-04   5-17                 420696                    0.108   \n",
       "4   2021-08-04  18-34                1319796                    0.338   \n",
       "6   2021-08-04  35-49                 926899                    0.238   \n",
       "8   2021-08-04  50-59                 531177                    0.136   \n",
       "10  2021-08-04  60-64                 199351                    0.051   \n",
       "12  2021-08-04  65-69                 136874                    0.035   \n",
       "14  2021-08-04  70-74                  94816                    0.024   \n",
       "16  2021-08-04  75-79                  62896                    0.016   \n",
       "18  2021-08-04    80+                 109491                    0.028   \n",
       "\n",
       "    deaths_total  deaths_percent  \n",
       "0              7           0.000  \n",
       "2             23           0.000  \n",
       "4            932           0.015  \n",
       "6           3489           0.054  \n",
       "8           6904           0.108  \n",
       "10          5921           0.092  \n",
       "12          6831           0.106  \n",
       "14          7476           0.116  \n",
       "16          7635           0.119  \n",
       "18         24980           0.389  "
      ]
     },
     "execution_count": 3,
     "metadata": {},
     "output_type": "execute_result"
    }
   ],
   "source": [
    "#Drop all duplicate Values\n",
    "clean_df = age_group1.drop_duplicates(subset=['age'])\n",
    "clean_df"
   ]
  },
  {
   "cell_type": "code",
   "execution_count": 4,
   "id": "5213e550-7629-4bd4-9288-e0b3147c3550",
   "metadata": {},
   "outputs": [
    {
     "data": {
      "text/html": [
       "<div>\n",
       "<style scoped>\n",
       "    .dataframe tbody tr th:only-of-type {\n",
       "        vertical-align: middle;\n",
       "    }\n",
       "\n",
       "    .dataframe tbody tr th {\n",
       "        vertical-align: top;\n",
       "    }\n",
       "\n",
       "    .dataframe thead th {\n",
       "        text-align: right;\n",
       "    }\n",
       "</style>\n",
       "<table border=\"1\" class=\"dataframe\">\n",
       "  <thead>\n",
       "    <tr style=\"text-align: right;\">\n",
       "      <th></th>\n",
       "      <th>confirmed_cases_total</th>\n",
       "      <th>confirmed_cases_percent</th>\n",
       "      <th>deaths_total</th>\n",
       "      <th>deaths_percent</th>\n",
       "    </tr>\n",
       "    <tr>\n",
       "      <th>age</th>\n",
       "      <th></th>\n",
       "      <th></th>\n",
       "      <th></th>\n",
       "      <th></th>\n",
       "    </tr>\n",
       "  </thead>\n",
       "  <tbody>\n",
       "    <tr>\n",
       "      <th>0-4</th>\n",
       "      <td>94852</td>\n",
       "      <td>0.024</td>\n",
       "      <td>7</td>\n",
       "      <td>0.000</td>\n",
       "    </tr>\n",
       "    <tr>\n",
       "      <th>18-34</th>\n",
       "      <td>1319796</td>\n",
       "      <td>0.338</td>\n",
       "      <td>932</td>\n",
       "      <td>0.015</td>\n",
       "    </tr>\n",
       "    <tr>\n",
       "      <th>35-49</th>\n",
       "      <td>926899</td>\n",
       "      <td>0.238</td>\n",
       "      <td>3489</td>\n",
       "      <td>0.054</td>\n",
       "    </tr>\n",
       "    <tr>\n",
       "      <th>5-17</th>\n",
       "      <td>420696</td>\n",
       "      <td>0.108</td>\n",
       "      <td>23</td>\n",
       "      <td>0.000</td>\n",
       "    </tr>\n",
       "    <tr>\n",
       "      <th>50-59</th>\n",
       "      <td>531177</td>\n",
       "      <td>0.136</td>\n",
       "      <td>6904</td>\n",
       "      <td>0.108</td>\n",
       "    </tr>\n",
       "    <tr>\n",
       "      <th>60-64</th>\n",
       "      <td>199351</td>\n",
       "      <td>0.051</td>\n",
       "      <td>5921</td>\n",
       "      <td>0.092</td>\n",
       "    </tr>\n",
       "    <tr>\n",
       "      <th>65-69</th>\n",
       "      <td>136874</td>\n",
       "      <td>0.035</td>\n",
       "      <td>6831</td>\n",
       "      <td>0.106</td>\n",
       "    </tr>\n",
       "    <tr>\n",
       "      <th>70-74</th>\n",
       "      <td>94816</td>\n",
       "      <td>0.024</td>\n",
       "      <td>7476</td>\n",
       "      <td>0.116</td>\n",
       "    </tr>\n",
       "    <tr>\n",
       "      <th>75-79</th>\n",
       "      <td>62896</td>\n",
       "      <td>0.016</td>\n",
       "      <td>7635</td>\n",
       "      <td>0.119</td>\n",
       "    </tr>\n",
       "    <tr>\n",
       "      <th>80+</th>\n",
       "      <td>109491</td>\n",
       "      <td>0.028</td>\n",
       "      <td>24980</td>\n",
       "      <td>0.389</td>\n",
       "    </tr>\n",
       "  </tbody>\n",
       "</table>\n",
       "</div>"
      ],
      "text/plain": [
       "       confirmed_cases_total  confirmed_cases_percent  deaths_total  \\\n",
       "age                                                                   \n",
       "0-4                    94852                    0.024             7   \n",
       "18-34                1319796                    0.338           932   \n",
       "35-49                 926899                    0.238          3489   \n",
       "5-17                  420696                    0.108            23   \n",
       "50-59                 531177                    0.136          6904   \n",
       "60-64                 199351                    0.051          5921   \n",
       "65-69                 136874                    0.035          6831   \n",
       "70-74                  94816                    0.024          7476   \n",
       "75-79                  62896                    0.016          7635   \n",
       "80+                   109491                    0.028         24980   \n",
       "\n",
       "       deaths_percent  \n",
       "age                    \n",
       "0-4             0.000  \n",
       "18-34           0.015  \n",
       "35-49           0.054  \n",
       "5-17            0.000  \n",
       "50-59           0.108  \n",
       "60-64           0.092  \n",
       "65-69           0.106  \n",
       "70-74           0.116  \n",
       "75-79           0.119  \n",
       "80+             0.389  "
      ]
     },
     "execution_count": 4,
     "metadata": {},
     "output_type": "execute_result"
    }
   ],
   "source": [
    "age_list = clean_df.groupby('age').sum()\n",
    "age_list"
   ]
  },
  {
   "cell_type": "code",
   "execution_count": 5,
   "id": "219403d1-6094-4dc9-a81e-7c2d20897460",
   "metadata": {},
   "outputs": [
    {
     "data": {
      "text/plain": [
       "[0.0, 0.015, 0.054, 0.0, 0.108, 0.092, 0.106, 0.116, 0.119, 0.389]"
      ]
     },
     "execution_count": 5,
     "metadata": {},
     "output_type": "execute_result"
    }
   ],
   "source": [
    "#Create Death Rate List \n",
    "death_rate_list = clean_df.groupby('age')['deaths_percent'].sum().tolist()\n",
    "death_rate_list"
   ]
  },
  {
   "cell_type": "code",
   "execution_count": 6,
   "id": "f88a2385-03dc-476f-8b4b-f44e553f2684",
   "metadata": {},
   "outputs": [
    {
     "data": {
      "text/plain": [
       "[0.024, 0.338, 0.238, 0.108, 0.136, 0.051, 0.035, 0.024, 0.016, 0.028]"
      ]
     },
     "execution_count": 6,
     "metadata": {},
     "output_type": "execute_result"
    }
   ],
   "source": [
    "#Create Confirmed Cases Rate \n",
    "cases_rate_list = clean_df.groupby('age')['confirmed_cases_percent'].sum().tolist()\n",
    "cases_rate_list\n",
    "\n"
   ]
  },
  {
   "cell_type": "code",
   "execution_count": 7,
   "id": "6fcb1cfa-e6b0-47d1-8b96-9f993e57be3e",
   "metadata": {},
   "outputs": [
    {
     "data": {
      "image/png": "[encoded data removed]",
      "text/plain": [
       "<Figure size 432x288 with 1 Axes>"
      ]
     },
     "metadata": {},
     "output_type": "display_data"
    }
   ],
   "source": [
    "#Generate an Exploded Pie Chart Showing the percentage of Confirmed Covid Cases by Age Groups \n",
    "pie_chart_confirmed_cases = clean_df.groupby('age')['confirmed_cases_percent'].sum()\n",
    "pie_chart_confirmed_cases \n",
    "\n",
    "#Account for only Age Groups with confirmated cases more than 0 \n",
    "pie_chart3 = pie_chart_confirmed_cases.loc[pie_chart_confirmed_cases > 0]\n",
    "\n",
    "#(Test) If total Sum isn't 1 or 100% create a label titled \"Other\"\n",
    "pie_chart3[\"Other\"]= 1 - pie_chart3.sum()\n",
    "\n",
    "#Parameters\n",
    "explode = [0.0, 0.0, 0.0, 0.0, 0.3, 0.3, 0.3, 0.3, 0.3, 0.3, 0.3]\n",
    "pie_chart3.plot.pie(label=('Age'), explode=explode, title = \"Age Group Confirmed Cases Rate\", autopct=\"% .2f%%\", normalize=True)\n",
    "plt.tight_layout()\n",
    "plt.legend(bbox_to_anchor =(0.90, 1.25), ncol = 2)\n",
    "plt.savefig(\"images/Pie_Chart_Confirmed_Cases.png\", dpi=180, bbox_inches=\"tight\")\n",
    "plt.show()\n",
    "\n"
   ]
  },
  {
   "cell_type": "code",
   "execution_count": 8,
   "id": "414e0a45-406e-45fe-b45a-3a4f037b6b8d",
   "metadata": {},
   "outputs": [
    {
     "data": {
      "image/png": "[encoded data removed]",
      "text/plain": [
       "<Figure size 432x288 with 1 Axes>"
      ]
     },
     "metadata": {},
     "output_type": "display_data"
    }
   ],
   "source": [
    "#Generate an Exploded Pie Chart Showing the percentage of Confirmed Deaths caused due to Covid by Age Groups \n",
    "\n",
    "pie_chart1 = clean_df.groupby('age')['deaths_percent'].sum()\n",
    "\n",
    "#Account for only Age Groups with confirmated deaths more than 0 \n",
    "pie_chart2 = pie_chart1.loc[pie_chart1 > 0]\n",
    "\n",
    "#(Test) If total Sum isn't 1 or 100% create a label titled \"Other\"\n",
    "pie_chart2[\"Other\"]= 1 - pie_chart2.sum()\n",
    "\n",
    "#Parameters\n",
    "explode = [0.3, 0.3, 0.0, 0.0, 0.0, 0.0, 0.0, 0.0, 0.4]\n",
    "\n",
    "pie_chart2.plot.pie(label=('age'), explode=explode, title = \"Age Group Mortality Rate\", autopct=\"% .2f%%\") \n",
    "plt.tight_layout()\n",
    "plt.legend(bbox_to_anchor =(0.90, 1.15), ncol = 2)\n",
    "plt.savefig(\"images/Pie_Chart_Mortality_Rate.png\", dpi=180, bbox_inches=\"tight\")\n",
    "plt.show()\n",
    "\n"
   ]
  },
  {
   "cell_type": "code",
   "execution_count": 9,
   "id": "0c4de282-7ccf-4a6c-9c3f-0e5e9b616ecd",
   "metadata": {
    "jupyter": {
     "source_hidden": true
    },
    "tags": []
   },
   "outputs": [
    {
     "data": {
      "text/plain": [
       "1.0"
      ]
     },
     "execution_count": 9,
     "metadata": {},
     "output_type": "execute_result"
    }
   ],
   "source": [
    "#Check if Age Group Mortality percentages = 100\n",
    "pie_chart2.loc[pie_chart2 > 0].sum()"
   ]
  },
  {
   "cell_type": "code",
   "execution_count": 10,
   "id": "6194a26f-4710-4e3b-9d99-a37ff72fab64",
   "metadata": {
    "jupyter": {
     "source_hidden": true
    },
    "tags": []
   },
   "outputs": [
    {
     "data": {
      "text/plain": [
       "1.0"
      ]
     },
     "execution_count": 10,
     "metadata": {},
     "output_type": "execute_result"
    }
   ],
   "source": [
    "#Check if Age Group Confrimed Cases =100\n",
    "pie_chart3.loc[pie_chart3 >0].sum()"
   ]
  },
  {
   "cell_type": "code",
   "execution_count": 11,
   "id": "03fc6f64-7045-4443-8ee5-afcf6c80bb56",
   "metadata": {},
   "outputs": [
    {
     "data": {
      "image/png": "[encoded data removed]",
      "text/plain": [
       "<Figure size 432x288 with 1 Axes>"
      ]
     },
     "metadata": {
      "needs_background": "light"
     },
     "output_type": "display_data"
    }
   ],
   "source": [
    "#Create a Bar Chat Showing the percentage of Confirmed Deaths caused due to Covid by Age Groups \n",
    "\n",
    "color = ['firebrick', 'green', 'blue', 'black', 'red',\n",
    "                    'purple', 'seagreen', 'skyblue', 'black', 'tomato', 'pink']\n",
    "barchart_D = pie_chart2.plot(kind=\"bar\", title =\"Demographics of Covid Related Deaths by Age\", color=color)\n",
    "barchart_D.set_xlabel(\"Age Groups\")\n",
    "barchart_D.set_ylabel(\"Death Rate\")\n",
    "plt.legend()\n",
    "plt.grid(True)\n",
    "plt.tight_layout()\n",
    "plt.savefig(\"images/Bar_Chart_Mortality_Rate.png\", dpi=180, bbox_inches=\"tight\")\n",
    "plt.show()"
   ]
  },
  {
   "cell_type": "code",
   "execution_count": 13,
   "id": "018ef03b-31d2-4347-934f-20d600897475",
   "metadata": {},
   "outputs": [
    {
     "data": {
      "image/png": "[encoded data removed]",
      "text/plain": [
       "<Figure size 432x288 with 1 Axes>"
      ]
     },
     "metadata": {
      "needs_background": "light"
     },
     "output_type": "display_data"
    }
   ],
   "source": [
    "#Generate an Exploded Bar Chart Showing the percentage of Confirmed Covid Cases by Age Groups \n",
    "\n",
    "color = ['firebrick', 'green', 'blue', 'black', 'red',\n",
    "                    'purple', 'seagreen', 'skyblue', 'black', 'tomato', 'pink']\n",
    "barchart = pie_chart3.plot(kind=\"bar\", title =\"Demographics of Confirmed Covid Cases by Age Groups\", color=color)\n",
    "barchart.set_xlabel(\"Age\")\n",
    "barchart.set_ylabel(\"Confirmed Case Rate\")\n",
    "plt.grid(True)\n",
    "plt.legend()\n",
    "plt.tight_layout()\n",
    "plt.savefig(\"images/Bar_Chart_Confirmed_Case_Rate.png\", dpi=180, bbox_inches=\"tight\")\n",
    "plt.show()"
   ]
  },
  {
   "cell_type": "code",
   "execution_count": null,
   "id": "d24d3f76-0c3b-4e22-8e43-a01c3488981b",
   "metadata": {},
   "outputs": [],
   "source": []
  },
  {
   "cell_type": "code",
   "execution_count": null,
   "id": "5fb85cd7-3bb7-4e5a-9182-4552bb940db3",
   "metadata": {},
   "outputs": [],
   "source": []
  },
  {
   "cell_type": "code",
   "execution_count": null,
   "id": "303f74a1-be48-4aa2-b4ef-20cbae08e439",
   "metadata": {},
   "outputs": [],
   "source": []
  }
 ],
 "metadata": {
  "kernelspec": {
   "display_name": "Python 3",
   "language": "python",
   "name": "python3"
  },
  "language_info": {
   "codemirror_mode": {
    "name": "ipython",
    "version": 3
   },
   "file_extension": ".py",
   "mimetype": "text/x-python",
   "name": "python",
   "nbconvert_exporter": "python",
   "pygments_lexer": "ipython3",
   "version": "3.8.8"
  }
 },
 "nbformat": 4,
 "nbformat_minor": 5
}
